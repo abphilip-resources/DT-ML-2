{
 "cells": [
  {
   "cell_type": "markdown",
   "id": "977e1d5d",
   "metadata": {
    "papermill": {
     "duration": 0.004774,
     "end_time": "2023-01-28T02:30:04.585044",
     "exception": false,
     "start_time": "2023-01-28T02:30:04.580270",
     "status": "completed"
    },
    "tags": []
   },
   "source": [
    "# Introduction\n",
    "\n",
    "Now that you can select raw data, you're ready to learn how to group your data and count things within those groups. This can help you answer questions like: \n",
    "\n",
    "* How many of each kind of fruit has our store sold?\n",
    "* How many species of animal has the vet office treated?\n",
    "\n",
    "To do this, you'll learn about three new techniques: **GROUP BY**, **HAVING** and **COUNT()**. Once again, we'll use this made-up table of information on pets. \n",
    "\n",
    "![](https://i.imgur.com/fI5Pvvp.png)\n",
    "\n",
    "# COUNT()\n",
    "\n",
    "**COUNT()**, as you may have guessed from the name, returns a count of things. If you pass it the name of a column, it will return the number of entries in that column. \n",
    "\n",
    "For instance, if we **SELECT** the **COUNT()** of the `ID` column in the `pets` table, it will return 4, because there are 4 ID's in the table.\n",
    "\n",
    "![](https://i.imgur.com/Eu5HkXq.png)\n",
    "\n",
    "**COUNT()** is an example of an **aggregate function**, which takes many values and returns one. (Other examples of aggregate functions include **SUM()**, **AVG()**, **MIN()**, and **MAX()**.)  As you'll notice in the picture above, aggregate functions introduce strange column names (like `f0__`).  Later in this tutorial, you'll learn how to change the name to something more descriptive.\n",
    " \n",
    "# GROUP BY\n",
    "\n",
    "\n",
    "**GROUP BY** takes the name of one or more columns, and treats all rows with the same value in that column as a single group when you apply aggregate functions like **COUNT()**.\n",
    "\n",
    "For example, say we want to know how many of each type of animal we have in the `pets` table. We can use **GROUP BY** to group together rows that have the same value in the `Animal` column, while using **COUNT()** to find out how many ID's we have in each group. \n",
    "\n",
    "![](https://i.imgur.com/tqE9Eh8.png)\n",
    "\n",
    "It returns a table with three rows (one for each distinct animal).  We can see that the `pets` table contains 1 rabbit, 1 dog, and 2 cats.\n",
    "\n",
    "# GROUP BY ... HAVING\n",
    "\n",
    "**HAVING** is used in combination with **GROUP BY** to ignore groups that don't meet certain criteria. \n",
    "\n",
    "So this query, for example, will only include groups that have more than one ID in them.\n",
    "\n",
    "![](https://i.imgur.com/2ImXfHQ.png)\n",
    "\n",
    "Since only one group meets the specified criterion, the query will return a table with only one row. \n",
    "\n",
    "# Example: Which Hacker News comments generated the most discussion?\n",
    "\n",
    "Ready to see an example on a real dataset? The Hacker News dataset contains information on stories and comments from the Hacker News social networking site. \n",
    "\n",
    "We'll work with the `comments` table and begin by printing the first few rows.  (_We have hidden the corresponding code. To take a peek, click on the \"Code\" button below._)"
   ]
  },
  {
   "cell_type": "code",
   "execution_count": 1,
   "id": "9e97e3fa",
   "metadata": {
    "_kg_hide-input": true,
    "execution": {
     "iopub.execute_input": "2023-01-28T02:30:04.594585Z",
     "iopub.status.busy": "2023-01-28T02:30:04.594110Z",
     "iopub.status.idle": "2023-01-28T02:30:06.205190Z",
     "shell.execute_reply": "2023-01-28T02:30:06.204274Z"
    },
    "papermill": {
     "duration": 1.618811,
     "end_time": "2023-01-28T02:30:06.207780",
     "exception": false,
     "start_time": "2023-01-28T02:30:04.588969",
     "status": "completed"
    },
    "tags": []
   },
   "outputs": [
    {
     "name": "stdout",
     "output_type": "stream",
     "text": [
      "Using Kaggle's public dataset BigQuery integration.\n"
     ]
    },
    {
     "data": {
      "text/html": [
       "<div>\n",
       "<style scoped>\n",
       "    .dataframe tbody tr th:only-of-type {\n",
       "        vertical-align: middle;\n",
       "    }\n",
       "\n",
       "    .dataframe tbody tr th {\n",
       "        vertical-align: top;\n",
       "    }\n",
       "\n",
       "    .dataframe thead th {\n",
       "        text-align: right;\n",
       "    }\n",
       "</style>\n",
       "<table border=\"1\" class=\"dataframe\">\n",
       "  <thead>\n",
       "    <tr style=\"text-align: right;\">\n",
       "      <th></th>\n",
       "      <th>id</th>\n",
       "      <th>by</th>\n",
       "      <th>author</th>\n",
       "      <th>time</th>\n",
       "      <th>time_ts</th>\n",
       "      <th>text</th>\n",
       "      <th>parent</th>\n",
       "      <th>deleted</th>\n",
       "      <th>dead</th>\n",
       "      <th>ranking</th>\n",
       "    </tr>\n",
       "  </thead>\n",
       "  <tbody>\n",
       "    <tr>\n",
       "      <th>0</th>\n",
       "      <td>9734136</td>\n",
       "      <td>None</td>\n",
       "      <td>None</td>\n",
       "      <td>1434565400</td>\n",
       "      <td>2015-06-17 18:23:20+00:00</td>\n",
       "      <td>None</td>\n",
       "      <td>9733698</td>\n",
       "      <td>True</td>\n",
       "      <td>None</td>\n",
       "      <td>0</td>\n",
       "    </tr>\n",
       "    <tr>\n",
       "      <th>1</th>\n",
       "      <td>4921158</td>\n",
       "      <td>None</td>\n",
       "      <td>None</td>\n",
       "      <td>1355496966</td>\n",
       "      <td>2012-12-14 14:56:06+00:00</td>\n",
       "      <td>None</td>\n",
       "      <td>4921100</td>\n",
       "      <td>True</td>\n",
       "      <td>None</td>\n",
       "      <td>0</td>\n",
       "    </tr>\n",
       "    <tr>\n",
       "      <th>2</th>\n",
       "      <td>7500568</td>\n",
       "      <td>None</td>\n",
       "      <td>None</td>\n",
       "      <td>1396261158</td>\n",
       "      <td>2014-03-31 10:19:18+00:00</td>\n",
       "      <td>None</td>\n",
       "      <td>7499385</td>\n",
       "      <td>True</td>\n",
       "      <td>None</td>\n",
       "      <td>0</td>\n",
       "    </tr>\n",
       "    <tr>\n",
       "      <th>3</th>\n",
       "      <td>8909635</td>\n",
       "      <td>None</td>\n",
       "      <td>None</td>\n",
       "      <td>1421627275</td>\n",
       "      <td>2015-01-19 00:27:55+00:00</td>\n",
       "      <td>None</td>\n",
       "      <td>8901135</td>\n",
       "      <td>True</td>\n",
       "      <td>None</td>\n",
       "      <td>0</td>\n",
       "    </tr>\n",
       "    <tr>\n",
       "      <th>4</th>\n",
       "      <td>9256463</td>\n",
       "      <td>None</td>\n",
       "      <td>None</td>\n",
       "      <td>1427204705</td>\n",
       "      <td>2015-03-24 13:45:05+00:00</td>\n",
       "      <td>None</td>\n",
       "      <td>9256346</td>\n",
       "      <td>True</td>\n",
       "      <td>None</td>\n",
       "      <td>0</td>\n",
       "    </tr>\n",
       "  </tbody>\n",
       "</table>\n",
       "</div>"
      ],
      "text/plain": [
       "        id    by author        time                   time_ts  text   parent  \\\n",
       "0  9734136  None   None  1434565400 2015-06-17 18:23:20+00:00  None  9733698   \n",
       "1  4921158  None   None  1355496966 2012-12-14 14:56:06+00:00  None  4921100   \n",
       "2  7500568  None   None  1396261158 2014-03-31 10:19:18+00:00  None  7499385   \n",
       "3  8909635  None   None  1421627275 2015-01-19 00:27:55+00:00  None  8901135   \n",
       "4  9256463  None   None  1427204705 2015-03-24 13:45:05+00:00  None  9256346   \n",
       "\n",
       "   deleted  dead  ranking  \n",
       "0     True  None        0  \n",
       "1     True  None        0  \n",
       "2     True  None        0  \n",
       "3     True  None        0  \n",
       "4     True  None        0  "
      ]
     },
     "execution_count": 1,
     "metadata": {},
     "output_type": "execute_result"
    }
   ],
   "source": [
    "from google.cloud import bigquery\n",
    "import warnings\n",
    "warnings.filterwarnings(\"ignore\")\n",
    "\n",
    "# Create a \"Client\" object\n",
    "client = bigquery.Client()\n",
    "\n",
    "# Construct a reference to the \"hacker_news\" dataset\n",
    "dataset_ref = client.dataset(\"hacker_news\", project=\"bigquery-public-data\")\n",
    "\n",
    "# API request - fetch the dataset\n",
    "dataset = client.get_dataset(dataset_ref)\n",
    "\n",
    "# Construct a reference to the \"comments\" table\n",
    "table_ref = dataset_ref.table(\"comments\")\n",
    "\n",
    "# API request - fetch the table\n",
    "table = client.get_table(table_ref)\n",
    "\n",
    "# Preview the first five lines of the \"comments\" table\n",
    "client.list_rows(table, max_results=5).to_dataframe()"
   ]
  },
  {
   "cell_type": "markdown",
   "id": "c2cf9c57",
   "metadata": {
    "papermill": {
     "duration": 0.003654,
     "end_time": "2023-01-28T02:30:06.215674",
     "exception": false,
     "start_time": "2023-01-28T02:30:06.212020",
     "status": "completed"
    },
    "tags": []
   },
   "source": [
    "Let's use the table to see which comments generated the most replies.  Since:\n",
    "- the `parent` column indicates the comment that was replied to, and \n",
    "- the `id` column has the unique ID used to identify each comment, \n",
    "\n",
    "we can **GROUP BY** the `parent` column and **COUNT()** the `id` column in order to figure out the number of comments that were made as responses to a specific comment.  (_This might not make sense immediately -- take your time here to ensure that everything is clear!_)\n",
    "\n",
    "Furthermore, since we're only interested in popular comments, we'll look at comments with more than ten replies.  So, we'll only return groups **HAVING** more than ten ID's."
   ]
  },
  {
   "cell_type": "code",
   "execution_count": 2,
   "id": "9838d858",
   "metadata": {
    "execution": {
     "iopub.execute_input": "2023-01-28T02:30:06.225327Z",
     "iopub.status.busy": "2023-01-28T02:30:06.224929Z",
     "iopub.status.idle": "2023-01-28T02:30:06.229986Z",
     "shell.execute_reply": "2023-01-28T02:30:06.228839Z"
    },
    "papermill": {
     "duration": 0.012688,
     "end_time": "2023-01-28T02:30:06.232358",
     "exception": false,
     "start_time": "2023-01-28T02:30:06.219670",
     "status": "completed"
    },
    "tags": []
   },
   "outputs": [],
   "source": [
    "# Query to select comments that received more than 10 replies\n",
    "query_popular = \"\"\"\n",
    "                SELECT parent, COUNT(id)\n",
    "                FROM `bigquery-public-data.hacker_news.comments`\n",
    "                GROUP BY parent\n",
    "                HAVING COUNT(id) > 10\n",
    "                \"\"\""
   ]
  },
  {
   "cell_type": "markdown",
   "id": "fb540d8e",
   "metadata": {
    "papermill": {
     "duration": 0.003678,
     "end_time": "2023-01-28T02:30:06.240054",
     "exception": false,
     "start_time": "2023-01-28T02:30:06.236376",
     "status": "completed"
    },
    "tags": []
   },
   "source": [
    "Now that our query is ready, let's run it and store the results in a pandas DataFrame: "
   ]
  },
  {
   "cell_type": "code",
   "execution_count": 3,
   "id": "62117ff5",
   "metadata": {
    "execution": {
     "iopub.execute_input": "2023-01-28T02:30:06.250156Z",
     "iopub.status.busy": "2023-01-28T02:30:06.249389Z",
     "iopub.status.idle": "2023-01-28T02:30:10.860307Z",
     "shell.execute_reply": "2023-01-28T02:30:10.859124Z"
    },
    "papermill": {
     "duration": 4.619035,
     "end_time": "2023-01-28T02:30:10.862974",
     "exception": false,
     "start_time": "2023-01-28T02:30:06.243939",
     "status": "completed"
    },
    "tags": []
   },
   "outputs": [
    {
     "data": {
      "text/html": [
       "<div>\n",
       "<style scoped>\n",
       "    .dataframe tbody tr th:only-of-type {\n",
       "        vertical-align: middle;\n",
       "    }\n",
       "\n",
       "    .dataframe tbody tr th {\n",
       "        vertical-align: top;\n",
       "    }\n",
       "\n",
       "    .dataframe thead th {\n",
       "        text-align: right;\n",
       "    }\n",
       "</style>\n",
       "<table border=\"1\" class=\"dataframe\">\n",
       "  <thead>\n",
       "    <tr style=\"text-align: right;\">\n",
       "      <th></th>\n",
       "      <th>parent</th>\n",
       "      <th>f0_</th>\n",
       "    </tr>\n",
       "  </thead>\n",
       "  <tbody>\n",
       "    <tr>\n",
       "      <th>0</th>\n",
       "      <td>9399394</td>\n",
       "      <td>39</td>\n",
       "    </tr>\n",
       "    <tr>\n",
       "      <th>1</th>\n",
       "      <td>9238839</td>\n",
       "      <td>314</td>\n",
       "    </tr>\n",
       "    <tr>\n",
       "      <th>2</th>\n",
       "      <td>6913456</td>\n",
       "      <td>47</td>\n",
       "    </tr>\n",
       "    <tr>\n",
       "      <th>3</th>\n",
       "      <td>4233505</td>\n",
       "      <td>50</td>\n",
       "    </tr>\n",
       "    <tr>\n",
       "      <th>4</th>\n",
       "      <td>3952263</td>\n",
       "      <td>48</td>\n",
       "    </tr>\n",
       "  </tbody>\n",
       "</table>\n",
       "</div>"
      ],
      "text/plain": [
       "    parent  f0_\n",
       "0  9399394   39\n",
       "1  9238839  314\n",
       "2  6913456   47\n",
       "3  4233505   50\n",
       "4  3952263   48"
      ]
     },
     "execution_count": 3,
     "metadata": {},
     "output_type": "execute_result"
    }
   ],
   "source": [
    "# Set up the query (cancel the query if it would use too much of \n",
    "# your quota, with the limit set to 10 GB)\n",
    "safe_config = bigquery.QueryJobConfig(maximum_bytes_billed=10**10)\n",
    "query_job = client.query(query_popular, job_config=safe_config)\n",
    "\n",
    "# API request - run the query, and convert the results to a pandas DataFrame\n",
    "popular_comments = query_job.to_dataframe()\n",
    "\n",
    "# Print the first five rows of the DataFrame\n",
    "popular_comments.head()"
   ]
  },
  {
   "cell_type": "markdown",
   "id": "b1a1bf63",
   "metadata": {
    "papermill": {
     "duration": 0.003901,
     "end_time": "2023-01-28T02:30:10.871348",
     "exception": false,
     "start_time": "2023-01-28T02:30:10.867447",
     "status": "completed"
    },
    "tags": []
   },
   "source": [
    "Each row in the `popular_comments` DataFrame corresponds to a comment that received more than ten replies.  For instance, the comment with ID `801208` received `56` replies.\n",
    "\n",
    "# Aliasing and other improvements\n",
    "\n",
    "A couple hints to make your queries even better:\n",
    "- The column resulting from `COUNT(id)` was called `f0__`. That's not a very descriptive name. You can change the name by adding `AS NumPosts` after you specify the aggregation. This is called **aliasing**, and it will be covered in more detail in an upcoming lesson.\n",
    "- If you are ever unsure what to put inside the **COUNT()** function, you can do `COUNT(1)` to count the rows in each group. Most people find it especially readable, because we know it's not focusing on other columns. It also scans less data than if supplied column names (making it faster and using less of your data access quota).\n",
    "\n",
    "Using these tricks, we can rewrite our query:"
   ]
  },
  {
   "cell_type": "code",
   "execution_count": 4,
   "id": "404055be",
   "metadata": {
    "execution": {
     "iopub.execute_input": "2023-01-28T02:30:10.881031Z",
     "iopub.status.busy": "2023-01-28T02:30:10.880633Z",
     "iopub.status.idle": "2023-01-28T02:30:15.209571Z",
     "shell.execute_reply": "2023-01-28T02:30:15.208318Z"
    },
    "papermill": {
     "duration": 4.33673,
     "end_time": "2023-01-28T02:30:15.211988",
     "exception": false,
     "start_time": "2023-01-28T02:30:10.875258",
     "status": "completed"
    },
    "tags": []
   },
   "outputs": [
    {
     "data": {
      "text/html": [
       "<div>\n",
       "<style scoped>\n",
       "    .dataframe tbody tr th:only-of-type {\n",
       "        vertical-align: middle;\n",
       "    }\n",
       "\n",
       "    .dataframe tbody tr th {\n",
       "        vertical-align: top;\n",
       "    }\n",
       "\n",
       "    .dataframe thead th {\n",
       "        text-align: right;\n",
       "    }\n",
       "</style>\n",
       "<table border=\"1\" class=\"dataframe\">\n",
       "  <thead>\n",
       "    <tr style=\"text-align: right;\">\n",
       "      <th></th>\n",
       "      <th>parent</th>\n",
       "      <th>NumPosts</th>\n",
       "    </tr>\n",
       "  </thead>\n",
       "  <tbody>\n",
       "    <tr>\n",
       "      <th>0</th>\n",
       "      <td>8799572</td>\n",
       "      <td>139</td>\n",
       "    </tr>\n",
       "    <tr>\n",
       "      <th>1</th>\n",
       "      <td>6738893</td>\n",
       "      <td>38</td>\n",
       "    </tr>\n",
       "    <tr>\n",
       "      <th>2</th>\n",
       "      <td>7740226</td>\n",
       "      <td>38</td>\n",
       "    </tr>\n",
       "    <tr>\n",
       "      <th>3</th>\n",
       "      <td>5482178</td>\n",
       "      <td>62</td>\n",
       "    </tr>\n",
       "    <tr>\n",
       "      <th>4</th>\n",
       "      <td>4467603</td>\n",
       "      <td>70</td>\n",
       "    </tr>\n",
       "  </tbody>\n",
       "</table>\n",
       "</div>"
      ],
      "text/plain": [
       "    parent  NumPosts\n",
       "0  8799572       139\n",
       "1  6738893        38\n",
       "2  7740226        38\n",
       "3  5482178        62\n",
       "4  4467603        70"
      ]
     },
     "execution_count": 4,
     "metadata": {},
     "output_type": "execute_result"
    }
   ],
   "source": [
    "# Improved version of earlier query, now with aliasing & improved readability\n",
    "query_improved = \"\"\"\n",
    "                 SELECT parent, COUNT(1) AS NumPosts\n",
    "                 FROM `bigquery-public-data.hacker_news.comments`\n",
    "                 GROUP BY parent\n",
    "                 HAVING COUNT(1) > 10\n",
    "                 \"\"\"\n",
    "\n",
    "safe_config = bigquery.QueryJobConfig(maximum_bytes_billed=10**10)\n",
    "query_job = client.query(query_improved, job_config=safe_config)\n",
    "\n",
    "# API request - run the query, and convert the results to a pandas DataFrame\n",
    "improved_df = query_job.to_dataframe()\n",
    "\n",
    "# Print the first five rows of the DataFrame\n",
    "improved_df.head()"
   ]
  },
  {
   "cell_type": "markdown",
   "id": "958d526a",
   "metadata": {
    "papermill": {
     "duration": 0.004144,
     "end_time": "2023-01-28T02:30:15.220741",
     "exception": false,
     "start_time": "2023-01-28T02:30:15.216597",
     "status": "completed"
    },
    "tags": []
   },
   "source": [
    "Now you have the data you want, and it has descriptive names. That's good style.\n",
    "\n",
    "# Note on using **GROUP BY**\n",
    "\n",
    "Note that because it tells SQL how to apply aggregate functions (like **COUNT()**), it doesn't make sense to use **GROUP BY** without an aggregate function.  Similarly, if you have any **GROUP BY** clause, then all variables must be passed to either a\n",
    "1. **GROUP BY** command, or\n",
    "2. an aggregation function.\n",
    "\n",
    "Consider the query below:\n",
    "\n"
   ]
  },
  {
   "cell_type": "code",
   "execution_count": 5,
   "id": "d803a2fb",
   "metadata": {
    "execution": {
     "iopub.execute_input": "2023-01-28T02:30:15.231132Z",
     "iopub.status.busy": "2023-01-28T02:30:15.230728Z",
     "iopub.status.idle": "2023-01-28T02:30:15.235254Z",
     "shell.execute_reply": "2023-01-28T02:30:15.234061Z"
    },
    "papermill": {
     "duration": 0.012641,
     "end_time": "2023-01-28T02:30:15.237588",
     "exception": false,
     "start_time": "2023-01-28T02:30:15.224947",
     "status": "completed"
    },
    "tags": []
   },
   "outputs": [],
   "source": [
    "query_good = \"\"\"\n",
    "             SELECT parent, COUNT(id)\n",
    "             FROM `bigquery-public-data.hacker_news.comments`\n",
    "             GROUP BY parent\n",
    "             \"\"\""
   ]
  },
  {
   "cell_type": "markdown",
   "id": "db810607",
   "metadata": {
    "papermill": {
     "duration": 0.004382,
     "end_time": "2023-01-28T02:30:15.246491",
     "exception": false,
     "start_time": "2023-01-28T02:30:15.242109",
     "status": "completed"
    },
    "tags": []
   },
   "source": [
    "Note that there are two variables: `parent` and `id`. \n",
    "- `parent` was passed to a **GROUP BY** command (in `GROUP BY parent`), and \n",
    "- `id` was passed to an aggregate function (in `COUNT(id)`).\n",
    "\n",
    "And this query won't work, because the `author` column isn't passed to an aggregate function or a **GROUP BY** clause:"
   ]
  },
  {
   "cell_type": "code",
   "execution_count": 6,
   "id": "e477d74d",
   "metadata": {
    "execution": {
     "iopub.execute_input": "2023-01-28T02:30:15.256991Z",
     "iopub.status.busy": "2023-01-28T02:30:15.256621Z",
     "iopub.status.idle": "2023-01-28T02:30:15.261415Z",
     "shell.execute_reply": "2023-01-28T02:30:15.260293Z"
    },
    "papermill": {
     "duration": 0.01332,
     "end_time": "2023-01-28T02:30:15.263966",
     "exception": false,
     "start_time": "2023-01-28T02:30:15.250646",
     "status": "completed"
    },
    "tags": []
   },
   "outputs": [],
   "source": [
    "query_bad = \"\"\"\n",
    "            SELECT author, parent, COUNT(id)\n",
    "            FROM `bigquery-public-data.hacker_news.comments`\n",
    "            GROUP BY parent\n",
    "            \"\"\""
   ]
  },
  {
   "cell_type": "markdown",
   "id": "6db4c02f",
   "metadata": {
    "papermill": {
     "duration": 0.004345,
     "end_time": "2023-01-28T02:30:15.272699",
     "exception": false,
     "start_time": "2023-01-28T02:30:15.268354",
     "status": "completed"
    },
    "tags": []
   },
   "source": [
    "If make this error, you'll get the error message `SELECT list expression references column (column's name) which is neither grouped nor aggregated at`."
   ]
  },
  {
   "cell_type": "markdown",
   "id": "0d505249",
   "metadata": {
    "papermill": {
     "duration": 0.003978,
     "end_time": "2023-01-28T02:30:15.281220",
     "exception": false,
     "start_time": "2023-01-28T02:30:15.277242",
     "status": "completed"
    },
    "tags": []
   },
   "source": [
    "---\n",
    "\n",
    "\n",
    "\n",
    "\n",
    "*[Kaggle Course Link](https://www.kaggle.com/learn/intro-to-sql)*"
   ]
  }
 ],
 "metadata": {
  "kernelspec": {
   "display_name": "Python 3",
   "language": "python",
   "name": "python3"
  },
  "language_info": {
   "codemirror_mode": {
    "name": "ipython",
    "version": 3
   },
   "file_extension": ".py",
   "mimetype": "text/x-python",
   "name": "python",
   "nbconvert_exporter": "python",
   "pygments_lexer": "ipython3",
   "version": "3.7.12"
  },
  "papermill": {
   "default_parameters": {},
   "duration": 19.726108,
   "end_time": "2023-01-28T02:30:15.905860",
   "environment_variables": {},
   "exception": null,
   "input_path": "__notebook__.ipynb",
   "output_path": "__notebook__.ipynb",
   "parameters": {},
   "start_time": "2023-01-28T02:29:56.179752",
   "version": "2.3.4"
  }
 },
 "nbformat": 4,
 "nbformat_minor": 5
}
