{
 "cells": [
  {
   "cell_type": "markdown",
   "id": "9edf4207",
   "metadata": {
    "papermill": {
     "duration": 0.007357,
     "end_time": "2023-01-26T23:50:02.862895",
     "exception": false,
     "start_time": "2023-01-26T23:50:02.855538",
     "status": "completed"
    },
    "tags": []
   },
   "source": [
    "# Introduction\n",
    "\n",
    "Now that you know how to access and examine a dataset, you're ready to write your first SQL query!  As you'll soon see, SQL queries will help you sort through a massive dataset, to retrieve only the information that you need.  \n",
    "\n",
    "We'll begin by using the keywords **SELECT**, **FROM**, and **WHERE** to get data from specific columns based on conditions you specify. \n",
    "\n",
    "For clarity, we'll work with a small imaginary dataset `pet_records` which contains just one table, called `pets`. \n",
    "\n",
    "![](https://i.imgur.com/fI5Pvvp.png)\n",
    "\n",
    "# SELECT ... FROM\n",
    "\n",
    "The most basic SQL query selects a single column from a single table.  To do this, \n",
    "- specify the column you want after the word **SELECT**, and then \n",
    "- specify the table after the word **FROM**.  \n",
    "\n",
    "For instance, to select the `Name` column (from the `pets` table in the `pet_records` database in the `bigquery-public-data` project), our query would appear as follows:  \n",
    "\n",
    "![](https://i.imgur.com/c3GxYRt.png)\n",
    "\n",
    "Note that when writing an SQL query, the argument we pass to **FROM** is *not* in single or double quotation marks (' or \"). It is in backticks (\\`).\n",
    "\n",
    "# WHERE ...\n",
    "\n",
    "BigQuery datasets are large, so you'll usually want to return only the rows meeting specific conditions. You can do this using the **WHERE** clause.\n",
    "\n",
    "The query below returns the entries from the `Name` column that are in rows where the `Animal` column has the text `'Cat'`. \n",
    "\n",
    "![](https://i.imgur.com/HJOT8Kb.png)"
   ]
  },
  {
   "cell_type": "markdown",
   "id": "5a0396d5",
   "metadata": {
    "papermill": {
     "duration": 0.005541,
     "end_time": "2023-01-26T23:50:02.874442",
     "exception": false,
     "start_time": "2023-01-26T23:50:02.868901",
     "status": "completed"
    },
    "tags": []
   },
   "source": [
    "# Example: What are all the U.S. cities in the OpenAQ dataset?\n",
    "\n",
    "Now that you've got the basics down, let's work through an example with a real dataset. We'll use an [OpenAQ](https://openaq.org) dataset about air quality.\n",
    "\n",
    "First, we'll set up everything we need to run queries and take a quick peek at what tables are in our database.  (_Since you learned how to do this in the previous tutorial, we have hidden the code.  But if you'd like to take a peek, you need only click on the \"Code\" button below._)"
   ]
  },
  {
   "cell_type": "code",
   "execution_count": 1,
   "id": "0ffeb8c9",
   "metadata": {
    "_kg_hide-input": true,
    "execution": {
     "iopub.execute_input": "2023-01-26T23:50:02.888744Z",
     "iopub.status.busy": "2023-01-26T23:50:02.888091Z",
     "iopub.status.idle": "2023-01-26T23:50:04.216081Z",
     "shell.execute_reply": "2023-01-26T23:50:04.214593Z"
    },
    "papermill": {
     "duration": 1.338829,
     "end_time": "2023-01-26T23:50:04.219138",
     "exception": false,
     "start_time": "2023-01-26T23:50:02.880309",
     "status": "completed"
    },
    "tags": []
   },
   "outputs": [
    {
     "name": "stdout",
     "output_type": "stream",
     "text": [
      "Using Kaggle's public dataset BigQuery integration.\n",
      "global_air_quality\n"
     ]
    }
   ],
   "source": [
    "from google.cloud import bigquery\n",
    "import warnings\n",
    "warnings.filterwarnings(\"ignore\")\n",
    "\n",
    "# Create a \"Client\" object\n",
    "client = bigquery.Client()\n",
    "\n",
    "# Construct a reference to the \"openaq\" dataset\n",
    "dataset_ref = client.dataset(\"openaq\", project=\"bigquery-public-data\")\n",
    "\n",
    "# API request - fetch the dataset\n",
    "dataset = client.get_dataset(dataset_ref)\n",
    "\n",
    "# List all the tables in the \"openaq\" dataset\n",
    "tables = list(client.list_tables(dataset))\n",
    "\n",
    "# Print names of all tables in the dataset (there's only one!)\n",
    "for table in tables:  \n",
    "    print(table.table_id)"
   ]
  },
  {
   "cell_type": "markdown",
   "id": "55b630fc",
   "metadata": {
    "papermill": {
     "duration": 0.005829,
     "end_time": "2023-01-26T23:50:04.231366",
     "exception": false,
     "start_time": "2023-01-26T23:50:04.225537",
     "status": "completed"
    },
    "tags": []
   },
   "source": [
    "The dataset contains only one table, called `global_air_quality`.  We'll fetch the table and take a peek at the first few rows to see what sort of data it contains.  (_Again, we have hidden the code.  To take a peek, click on the \"Code\" button below._)"
   ]
  },
  {
   "cell_type": "code",
   "execution_count": 2,
   "id": "36d7dbb3",
   "metadata": {
    "_kg_hide-input": true,
    "execution": {
     "iopub.execute_input": "2023-01-26T23:50:04.245778Z",
     "iopub.status.busy": "2023-01-26T23:50:04.245332Z",
     "iopub.status.idle": "2023-01-26T23:50:05.370763Z",
     "shell.execute_reply": "2023-01-26T23:50:05.369862Z"
    },
    "papermill": {
     "duration": 1.135271,
     "end_time": "2023-01-26T23:50:05.372981",
     "exception": false,
     "start_time": "2023-01-26T23:50:04.237710",
     "status": "completed"
    },
    "tags": []
   },
   "outputs": [
    {
     "data": {
      "text/html": [
       "<div>\n",
       "<style scoped>\n",
       "    .dataframe tbody tr th:only-of-type {\n",
       "        vertical-align: middle;\n",
       "    }\n",
       "\n",
       "    .dataframe tbody tr th {\n",
       "        vertical-align: top;\n",
       "    }\n",
       "\n",
       "    .dataframe thead th {\n",
       "        text-align: right;\n",
       "    }\n",
       "</style>\n",
       "<table border=\"1\" class=\"dataframe\">\n",
       "  <thead>\n",
       "    <tr style=\"text-align: right;\">\n",
       "      <th></th>\n",
       "      <th>location</th>\n",
       "      <th>city</th>\n",
       "      <th>country</th>\n",
       "      <th>pollutant</th>\n",
       "      <th>value</th>\n",
       "      <th>timestamp</th>\n",
       "      <th>unit</th>\n",
       "      <th>source_name</th>\n",
       "      <th>latitude</th>\n",
       "      <th>longitude</th>\n",
       "      <th>averaged_over_in_hours</th>\n",
       "      <th>location_geom</th>\n",
       "    </tr>\n",
       "  </thead>\n",
       "  <tbody>\n",
       "    <tr>\n",
       "      <th>0</th>\n",
       "      <td>Borówiec, ul. Drapałka</td>\n",
       "      <td>Borówiec</td>\n",
       "      <td>PL</td>\n",
       "      <td>bc</td>\n",
       "      <td>0.85217</td>\n",
       "      <td>2022-04-28 07:00:00+00:00</td>\n",
       "      <td>µg/m³</td>\n",
       "      <td>GIOS</td>\n",
       "      <td>1.0</td>\n",
       "      <td>52.276794</td>\n",
       "      <td>17.074114</td>\n",
       "      <td>POINT(52.276794 1)</td>\n",
       "    </tr>\n",
       "    <tr>\n",
       "      <th>1</th>\n",
       "      <td>Kraków, ul. Bulwarowa</td>\n",
       "      <td>Kraków</td>\n",
       "      <td>PL</td>\n",
       "      <td>bc</td>\n",
       "      <td>0.91284</td>\n",
       "      <td>2022-04-27 23:00:00+00:00</td>\n",
       "      <td>µg/m³</td>\n",
       "      <td>GIOS</td>\n",
       "      <td>1.0</td>\n",
       "      <td>50.069308</td>\n",
       "      <td>20.053492</td>\n",
       "      <td>POINT(50.069308 1)</td>\n",
       "    </tr>\n",
       "    <tr>\n",
       "      <th>2</th>\n",
       "      <td>Płock, ul. Reja</td>\n",
       "      <td>Płock</td>\n",
       "      <td>PL</td>\n",
       "      <td>bc</td>\n",
       "      <td>1.41000</td>\n",
       "      <td>2022-03-30 04:00:00+00:00</td>\n",
       "      <td>µg/m³</td>\n",
       "      <td>GIOS</td>\n",
       "      <td>1.0</td>\n",
       "      <td>52.550938</td>\n",
       "      <td>19.709791</td>\n",
       "      <td>POINT(52.550938 1)</td>\n",
       "    </tr>\n",
       "    <tr>\n",
       "      <th>3</th>\n",
       "      <td>Elbląg, ul. Bażyńskiego</td>\n",
       "      <td>Elbląg</td>\n",
       "      <td>PL</td>\n",
       "      <td>bc</td>\n",
       "      <td>0.33607</td>\n",
       "      <td>2022-05-03 13:00:00+00:00</td>\n",
       "      <td>µg/m³</td>\n",
       "      <td>GIOS</td>\n",
       "      <td>1.0</td>\n",
       "      <td>54.167847</td>\n",
       "      <td>19.410942</td>\n",
       "      <td>POINT(54.167847 1)</td>\n",
       "    </tr>\n",
       "    <tr>\n",
       "      <th>4</th>\n",
       "      <td>Piastów, ul. Pułaskiego</td>\n",
       "      <td>Piastów</td>\n",
       "      <td>PL</td>\n",
       "      <td>bc</td>\n",
       "      <td>0.51000</td>\n",
       "      <td>2022-05-11 05:00:00+00:00</td>\n",
       "      <td>µg/m³</td>\n",
       "      <td>GIOS</td>\n",
       "      <td>1.0</td>\n",
       "      <td>52.191728</td>\n",
       "      <td>20.837489</td>\n",
       "      <td>POINT(52.191728 1)</td>\n",
       "    </tr>\n",
       "  </tbody>\n",
       "</table>\n",
       "</div>"
      ],
      "text/plain": [
       "                  location      city country pollutant    value  \\\n",
       "0   Borówiec, ul. Drapałka  Borówiec      PL        bc  0.85217   \n",
       "1    Kraków, ul. Bulwarowa    Kraków      PL        bc  0.91284   \n",
       "2          Płock, ul. Reja     Płock      PL        bc  1.41000   \n",
       "3  Elbląg, ul. Bażyńskiego    Elbląg      PL        bc  0.33607   \n",
       "4  Piastów, ul. Pułaskiego   Piastów      PL        bc  0.51000   \n",
       "\n",
       "                  timestamp   unit source_name  latitude  longitude  \\\n",
       "0 2022-04-28 07:00:00+00:00  µg/m³        GIOS       1.0  52.276794   \n",
       "1 2022-04-27 23:00:00+00:00  µg/m³        GIOS       1.0  50.069308   \n",
       "2 2022-03-30 04:00:00+00:00  µg/m³        GIOS       1.0  52.550938   \n",
       "3 2022-05-03 13:00:00+00:00  µg/m³        GIOS       1.0  54.167847   \n",
       "4 2022-05-11 05:00:00+00:00  µg/m³        GIOS       1.0  52.191728   \n",
       "\n",
       "   averaged_over_in_hours       location_geom  \n",
       "0               17.074114  POINT(52.276794 1)  \n",
       "1               20.053492  POINT(50.069308 1)  \n",
       "2               19.709791  POINT(52.550938 1)  \n",
       "3               19.410942  POINT(54.167847 1)  \n",
       "4               20.837489  POINT(52.191728 1)  "
      ]
     },
     "execution_count": 2,
     "metadata": {},
     "output_type": "execute_result"
    }
   ],
   "source": [
    "# Construct a reference to the \"global_air_quality\" table\n",
    "table_ref = dataset_ref.table(\"global_air_quality\")\n",
    "\n",
    "# API request - fetch the table\n",
    "table = client.get_table(table_ref)\n",
    "\n",
    "# Preview the first five lines of the \"global_air_quality\" table\n",
    "client.list_rows(table, max_results=5).to_dataframe()"
   ]
  },
  {
   "cell_type": "markdown",
   "id": "d8859e9b",
   "metadata": {
    "papermill": {
     "duration": 0.006176,
     "end_time": "2023-01-26T23:50:05.385778",
     "exception": false,
     "start_time": "2023-01-26T23:50:05.379602",
     "status": "completed"
    },
    "tags": []
   },
   "source": [
    "Everything looks good! So, let's put together a query. Say we want to select all the values from the `city` column that are in rows where the `country` column is `'US'` (for \"United States\")."
   ]
  },
  {
   "cell_type": "code",
   "execution_count": 3,
   "id": "c2b6525a",
   "metadata": {
    "execution": {
     "iopub.execute_input": "2023-01-26T23:50:05.400995Z",
     "iopub.status.busy": "2023-01-26T23:50:05.400165Z",
     "iopub.status.idle": "2023-01-26T23:50:05.404663Z",
     "shell.execute_reply": "2023-01-26T23:50:05.403911Z"
    },
    "papermill": {
     "duration": 0.0146,
     "end_time": "2023-01-26T23:50:05.406870",
     "exception": false,
     "start_time": "2023-01-26T23:50:05.392270",
     "status": "completed"
    },
    "tags": []
   },
   "outputs": [],
   "source": [
    "# Query to select all the items from the \"city\" column where the \"country\" column is 'US'\n",
    "query = \"\"\"\n",
    "        SELECT city\n",
    "        FROM `bigquery-public-data.openaq.global_air_quality`\n",
    "        WHERE country = 'US'\n",
    "        \"\"\""
   ]
  },
  {
   "cell_type": "markdown",
   "id": "e661571f",
   "metadata": {
    "papermill": {
     "duration": 0.006219,
     "end_time": "2023-01-26T23:50:05.419593",
     "exception": false,
     "start_time": "2023-01-26T23:50:05.413374",
     "status": "completed"
    },
    "tags": []
   },
   "source": [
    "Take the time now to ensure that this query lines up with what you learned above.  \n",
    "\n",
    "# Submitting the query to the dataset\n",
    "\n",
    "We're ready to use this query to get information from the OpenAQ dataset.  As in the previous tutorial, the first step is to create a [`Client`](https://google-cloud.readthedocs.io/en/latest/bigquery/generated/google.cloud.bigquery.client.Client.html#google.cloud.bigquery.client.Client) object."
   ]
  },
  {
   "cell_type": "code",
   "execution_count": 4,
   "id": "ddfd1b0c",
   "metadata": {
    "execution": {
     "iopub.execute_input": "2023-01-26T23:50:05.436905Z",
     "iopub.status.busy": "2023-01-26T23:50:05.436120Z",
     "iopub.status.idle": "2023-01-26T23:50:05.442236Z",
     "shell.execute_reply": "2023-01-26T23:50:05.440879Z"
    },
    "papermill": {
     "duration": 0.019227,
     "end_time": "2023-01-26T23:50:05.445207",
     "exception": false,
     "start_time": "2023-01-26T23:50:05.425980",
     "status": "completed"
    },
    "tags": []
   },
   "outputs": [
    {
     "name": "stdout",
     "output_type": "stream",
     "text": [
      "Using Kaggle's public dataset BigQuery integration.\n"
     ]
    }
   ],
   "source": [
    "# Create a \"Client\" object\n",
    "client = bigquery.Client()"
   ]
  },
  {
   "cell_type": "markdown",
   "id": "108745c6",
   "metadata": {
    "papermill": {
     "duration": 0.007599,
     "end_time": "2023-01-26T23:50:05.459936",
     "exception": false,
     "start_time": "2023-01-26T23:50:05.452337",
     "status": "completed"
    },
    "tags": []
   },
   "source": [
    "We begin by setting up the query with the [`query()`](https://google-cloud.readthedocs.io/en/latest/bigquery/generated/google.cloud.bigquery.client.Client.query.html#google.cloud.bigquery.client.Client.query) method.  We run the method with the default parameters, but this method also allows us to specify more complicated settings that you can read about in [the documentation](https://google-cloud.readthedocs.io/en/latest/bigquery/generated/google.cloud.bigquery.client.Client.query.html#google.cloud.bigquery.client.Client.query).  We'll revisit this later."
   ]
  },
  {
   "cell_type": "code",
   "execution_count": 5,
   "id": "4763c1d4",
   "metadata": {
    "execution": {
     "iopub.execute_input": "2023-01-26T23:50:05.474579Z",
     "iopub.status.busy": "2023-01-26T23:50:05.474194Z",
     "iopub.status.idle": "2023-01-26T23:50:06.209914Z",
     "shell.execute_reply": "2023-01-26T23:50:06.209020Z"
    },
    "papermill": {
     "duration": 0.746187,
     "end_time": "2023-01-26T23:50:06.212499",
     "exception": false,
     "start_time": "2023-01-26T23:50:05.466312",
     "status": "completed"
    },
    "tags": []
   },
   "outputs": [],
   "source": [
    "# Set up the query\n",
    "query_job = client.query(query)"
   ]
  },
  {
   "cell_type": "markdown",
   "id": "18315a47",
   "metadata": {
    "papermill": {
     "duration": 0.006063,
     "end_time": "2023-01-26T23:50:06.225158",
     "exception": false,
     "start_time": "2023-01-26T23:50:06.219095",
     "status": "completed"
    },
    "tags": []
   },
   "source": [
    "Next, we run the query and convert the results to a pandas DataFrame."
   ]
  },
  {
   "cell_type": "code",
   "execution_count": 6,
   "id": "e9a3aed2",
   "metadata": {
    "execution": {
     "iopub.execute_input": "2023-01-26T23:50:06.240511Z",
     "iopub.status.busy": "2023-01-26T23:50:06.239795Z",
     "iopub.status.idle": "2023-01-26T23:50:31.866528Z",
     "shell.execute_reply": "2023-01-26T23:50:31.865162Z"
    },
    "papermill": {
     "duration": 25.637432,
     "end_time": "2023-01-26T23:50:31.869184",
     "exception": false,
     "start_time": "2023-01-26T23:50:06.231752",
     "status": "completed"
    },
    "tags": []
   },
   "outputs": [],
   "source": [
    "# API request - run the query, and return a pandas DataFrame\n",
    "us_cities = query_job.to_dataframe()"
   ]
  },
  {
   "cell_type": "markdown",
   "id": "c8feafa1",
   "metadata": {
    "papermill": {
     "duration": 0.006191,
     "end_time": "2023-01-26T23:50:31.883110",
     "exception": false,
     "start_time": "2023-01-26T23:50:31.876919",
     "status": "completed"
    },
    "tags": []
   },
   "source": [
    "Now we've got a pandas DataFrame called `us_cities`, which we can use like any other DataFrame."
   ]
  },
  {
   "cell_type": "code",
   "execution_count": 7,
   "id": "b6d84dae",
   "metadata": {
    "execution": {
     "iopub.execute_input": "2023-01-26T23:50:31.898267Z",
     "iopub.status.busy": "2023-01-26T23:50:31.897882Z",
     "iopub.status.idle": "2023-01-26T23:50:31.967743Z",
     "shell.execute_reply": "2023-01-26T23:50:31.966456Z"
    },
    "papermill": {
     "duration": 0.080068,
     "end_time": "2023-01-26T23:50:31.970058",
     "exception": false,
     "start_time": "2023-01-26T23:50:31.889990",
     "status": "completed"
    },
    "tags": []
   },
   "outputs": [
    {
     "data": {
      "text/plain": [
       "Phoenix-Mesa-Scottsdale                     39414\n",
       "Los Angeles-Long Beach-Santa Ana            27479\n",
       "Riverside-San Bernardino-Ontario            26887\n",
       "New York-Northern New Jersey-Long Island    25417\n",
       "San Francisco-Oakland-Fremont               22710\n",
       "Name: city, dtype: int64"
      ]
     },
     "execution_count": 7,
     "metadata": {},
     "output_type": "execute_result"
    }
   ],
   "source": [
    "# What five cities have the most measurements?\n",
    "us_cities.city.value_counts().head()"
   ]
  },
  {
   "cell_type": "markdown",
   "id": "9ed47a72",
   "metadata": {
    "papermill": {
     "duration": 0.006185,
     "end_time": "2023-01-26T23:50:31.982761",
     "exception": false,
     "start_time": "2023-01-26T23:50:31.976576",
     "status": "completed"
    },
    "tags": []
   },
   "source": [
    "# More queries\n",
    "\n",
    "If you want multiple columns, you can select them with a comma between the names:"
   ]
  },
  {
   "cell_type": "code",
   "execution_count": 8,
   "id": "e318bcba",
   "metadata": {
    "execution": {
     "iopub.execute_input": "2023-01-26T23:50:31.997137Z",
     "iopub.status.busy": "2023-01-26T23:50:31.996521Z",
     "iopub.status.idle": "2023-01-26T23:50:32.001792Z",
     "shell.execute_reply": "2023-01-26T23:50:32.000776Z"
    },
    "papermill": {
     "duration": 0.015034,
     "end_time": "2023-01-26T23:50:32.004019",
     "exception": false,
     "start_time": "2023-01-26T23:50:31.988985",
     "status": "completed"
    },
    "tags": []
   },
   "outputs": [],
   "source": [
    "query = \"\"\"\n",
    "        SELECT city, country\n",
    "        FROM `bigquery-public-data.openaq.global_air_quality`\n",
    "        WHERE country = 'US'\n",
    "        \"\"\""
   ]
  },
  {
   "cell_type": "markdown",
   "id": "ee3cab01",
   "metadata": {
    "papermill": {
     "duration": 0.006955,
     "end_time": "2023-01-26T23:50:32.017575",
     "exception": false,
     "start_time": "2023-01-26T23:50:32.010620",
     "status": "completed"
    },
    "tags": []
   },
   "source": [
    "You can select all columns with a `*` like this:"
   ]
  },
  {
   "cell_type": "code",
   "execution_count": 9,
   "id": "8823975a",
   "metadata": {
    "execution": {
     "iopub.execute_input": "2023-01-26T23:50:32.033738Z",
     "iopub.status.busy": "2023-01-26T23:50:32.032585Z",
     "iopub.status.idle": "2023-01-26T23:50:32.037501Z",
     "shell.execute_reply": "2023-01-26T23:50:32.036614Z"
    },
    "papermill": {
     "duration": 0.015021,
     "end_time": "2023-01-26T23:50:32.039707",
     "exception": false,
     "start_time": "2023-01-26T23:50:32.024686",
     "status": "completed"
    },
    "tags": []
   },
   "outputs": [],
   "source": [
    "query = \"\"\"\n",
    "        SELECT *\n",
    "        FROM `bigquery-public-data.openaq.global_air_quality`\n",
    "        WHERE country = 'US'\n",
    "        \"\"\""
   ]
  },
  {
   "cell_type": "markdown",
   "id": "c05877a4",
   "metadata": {
    "papermill": {
     "duration": 0.006212,
     "end_time": "2023-01-26T23:50:32.052508",
     "exception": false,
     "start_time": "2023-01-26T23:50:32.046296",
     "status": "completed"
    },
    "tags": []
   },
   "source": [
    "# Q&A: Notes on formatting\n",
    "\n",
    "The formatting of the SQL query might feel unfamiliar. If you have any questions, you can ask in the comments section at the bottom of this page.  Here are answers to two common questions:\n",
    "\n",
    "### **Question: What's up with the triple quotation marks (\"\"\")?**\n",
    "\n",
    "_Answer_: These tell Python that everything inside them is a single string, even though we have line breaks in it. The line breaks aren't necessary, but they make it easier to read your query.\n",
    "\n",
    "### **Question: Do you need to capitalize SELECT and FROM?**\n",
    "\n",
    "_Answer_: No, SQL doesn't care about capitalization. However, it's customary to capitalize your SQL commands, and it makes your queries a bit easier to read."
   ]
  },
  {
   "cell_type": "markdown",
   "id": "e44697e6",
   "metadata": {
    "papermill": {
     "duration": 0.006118,
     "end_time": "2023-01-26T23:50:32.065140",
     "exception": false,
     "start_time": "2023-01-26T23:50:32.059022",
     "status": "completed"
    },
    "tags": []
   },
   "source": [
    "# Working with big datasets\n",
    "\n",
    "BigQuery datasets can be huge. We allow you to do a lot of computation for free, but everyone has some limit.\n",
    "\n",
    "**Each Kaggle user can scan 5TB every 30 days for free. Once you hit that limit, you'll have to wait for it to reset.**\n",
    "\n",
    "The [biggest dataset currently on Kaggle](https://www.kaggle.com/github/github-repos) is 3TB, so you can go through your 30-day limit in a couple queries if you aren't careful.\n",
    "\n",
    "Don't worry though: we'll teach you how to avoid scanning too much data at once, so that you don't run over your limit.\n",
    "\n",
    "To begin,you can estimate the size of any query before running it. Here is an example using the (*very large!*) Hacker News dataset. To see how much data a query will scan, we create a `QueryJobConfig` object and set the `dry_run` parameter to `True`."
   ]
  },
  {
   "cell_type": "code",
   "execution_count": 10,
   "id": "4fd2d377",
   "metadata": {
    "execution": {
     "iopub.execute_input": "2023-01-26T23:50:32.080318Z",
     "iopub.status.busy": "2023-01-26T23:50:32.079615Z",
     "iopub.status.idle": "2023-01-26T23:50:32.582055Z",
     "shell.execute_reply": "2023-01-26T23:50:32.580566Z"
    },
    "papermill": {
     "duration": 0.51313,
     "end_time": "2023-01-26T23:50:32.584633",
     "exception": false,
     "start_time": "2023-01-26T23:50:32.071503",
     "status": "completed"
    },
    "tags": []
   },
   "outputs": [
    {
     "name": "stdout",
     "output_type": "stream",
     "text": [
      "This query will process 553320240 bytes.\n"
     ]
    }
   ],
   "source": [
    "# Query to get the score column from every row where the type column has value \"job\"\n",
    "query = \"\"\"\n",
    "        SELECT score, title\n",
    "        FROM `bigquery-public-data.hacker_news.full`\n",
    "        WHERE type = \"job\" \n",
    "        \"\"\"\n",
    "\n",
    "# Create a QueryJobConfig object to estimate size of query without running it\n",
    "dry_run_config = bigquery.QueryJobConfig(dry_run=True)\n",
    "\n",
    "# API request - dry run query to estimate costs\n",
    "dry_run_query_job = client.query(query, job_config=dry_run_config)\n",
    "\n",
    "print(\"This query will process {} bytes.\".format(dry_run_query_job.total_bytes_processed))"
   ]
  },
  {
   "cell_type": "markdown",
   "id": "fdb62b2d",
   "metadata": {
    "papermill": {
     "duration": 0.006179,
     "end_time": "2023-01-26T23:50:32.597525",
     "exception": false,
     "start_time": "2023-01-26T23:50:32.591346",
     "status": "completed"
    },
    "tags": []
   },
   "source": [
    "You can also specify a parameter when running the query to limit how much data you are willing to scan. Here's an example with a low limit."
   ]
  },
  {
   "cell_type": "code",
   "execution_count": 11,
   "id": "2f50740d",
   "metadata": {
    "execution": {
     "iopub.execute_input": "2023-01-26T23:50:32.612189Z",
     "iopub.status.busy": "2023-01-26T23:50:32.611787Z",
     "iopub.status.idle": "2023-01-26T23:50:35.530302Z",
     "shell.execute_reply": "2023-01-26T23:50:35.528945Z"
    },
    "papermill": {
     "duration": 2.928994,
     "end_time": "2023-01-26T23:50:35.532992",
     "exception": false,
     "start_time": "2023-01-26T23:50:32.603998",
     "status": "completed"
    },
    "tags": []
   },
   "outputs": [
    {
     "data": {
      "text/html": [
       "<div>\n",
       "<style scoped>\n",
       "    .dataframe tbody tr th:only-of-type {\n",
       "        vertical-align: middle;\n",
       "    }\n",
       "\n",
       "    .dataframe tbody tr th {\n",
       "        vertical-align: top;\n",
       "    }\n",
       "\n",
       "    .dataframe thead th {\n",
       "        text-align: right;\n",
       "    }\n",
       "</style>\n",
       "<table border=\"1\" class=\"dataframe\">\n",
       "  <thead>\n",
       "    <tr style=\"text-align: right;\">\n",
       "      <th></th>\n",
       "      <th>score</th>\n",
       "      <th>title</th>\n",
       "    </tr>\n",
       "  </thead>\n",
       "  <tbody>\n",
       "    <tr>\n",
       "      <th>0</th>\n",
       "      <td>1.0</td>\n",
       "      <td>Airware (YC W13) Is Hiring – Code and Fly</td>\n",
       "    </tr>\n",
       "    <tr>\n",
       "      <th>1</th>\n",
       "      <td>1.0</td>\n",
       "      <td>Web Developer needed for product in exploding ...</td>\n",
       "    </tr>\n",
       "    <tr>\n",
       "      <th>2</th>\n",
       "      <td>1.0</td>\n",
       "      <td>Make School (YC W12) Is Hiring Ruby on Rails D...</td>\n",
       "    </tr>\n",
       "    <tr>\n",
       "      <th>3</th>\n",
       "      <td>1.0</td>\n",
       "      <td>HelloSign (YC W11) is hiring its first Marketi...</td>\n",
       "    </tr>\n",
       "    <tr>\n",
       "      <th>4</th>\n",
       "      <td>1.0</td>\n",
       "      <td>YC S12 Startup Seeking Hackers</td>\n",
       "    </tr>\n",
       "    <tr>\n",
       "      <th>...</th>\n",
       "      <td>...</td>\n",
       "      <td>...</td>\n",
       "    </tr>\n",
       "    <tr>\n",
       "      <th>15843</th>\n",
       "      <td>11.0</td>\n",
       "      <td>Justin.tv is hiring the smartest engineers on ...</td>\n",
       "    </tr>\n",
       "    <tr>\n",
       "      <th>15844</th>\n",
       "      <td>17.0</td>\n",
       "      <td>An open letter from the founders of Scribd to ...</td>\n",
       "    </tr>\n",
       "    <tr>\n",
       "      <th>15845</th>\n",
       "      <td>17.0</td>\n",
       "      <td>Weebly (W07) is hiring an Analytics Engineer</td>\n",
       "    </tr>\n",
       "    <tr>\n",
       "      <th>15846</th>\n",
       "      <td>26.0</td>\n",
       "      <td>Disqus is hiring a senior operations engineer ...</td>\n",
       "    </tr>\n",
       "    <tr>\n",
       "      <th>15847</th>\n",
       "      <td>54.0</td>\n",
       "      <td>Summer 2010 YC Startup Contagion Health (imove...</td>\n",
       "    </tr>\n",
       "  </tbody>\n",
       "</table>\n",
       "<p>15848 rows × 2 columns</p>\n",
       "</div>"
      ],
      "text/plain": [
       "       score                                              title\n",
       "0        1.0          Airware (YC W13) Is Hiring – Code and Fly\n",
       "1        1.0  Web Developer needed for product in exploding ...\n",
       "2        1.0  Make School (YC W12) Is Hiring Ruby on Rails D...\n",
       "3        1.0  HelloSign (YC W11) is hiring its first Marketi...\n",
       "4        1.0                     YC S12 Startup Seeking Hackers\n",
       "...      ...                                                ...\n",
       "15843   11.0  Justin.tv is hiring the smartest engineers on ...\n",
       "15844   17.0  An open letter from the founders of Scribd to ...\n",
       "15845   17.0       Weebly (W07) is hiring an Analytics Engineer\n",
       "15846   26.0  Disqus is hiring a senior operations engineer ...\n",
       "15847   54.0  Summer 2010 YC Startup Contagion Health (imove...\n",
       "\n",
       "[15848 rows x 2 columns]"
      ]
     },
     "execution_count": 11,
     "metadata": {},
     "output_type": "execute_result"
    }
   ],
   "source": [
    "# Only run the query if it's less than 1 MB\n",
    "ONE_MB = 1000*1000\n",
    "safe_config = bigquery.QueryJobConfig(maximum_bytes_billed=ONE_MB)\n",
    "\n",
    "# Set up the query (will only run if it's less than 1 MB)\n",
    "safe_query_job = client.query(query, job_config=safe_config)\n",
    "\n",
    "# API request - try to run the query, and return a pandas DataFrame\n",
    "safe_query_job.to_dataframe()"
   ]
  },
  {
   "cell_type": "markdown",
   "id": "b0427d46",
   "metadata": {
    "papermill": {
     "duration": 0.007056,
     "end_time": "2023-01-26T23:50:35.547216",
     "exception": false,
     "start_time": "2023-01-26T23:50:35.540160",
     "status": "completed"
    },
    "tags": []
   },
   "source": [
    "In this case, the query was cancelled, because the limit of 1 MB was exceeded.  However, we can increase the limit to run the query successfully!"
   ]
  },
  {
   "cell_type": "code",
   "execution_count": 12,
   "id": "61af540d",
   "metadata": {
    "execution": {
     "iopub.execute_input": "2023-01-26T23:50:35.564295Z",
     "iopub.status.busy": "2023-01-26T23:50:35.563848Z",
     "iopub.status.idle": "2023-01-26T23:50:38.555609Z",
     "shell.execute_reply": "2023-01-26T23:50:38.554125Z"
    },
    "papermill": {
     "duration": 3.00303,
     "end_time": "2023-01-26T23:50:38.558307",
     "exception": false,
     "start_time": "2023-01-26T23:50:35.555277",
     "status": "completed"
    },
    "tags": []
   },
   "outputs": [
    {
     "data": {
      "text/plain": [
       "1.7267060367454068"
      ]
     },
     "execution_count": 12,
     "metadata": {},
     "output_type": "execute_result"
    }
   ],
   "source": [
    "# Only run the query if it's less than 1 GB\n",
    "ONE_GB = 1000*1000*1000\n",
    "safe_config = bigquery.QueryJobConfig(maximum_bytes_billed=ONE_GB)\n",
    "\n",
    "# Set up the query (will only run if it's less than 1 GB)\n",
    "safe_query_job = client.query(query, job_config=safe_config)\n",
    "\n",
    "# API request - try to run the query, and return a pandas DataFrame\n",
    "job_post_scores = safe_query_job.to_dataframe()\n",
    "\n",
    "# Print average score for job posts\n",
    "job_post_scores.score.mean()"
   ]
  },
  {
   "cell_type": "markdown",
   "id": "eeee9870",
   "metadata": {
    "papermill": {
     "duration": 0.006584,
     "end_time": "2023-01-26T23:50:38.571974",
     "exception": false,
     "start_time": "2023-01-26T23:50:38.565390",
     "status": "completed"
    },
    "tags": []
   },
   "source": [
    "---\n",
    "\n",
    "\n",
    "\n",
    "\n",
    "*[Kaggle Course Link](https://www.kaggle.com/learn/intro-to-sql)*"
   ]
  }
 ],
 "metadata": {
  "kernelspec": {
   "display_name": "Python 3",
   "language": "python",
   "name": "python3"
  },
  "language_info": {
   "codemirror_mode": {
    "name": "ipython",
    "version": 3
   },
   "file_extension": ".py",
   "mimetype": "text/x-python",
   "name": "python",
   "nbconvert_exporter": "python",
   "pygments_lexer": "ipython3",
   "version": "3.7.12"
  },
  "papermill": {
   "default_parameters": {},
   "duration": 44.934046,
   "end_time": "2023-01-26T23:50:39.200559",
   "environment_variables": {},
   "exception": null,
   "input_path": "__notebook__.ipynb",
   "output_path": "__notebook__.ipynb",
   "parameters": {},
   "start_time": "2023-01-26T23:49:54.266513",
   "version": "2.3.4"
  }
 },
 "nbformat": 4,
 "nbformat_minor": 5
}
