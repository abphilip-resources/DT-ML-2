{
 "cells": [
  {
   "cell_type": "markdown",
   "id": "8b39a536",
   "metadata": {
    "papermill": {
     "duration": 0.011771,
     "end_time": "2023-02-03T04:59:15.935521",
     "exception": false,
     "start_time": "2023-02-03T04:59:15.923750",
     "status": "completed"
    },
    "tags": []
   },
   "source": [
    "**This notebook is an exercise in the [SQL](https://www.kaggle.com/learn/intro-to-sql) course.  You can reference the tutorial at [this link](https://www.kaggle.com/dansbecker/getting-started-with-sql-and-bigquery).**\n",
    "\n",
    "---\n"
   ]
  },
  {
   "cell_type": "markdown",
   "id": "3af5c915",
   "metadata": {
    "papermill": {
     "duration": 0.004798,
     "end_time": "2023-02-03T04:59:15.945934",
     "exception": false,
     "start_time": "2023-02-03T04:59:15.941136",
     "status": "completed"
    },
    "tags": []
   },
   "source": [
    "# Introduction\n",
    "\n",
    "The first test of your new data exploration skills uses data describing crime in the city of Chicago.\n",
    "\n",
    "Before you get started, run the following cell. It sets up the automated feedback system to review your answers."
   ]
  },
  {
   "cell_type": "code",
   "execution_count": 1,
   "id": "f5d0a87c",
   "metadata": {
    "execution": {
     "iopub.execute_input": "2023-02-03T04:59:15.958719Z",
     "iopub.status.busy": "2023-02-03T04:59:15.957923Z",
     "iopub.status.idle": "2023-02-03T04:59:16.921852Z",
     "shell.execute_reply": "2023-02-03T04:59:16.920495Z"
    },
    "papermill": {
     "duration": 0.973845,
     "end_time": "2023-02-03T04:59:16.924989",
     "exception": false,
     "start_time": "2023-02-03T04:59:15.951144",
     "status": "completed"
    },
    "tags": []
   },
   "outputs": [
    {
     "name": "stdout",
     "output_type": "stream",
     "text": [
      "Using Kaggle's public dataset BigQuery integration.\n",
      "Setup Complete\n"
     ]
    }
   ],
   "source": [
    "# Set up feedback system\n",
    "import warnings\n",
    "warnings.filterwarnings(\"ignore\")\n",
    "\n",
    "from learntools.core import binder\n",
    "binder.bind(globals())\n",
    "from learntools.sql.ex1 import *\n",
    "print(\"Setup Complete\")"
   ]
  },
  {
   "cell_type": "markdown",
   "id": "e96e4142",
   "metadata": {
    "papermill": {
     "duration": 0.004762,
     "end_time": "2023-02-03T04:59:16.934991",
     "exception": false,
     "start_time": "2023-02-03T04:59:16.930229",
     "status": "completed"
    },
    "tags": []
   },
   "source": [
    "Use the next code cell to fetch the dataset."
   ]
  },
  {
   "cell_type": "code",
   "execution_count": 2,
   "id": "171f7eb8",
   "metadata": {
    "execution": {
     "iopub.execute_input": "2023-02-03T04:59:16.947076Z",
     "iopub.status.busy": "2023-02-03T04:59:16.946419Z",
     "iopub.status.idle": "2023-02-03T04:59:17.269877Z",
     "shell.execute_reply": "2023-02-03T04:59:17.268461Z"
    },
    "papermill": {
     "duration": 0.332899,
     "end_time": "2023-02-03T04:59:17.272824",
     "exception": false,
     "start_time": "2023-02-03T04:59:16.939925",
     "status": "completed"
    },
    "tags": []
   },
   "outputs": [
    {
     "name": "stdout",
     "output_type": "stream",
     "text": [
      "Using Kaggle's public dataset BigQuery integration.\n"
     ]
    }
   ],
   "source": [
    "from google.cloud import bigquery\n",
    "\n",
    "# Create a \"Client\" object\n",
    "client = bigquery.Client()\n",
    "\n",
    "# Construct a reference to the \"chicago_crime\" dataset\n",
    "dataset_ref = client.dataset(\"chicago_crime\", project=\"bigquery-public-data\")\n",
    "\n",
    "# API request - fetch the dataset\n",
    "dataset = client.get_dataset(dataset_ref)"
   ]
  },
  {
   "cell_type": "markdown",
   "id": "e064705e",
   "metadata": {
    "papermill": {
     "duration": 0.004784,
     "end_time": "2023-02-03T04:59:17.283008",
     "exception": false,
     "start_time": "2023-02-03T04:59:17.278224",
     "status": "completed"
    },
    "tags": []
   },
   "source": [
    "# Exercises\n",
    "\n",
    "### 1) Count tables in the dataset\n",
    "\n",
    "How many tables are in the Chicago Crime dataset?"
   ]
  },
  {
   "cell_type": "code",
   "execution_count": 3,
   "id": "d09793fe",
   "metadata": {
    "execution": {
     "iopub.execute_input": "2023-02-03T04:59:17.294937Z",
     "iopub.status.busy": "2023-02-03T04:59:17.294474Z",
     "iopub.status.idle": "2023-02-03T04:59:17.539744Z",
     "shell.execute_reply": "2023-02-03T04:59:17.537682Z"
    },
    "papermill": {
     "duration": 0.255089,
     "end_time": "2023-02-03T04:59:17.543056",
     "exception": false,
     "start_time": "2023-02-03T04:59:17.287967",
     "status": "completed"
    },
    "tags": []
   },
   "outputs": [
    {
     "name": "stdout",
     "output_type": "stream",
     "text": [
      "1\n"
     ]
    }
   ],
   "source": [
    "print(len(list(client.list_tables(dataset))))"
   ]
  },
  {
   "cell_type": "code",
   "execution_count": 4,
   "id": "03b9610c",
   "metadata": {
    "execution": {
     "iopub.execute_input": "2023-02-03T04:59:17.556474Z",
     "iopub.status.busy": "2023-02-03T04:59:17.555730Z",
     "iopub.status.idle": "2023-02-03T04:59:17.566660Z",
     "shell.execute_reply": "2023-02-03T04:59:17.565823Z"
    },
    "papermill": {
     "duration": 0.020141,
     "end_time": "2023-02-03T04:59:17.568727",
     "exception": false,
     "start_time": "2023-02-03T04:59:17.548586",
     "status": "completed"
    },
    "tags": []
   },
   "outputs": [
    {
     "data": {
      "application/javascript": [
       "parent.postMessage({\"jupyterEvent\": \"custom.exercise_interaction\", \"data\": {\"outcomeType\": 1, \"valueTowardsCompletion\": 0.3333333333333333, \"interactionType\": 1, \"questionType\": 1, \"questionId\": \"1_CountTables\", \"learnToolsVersion\": \"0.3.4\", \"failureMessage\": \"\", \"exceptionClass\": \"\", \"trace\": \"\"}}, \"*\")"
      ],
      "text/plain": [
       "<IPython.core.display.Javascript object>"
      ]
     },
     "metadata": {},
     "output_type": "display_data"
    },
    {
     "data": {
      "text/markdown": [
       "<span style=\"color:#33cc33\">Correct</span>"
      ],
      "text/plain": [
       "Correct"
      ]
     },
     "metadata": {},
     "output_type": "display_data"
    }
   ],
   "source": [
    "num_tables = 1  # Store the answer as num_tables and then run this cell\n",
    "\n",
    "# Check your answer\n",
    "q_1.check()"
   ]
  },
  {
   "cell_type": "markdown",
   "id": "87e95ca8",
   "metadata": {
    "papermill": {
     "duration": 0.005274,
     "end_time": "2023-02-03T04:59:17.579580",
     "exception": false,
     "start_time": "2023-02-03T04:59:17.574306",
     "status": "completed"
    },
    "tags": []
   },
   "source": [
    "For a hint or the solution, uncomment the appropriate line below."
   ]
  },
  {
   "cell_type": "code",
   "execution_count": 5,
   "id": "eb3af59d",
   "metadata": {
    "execution": {
     "iopub.execute_input": "2023-02-03T04:59:17.592681Z",
     "iopub.status.busy": "2023-02-03T04:59:17.591991Z",
     "iopub.status.idle": "2023-02-03T04:59:17.595867Z",
     "shell.execute_reply": "2023-02-03T04:59:17.594977Z"
    },
    "papermill": {
     "duration": 0.012948,
     "end_time": "2023-02-03T04:59:17.598029",
     "exception": false,
     "start_time": "2023-02-03T04:59:17.585081",
     "status": "completed"
    },
    "tags": []
   },
   "outputs": [],
   "source": [
    "# q_1.hint()\n",
    "# q_1.solution()"
   ]
  },
  {
   "cell_type": "markdown",
   "id": "21360c51",
   "metadata": {
    "papermill": {
     "duration": 0.00532,
     "end_time": "2023-02-03T04:59:17.608972",
     "exception": false,
     "start_time": "2023-02-03T04:59:17.603652",
     "status": "completed"
    },
    "tags": []
   },
   "source": [
    "### 2) Explore the table schema\n",
    "\n",
    "How many columns in the `crime` table have `TIMESTAMP` data?"
   ]
  },
  {
   "cell_type": "code",
   "execution_count": 6,
   "id": "36ad25be",
   "metadata": {
    "execution": {
     "iopub.execute_input": "2023-02-03T04:59:17.622286Z",
     "iopub.status.busy": "2023-02-03T04:59:17.621580Z",
     "iopub.status.idle": "2023-02-03T04:59:17.895542Z",
     "shell.execute_reply": "2023-02-03T04:59:17.894206Z"
    },
    "papermill": {
     "duration": 0.283587,
     "end_time": "2023-02-03T04:59:17.898128",
     "exception": false,
     "start_time": "2023-02-03T04:59:17.614541",
     "status": "completed"
    },
    "tags": []
   },
   "outputs": [
    {
     "data": {
      "text/plain": [
       "2"
      ]
     },
     "execution_count": 6,
     "metadata": {},
     "output_type": "execute_result"
    }
   ],
   "source": [
    "table = client.get_table(dataset_ref.table(\"crime\"))\n",
    "len([z for z in list(table.schema) if('TIMESTAMP' in str(z))])"
   ]
  },
  {
   "cell_type": "code",
   "execution_count": 7,
   "id": "72cee913",
   "metadata": {
    "execution": {
     "iopub.execute_input": "2023-02-03T04:59:17.911584Z",
     "iopub.status.busy": "2023-02-03T04:59:17.910808Z",
     "iopub.status.idle": "2023-02-03T04:59:17.921054Z",
     "shell.execute_reply": "2023-02-03T04:59:17.919759Z"
    },
    "papermill": {
     "duration": 0.019793,
     "end_time": "2023-02-03T04:59:17.923603",
     "exception": false,
     "start_time": "2023-02-03T04:59:17.903810",
     "status": "completed"
    },
    "tags": []
   },
   "outputs": [
    {
     "data": {
      "application/javascript": [
       "parent.postMessage({\"jupyterEvent\": \"custom.exercise_interaction\", \"data\": {\"outcomeType\": 1, \"valueTowardsCompletion\": 0.3333333333333333, \"interactionType\": 1, \"questionType\": 1, \"questionId\": \"2_CountTimestampFields\", \"learnToolsVersion\": \"0.3.4\", \"failureMessage\": \"\", \"exceptionClass\": \"\", \"trace\": \"\"}}, \"*\")"
      ],
      "text/plain": [
       "<IPython.core.display.Javascript object>"
      ]
     },
     "metadata": {},
     "output_type": "display_data"
    },
    {
     "data": {
      "text/markdown": [
       "<span style=\"color:#33cc33\">Correct</span>"
      ],
      "text/plain": [
       "Correct"
      ]
     },
     "metadata": {},
     "output_type": "display_data"
    }
   ],
   "source": [
    "num_timestamp_fields = 2 # Put your answer here\n",
    "\n",
    "# Check your answer\n",
    "q_2.check()"
   ]
  },
  {
   "cell_type": "markdown",
   "id": "e3eba9f2",
   "metadata": {
    "papermill": {
     "duration": 0.005469,
     "end_time": "2023-02-03T04:59:17.934755",
     "exception": false,
     "start_time": "2023-02-03T04:59:17.929286",
     "status": "completed"
    },
    "tags": []
   },
   "source": [
    "For a hint or the solution, uncomment the appropriate line below."
   ]
  },
  {
   "cell_type": "code",
   "execution_count": 8,
   "id": "4ac3d099",
   "metadata": {
    "execution": {
     "iopub.execute_input": "2023-02-03T04:59:17.948477Z",
     "iopub.status.busy": "2023-02-03T04:59:17.948006Z",
     "iopub.status.idle": "2023-02-03T04:59:17.953159Z",
     "shell.execute_reply": "2023-02-03T04:59:17.951860Z"
    },
    "papermill": {
     "duration": 0.014989,
     "end_time": "2023-02-03T04:59:17.955410",
     "exception": false,
     "start_time": "2023-02-03T04:59:17.940421",
     "status": "completed"
    },
    "tags": []
   },
   "outputs": [],
   "source": [
    "# q_2.hint()\n",
    "# q_2.solution()"
   ]
  },
  {
   "cell_type": "markdown",
   "id": "0352dca0",
   "metadata": {
    "papermill": {
     "duration": 0.005604,
     "end_time": "2023-02-03T04:59:17.966874",
     "exception": false,
     "start_time": "2023-02-03T04:59:17.961270",
     "status": "completed"
    },
    "tags": []
   },
   "source": [
    "### 3) Create a crime map\n",
    "\n",
    "If you wanted to create a map with a dot at the location of each crime, what are the names of the two fields you likely need to pull out of the `crime` table to plot the crimes on a map?"
   ]
  },
  {
   "cell_type": "code",
   "execution_count": 9,
   "id": "3ba33bf0",
   "metadata": {
    "execution": {
     "iopub.execute_input": "2023-02-03T04:59:17.981599Z",
     "iopub.status.busy": "2023-02-03T04:59:17.981114Z",
     "iopub.status.idle": "2023-02-03T04:59:17.990729Z",
     "shell.execute_reply": "2023-02-03T04:59:17.989472Z"
    },
    "papermill": {
     "duration": 0.019406,
     "end_time": "2023-02-03T04:59:17.992947",
     "exception": false,
     "start_time": "2023-02-03T04:59:17.973541",
     "status": "completed"
    },
    "tags": []
   },
   "outputs": [
    {
     "data": {
      "application/javascript": [
       "parent.postMessage({\"jupyterEvent\": \"custom.exercise_interaction\", \"data\": {\"outcomeType\": 1, \"valueTowardsCompletion\": 0.3333333333333333, \"interactionType\": 1, \"questionType\": 2, \"questionId\": \"3_IdentifyFieldsForPlotting\", \"learnToolsVersion\": \"0.3.4\", \"failureMessage\": \"\", \"exceptionClass\": \"\", \"trace\": \"\"}}, \"*\")"
      ],
      "text/plain": [
       "<IPython.core.display.Javascript object>"
      ]
     },
     "metadata": {},
     "output_type": "display_data"
    },
    {
     "data": {
      "text/markdown": [
       "<span style=\"color:#33cc33\">Correct</span>"
      ],
      "text/plain": [
       "Correct"
      ]
     },
     "metadata": {},
     "output_type": "display_data"
    }
   ],
   "source": [
    "fields_for_plotting = ['latitude', 'longitude'] # Put your answers here\n",
    "\n",
    "# Check your answer\n",
    "q_3.check()"
   ]
  },
  {
   "cell_type": "markdown",
   "id": "c5cca936",
   "metadata": {
    "papermill": {
     "duration": 0.005749,
     "end_time": "2023-02-03T04:59:18.004556",
     "exception": false,
     "start_time": "2023-02-03T04:59:17.998807",
     "status": "completed"
    },
    "tags": []
   },
   "source": [
    "For a hint or the solution, uncomment the appropriate line below."
   ]
  },
  {
   "cell_type": "code",
   "execution_count": 10,
   "id": "6f46ad39",
   "metadata": {
    "execution": {
     "iopub.execute_input": "2023-02-03T04:59:18.019606Z",
     "iopub.status.busy": "2023-02-03T04:59:18.018328Z",
     "iopub.status.idle": "2023-02-03T04:59:18.023253Z",
     "shell.execute_reply": "2023-02-03T04:59:18.022015Z"
    },
    "papermill": {
     "duration": 0.015206,
     "end_time": "2023-02-03T04:59:18.025580",
     "exception": false,
     "start_time": "2023-02-03T04:59:18.010374",
     "status": "completed"
    },
    "tags": []
   },
   "outputs": [],
   "source": [
    "# q_3.hint()\n",
    "# q_3.solution()"
   ]
  },
  {
   "cell_type": "markdown",
   "id": "17455efb",
   "metadata": {
    "papermill": {
     "duration": 0.005682,
     "end_time": "2023-02-03T04:59:18.037068",
     "exception": false,
     "start_time": "2023-02-03T04:59:18.031386",
     "status": "completed"
    },
    "tags": []
   },
   "source": [
    "Thinking about the question above, there are a few columns that appear to have geographic data. Look at a few values (with the `list_rows()` command) to see if you can determine their relationship.  Two columns will still be hard to interpret. But it should be obvious how the `location` column relates to `latitude` and `longitude`."
   ]
  },
  {
   "cell_type": "markdown",
   "id": "302a18bb",
   "metadata": {
    "papermill": {
     "duration": 0.005582,
     "end_time": "2023-02-03T04:59:18.048894",
     "exception": false,
     "start_time": "2023-02-03T04:59:18.043312",
     "status": "completed"
    },
    "tags": []
   },
   "source": [
    "---\n",
    "\n",
    "\n",
    "\n",
    "\n",
    "**Allen**"
   ]
  }
 ],
 "metadata": {
  "kernelspec": {
   "display_name": "Python 3",
   "language": "python",
   "name": "python3"
  },
  "language_info": {
   "codemirror_mode": {
    "name": "ipython",
    "version": 3
   },
   "file_extension": ".py",
   "mimetype": "text/x-python",
   "name": "python",
   "nbconvert_exporter": "python",
   "pygments_lexer": "ipython3",
   "version": "3.7.12"
  },
  "papermill": {
   "default_parameters": {},
   "duration": 11.487219,
   "end_time": "2023-02-03T04:59:18.779040",
   "environment_variables": {},
   "exception": null,
   "input_path": "__notebook__.ipynb",
   "output_path": "__notebook__.ipynb",
   "parameters": {},
   "start_time": "2023-02-03T04:59:07.291821",
   "version": "2.3.4"
  }
 },
 "nbformat": 4,
 "nbformat_minor": 5
}
