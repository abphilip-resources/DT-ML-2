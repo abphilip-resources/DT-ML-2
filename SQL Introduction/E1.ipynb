{
 "cells": [
  {
   "cell_type": "markdown",
   "id": "14f97ec2",
   "metadata": {
    "papermill": {
     "duration": 0.004827,
     "end_time": "2023-02-01T05:08:14.795865",
     "exception": false,
     "start_time": "2023-02-01T05:08:14.791038",
     "status": "completed"
    },
    "tags": []
   },
   "source": [
    "**This notebook is an exercise in the [SQL](https://www.kaggle.com/learn/intro-to-sql) course.  You can reference the tutorial at [this link](https://www.kaggle.com/dansbecker/getting-started-with-sql-and-bigquery).**\n",
    "\n",
    "---\n"
   ]
  },
  {
   "cell_type": "markdown",
   "id": "fb06a9df",
   "metadata": {
    "papermill": {
     "duration": 0.003813,
     "end_time": "2023-02-01T05:08:14.803891",
     "exception": false,
     "start_time": "2023-02-01T05:08:14.800078",
     "status": "completed"
    },
    "tags": []
   },
   "source": [
    "# Introduction\n",
    "\n",
    "The first test of your new data exploration skills uses data describing crime in the city of Chicago.\n",
    "\n",
    "Before you get started, run the following cell. It sets up the automated feedback system to review your answers."
   ]
  },
  {
   "cell_type": "code",
   "execution_count": 1,
   "id": "9c586494",
   "metadata": {
    "execution": {
     "iopub.execute_input": "2023-02-01T05:08:14.813797Z",
     "iopub.status.busy": "2023-02-01T05:08:14.813386Z",
     "iopub.status.idle": "2023-02-01T05:08:15.755323Z",
     "shell.execute_reply": "2023-02-01T05:08:15.754152Z"
    },
    "papermill": {
     "duration": 0.949715,
     "end_time": "2023-02-01T05:08:15.757670",
     "exception": false,
     "start_time": "2023-02-01T05:08:14.807955",
     "status": "completed"
    },
    "tags": []
   },
   "outputs": [
    {
     "name": "stdout",
     "output_type": "stream",
     "text": [
      "Using Kaggle's public dataset BigQuery integration.\n",
      "Setup Complete\n"
     ]
    }
   ],
   "source": [
    "# Set up feedack system\n",
    "from learntools.core import binder\n",
    "binder.bind(globals())\n",
    "from learntools.sql.ex1 import *\n",
    "print(\"Setup Complete\")"
   ]
  },
  {
   "cell_type": "markdown",
   "id": "aba10da4",
   "metadata": {
    "papermill": {
     "duration": 0.004033,
     "end_time": "2023-02-01T05:08:15.766510",
     "exception": false,
     "start_time": "2023-02-01T05:08:15.762477",
     "status": "completed"
    },
    "tags": []
   },
   "source": [
    "Use the next code cell to fetch the dataset."
   ]
  },
  {
   "cell_type": "code",
   "execution_count": 2,
   "id": "9230ccef",
   "metadata": {
    "execution": {
     "iopub.execute_input": "2023-02-01T05:08:15.776031Z",
     "iopub.status.busy": "2023-02-01T05:08:15.775732Z",
     "iopub.status.idle": "2023-02-01T05:08:16.083191Z",
     "shell.execute_reply": "2023-02-01T05:08:16.082164Z"
    },
    "papermill": {
     "duration": 0.315059,
     "end_time": "2023-02-01T05:08:16.085618",
     "exception": false,
     "start_time": "2023-02-01T05:08:15.770559",
     "status": "completed"
    },
    "tags": []
   },
   "outputs": [
    {
     "name": "stdout",
     "output_type": "stream",
     "text": [
      "Using Kaggle's public dataset BigQuery integration.\n"
     ]
    }
   ],
   "source": [
    "from google.cloud import bigquery\n",
    "import warnings\n",
    "warnings.filterwarnings(\"ignore\")\n",
    "\n",
    "# Create a \"Client\" object\n",
    "client = bigquery.Client()\n",
    "\n",
    "# Construct a reference to the \"chicago_crime\" dataset\n",
    "dataset_ref = client.dataset(\"chicago_crime\", project=\"bigquery-public-data\")\n",
    "\n",
    "# API request - fetch the dataset\n",
    "dataset = client.get_dataset(dataset_ref)"
   ]
  },
  {
   "cell_type": "markdown",
   "id": "b42132b1",
   "metadata": {
    "papermill": {
     "duration": 0.004692,
     "end_time": "2023-02-01T05:08:16.094700",
     "exception": false,
     "start_time": "2023-02-01T05:08:16.090008",
     "status": "completed"
    },
    "tags": []
   },
   "source": [
    "# Exercises\n",
    "\n",
    "### 1) Count tables in the dataset\n",
    "\n",
    "How many tables are in the Chicago Crime dataset?"
   ]
  },
  {
   "cell_type": "code",
   "execution_count": 3,
   "id": "65ca96d7",
   "metadata": {
    "execution": {
     "iopub.execute_input": "2023-02-01T05:08:16.105434Z",
     "iopub.status.busy": "2023-02-01T05:08:16.105103Z",
     "iopub.status.idle": "2023-02-01T05:08:16.390966Z",
     "shell.execute_reply": "2023-02-01T05:08:16.390294Z"
    },
    "papermill": {
     "duration": 0.293089,
     "end_time": "2023-02-01T05:08:16.392780",
     "exception": false,
     "start_time": "2023-02-01T05:08:16.099691",
     "status": "completed"
    },
    "tags": []
   },
   "outputs": [
    {
     "name": "stdout",
     "output_type": "stream",
     "text": [
      "1\n"
     ]
    }
   ],
   "source": [
    "print(len(list(client.list_tables(dataset))))"
   ]
  },
  {
   "cell_type": "code",
   "execution_count": 4,
   "id": "94b9acd9",
   "metadata": {
    "execution": {
     "iopub.execute_input": "2023-02-01T05:08:16.403522Z",
     "iopub.status.busy": "2023-02-01T05:08:16.403161Z",
     "iopub.status.idle": "2023-02-01T05:08:16.412574Z",
     "shell.execute_reply": "2023-02-01T05:08:16.411307Z"
    },
    "papermill": {
     "duration": 0.016937,
     "end_time": "2023-02-01T05:08:16.414301",
     "exception": false,
     "start_time": "2023-02-01T05:08:16.397364",
     "status": "completed"
    },
    "tags": []
   },
   "outputs": [
    {
     "data": {
      "application/javascript": [
       "parent.postMessage({\"jupyterEvent\": \"custom.exercise_interaction\", \"data\": {\"outcomeType\": 1, \"valueTowardsCompletion\": 0.3333333333333333, \"interactionType\": 1, \"questionType\": 1, \"questionId\": \"1_CountTables\", \"learnToolsVersion\": \"0.3.4\", \"failureMessage\": \"\", \"exceptionClass\": \"\", \"trace\": \"\"}}, \"*\")"
      ],
      "text/plain": [
       "<IPython.core.display.Javascript object>"
      ]
     },
     "metadata": {},
     "output_type": "display_data"
    },
    {
     "data": {
      "text/markdown": [
       "<span style=\"color:#33cc33\">Correct</span>"
      ],
      "text/plain": [
       "Correct"
      ]
     },
     "metadata": {},
     "output_type": "display_data"
    }
   ],
   "source": [
    "num_tables = 1  # Store the answer as num_tables and then run this cell\n",
    "\n",
    "# Check your answer\n",
    "q_1.check()"
   ]
  },
  {
   "cell_type": "markdown",
   "id": "6d0f0591",
   "metadata": {
    "papermill": {
     "duration": 0.004489,
     "end_time": "2023-02-01T05:08:16.423582",
     "exception": false,
     "start_time": "2023-02-01T05:08:16.419093",
     "status": "completed"
    },
    "tags": []
   },
   "source": [
    "For a hint or the solution, uncomment the appropriate line below."
   ]
  },
  {
   "cell_type": "code",
   "execution_count": 5,
   "id": "65bb0bbe",
   "metadata": {
    "execution": {
     "iopub.execute_input": "2023-02-01T05:08:16.435203Z",
     "iopub.status.busy": "2023-02-01T05:08:16.434767Z",
     "iopub.status.idle": "2023-02-01T05:08:16.439446Z",
     "shell.execute_reply": "2023-02-01T05:08:16.437843Z"
    },
    "papermill": {
     "duration": 0.01371,
     "end_time": "2023-02-01T05:08:16.442138",
     "exception": false,
     "start_time": "2023-02-01T05:08:16.428428",
     "status": "completed"
    },
    "tags": []
   },
   "outputs": [],
   "source": [
    "# q_1.hint()\n",
    "# q_1.solution()"
   ]
  },
  {
   "cell_type": "markdown",
   "id": "24f183e0",
   "metadata": {
    "papermill": {
     "duration": 0.004392,
     "end_time": "2023-02-01T05:08:16.452006",
     "exception": false,
     "start_time": "2023-02-01T05:08:16.447614",
     "status": "completed"
    },
    "tags": []
   },
   "source": [
    "### 2) Explore the table schema\n",
    "\n",
    "How many columns in the `crime` table have `TIMESTAMP` data?"
   ]
  },
  {
   "cell_type": "code",
   "execution_count": 6,
   "id": "08fb8d18",
   "metadata": {
    "execution": {
     "iopub.execute_input": "2023-02-01T05:08:16.462852Z",
     "iopub.status.busy": "2023-02-01T05:08:16.462487Z",
     "iopub.status.idle": "2023-02-01T05:08:16.767522Z",
     "shell.execute_reply": "2023-02-01T05:08:16.766130Z"
    },
    "papermill": {
     "duration": 0.31419,
     "end_time": "2023-02-01T05:08:16.770849",
     "exception": false,
     "start_time": "2023-02-01T05:08:16.456659",
     "status": "completed"
    },
    "tags": []
   },
   "outputs": [
    {
     "data": {
      "text/plain": [
       "2"
      ]
     },
     "execution_count": 6,
     "metadata": {},
     "output_type": "execute_result"
    }
   ],
   "source": [
    "table = client.get_table(dataset_ref.table(\"crime\"))\n",
    "len([z for z in list(table.schema) if('TIMESTAMP' in str(z))])"
   ]
  },
  {
   "cell_type": "code",
   "execution_count": 7,
   "id": "b09a6f1a",
   "metadata": {
    "execution": {
     "iopub.execute_input": "2023-02-01T05:08:16.782111Z",
     "iopub.status.busy": "2023-02-01T05:08:16.781812Z",
     "iopub.status.idle": "2023-02-01T05:08:16.787831Z",
     "shell.execute_reply": "2023-02-01T05:08:16.787235Z"
    },
    "papermill": {
     "duration": 0.013947,
     "end_time": "2023-02-01T05:08:16.789733",
     "exception": false,
     "start_time": "2023-02-01T05:08:16.775786",
     "status": "completed"
    },
    "tags": []
   },
   "outputs": [
    {
     "data": {
      "application/javascript": [
       "parent.postMessage({\"jupyterEvent\": \"custom.exercise_interaction\", \"data\": {\"outcomeType\": 1, \"valueTowardsCompletion\": 0.3333333333333333, \"interactionType\": 1, \"questionType\": 1, \"questionId\": \"2_CountTimestampFields\", \"learnToolsVersion\": \"0.3.4\", \"failureMessage\": \"\", \"exceptionClass\": \"\", \"trace\": \"\"}}, \"*\")"
      ],
      "text/plain": [
       "<IPython.core.display.Javascript object>"
      ]
     },
     "metadata": {},
     "output_type": "display_data"
    },
    {
     "data": {
      "text/markdown": [
       "<span style=\"color:#33cc33\">Correct</span>"
      ],
      "text/plain": [
       "Correct"
      ]
     },
     "metadata": {},
     "output_type": "display_data"
    }
   ],
   "source": [
    "num_timestamp_fields = 2 # Put your answer here\n",
    "\n",
    "# Check your answer\n",
    "q_2.check()"
   ]
  },
  {
   "cell_type": "markdown",
   "id": "95c5b67f",
   "metadata": {
    "papermill": {
     "duration": 0.004579,
     "end_time": "2023-02-01T05:08:16.799384",
     "exception": false,
     "start_time": "2023-02-01T05:08:16.794805",
     "status": "completed"
    },
    "tags": []
   },
   "source": [
    "For a hint or the solution, uncomment the appropriate line below."
   ]
  },
  {
   "cell_type": "code",
   "execution_count": 8,
   "id": "d40f7a0d",
   "metadata": {
    "execution": {
     "iopub.execute_input": "2023-02-01T05:08:16.810945Z",
     "iopub.status.busy": "2023-02-01T05:08:16.810366Z",
     "iopub.status.idle": "2023-02-01T05:08:16.814071Z",
     "shell.execute_reply": "2023-02-01T05:08:16.812982Z"
    },
    "papermill": {
     "duration": 0.011768,
     "end_time": "2023-02-01T05:08:16.815823",
     "exception": false,
     "start_time": "2023-02-01T05:08:16.804055",
     "status": "completed"
    },
    "tags": []
   },
   "outputs": [],
   "source": [
    "# q_2.hint()\n",
    "# q_2.solution()"
   ]
  },
  {
   "cell_type": "markdown",
   "id": "5552ef26",
   "metadata": {
    "papermill": {
     "duration": 0.004489,
     "end_time": "2023-02-01T05:08:16.825359",
     "exception": false,
     "start_time": "2023-02-01T05:08:16.820870",
     "status": "completed"
    },
    "tags": []
   },
   "source": [
    "### 3) Create a crime map\n",
    "\n",
    "If you wanted to create a map with a dot at the location of each crime, what are the names of the two fields you likely need to pull out of the `crime` table to plot the crimes on a map?"
   ]
  },
  {
   "cell_type": "code",
   "execution_count": 9,
   "id": "3609a6d6",
   "metadata": {
    "execution": {
     "iopub.execute_input": "2023-02-01T05:08:16.837093Z",
     "iopub.status.busy": "2023-02-01T05:08:16.836592Z",
     "iopub.status.idle": "2023-02-01T05:08:16.842569Z",
     "shell.execute_reply": "2023-02-01T05:08:16.841954Z"
    },
    "papermill": {
     "duration": 0.013444,
     "end_time": "2023-02-01T05:08:16.844091",
     "exception": false,
     "start_time": "2023-02-01T05:08:16.830647",
     "status": "completed"
    },
    "tags": []
   },
   "outputs": [
    {
     "data": {
      "application/javascript": [
       "parent.postMessage({\"jupyterEvent\": \"custom.exercise_interaction\", \"data\": {\"outcomeType\": 1, \"valueTowardsCompletion\": 0.3333333333333333, \"interactionType\": 1, \"questionType\": 2, \"questionId\": \"3_IdentifyFieldsForPlotting\", \"learnToolsVersion\": \"0.3.4\", \"failureMessage\": \"\", \"exceptionClass\": \"\", \"trace\": \"\"}}, \"*\")"
      ],
      "text/plain": [
       "<IPython.core.display.Javascript object>"
      ]
     },
     "metadata": {},
     "output_type": "display_data"
    },
    {
     "data": {
      "text/markdown": [
       "<span style=\"color:#33cc33\">Correct</span>"
      ],
      "text/plain": [
       "Correct"
      ]
     },
     "metadata": {},
     "output_type": "display_data"
    }
   ],
   "source": [
    "fields_for_plotting = ['latitude', 'longitude'] # Put your answers here\n",
    "\n",
    "# Check your answer\n",
    "q_3.check()"
   ]
  },
  {
   "cell_type": "markdown",
   "id": "fb57ec7b",
   "metadata": {
    "papermill": {
     "duration": 0.004686,
     "end_time": "2023-02-01T05:08:16.855194",
     "exception": false,
     "start_time": "2023-02-01T05:08:16.850508",
     "status": "completed"
    },
    "tags": []
   },
   "source": [
    "For a hint or the solution, uncomment the appropriate line below."
   ]
  },
  {
   "cell_type": "code",
   "execution_count": 10,
   "id": "4fdc0792",
   "metadata": {
    "execution": {
     "iopub.execute_input": "2023-02-01T05:08:16.866996Z",
     "iopub.status.busy": "2023-02-01T05:08:16.866410Z",
     "iopub.status.idle": "2023-02-01T05:08:16.869840Z",
     "shell.execute_reply": "2023-02-01T05:08:16.869291Z"
    },
    "papermill": {
     "duration": 0.01148,
     "end_time": "2023-02-01T05:08:16.871516",
     "exception": false,
     "start_time": "2023-02-01T05:08:16.860036",
     "status": "completed"
    },
    "tags": []
   },
   "outputs": [],
   "source": [
    "# q_3.hint()\n",
    "# q_3.solution()"
   ]
  },
  {
   "cell_type": "markdown",
   "id": "d5478363",
   "metadata": {
    "papermill": {
     "duration": 0.004785,
     "end_time": "2023-02-01T05:08:16.881389",
     "exception": false,
     "start_time": "2023-02-01T05:08:16.876604",
     "status": "completed"
    },
    "tags": []
   },
   "source": [
    "Thinking about the question above, there are a few columns that appear to have geographic data. Look at a few values (with the `list_rows()` command) to see if you can determine their relationship.  Two columns will still be hard to interpret. But it should be obvious how the `location` column relates to `latitude` and `longitude`."
   ]
  },
  {
   "cell_type": "markdown",
   "id": "26ba8336",
   "metadata": {
    "papermill": {
     "duration": 0.004652,
     "end_time": "2023-02-01T05:08:16.890827",
     "exception": false,
     "start_time": "2023-02-01T05:08:16.886175",
     "status": "completed"
    },
    "tags": []
   },
   "source": [
    "---\n",
    "\n",
    "\n",
    "\n",
    "\n",
    "**Allen**"
   ]
  }
 ],
 "metadata": {
  "kernelspec": {
   "display_name": "Python 3",
   "language": "python",
   "name": "python3"
  },
  "language_info": {
   "codemirror_mode": {
    "name": "ipython",
    "version": 3
   },
   "file_extension": ".py",
   "mimetype": "text/x-python",
   "name": "python",
   "nbconvert_exporter": "python",
   "pygments_lexer": "ipython3",
   "version": "3.7.12"
  },
  "papermill": {
   "default_parameters": {},
   "duration": 9.761599,
   "end_time": "2023-02-01T05:08:17.516997",
   "environment_variables": {},
   "exception": null,
   "input_path": "__notebook__.ipynb",
   "output_path": "__notebook__.ipynb",
   "parameters": {},
   "start_time": "2023-02-01T05:08:07.755398",
   "version": "2.3.4"
  }
 },
 "nbformat": 4,
 "nbformat_minor": 5
}
