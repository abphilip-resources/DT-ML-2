{
 "cells": [
  {
   "cell_type": "markdown",
   "id": "184259de",
   "metadata": {
    "papermill": {
     "duration": 0.008221,
     "end_time": "2023-02-19T04:10:52.557438",
     "exception": false,
     "start_time": "2023-02-19T04:10:52.549217",
     "status": "completed"
    },
    "tags": []
   },
   "source": [
    "In this tutorial, you will learn how to build and optimize models with **gradient boosting**.  This method dominates many Kaggle competitions and achieves state-of-the-art results on a variety of datasets. \n",
    "\n",
    "# Introduction\n",
    "\n",
    "For much of this course, you have made predictions with the random forest method, which achieves better performance than a single decision tree simply by averaging the predictions of many decision trees.\n",
    "\n",
    "We refer to the random forest method as an \"ensemble method\".  By definition, **ensemble methods** combine the predictions of several models (e.g., several trees, in the case of random forests).  \n",
    "\n",
    "Next, we'll learn about another ensemble method called gradient boosting.  \n",
    "\n",
    "# Gradient Boosting\n",
    "\n",
    "**Gradient boosting** is a method that goes through cycles to iteratively add models into an ensemble.  \n",
    "\n",
    "It begins by initializing the ensemble with a single model, whose predictions can be pretty naive.  (Even if its predictions are wildly inaccurate, subsequent additions to the ensemble will address those errors.)\n",
    "\n",
    "Then, we start the cycle:\n",
    "- First, we use the current ensemble to generate predictions for each observation in the dataset.  To make a prediction, we add the predictions from all models in the ensemble.  \n",
    "- These predictions are used to calculate a loss function (like [mean squared error](https://en.wikipedia.org/wiki/Mean_squared_error), for instance).\n",
    "- Then, we use the loss function to fit a new model that will be added to the ensemble.  Specifically, we determine model parameters so that adding this new model to the ensemble will reduce the loss.  (*Side note: The \"gradient\" in \"gradient boosting\" refers to the fact that we'll use [gradient descent](https://en.wikipedia.org/wiki/Gradient_descent) on the loss function to determine the parameters in this new model.*)\n",
    "- Finally, we add the new model to ensemble, and ...\n",
    "- ... repeat!\n",
    "\n",
    "![tut6_boosting](https://i.imgur.com/MvCGENh.png)\n",
    "\n",
    "\n",
    "# Example\n",
    "\n",
    "We begin by loading the training and validation data in `X_train`, `X_valid`, `y_train`, and `y_valid`. "
   ]
  },
  {
   "cell_type": "code",
   "execution_count": 1,
   "id": "e60c6f2f",
   "metadata": {
    "_kg_hide-input": true,
    "_kg_hide-output": true,
    "execution": {
     "iopub.execute_input": "2023-02-19T04:10:52.568260Z",
     "iopub.status.busy": "2023-02-19T04:10:52.567796Z",
     "iopub.status.idle": "2023-02-19T04:10:53.554417Z",
     "shell.execute_reply": "2023-02-19T04:10:53.552973Z"
    },
    "papermill": {
     "duration": 0.995947,
     "end_time": "2023-02-19T04:10:53.557838",
     "exception": false,
     "start_time": "2023-02-19T04:10:52.561891",
     "status": "completed"
    },
    "tags": []
   },
   "outputs": [],
   "source": [
    "import warnings\n",
    "warnings.filterwarnings(\"ignore\")\n",
    "\n",
    "import pandas as pd\n",
    "from sklearn.model_selection import train_test_split\n",
    "\n",
    "# Read the data\n",
    "data = pd.read_csv('../input/melbourne-housing-snapshot/melb_data.csv')\n",
    "\n",
    "# Select subset of predictors\n",
    "cols_to_use = ['Rooms', 'Distance', 'Landsize', 'BuildingArea', 'YearBuilt']\n",
    "X = data[cols_to_use]\n",
    "\n",
    "# Select target\n",
    "y = data.Price\n",
    "\n",
    "# Separate data into training and validation sets\n",
    "X_train, X_valid, y_train, y_valid = train_test_split(X, y)"
   ]
  },
  {
   "cell_type": "markdown",
   "id": "85f05f05",
   "metadata": {
    "papermill": {
     "duration": 0.004619,
     "end_time": "2023-02-19T04:10:53.569506",
     "exception": false,
     "start_time": "2023-02-19T04:10:53.564887",
     "status": "completed"
    },
    "tags": []
   },
   "source": [
    "In this example, you'll work with the XGBoost library.  **XGBoost** stands for **extreme gradient boosting**, which is an implementation of gradient boosting with several additional features focused on performance and speed.  (_Scikit-learn has another version of gradient boosting, but XGBoost has some technical advantages._) \n",
    "\n",
    "In the next code cell, we import the scikit-learn API for XGBoost ([`xgboost.XGBRegressor`](https://xgboost.readthedocs.io/en/latest/python/python_api.html#module-xgboost.sklearn)).  This allows us to build and fit a model just as we would in scikit-learn.  As you'll see in the output, the `XGBRegressor` class has many tunable parameters -- you'll learn about those soon!"
   ]
  },
  {
   "cell_type": "code",
   "execution_count": 2,
   "id": "12e8c68b",
   "metadata": {
    "_kg_hide-output": true,
    "execution": {
     "iopub.execute_input": "2023-02-19T04:10:53.580417Z",
     "iopub.status.busy": "2023-02-19T04:10:53.580028Z",
     "iopub.status.idle": "2023-02-19T04:10:54.311790Z",
     "shell.execute_reply": "2023-02-19T04:10:54.310664Z"
    },
    "papermill": {
     "duration": 0.740159,
     "end_time": "2023-02-19T04:10:54.314270",
     "exception": false,
     "start_time": "2023-02-19T04:10:53.574111",
     "status": "completed"
    },
    "tags": []
   },
   "outputs": [
    {
     "data": {
      "text/plain": [
       "XGBRegressor(base_score=0.5, booster='gbtree', callbacks=None,\n",
       "             colsample_bylevel=1, colsample_bynode=1, colsample_bytree=1,\n",
       "             early_stopping_rounds=None, enable_categorical=False,\n",
       "             eval_metric=None, gamma=0, gpu_id=-1, grow_policy='depthwise',\n",
       "             importance_type=None, interaction_constraints='',\n",
       "             learning_rate=0.300000012, max_bin=256, max_cat_to_onehot=4,\n",
       "             max_delta_step=0, max_depth=6, max_leaves=0, min_child_weight=1,\n",
       "             missing=nan, monotone_constraints='()', n_estimators=100, n_jobs=0,\n",
       "             num_parallel_tree=1, predictor='auto', random_state=0, reg_alpha=0,\n",
       "             reg_lambda=1, ...)"
      ]
     },
     "execution_count": 2,
     "metadata": {},
     "output_type": "execute_result"
    }
   ],
   "source": [
    "from xgboost import XGBRegressor\n",
    "\n",
    "my_model = XGBRegressor()\n",
    "my_model.fit(X_train, y_train)"
   ]
  },
  {
   "cell_type": "markdown",
   "id": "ae98c9f4",
   "metadata": {
    "papermill": {
     "duration": 0.00404,
     "end_time": "2023-02-19T04:10:54.322789",
     "exception": false,
     "start_time": "2023-02-19T04:10:54.318749",
     "status": "completed"
    },
    "tags": []
   },
   "source": [
    "We also make predictions and evaluate the model."
   ]
  },
  {
   "cell_type": "code",
   "execution_count": 3,
   "id": "024eb94a",
   "metadata": {
    "execution": {
     "iopub.execute_input": "2023-02-19T04:10:54.333900Z",
     "iopub.status.busy": "2023-02-19T04:10:54.332722Z",
     "iopub.status.idle": "2023-02-19T04:10:54.352603Z",
     "shell.execute_reply": "2023-02-19T04:10:54.351668Z"
    },
    "papermill": {
     "duration": 0.028408,
     "end_time": "2023-02-19T04:10:54.355444",
     "exception": false,
     "start_time": "2023-02-19T04:10:54.327036",
     "status": "completed"
    },
    "tags": []
   },
   "outputs": [
    {
     "name": "stdout",
     "output_type": "stream",
     "text": [
      "Mean Absolute Error: 232778.0152568115\n"
     ]
    }
   ],
   "source": [
    "from sklearn.metrics import mean_absolute_error\n",
    "\n",
    "predictions = my_model.predict(X_valid)\n",
    "print(\"Mean Absolute Error: \" + str(mean_absolute_error(predictions, y_valid)))"
   ]
  },
  {
   "cell_type": "markdown",
   "id": "345ff0e0",
   "metadata": {
    "papermill": {
     "duration": 0.0046,
     "end_time": "2023-02-19T04:10:54.365238",
     "exception": false,
     "start_time": "2023-02-19T04:10:54.360638",
     "status": "completed"
    },
    "tags": []
   },
   "source": [
    "# Parameter Tuning\n",
    "\n",
    "XGBoost has a few parameters that can dramatically affect accuracy and training speed.  The first parameters you should understand are:\n",
    "\n",
    "### `n_estimators`\n",
    "`n_estimators` specifies how many times to go through the modeling cycle described above.  It is equal to the number of models that we include in the ensemble. \n",
    "\n",
    "- Too _low_ a value causes _underfitting_, which leads to inaccurate predictions on both training data and test data. \n",
    "- Too _high_ a value causes _overfitting_, which causes accurate predictions on training data, but inaccurate predictions on test data (_which is what we care about_). \n",
    "\n",
    "Typical values range from 100-1000, though this depends a lot on the `learning_rate` parameter discussed below.\n",
    "\n",
    "Here is the code to set the number of models in the ensemble:"
   ]
  },
  {
   "cell_type": "code",
   "execution_count": 4,
   "id": "4ea35c27",
   "metadata": {
    "_kg_hide-output": true,
    "execution": {
     "iopub.execute_input": "2023-02-19T04:10:54.375546Z",
     "iopub.status.busy": "2023-02-19T04:10:54.375116Z",
     "iopub.status.idle": "2023-02-19T04:10:57.502063Z",
     "shell.execute_reply": "2023-02-19T04:10:57.501171Z"
    },
    "papermill": {
     "duration": 3.135168,
     "end_time": "2023-02-19T04:10:57.504773",
     "exception": false,
     "start_time": "2023-02-19T04:10:54.369605",
     "status": "completed"
    },
    "tags": []
   },
   "outputs": [
    {
     "data": {
      "text/plain": [
       "XGBRegressor(base_score=0.5, booster='gbtree', callbacks=None,\n",
       "             colsample_bylevel=1, colsample_bynode=1, colsample_bytree=1,\n",
       "             early_stopping_rounds=None, enable_categorical=False,\n",
       "             eval_metric=None, gamma=0, gpu_id=-1, grow_policy='depthwise',\n",
       "             importance_type=None, interaction_constraints='',\n",
       "             learning_rate=0.300000012, max_bin=256, max_cat_to_onehot=4,\n",
       "             max_delta_step=0, max_depth=6, max_leaves=0, min_child_weight=1,\n",
       "             missing=nan, monotone_constraints='()', n_estimators=500, n_jobs=0,\n",
       "             num_parallel_tree=1, predictor='auto', random_state=0, reg_alpha=0,\n",
       "             reg_lambda=1, ...)"
      ]
     },
     "execution_count": 4,
     "metadata": {},
     "output_type": "execute_result"
    }
   ],
   "source": [
    "my_model = XGBRegressor(n_estimators=500)\n",
    "my_model.fit(X_train, y_train)"
   ]
  },
  {
   "cell_type": "markdown",
   "id": "68f245bd",
   "metadata": {
    "papermill": {
     "duration": 0.004187,
     "end_time": "2023-02-19T04:10:57.513775",
     "exception": false,
     "start_time": "2023-02-19T04:10:57.509588",
     "status": "completed"
    },
    "tags": []
   },
   "source": [
    "### `early_stopping_rounds`\n",
    "\n",
    "`early_stopping_rounds` offers a way to automatically find the ideal value for `n_estimators`. Early stopping causes the model to stop iterating when the validation score stops improving, even if we aren't at the hard stop for `n_estimators`.  It's smart to set a high value for `n_estimators` and then use `early_stopping_rounds` to find the optimal time to stop iterating.\n",
    "\n",
    "Since random chance sometimes causes a single round where validation scores don't improve, you need to specify a number for how many rounds of straight deterioration to allow before stopping.  Setting `early_stopping_rounds=5` is a reasonable choice.  In this case, we stop after 5 straight rounds of deteriorating validation scores.\n",
    "\n",
    "When using `early_stopping_rounds`, you also need to set aside some data for calculating the validation scores - this is done by setting the `eval_set` parameter.  \n",
    "\n",
    "We can modify the example above to include early stopping:"
   ]
  },
  {
   "cell_type": "code",
   "execution_count": 5,
   "id": "86bd0451",
   "metadata": {
    "_kg_hide-output": true,
    "execution": {
     "iopub.execute_input": "2023-02-19T04:10:57.524641Z",
     "iopub.status.busy": "2023-02-19T04:10:57.523936Z",
     "iopub.status.idle": "2023-02-19T04:10:57.981984Z",
     "shell.execute_reply": "2023-02-19T04:10:57.980943Z"
    },
    "papermill": {
     "duration": 0.466555,
     "end_time": "2023-02-19T04:10:57.984772",
     "exception": false,
     "start_time": "2023-02-19T04:10:57.518217",
     "status": "completed"
    },
    "tags": []
   },
   "outputs": [
    {
     "data": {
      "text/plain": [
       "XGBRegressor(base_score=0.5, booster='gbtree', callbacks=None,\n",
       "             colsample_bylevel=1, colsample_bynode=1, colsample_bytree=1,\n",
       "             early_stopping_rounds=None, enable_categorical=False,\n",
       "             eval_metric=None, gamma=0, gpu_id=-1, grow_policy='depthwise',\n",
       "             importance_type=None, interaction_constraints='',\n",
       "             learning_rate=0.300000012, max_bin=256, max_cat_to_onehot=4,\n",
       "             max_delta_step=0, max_depth=6, max_leaves=0, min_child_weight=1,\n",
       "             missing=nan, monotone_constraints='()', n_estimators=500, n_jobs=0,\n",
       "             num_parallel_tree=1, predictor='auto', random_state=0, reg_alpha=0,\n",
       "             reg_lambda=1, ...)"
      ]
     },
     "execution_count": 5,
     "metadata": {},
     "output_type": "execute_result"
    }
   ],
   "source": [
    "my_model = XGBRegressor(n_estimators=500)\n",
    "my_model.fit(X_train, y_train, \n",
    "             early_stopping_rounds=5, \n",
    "             eval_set=[(X_valid, y_valid)],\n",
    "             verbose=False)"
   ]
  },
  {
   "cell_type": "markdown",
   "id": "17c7645c",
   "metadata": {
    "papermill": {
     "duration": 0.004328,
     "end_time": "2023-02-19T04:10:57.994165",
     "exception": false,
     "start_time": "2023-02-19T04:10:57.989837",
     "status": "completed"
    },
    "tags": []
   },
   "source": [
    "If you later want to fit a model with all of your data, set `n_estimators` to whatever value you found to be optimal when run with early stopping.\n",
    "\n",
    "### `learning_rate`\n",
    "\n",
    "Instead of getting predictions by simply adding up the predictions from each component model, we can multiply the predictions from each model by a small number (known as the **learning rate**) before adding them in.  \n",
    "\n",
    "This means each tree we add to the ensemble helps us less.  So, we can set a higher value for `n_estimators` without overfitting.  If we use early stopping, the appropriate number of trees will be determined automatically.\n",
    "\n",
    "In general, a small learning rate and large number of estimators will yield more accurate XGBoost models, though it will also take the model longer to train since it does more iterations through the cycle.  As default, XGBoost sets `learning_rate=0.1`.\n",
    "\n",
    "Modifying the example above to change the learning rate yields the following code:"
   ]
  },
  {
   "cell_type": "code",
   "execution_count": 6,
   "id": "cf785081",
   "metadata": {
    "_kg_hide-output": true,
    "execution": {
     "iopub.execute_input": "2023-02-19T04:10:58.005172Z",
     "iopub.status.busy": "2023-02-19T04:10:58.004750Z",
     "iopub.status.idle": "2023-02-19T04:10:59.693373Z",
     "shell.execute_reply": "2023-02-19T04:10:59.692433Z"
    },
    "papermill": {
     "duration": 1.6973,
     "end_time": "2023-02-19T04:10:59.696116",
     "exception": false,
     "start_time": "2023-02-19T04:10:57.998816",
     "status": "completed"
    },
    "tags": []
   },
   "outputs": [
    {
     "data": {
      "text/plain": [
       "XGBRegressor(base_score=0.5, booster='gbtree', callbacks=None,\n",
       "             colsample_bylevel=1, colsample_bynode=1, colsample_bytree=1,\n",
       "             early_stopping_rounds=None, enable_categorical=False,\n",
       "             eval_metric=None, gamma=0, gpu_id=-1, grow_policy='depthwise',\n",
       "             importance_type=None, interaction_constraints='',\n",
       "             learning_rate=0.05, max_bin=256, max_cat_to_onehot=4,\n",
       "             max_delta_step=0, max_depth=6, max_leaves=0, min_child_weight=1,\n",
       "             missing=nan, monotone_constraints='()', n_estimators=1000,\n",
       "             n_jobs=0, num_parallel_tree=1, predictor='auto', random_state=0,\n",
       "             reg_alpha=0, reg_lambda=1, ...)"
      ]
     },
     "execution_count": 6,
     "metadata": {},
     "output_type": "execute_result"
    }
   ],
   "source": [
    "my_model = XGBRegressor(n_estimators=1000, learning_rate=0.05)\n",
    "my_model.fit(X_train, y_train, \n",
    "             early_stopping_rounds=5, \n",
    "             eval_set=[(X_valid, y_valid)], \n",
    "             verbose=False)"
   ]
  },
  {
   "cell_type": "markdown",
   "id": "3f8e4ea5",
   "metadata": {
    "papermill": {
     "duration": 0.004461,
     "end_time": "2023-02-19T04:10:59.705517",
     "exception": false,
     "start_time": "2023-02-19T04:10:59.701056",
     "status": "completed"
    },
    "tags": []
   },
   "source": [
    "### `n_jobs`\n",
    "On larger datasets where runtime is a consideration, you can use parallelism to build your models faster.  It's common to set the parameter `n_jobs` equal to the number of cores on your machine.  On smaller datasets, this won't help. \n",
    "\n",
    "The resulting model won't be any better, so micro-optimizing for fitting time is typically nothing but a distraction. But, it's useful in large datasets where you would otherwise spend a long time waiting during the `fit` command.\n",
    "\n",
    "Here's the modified example:"
   ]
  },
  {
   "cell_type": "code",
   "execution_count": 7,
   "id": "f22ddfc4",
   "metadata": {
    "_kg_hide-output": true,
    "execution": {
     "iopub.execute_input": "2023-02-19T04:10:59.716748Z",
     "iopub.status.busy": "2023-02-19T04:10:59.716291Z",
     "iopub.status.idle": "2023-02-19T04:11:01.328777Z",
     "shell.execute_reply": "2023-02-19T04:11:01.327728Z"
    },
    "papermill": {
     "duration": 1.62143,
     "end_time": "2023-02-19T04:11:01.331698",
     "exception": false,
     "start_time": "2023-02-19T04:10:59.710268",
     "status": "completed"
    },
    "tags": []
   },
   "outputs": [
    {
     "data": {
      "text/plain": [
       "XGBRegressor(base_score=0.5, booster='gbtree', callbacks=None,\n",
       "             colsample_bylevel=1, colsample_bynode=1, colsample_bytree=1,\n",
       "             early_stopping_rounds=None, enable_categorical=False,\n",
       "             eval_metric=None, gamma=0, gpu_id=-1, grow_policy='depthwise',\n",
       "             importance_type=None, interaction_constraints='',\n",
       "             learning_rate=0.05, max_bin=256, max_cat_to_onehot=4,\n",
       "             max_delta_step=0, max_depth=6, max_leaves=0, min_child_weight=1,\n",
       "             missing=nan, monotone_constraints='()', n_estimators=1000,\n",
       "             n_jobs=4, num_parallel_tree=1, predictor='auto', random_state=0,\n",
       "             reg_alpha=0, reg_lambda=1, ...)"
      ]
     },
     "execution_count": 7,
     "metadata": {},
     "output_type": "execute_result"
    }
   ],
   "source": [
    "my_model = XGBRegressor(n_estimators=1000, learning_rate=0.05, n_jobs=4)\n",
    "my_model.fit(X_train, y_train, \n",
    "             early_stopping_rounds=5, \n",
    "             eval_set=[(X_valid, y_valid)], \n",
    "             verbose=False)"
   ]
  },
  {
   "cell_type": "markdown",
   "id": "f2098002",
   "metadata": {
    "papermill": {
     "duration": 0.004615,
     "end_time": "2023-02-19T04:11:01.341457",
     "exception": false,
     "start_time": "2023-02-19T04:11:01.336842",
     "status": "completed"
    },
    "tags": []
   },
   "source": [
    "# Conclusion\n",
    "\n",
    "[XGBoost](https://xgboost.readthedocs.io/en/latest/) is a leading software library for working with standard tabular data (the type of data you store in Pandas DataFrames, as opposed to more exotic types of data like images and videos).  With careful parameter tuning, you can train highly accurate models. "
   ]
  },
  {
   "cell_type": "markdown",
   "id": "5d80ba53",
   "metadata": {
    "papermill": {
     "duration": 0.004515,
     "end_time": "2023-02-19T04:11:01.350816",
     "exception": false,
     "start_time": "2023-02-19T04:11:01.346301",
     "status": "completed"
    },
    "tags": []
   },
   "source": [
    "---\n",
    "\n",
    "\n",
    "\n",
    "\n",
    "*[Kaggle Course Link](https://www.kaggle.com/learn/intermediate-machine-learning)*"
   ]
  }
 ],
 "metadata": {
  "kernelspec": {
   "display_name": "Python 3",
   "language": "python",
   "name": "python3"
  },
  "language_info": {
   "codemirror_mode": {
    "name": "ipython",
    "version": 3
   },
   "file_extension": ".py",
   "mimetype": "text/x-python",
   "name": "python",
   "nbconvert_exporter": "python",
   "pygments_lexer": "ipython3",
   "version": "3.7.12"
  },
  "papermill": {
   "default_parameters": {},
   "duration": 17.746434,
   "end_time": "2023-02-19T04:11:02.079233",
   "environment_variables": {},
   "exception": null,
   "input_path": "__notebook__.ipynb",
   "output_path": "__notebook__.ipynb",
   "parameters": {},
   "start_time": "2023-02-19T04:10:44.332799",
   "version": "2.3.4"
  }
 },
 "nbformat": 4,
 "nbformat_minor": 5
}
