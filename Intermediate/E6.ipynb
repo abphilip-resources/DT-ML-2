{
 "cells": [
  {
   "cell_type": "markdown",
   "id": "a52dd4b8",
   "metadata": {
    "papermill": {
     "duration": 0.006433,
     "end_time": "2023-02-25T03:54:27.131485",
     "exception": false,
     "start_time": "2023-02-25T03:54:27.125052",
     "status": "completed"
    },
    "tags": []
   },
   "source": [
    "**This notebook is an exercise in the [Intermediate Machine Learning](https://www.kaggle.com/learn/intermediate-machine-learning) course.  You can reference the tutorial at [this link](https://www.kaggle.com/alexisbcook/xgboost).**\n",
    "\n",
    "---\n"
   ]
  },
  {
   "cell_type": "markdown",
   "id": "c475c67d",
   "metadata": {
    "papermill": {
     "duration": 0.004859,
     "end_time": "2023-02-25T03:54:27.141692",
     "exception": false,
     "start_time": "2023-02-25T03:54:27.136833",
     "status": "completed"
    },
    "tags": []
   },
   "source": [
    "In this exercise, you will use your new knowledge to train a model with **gradient boosting**.\n",
    "\n",
    "# Setup\n",
    "\n",
    "The questions below will give you feedback on your work. Run the following cell to set up the feedback system."
   ]
  },
  {
   "cell_type": "code",
   "execution_count": 1,
   "id": "e7766019",
   "metadata": {
    "execution": {
     "iopub.execute_input": "2023-02-25T03:54:27.154542Z",
     "iopub.status.busy": "2023-02-25T03:54:27.153750Z",
     "iopub.status.idle": "2023-02-25T03:54:29.559808Z",
     "shell.execute_reply": "2023-02-25T03:54:29.556916Z"
    },
    "papermill": {
     "duration": 2.416577,
     "end_time": "2023-02-25T03:54:29.563533",
     "exception": false,
     "start_time": "2023-02-25T03:54:27.146956",
     "status": "completed"
    },
    "tags": []
   },
   "outputs": [
    {
     "name": "stdout",
     "output_type": "stream",
     "text": [
      "Setup Complete\n"
     ]
    }
   ],
   "source": [
    "import warnings\n",
    "warnings.filterwarnings(\"ignore\")\n",
    "\n",
    "# Set up code checking\n",
    "import os\n",
    "if not os.path.exists(\"../input/train.csv\"):\n",
    "    os.symlink(\"../input/home-data-for-ml-course/train.csv\", \"../input/train.csv\")  \n",
    "    os.symlink(\"../input/home-data-for-ml-course/test.csv\", \"../input/test.csv\") \n",
    "from learntools.core import binder\n",
    "binder.bind(globals())\n",
    "from learntools.ml_intermediate.ex6 import *\n",
    "print(\"Setup Complete\")"
   ]
  },
  {
   "cell_type": "markdown",
   "id": "e19ee5a9",
   "metadata": {
    "papermill": {
     "duration": 0.004997,
     "end_time": "2023-02-25T03:54:29.574972",
     "exception": false,
     "start_time": "2023-02-25T03:54:29.569975",
     "status": "completed"
    },
    "tags": []
   },
   "source": [
    "You will work with the [Housing Prices Competition for Kaggle Learn Users](https://www.kaggle.com/c/home-data-for-ml-course) dataset from the previous exercise. \n",
    "\n",
    "![Ames Housing dataset image](https://i.imgur.com/lTJVG4e.png)\n",
    "\n",
    "Run the next code cell without changes to load the training and validation sets in `X_train`, `X_valid`, `y_train`, and `y_valid`.  The test set is loaded in `X_test`."
   ]
  },
  {
   "cell_type": "code",
   "execution_count": 2,
   "id": "2a4df41f",
   "metadata": {
    "execution": {
     "iopub.execute_input": "2023-02-25T03:54:29.588073Z",
     "iopub.status.busy": "2023-02-25T03:54:29.586807Z",
     "iopub.status.idle": "2023-02-25T03:54:29.775495Z",
     "shell.execute_reply": "2023-02-25T03:54:29.774355Z"
    },
    "papermill": {
     "duration": 0.198267,
     "end_time": "2023-02-25T03:54:29.778382",
     "exception": false,
     "start_time": "2023-02-25T03:54:29.580115",
     "status": "completed"
    },
    "tags": []
   },
   "outputs": [],
   "source": [
    "import pandas as pd\n",
    "from sklearn.model_selection import train_test_split\n",
    "\n",
    "# Read the data\n",
    "X = pd.read_csv('../input/train.csv', index_col='Id')\n",
    "X_test_full = pd.read_csv('../input/test.csv', index_col='Id')\n",
    "\n",
    "# Remove rows with missing target, separate target from predictors\n",
    "X.dropna(axis=0, subset=['SalePrice'], inplace=True)\n",
    "y = X.SalePrice              \n",
    "X.drop(['SalePrice'], axis=1, inplace=True)\n",
    "\n",
    "# Break off validation set from training data\n",
    "X_train_full, X_valid_full, y_train, y_valid = train_test_split(X, y, train_size=0.8, test_size=0.2,\n",
    "                                                                random_state=0)\n",
    "\n",
    "# \"Cardinality\" means the number of unique values in a column\n",
    "# Select categorical columns with relatively low cardinality (convenient but arbitrary)\n",
    "low_cardinality_cols = [cname for cname in X_train_full.columns if X_train_full[cname].nunique() < 10 and \n",
    "                        X_train_full[cname].dtype == \"object\"]\n",
    "\n",
    "# Select numeric columns\n",
    "numeric_cols = [cname for cname in X_train_full.columns if X_train_full[cname].dtype in ['int64', 'float64']]\n",
    "\n",
    "# Keep selected columns only\n",
    "my_cols = low_cardinality_cols + numeric_cols\n",
    "X_train = X_train_full[my_cols].copy()\n",
    "X_valid = X_valid_full[my_cols].copy()\n",
    "X_test = X_test_full[my_cols].copy()\n",
    "\n",
    "# One-hot encode the data (to shorten the code, we use pandas)\n",
    "X_train = pd.get_dummies(X_train)\n",
    "X_valid = pd.get_dummies(X_valid)\n",
    "X_test = pd.get_dummies(X_test)\n",
    "X_train, X_valid = X_train.align(X_valid, join='left', axis=1)\n",
    "X_train, X_test = X_train.align(X_test, join='left', axis=1)"
   ]
  },
  {
   "cell_type": "markdown",
   "id": "406676d4",
   "metadata": {
    "papermill": {
     "duration": 0.005167,
     "end_time": "2023-02-25T03:54:29.788942",
     "exception": false,
     "start_time": "2023-02-25T03:54:29.783775",
     "status": "completed"
    },
    "tags": []
   },
   "source": [
    "# Step 1: Build model\n",
    "\n",
    "### Part A\n",
    "\n",
    "In this step, you'll build and train your first model with gradient boosting.\n",
    "\n",
    "- Begin by setting `my_model_1` to an XGBoost model.  Use the [XGBRegressor](https://xgboost.readthedocs.io/en/latest/python/python_api.html#xgboost.XGBRegressor) class, and set the random seed to 0 (`random_state=0`).  **Leave all other parameters as default.**\n",
    "- Then, fit the model to the training data in `X_train` and `y_train`."
   ]
  },
  {
   "cell_type": "code",
   "execution_count": 3,
   "id": "57404ed4",
   "metadata": {
    "execution": {
     "iopub.execute_input": "2023-02-25T03:54:29.801583Z",
     "iopub.status.busy": "2023-02-25T03:54:29.800667Z",
     "iopub.status.idle": "2023-02-25T03:54:30.768151Z",
     "shell.execute_reply": "2023-02-25T03:54:30.767295Z"
    },
    "papermill": {
     "duration": 0.976539,
     "end_time": "2023-02-25T03:54:30.770688",
     "exception": false,
     "start_time": "2023-02-25T03:54:29.794149",
     "status": "completed"
    },
    "tags": []
   },
   "outputs": [
    {
     "data": {
      "application/javascript": [
       "parent.postMessage({\"jupyterEvent\": \"custom.exercise_interaction\", \"data\": {\"outcomeType\": 1, \"valueTowardsCompletion\": 0.5, \"interactionType\": 1, \"questionType\": 2, \"questionId\": \"1.1_Model1A\", \"learnToolsVersion\": \"0.3.4\", \"failureMessage\": \"\", \"exceptionClass\": \"\", \"trace\": \"\"}}, \"*\")"
      ],
      "text/plain": [
       "<IPython.core.display.Javascript object>"
      ]
     },
     "metadata": {},
     "output_type": "display_data"
    },
    {
     "data": {
      "text/markdown": [
       "<span style=\"color:#33cc33\">Correct</span>"
      ],
      "text/plain": [
       "Correct"
      ]
     },
     "metadata": {},
     "output_type": "display_data"
    }
   ],
   "source": [
    "from xgboost import XGBRegressor\n",
    "\n",
    "# Define the model\n",
    "my_model_1 = XGBRegressor(random_state=0)\n",
    "\n",
    "# Fit the model\n",
    "my_model_1.fit(X_train, y_train)\n",
    "\n",
    "# Check your answer\n",
    "step_1.a.check()"
   ]
  },
  {
   "cell_type": "code",
   "execution_count": 4,
   "id": "d7355705",
   "metadata": {
    "execution": {
     "iopub.execute_input": "2023-02-25T03:54:30.784924Z",
     "iopub.status.busy": "2023-02-25T03:54:30.783560Z",
     "iopub.status.idle": "2023-02-25T03:54:30.789463Z",
     "shell.execute_reply": "2023-02-25T03:54:30.788261Z"
    },
    "papermill": {
     "duration": 0.015671,
     "end_time": "2023-02-25T03:54:30.792339",
     "exception": false,
     "start_time": "2023-02-25T03:54:30.776668",
     "status": "completed"
    },
    "tags": []
   },
   "outputs": [],
   "source": [
    "# Lines below will give you a hint or solution code\n",
    "# step_1.a.hint()\n",
    "# step_1.a.solution()"
   ]
  },
  {
   "cell_type": "markdown",
   "id": "134a1fc8",
   "metadata": {
    "papermill": {
     "duration": 0.005191,
     "end_time": "2023-02-25T03:54:30.803013",
     "exception": false,
     "start_time": "2023-02-25T03:54:30.797822",
     "status": "completed"
    },
    "tags": []
   },
   "source": [
    "### Part B\n",
    "\n",
    "Set `predictions_1` to the model's predictions for the validation data.  Recall that the validation features are stored in `X_valid`."
   ]
  },
  {
   "cell_type": "code",
   "execution_count": 5,
   "id": "c697686f",
   "metadata": {
    "execution": {
     "iopub.execute_input": "2023-02-25T03:54:30.816524Z",
     "iopub.status.busy": "2023-02-25T03:54:30.815390Z",
     "iopub.status.idle": "2023-02-25T03:54:30.858249Z",
     "shell.execute_reply": "2023-02-25T03:54:30.857062Z"
    },
    "papermill": {
     "duration": 0.052682,
     "end_time": "2023-02-25T03:54:30.861234",
     "exception": false,
     "start_time": "2023-02-25T03:54:30.808552",
     "status": "completed"
    },
    "tags": []
   },
   "outputs": [
    {
     "data": {
      "application/javascript": [
       "parent.postMessage({\"jupyterEvent\": \"custom.exercise_interaction\", \"data\": {\"outcomeType\": 1, \"valueTowardsCompletion\": 0.5, \"interactionType\": 1, \"questionType\": 2, \"questionId\": \"1.2_Model1B\", \"learnToolsVersion\": \"0.3.4\", \"failureMessage\": \"\", \"exceptionClass\": \"\", \"trace\": \"\"}}, \"*\")"
      ],
      "text/plain": [
       "<IPython.core.display.Javascript object>"
      ]
     },
     "metadata": {},
     "output_type": "display_data"
    },
    {
     "data": {
      "text/markdown": [
       "<span style=\"color:#33cc33\">Correct</span>"
      ],
      "text/plain": [
       "Correct"
      ]
     },
     "metadata": {},
     "output_type": "display_data"
    }
   ],
   "source": [
    "from sklearn.metrics import mean_absolute_error\n",
    "\n",
    "# Get predictions\n",
    "predictions_1 = my_model_1.predict(X_valid)\n",
    "\n",
    "# Check your answer\n",
    "step_1.b.check()"
   ]
  },
  {
   "cell_type": "code",
   "execution_count": 6,
   "id": "2ab2378e",
   "metadata": {
    "execution": {
     "iopub.execute_input": "2023-02-25T03:54:30.876257Z",
     "iopub.status.busy": "2023-02-25T03:54:30.875385Z",
     "iopub.status.idle": "2023-02-25T03:54:30.879759Z",
     "shell.execute_reply": "2023-02-25T03:54:30.878846Z"
    },
    "papermill": {
     "duration": 0.013783,
     "end_time": "2023-02-25T03:54:30.881964",
     "exception": false,
     "start_time": "2023-02-25T03:54:30.868181",
     "status": "completed"
    },
    "tags": []
   },
   "outputs": [],
   "source": [
    "# Lines below will give you a hint or solution code\n",
    "# step_1.b.hint()\n",
    "# step_1.b.solution()"
   ]
  },
  {
   "cell_type": "markdown",
   "id": "ba75deeb",
   "metadata": {
    "papermill": {
     "duration": 0.005361,
     "end_time": "2023-02-25T03:54:30.893105",
     "exception": false,
     "start_time": "2023-02-25T03:54:30.887744",
     "status": "completed"
    },
    "tags": []
   },
   "source": [
    "### Part C\n",
    "\n",
    "Finally, use the `mean_absolute_error()` function to calculate the mean absolute error (MAE) corresponding to the predictions for the validation set.  Recall that the labels for the validation data are stored in `y_valid`."
   ]
  },
  {
   "cell_type": "code",
   "execution_count": 7,
   "id": "685c29ec",
   "metadata": {
    "execution": {
     "iopub.execute_input": "2023-02-25T03:54:30.908194Z",
     "iopub.status.busy": "2023-02-25T03:54:30.906950Z",
     "iopub.status.idle": "2023-02-25T03:54:30.919295Z",
     "shell.execute_reply": "2023-02-25T03:54:30.918120Z"
    },
    "papermill": {
     "duration": 0.022937,
     "end_time": "2023-02-25T03:54:30.921702",
     "exception": false,
     "start_time": "2023-02-25T03:54:30.898765",
     "status": "completed"
    },
    "tags": []
   },
   "outputs": [
    {
     "name": "stdout",
     "output_type": "stream",
     "text": [
      "Mean Absolute Error: 17662.736729452055\n"
     ]
    },
    {
     "data": {
      "application/javascript": [
       "parent.postMessage({\"jupyterEvent\": \"custom.exercise_interaction\", \"data\": {\"outcomeType\": 1, \"valueTowardsCompletion\": 0.5, \"interactionType\": 1, \"questionType\": 2, \"questionId\": \"1.3_Model1C\", \"learnToolsVersion\": \"0.3.4\", \"failureMessage\": \"\", \"exceptionClass\": \"\", \"trace\": \"\"}}, \"*\")"
      ],
      "text/plain": [
       "<IPython.core.display.Javascript object>"
      ]
     },
     "metadata": {},
     "output_type": "display_data"
    },
    {
     "data": {
      "text/markdown": [
       "<span style=\"color:#33cc33\">Correct</span>"
      ],
      "text/plain": [
       "Correct"
      ]
     },
     "metadata": {},
     "output_type": "display_data"
    }
   ],
   "source": [
    "# Calculate MAE\n",
    "mae_1 = mean_absolute_error(predictions_1, y_valid)\n",
    "\n",
    "# Uncomment to print MAE\n",
    "print(\"Mean Absolute Error:\" , mae_1)\n",
    "\n",
    "# Check your answer\n",
    "step_1.c.check()"
   ]
  },
  {
   "cell_type": "code",
   "execution_count": 8,
   "id": "2b063268",
   "metadata": {
    "execution": {
     "iopub.execute_input": "2023-02-25T03:54:30.935834Z",
     "iopub.status.busy": "2023-02-25T03:54:30.935167Z",
     "iopub.status.idle": "2023-02-25T03:54:30.939334Z",
     "shell.execute_reply": "2023-02-25T03:54:30.938198Z"
    },
    "papermill": {
     "duration": 0.013917,
     "end_time": "2023-02-25T03:54:30.941674",
     "exception": false,
     "start_time": "2023-02-25T03:54:30.927757",
     "status": "completed"
    },
    "tags": []
   },
   "outputs": [],
   "source": [
    "# Lines below will give you a hint or solution code\n",
    "# step_1.c.hint()\n",
    "# step_1.c.solution()"
   ]
  },
  {
   "cell_type": "markdown",
   "id": "2bcb5a91",
   "metadata": {
    "papermill": {
     "duration": 0.005738,
     "end_time": "2023-02-25T03:54:30.953474",
     "exception": false,
     "start_time": "2023-02-25T03:54:30.947736",
     "status": "completed"
    },
    "tags": []
   },
   "source": [
    "# Step 2: Improve the model\n",
    "\n",
    "Now that you've trained a default model as baseline, it's time to tinker with the parameters, to see if you can get better performance!\n",
    "- Begin by setting `my_model_2` to an XGBoost model, using the [XGBRegressor](https://xgboost.readthedocs.io/en/latest/python/python_api.html#xgboost.XGBRegressor) class.  Use what you learned in the previous tutorial to figure out how to change the default parameters (like `n_estimators` and `learning_rate`) to get better results.\n",
    "- Then, fit the model to the training data in `X_train` and `y_train`.\n",
    "- Set `predictions_2` to the model's predictions for the validation data.  Recall that the validation features are stored in `X_valid`.\n",
    "- Finally, use the `mean_absolute_error()` function to calculate the mean absolute error (MAE) corresponding to the predictions on the validation set.  Recall that the labels for the validation data are stored in `y_valid`.\n",
    "\n",
    "In order for this step to be marked correct, your model in `my_model_2` must attain lower MAE than the model in `my_model_1`. "
   ]
  },
  {
   "cell_type": "code",
   "execution_count": 9,
   "id": "7c234ada",
   "metadata": {
    "execution": {
     "iopub.execute_input": "2023-02-25T03:54:30.968062Z",
     "iopub.status.busy": "2023-02-25T03:54:30.967247Z",
     "iopub.status.idle": "2023-02-25T03:54:40.313407Z",
     "shell.execute_reply": "2023-02-25T03:54:40.312158Z"
    },
    "papermill": {
     "duration": 9.356482,
     "end_time": "2023-02-25T03:54:40.316067",
     "exception": false,
     "start_time": "2023-02-25T03:54:30.959585",
     "status": "completed"
    },
    "tags": []
   },
   "outputs": [
    {
     "name": "stdout",
     "output_type": "stream",
     "text": [
      "Mean Absolute Error: 16688.691513270547\n"
     ]
    },
    {
     "data": {
      "application/javascript": [
       "parent.postMessage({\"jupyterEvent\": \"custom.exercise_interaction\", \"data\": {\"outcomeType\": 1, \"valueTowardsCompletion\": 0.5, \"interactionType\": 1, \"questionType\": 2, \"questionId\": \"2_Model2\", \"learnToolsVersion\": \"0.3.4\", \"failureMessage\": \"\", \"exceptionClass\": \"\", \"trace\": \"\"}}, \"*\")"
      ],
      "text/plain": [
       "<IPython.core.display.Javascript object>"
      ]
     },
     "metadata": {},
     "output_type": "display_data"
    },
    {
     "data": {
      "text/markdown": [
       "<span style=\"color:#33cc33\">Correct</span>"
      ],
      "text/plain": [
       "Correct"
      ]
     },
     "metadata": {},
     "output_type": "display_data"
    }
   ],
   "source": [
    "# Define the model\n",
    "my_model_2 = XGBRegressor(n_estimators=1000, learning_rate=0.05)\n",
    "\n",
    "# Fit the model\n",
    "my_model_2.fit(X_train, y_train)\n",
    "\n",
    "# Get predictions\n",
    "predictions_2 = my_model_2.predict(X_valid)\n",
    "\n",
    "# Calculate MAE\n",
    "mae_2 = mean_absolute_error(predictions_2, y_valid)\n",
    "\n",
    "# Uncomment to print MAE\n",
    "print(\"Mean Absolute Error:\" , mae_2)\n",
    "\n",
    "# Check your answer\n",
    "step_2.check()"
   ]
  },
  {
   "cell_type": "code",
   "execution_count": 10,
   "id": "a328d020",
   "metadata": {
    "execution": {
     "iopub.execute_input": "2023-02-25T03:54:40.332138Z",
     "iopub.status.busy": "2023-02-25T03:54:40.331703Z",
     "iopub.status.idle": "2023-02-25T03:54:40.336636Z",
     "shell.execute_reply": "2023-02-25T03:54:40.335356Z"
    },
    "papermill": {
     "duration": 0.015597,
     "end_time": "2023-02-25T03:54:40.339297",
     "exception": false,
     "start_time": "2023-02-25T03:54:40.323700",
     "status": "completed"
    },
    "tags": []
   },
   "outputs": [],
   "source": [
    "# Lines below will give you a hint or solution code\n",
    "# step_2.hint()\n",
    "# step_2.solution()"
   ]
  },
  {
   "cell_type": "markdown",
   "id": "72184c98",
   "metadata": {
    "papermill": {
     "duration": 0.006059,
     "end_time": "2023-02-25T03:54:40.351820",
     "exception": false,
     "start_time": "2023-02-25T03:54:40.345761",
     "status": "completed"
    },
    "tags": []
   },
   "source": [
    "# Step 3: Break the model\n",
    "\n",
    "In this step, you will create a model that performs worse than the original model in Step 1.  This will help you to develop your intuition for how to set parameters.  You might even find that you accidentally get better performance, which is ultimately a nice problem to have and a valuable learning experience!\n",
    "- Begin by setting `my_model_3` to an XGBoost model, using the [XGBRegressor](https://xgboost.readthedocs.io/en/latest/python/python_api.html#xgboost.XGBRegressor) class.  Use what you learned in the previous tutorial to figure out how to change the default parameters (like `n_estimators` and `learning_rate`) to design a model to get high MAE.\n",
    "- Then, fit the model to the training data in `X_train` and `y_train`.\n",
    "- Set `predictions_3` to the model's predictions for the validation data.  Recall that the validation features are stored in `X_valid`.\n",
    "- Finally, use the `mean_absolute_error()` function to calculate the mean absolute error (MAE) corresponding to the predictions on the validation set.  Recall that the labels for the validation data are stored in `y_valid`.\n",
    "\n",
    "In order for this step to be marked correct, your model in `my_model_3` must attain higher MAE than the model in `my_model_1`. "
   ]
  },
  {
   "cell_type": "code",
   "execution_count": 11,
   "id": "f8e22b66",
   "metadata": {
    "execution": {
     "iopub.execute_input": "2023-02-25T03:54:40.366215Z",
     "iopub.status.busy": "2023-02-25T03:54:40.365764Z",
     "iopub.status.idle": "2023-02-25T03:54:40.436278Z",
     "shell.execute_reply": "2023-02-25T03:54:40.434773Z"
    },
    "papermill": {
     "duration": 0.081828,
     "end_time": "2023-02-25T03:54:40.439898",
     "exception": false,
     "start_time": "2023-02-25T03:54:40.358070",
     "status": "completed"
    },
    "tags": []
   },
   "outputs": [
    {
     "name": "stdout",
     "output_type": "stream",
     "text": [
      "Mean Absolute Error: 127895.0828807256\n"
     ]
    },
    {
     "data": {
      "application/javascript": [
       "parent.postMessage({\"jupyterEvent\": \"custom.exercise_interaction\", \"data\": {\"outcomeType\": 1, \"valueTowardsCompletion\": 0.5, \"interactionType\": 1, \"questionType\": 2, \"questionId\": \"3_Model3\", \"learnToolsVersion\": \"0.3.4\", \"failureMessage\": \"\", \"exceptionClass\": \"\", \"trace\": \"\"}}, \"*\")"
      ],
      "text/plain": [
       "<IPython.core.display.Javascript object>"
      ]
     },
     "metadata": {},
     "output_type": "display_data"
    },
    {
     "data": {
      "text/markdown": [
       "<span style=\"color:#33cc33\">Correct</span>"
      ],
      "text/plain": [
       "Correct"
      ]
     },
     "metadata": {},
     "output_type": "display_data"
    }
   ],
   "source": [
    "# Define the model\n",
    "my_model_3 = XGBRegressor(n_estimators=1)\n",
    "\n",
    "# Fit the model\n",
    "my_model_3.fit(X_train, y_train)\n",
    "\n",
    "# Get predictions\n",
    "predictions_3 = my_model_3.predict(X_valid)\n",
    "\n",
    "# Calculate MAE\n",
    "mae_3 = mean_absolute_error(predictions_3, y_valid)\n",
    "\n",
    "# Uncomment to print MAE\n",
    "print(\"Mean Absolute Error:\" , mae_3)\n",
    "\n",
    "# Check your answer\n",
    "step_3.check()"
   ]
  },
  {
   "cell_type": "code",
   "execution_count": 12,
   "id": "c764cae7",
   "metadata": {
    "execution": {
     "iopub.execute_input": "2023-02-25T03:54:40.456524Z",
     "iopub.status.busy": "2023-02-25T03:54:40.456022Z",
     "iopub.status.idle": "2023-02-25T03:54:40.461691Z",
     "shell.execute_reply": "2023-02-25T03:54:40.460359Z"
    },
    "papermill": {
     "duration": 0.016438,
     "end_time": "2023-02-25T03:54:40.464330",
     "exception": false,
     "start_time": "2023-02-25T03:54:40.447892",
     "status": "completed"
    },
    "tags": []
   },
   "outputs": [],
   "source": [
    "# Lines below will give you a hint or solution code\n",
    "# step_3.hint()\n",
    "# step_3.solution()"
   ]
  },
  {
   "cell_type": "markdown",
   "id": "3a322d04",
   "metadata": {
    "papermill": {
     "duration": 0.006178,
     "end_time": "2023-02-25T03:54:40.477297",
     "exception": false,
     "start_time": "2023-02-25T03:54:40.471119",
     "status": "completed"
    },
    "tags": []
   },
   "source": [
    "---\n",
    "\n",
    "\n",
    "\n",
    "\n",
    "**Allen**"
   ]
  }
 ],
 "metadata": {
  "kernelspec": {
   "display_name": "Python 3",
   "language": "python",
   "name": "python3"
  },
  "language_info": {
   "codemirror_mode": {
    "name": "ipython",
    "version": 3
   },
   "file_extension": ".py",
   "mimetype": "text/x-python",
   "name": "python",
   "nbconvert_exporter": "python",
   "pygments_lexer": "ipython3",
   "version": "3.7.12"
  },
  "papermill": {
   "default_parameters": {},
   "duration": 24.680868,
   "end_time": "2023-02-25T03:54:41.307352",
   "environment_variables": {},
   "exception": null,
   "input_path": "__notebook__.ipynb",
   "output_path": "__notebook__.ipynb",
   "parameters": {},
   "start_time": "2023-02-25T03:54:16.626484",
   "version": "2.4.0"
  }
 },
 "nbformat": 4,
 "nbformat_minor": 5
}
