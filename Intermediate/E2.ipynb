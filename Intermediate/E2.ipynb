{
 "cells": [
  {
   "cell_type": "markdown",
   "id": "df01ec82",
   "metadata": {
    "papermill": {
     "duration": 0.010043,
     "end_time": "2023-02-21T04:34:15.745039",
     "exception": false,
     "start_time": "2023-02-21T04:34:15.734996",
     "status": "completed"
    },
    "tags": []
   },
   "source": [
    "**This notebook is an exercise in the [Intermediate Machine Learning](https://www.kaggle.com/learn/intermediate-machine-learning) course.  You can reference the tutorial at [this link](https://www.kaggle.com/alexisbcook/missing-values).**\n",
    "\n",
    "---\n"
   ]
  },
  {
   "cell_type": "markdown",
   "id": "9f939bae",
   "metadata": {
    "papermill": {
     "duration": 0.009201,
     "end_time": "2023-02-21T04:34:15.763707",
     "exception": false,
     "start_time": "2023-02-21T04:34:15.754506",
     "status": "completed"
    },
    "tags": []
   },
   "source": [
    "Now it's your turn to test your new knowledge of **missing values** handling. You'll probably find it makes a big difference.\n",
    "\n",
    "# Setup\n",
    "\n",
    "The questions will give you feedback on your work. Run the following cell to set up the feedback system."
   ]
  },
  {
   "cell_type": "code",
   "execution_count": 1,
   "id": "37fcec77",
   "metadata": {
    "execution": {
     "iopub.execute_input": "2023-02-21T04:34:15.782952Z",
     "iopub.status.busy": "2023-02-21T04:34:15.782517Z",
     "iopub.status.idle": "2023-02-21T04:34:15.833644Z",
     "shell.execute_reply": "2023-02-21T04:34:15.832354Z"
    },
    "papermill": {
     "duration": 0.064303,
     "end_time": "2023-02-21T04:34:15.836715",
     "exception": false,
     "start_time": "2023-02-21T04:34:15.772412",
     "status": "completed"
    },
    "tags": []
   },
   "outputs": [
    {
     "name": "stdout",
     "output_type": "stream",
     "text": [
      "Setup Complete\n"
     ]
    }
   ],
   "source": [
    "import warnings\n",
    "warnings.filterwarnings(\"ignore\")\n",
    "\n",
    "# Set up code checking\n",
    "import os\n",
    "if not os.path.exists(\"../input/train.csv\"):\n",
    "    os.symlink(\"../input/home-data-for-ml-course/train.csv\", \"../input/train.csv\")  \n",
    "    os.symlink(\"../input/home-data-for-ml-course/test.csv\", \"../input/test.csv\") \n",
    "from learntools.core import binder\n",
    "binder.bind(globals())\n",
    "from learntools.ml_intermediate.ex2 import *\n",
    "print(\"Setup Complete\")"
   ]
  },
  {
   "cell_type": "markdown",
   "id": "7fe276da",
   "metadata": {
    "papermill": {
     "duration": 0.008891,
     "end_time": "2023-02-21T04:34:15.855321",
     "exception": false,
     "start_time": "2023-02-21T04:34:15.846430",
     "status": "completed"
    },
    "tags": []
   },
   "source": [
    "In this exercise, you will work with data from the [Housing Prices Competition for Kaggle Learn Users](https://www.kaggle.com/c/home-data-for-ml-course). \n",
    "\n",
    "![Ames Housing dataset image](https://i.imgur.com/lTJVG4e.png)\n",
    "\n",
    "Run the next code cell without changes to load the training and validation sets in `X_train`, `X_valid`, `y_train`, and `y_valid`.  The test set is loaded in `X_test`."
   ]
  },
  {
   "cell_type": "code",
   "execution_count": 2,
   "id": "85ddb917",
   "metadata": {
    "execution": {
     "iopub.execute_input": "2023-02-21T04:34:15.875720Z",
     "iopub.status.busy": "2023-02-21T04:34:15.875342Z",
     "iopub.status.idle": "2023-02-21T04:34:16.922934Z",
     "shell.execute_reply": "2023-02-21T04:34:16.921736Z"
    },
    "papermill": {
     "duration": 1.06121,
     "end_time": "2023-02-21T04:34:16.925783",
     "exception": false,
     "start_time": "2023-02-21T04:34:15.864573",
     "status": "completed"
    },
    "tags": []
   },
   "outputs": [],
   "source": [
    "import pandas as pd\n",
    "from sklearn.model_selection import train_test_split\n",
    "\n",
    "# Read the data\n",
    "X_full = pd.read_csv('../input/train.csv', index_col='Id')\n",
    "X_test_full = pd.read_csv('../input/test.csv', index_col='Id')\n",
    "\n",
    "# Remove rows with missing target, separate target from predictors\n",
    "X_full.dropna(axis=0, subset=['SalePrice'], inplace=True)\n",
    "y = X_full.SalePrice\n",
    "X_full.drop(['SalePrice'], axis=1, inplace=True)\n",
    "\n",
    "# To keep things simple, we'll use only numerical predictors\n",
    "X = X_full.select_dtypes(exclude=['object'])\n",
    "X_test = X_test_full.select_dtypes(exclude=['object'])\n",
    "\n",
    "# Break off validation set from training data\n",
    "X_train, X_valid, y_train, y_valid = train_test_split(X, y, train_size=0.8, test_size=0.2,\n",
    "                                                      random_state=0)"
   ]
  },
  {
   "cell_type": "markdown",
   "id": "933ae977",
   "metadata": {
    "papermill": {
     "duration": 0.008324,
     "end_time": "2023-02-21T04:34:16.942967",
     "exception": false,
     "start_time": "2023-02-21T04:34:16.934643",
     "status": "completed"
    },
    "tags": []
   },
   "source": [
    "Use the next code cell to print the first five rows of the data."
   ]
  },
  {
   "cell_type": "code",
   "execution_count": 3,
   "id": "a4e8dc1c",
   "metadata": {
    "execution": {
     "iopub.execute_input": "2023-02-21T04:34:16.962204Z",
     "iopub.status.busy": "2023-02-21T04:34:16.961157Z",
     "iopub.status.idle": "2023-02-21T04:34:16.987638Z",
     "shell.execute_reply": "2023-02-21T04:34:16.986839Z"
    },
    "papermill": {
     "duration": 0.038267,
     "end_time": "2023-02-21T04:34:16.989801",
     "exception": false,
     "start_time": "2023-02-21T04:34:16.951534",
     "status": "completed"
    },
    "tags": []
   },
   "outputs": [
    {
     "data": {
      "text/html": [
       "<div>\n",
       "<style scoped>\n",
       "    .dataframe tbody tr th:only-of-type {\n",
       "        vertical-align: middle;\n",
       "    }\n",
       "\n",
       "    .dataframe tbody tr th {\n",
       "        vertical-align: top;\n",
       "    }\n",
       "\n",
       "    .dataframe thead th {\n",
       "        text-align: right;\n",
       "    }\n",
       "</style>\n",
       "<table border=\"1\" class=\"dataframe\">\n",
       "  <thead>\n",
       "    <tr style=\"text-align: right;\">\n",
       "      <th></th>\n",
       "      <th>MSSubClass</th>\n",
       "      <th>LotFrontage</th>\n",
       "      <th>LotArea</th>\n",
       "      <th>OverallQual</th>\n",
       "      <th>OverallCond</th>\n",
       "      <th>YearBuilt</th>\n",
       "      <th>YearRemodAdd</th>\n",
       "      <th>MasVnrArea</th>\n",
       "      <th>BsmtFinSF1</th>\n",
       "      <th>BsmtFinSF2</th>\n",
       "      <th>...</th>\n",
       "      <th>GarageArea</th>\n",
       "      <th>WoodDeckSF</th>\n",
       "      <th>OpenPorchSF</th>\n",
       "      <th>EnclosedPorch</th>\n",
       "      <th>3SsnPorch</th>\n",
       "      <th>ScreenPorch</th>\n",
       "      <th>PoolArea</th>\n",
       "      <th>MiscVal</th>\n",
       "      <th>MoSold</th>\n",
       "      <th>YrSold</th>\n",
       "    </tr>\n",
       "    <tr>\n",
       "      <th>Id</th>\n",
       "      <th></th>\n",
       "      <th></th>\n",
       "      <th></th>\n",
       "      <th></th>\n",
       "      <th></th>\n",
       "      <th></th>\n",
       "      <th></th>\n",
       "      <th></th>\n",
       "      <th></th>\n",
       "      <th></th>\n",
       "      <th></th>\n",
       "      <th></th>\n",
       "      <th></th>\n",
       "      <th></th>\n",
       "      <th></th>\n",
       "      <th></th>\n",
       "      <th></th>\n",
       "      <th></th>\n",
       "      <th></th>\n",
       "      <th></th>\n",
       "      <th></th>\n",
       "    </tr>\n",
       "  </thead>\n",
       "  <tbody>\n",
       "    <tr>\n",
       "      <th>619</th>\n",
       "      <td>20</td>\n",
       "      <td>90.0</td>\n",
       "      <td>11694</td>\n",
       "      <td>9</td>\n",
       "      <td>5</td>\n",
       "      <td>2007</td>\n",
       "      <td>2007</td>\n",
       "      <td>452.0</td>\n",
       "      <td>48</td>\n",
       "      <td>0</td>\n",
       "      <td>...</td>\n",
       "      <td>774</td>\n",
       "      <td>0</td>\n",
       "      <td>108</td>\n",
       "      <td>0</td>\n",
       "      <td>0</td>\n",
       "      <td>260</td>\n",
       "      <td>0</td>\n",
       "      <td>0</td>\n",
       "      <td>7</td>\n",
       "      <td>2007</td>\n",
       "    </tr>\n",
       "    <tr>\n",
       "      <th>871</th>\n",
       "      <td>20</td>\n",
       "      <td>60.0</td>\n",
       "      <td>6600</td>\n",
       "      <td>5</td>\n",
       "      <td>5</td>\n",
       "      <td>1962</td>\n",
       "      <td>1962</td>\n",
       "      <td>0.0</td>\n",
       "      <td>0</td>\n",
       "      <td>0</td>\n",
       "      <td>...</td>\n",
       "      <td>308</td>\n",
       "      <td>0</td>\n",
       "      <td>0</td>\n",
       "      <td>0</td>\n",
       "      <td>0</td>\n",
       "      <td>0</td>\n",
       "      <td>0</td>\n",
       "      <td>0</td>\n",
       "      <td>8</td>\n",
       "      <td>2009</td>\n",
       "    </tr>\n",
       "    <tr>\n",
       "      <th>93</th>\n",
       "      <td>30</td>\n",
       "      <td>80.0</td>\n",
       "      <td>13360</td>\n",
       "      <td>5</td>\n",
       "      <td>7</td>\n",
       "      <td>1921</td>\n",
       "      <td>2006</td>\n",
       "      <td>0.0</td>\n",
       "      <td>713</td>\n",
       "      <td>0</td>\n",
       "      <td>...</td>\n",
       "      <td>432</td>\n",
       "      <td>0</td>\n",
       "      <td>0</td>\n",
       "      <td>44</td>\n",
       "      <td>0</td>\n",
       "      <td>0</td>\n",
       "      <td>0</td>\n",
       "      <td>0</td>\n",
       "      <td>8</td>\n",
       "      <td>2009</td>\n",
       "    </tr>\n",
       "    <tr>\n",
       "      <th>818</th>\n",
       "      <td>20</td>\n",
       "      <td>NaN</td>\n",
       "      <td>13265</td>\n",
       "      <td>8</td>\n",
       "      <td>5</td>\n",
       "      <td>2002</td>\n",
       "      <td>2002</td>\n",
       "      <td>148.0</td>\n",
       "      <td>1218</td>\n",
       "      <td>0</td>\n",
       "      <td>...</td>\n",
       "      <td>857</td>\n",
       "      <td>150</td>\n",
       "      <td>59</td>\n",
       "      <td>0</td>\n",
       "      <td>0</td>\n",
       "      <td>0</td>\n",
       "      <td>0</td>\n",
       "      <td>0</td>\n",
       "      <td>7</td>\n",
       "      <td>2008</td>\n",
       "    </tr>\n",
       "    <tr>\n",
       "      <th>303</th>\n",
       "      <td>20</td>\n",
       "      <td>118.0</td>\n",
       "      <td>13704</td>\n",
       "      <td>7</td>\n",
       "      <td>5</td>\n",
       "      <td>2001</td>\n",
       "      <td>2002</td>\n",
       "      <td>150.0</td>\n",
       "      <td>0</td>\n",
       "      <td>0</td>\n",
       "      <td>...</td>\n",
       "      <td>843</td>\n",
       "      <td>468</td>\n",
       "      <td>81</td>\n",
       "      <td>0</td>\n",
       "      <td>0</td>\n",
       "      <td>0</td>\n",
       "      <td>0</td>\n",
       "      <td>0</td>\n",
       "      <td>1</td>\n",
       "      <td>2006</td>\n",
       "    </tr>\n",
       "  </tbody>\n",
       "</table>\n",
       "<p>5 rows × 36 columns</p>\n",
       "</div>"
      ],
      "text/plain": [
       "     MSSubClass  LotFrontage  LotArea  OverallQual  OverallCond  YearBuilt  \\\n",
       "Id                                                                           \n",
       "619          20         90.0    11694            9            5       2007   \n",
       "871          20         60.0     6600            5            5       1962   \n",
       "93           30         80.0    13360            5            7       1921   \n",
       "818          20          NaN    13265            8            5       2002   \n",
       "303          20        118.0    13704            7            5       2001   \n",
       "\n",
       "     YearRemodAdd  MasVnrArea  BsmtFinSF1  BsmtFinSF2  ...  GarageArea  \\\n",
       "Id                                                     ...               \n",
       "619          2007       452.0          48           0  ...         774   \n",
       "871          1962         0.0           0           0  ...         308   \n",
       "93           2006         0.0         713           0  ...         432   \n",
       "818          2002       148.0        1218           0  ...         857   \n",
       "303          2002       150.0           0           0  ...         843   \n",
       "\n",
       "     WoodDeckSF  OpenPorchSF  EnclosedPorch  3SsnPorch  ScreenPorch  PoolArea  \\\n",
       "Id                                                                              \n",
       "619           0          108              0          0          260         0   \n",
       "871           0            0              0          0            0         0   \n",
       "93            0            0             44          0            0         0   \n",
       "818         150           59              0          0            0         0   \n",
       "303         468           81              0          0            0         0   \n",
       "\n",
       "     MiscVal  MoSold  YrSold  \n",
       "Id                            \n",
       "619        0       7    2007  \n",
       "871        0       8    2009  \n",
       "93         0       8    2009  \n",
       "818        0       7    2008  \n",
       "303        0       1    2006  \n",
       "\n",
       "[5 rows x 36 columns]"
      ]
     },
     "execution_count": 3,
     "metadata": {},
     "output_type": "execute_result"
    }
   ],
   "source": [
    "X_train.head()"
   ]
  },
  {
   "cell_type": "markdown",
   "id": "7f372a45",
   "metadata": {
    "papermill": {
     "duration": 0.00893,
     "end_time": "2023-02-21T04:34:17.008423",
     "exception": false,
     "start_time": "2023-02-21T04:34:16.999493",
     "status": "completed"
    },
    "tags": []
   },
   "source": [
    "You can already see a few missing values in the first several rows.  In the next step, you'll obtain a more comprehensive understanding of the missing values in the dataset.\n",
    "\n",
    "# Step 1: Preliminary investigation\n",
    "\n",
    "Run the code cell below without changes."
   ]
  },
  {
   "cell_type": "code",
   "execution_count": 4,
   "id": "1c28a613",
   "metadata": {
    "execution": {
     "iopub.execute_input": "2023-02-21T04:34:17.028685Z",
     "iopub.status.busy": "2023-02-21T04:34:17.027547Z",
     "iopub.status.idle": "2023-02-21T04:34:17.036966Z",
     "shell.execute_reply": "2023-02-21T04:34:17.035678Z"
    },
    "papermill": {
     "duration": 0.022135,
     "end_time": "2023-02-21T04:34:17.039518",
     "exception": false,
     "start_time": "2023-02-21T04:34:17.017383",
     "status": "completed"
    },
    "tags": []
   },
   "outputs": [
    {
     "name": "stdout",
     "output_type": "stream",
     "text": [
      "(1168, 36)\n",
      "LotFrontage    212\n",
      "MasVnrArea       6\n",
      "GarageYrBlt     58\n",
      "dtype: int64\n"
     ]
    }
   ],
   "source": [
    "# Shape of training data (num_rows, num_columns)\n",
    "print(X_train.shape)\n",
    "\n",
    "# Number of missing values in each column of training data\n",
    "missing_val_count_by_column = (X_train.isnull().sum())\n",
    "print(missing_val_count_by_column[missing_val_count_by_column > 0])"
   ]
  },
  {
   "cell_type": "markdown",
   "id": "1fd040f3",
   "metadata": {
    "papermill": {
     "duration": 0.00871,
     "end_time": "2023-02-21T04:34:17.057574",
     "exception": false,
     "start_time": "2023-02-21T04:34:17.048864",
     "status": "completed"
    },
    "tags": []
   },
   "source": [
    "### Part A\n",
    "\n",
    "Use the above output to answer the questions below."
   ]
  },
  {
   "cell_type": "code",
   "execution_count": 5,
   "id": "8b33b70f",
   "metadata": {
    "execution": {
     "iopub.execute_input": "2023-02-21T04:34:17.077870Z",
     "iopub.status.busy": "2023-02-21T04:34:17.077438Z",
     "iopub.status.idle": "2023-02-21T04:34:17.086248Z",
     "shell.execute_reply": "2023-02-21T04:34:17.085120Z"
    },
    "papermill": {
     "duration": 0.021821,
     "end_time": "2023-02-21T04:34:17.088591",
     "exception": false,
     "start_time": "2023-02-21T04:34:17.066770",
     "status": "completed"
    },
    "tags": []
   },
   "outputs": [
    {
     "data": {
      "application/javascript": [
       "parent.postMessage({\"jupyterEvent\": \"custom.exercise_interaction\", \"data\": {\"outcomeType\": 1, \"valueTowardsCompletion\": 1.0, \"interactionType\": 1, \"questionType\": 1, \"questionId\": \"1.1_InvestigateEquality\", \"learnToolsVersion\": \"0.3.4\", \"failureMessage\": \"\", \"exceptionClass\": \"\", \"trace\": \"\"}}, \"*\")"
      ],
      "text/plain": [
       "<IPython.core.display.Javascript object>"
      ]
     },
     "metadata": {},
     "output_type": "display_data"
    },
    {
     "data": {
      "text/markdown": [
       "<span style=\"color:#33cc33\">Correct</span>"
      ],
      "text/plain": [
       "Correct"
      ]
     },
     "metadata": {},
     "output_type": "display_data"
    }
   ],
   "source": [
    "# Fill in the line below: How many rows are in the training data?\n",
    "num_rows = 1168\n",
    "\n",
    "# Fill in the line below: How many columns in the training data\n",
    "# have missing values?\n",
    "num_cols_with_missing = 3\n",
    "\n",
    "# Fill in the line below: How many missing entries are contained in \n",
    "# all of the training data?\n",
    "tot_missing = 212+6+58\n",
    "\n",
    "# Check your answers\n",
    "step_1.a.check()"
   ]
  },
  {
   "cell_type": "code",
   "execution_count": 6,
   "id": "f742fcde",
   "metadata": {
    "execution": {
     "iopub.execute_input": "2023-02-21T04:34:17.109044Z",
     "iopub.status.busy": "2023-02-21T04:34:17.108611Z",
     "iopub.status.idle": "2023-02-21T04:34:17.112914Z",
     "shell.execute_reply": "2023-02-21T04:34:17.111872Z"
    },
    "papermill": {
     "duration": 0.01694,
     "end_time": "2023-02-21T04:34:17.115012",
     "exception": false,
     "start_time": "2023-02-21T04:34:17.098072",
     "status": "completed"
    },
    "tags": []
   },
   "outputs": [],
   "source": [
    "# Lines below will give you a hint or solution code\n",
    "# step_1.a.hint()\n",
    "# step_1.a.solution()"
   ]
  },
  {
   "cell_type": "markdown",
   "id": "0df5bfc8",
   "metadata": {
    "papermill": {
     "duration": 0.008919,
     "end_time": "2023-02-21T04:34:17.133606",
     "exception": false,
     "start_time": "2023-02-21T04:34:17.124687",
     "status": "completed"
    },
    "tags": []
   },
   "source": [
    "### Part B\n",
    "Considering your answers above, what do you think is likely the best approach to dealing with the missing values?"
   ]
  },
  {
   "cell_type": "code",
   "execution_count": 7,
   "id": "155c2122",
   "metadata": {
    "execution": {
     "iopub.execute_input": "2023-02-21T04:34:17.154772Z",
     "iopub.status.busy": "2023-02-21T04:34:17.153658Z",
     "iopub.status.idle": "2023-02-21T04:34:17.163037Z",
     "shell.execute_reply": "2023-02-21T04:34:17.161929Z"
    },
    "papermill": {
     "duration": 0.022395,
     "end_time": "2023-02-21T04:34:17.165214",
     "exception": false,
     "start_time": "2023-02-21T04:34:17.142819",
     "status": "completed"
    },
    "tags": []
   },
   "outputs": [
    {
     "data": {
      "application/javascript": [
       "parent.postMessage({\"jupyterEvent\": \"custom.exercise_interaction\", \"data\": {\"outcomeType\": 1, \"valueTowardsCompletion\": 1.0, \"interactionType\": 1, \"questionType\": 4, \"questionId\": \"1.2_InvestigateThought\", \"learnToolsVersion\": \"0.3.4\", \"failureMessage\": \"\", \"exceptionClass\": \"\", \"trace\": \"\"}}, \"*\")"
      ],
      "text/plain": [
       "<IPython.core.display.Javascript object>"
      ]
     },
     "metadata": {},
     "output_type": "display_data"
    },
    {
     "data": {
      "text/markdown": [
       "<span style=\"color:#33cc33\">Correct:</span> \n",
       "\n",
       "Since there are relatively few missing entries in the data (the column with the greatest percentage of missing values is missing less than 20% of its entries), we can expect that dropping columns is unlikely to yield good results.  This is because we'd be throwing away a lot of valuable data, and so imputation will likely perform better."
      ],
      "text/plain": [
       "Correct: \n",
       "\n",
       "Since there are relatively few missing entries in the data (the column with the greatest percentage of missing values is missing less than 20% of its entries), we can expect that dropping columns is unlikely to yield good results.  This is because we'd be throwing away a lot of valuable data, and so imputation will likely perform better."
      ]
     },
     "metadata": {},
     "output_type": "display_data"
    }
   ],
   "source": [
    "# Check your answer (Run this code cell to receive credit!)\n",
    "step_1.b.check()"
   ]
  },
  {
   "cell_type": "code",
   "execution_count": 8,
   "id": "1387dc0d",
   "metadata": {
    "execution": {
     "iopub.execute_input": "2023-02-21T04:34:17.186236Z",
     "iopub.status.busy": "2023-02-21T04:34:17.185852Z",
     "iopub.status.idle": "2023-02-21T04:34:17.190736Z",
     "shell.execute_reply": "2023-02-21T04:34:17.189522Z"
    },
    "papermill": {
     "duration": 0.018342,
     "end_time": "2023-02-21T04:34:17.193230",
     "exception": false,
     "start_time": "2023-02-21T04:34:17.174888",
     "status": "completed"
    },
    "tags": []
   },
   "outputs": [],
   "source": [
    "# step_1.b.hint()"
   ]
  },
  {
   "cell_type": "markdown",
   "id": "3c5cbafd",
   "metadata": {
    "papermill": {
     "duration": 0.009306,
     "end_time": "2023-02-21T04:34:17.212575",
     "exception": false,
     "start_time": "2023-02-21T04:34:17.203269",
     "status": "completed"
    },
    "tags": []
   },
   "source": [
    "To compare different approaches to dealing with missing values, you'll use the same `score_dataset()` function from the tutorial.  This function reports the [mean absolute error](https://en.wikipedia.org/wiki/Mean_absolute_error) (MAE) from a random forest model."
   ]
  },
  {
   "cell_type": "code",
   "execution_count": 9,
   "id": "3aff454a",
   "metadata": {
    "execution": {
     "iopub.execute_input": "2023-02-21T04:34:17.234249Z",
     "iopub.status.busy": "2023-02-21T04:34:17.233872Z",
     "iopub.status.idle": "2023-02-21T04:34:17.446975Z",
     "shell.execute_reply": "2023-02-21T04:34:17.445783Z"
    },
    "papermill": {
     "duration": 0.227898,
     "end_time": "2023-02-21T04:34:17.449957",
     "exception": false,
     "start_time": "2023-02-21T04:34:17.222059",
     "status": "completed"
    },
    "tags": []
   },
   "outputs": [],
   "source": [
    "from sklearn.ensemble import RandomForestRegressor\n",
    "from sklearn.metrics import mean_absolute_error\n",
    "\n",
    "# Function for comparing different approaches\n",
    "def score_dataset(X_train, X_valid, y_train, y_valid):\n",
    "    model = RandomForestRegressor(n_estimators=100, random_state=0)\n",
    "    model.fit(X_train, y_train)\n",
    "    preds = model.predict(X_valid)\n",
    "    return mean_absolute_error(y_valid, preds)"
   ]
  },
  {
   "cell_type": "markdown",
   "id": "6f0b9dbe",
   "metadata": {
    "papermill": {
     "duration": 0.00923,
     "end_time": "2023-02-21T04:34:17.469488",
     "exception": false,
     "start_time": "2023-02-21T04:34:17.460258",
     "status": "completed"
    },
    "tags": []
   },
   "source": [
    "# Step 2: Drop columns with missing values\n",
    "\n",
    "In this step, you'll preprocess the data in `X_train` and `X_valid` to remove columns with missing values.  Set the preprocessed DataFrames to `reduced_X_train` and `reduced_X_valid`, respectively.  "
   ]
  },
  {
   "cell_type": "code",
   "execution_count": 10,
   "id": "52c1a32a",
   "metadata": {
    "execution": {
     "iopub.execute_input": "2023-02-21T04:34:17.489821Z",
     "iopub.status.busy": "2023-02-21T04:34:17.489429Z",
     "iopub.status.idle": "2023-02-21T04:34:17.520217Z",
     "shell.execute_reply": "2023-02-21T04:34:17.519151Z"
    },
    "papermill": {
     "duration": 0.043643,
     "end_time": "2023-02-21T04:34:17.522548",
     "exception": false,
     "start_time": "2023-02-21T04:34:17.478905",
     "status": "completed"
    },
    "tags": []
   },
   "outputs": [
    {
     "data": {
      "application/javascript": [
       "parent.postMessage({\"jupyterEvent\": \"custom.exercise_interaction\", \"data\": {\"outcomeType\": 1, \"valueTowardsCompletion\": 1.0, \"interactionType\": 1, \"questionType\": 2, \"questionId\": \"2_DropMissing\", \"learnToolsVersion\": \"0.3.4\", \"failureMessage\": \"\", \"exceptionClass\": \"\", \"trace\": \"\"}}, \"*\")"
      ],
      "text/plain": [
       "<IPython.core.display.Javascript object>"
      ]
     },
     "metadata": {},
     "output_type": "display_data"
    },
    {
     "data": {
      "text/markdown": [
       "<span style=\"color:#33cc33\">Correct</span>"
      ],
      "text/plain": [
       "Correct"
      ]
     },
     "metadata": {},
     "output_type": "display_data"
    }
   ],
   "source": [
    "# Fill in the line below: get names of columns with missing values\n",
    "cols_with_missing = [col for col in X_train.columns if X_train[col].isnull().any()]\n",
    "\n",
    "# Fill in the lines below: drop columns in training and validation data\n",
    "reduced_X_train = X_train.drop(cols_with_missing, axis=1)\n",
    "reduced_X_valid = X_valid.drop(cols_with_missing, axis=1)\n",
    "\n",
    "# Check your answers\n",
    "step_2.check()"
   ]
  },
  {
   "cell_type": "code",
   "execution_count": 11,
   "id": "b892ae33",
   "metadata": {
    "execution": {
     "iopub.execute_input": "2023-02-21T04:34:17.543750Z",
     "iopub.status.busy": "2023-02-21T04:34:17.543331Z",
     "iopub.status.idle": "2023-02-21T04:34:17.548440Z",
     "shell.execute_reply": "2023-02-21T04:34:17.547395Z"
    },
    "papermill": {
     "duration": 0.018593,
     "end_time": "2023-02-21T04:34:17.550897",
     "exception": false,
     "start_time": "2023-02-21T04:34:17.532304",
     "status": "completed"
    },
    "tags": []
   },
   "outputs": [],
   "source": [
    "# Lines below will give you a hint or solution code\n",
    "# step_2.hint()\n",
    "# step_2.solution()"
   ]
  },
  {
   "cell_type": "markdown",
   "id": "9ab86461",
   "metadata": {
    "papermill": {
     "duration": 0.00944,
     "end_time": "2023-02-21T04:34:17.570195",
     "exception": false,
     "start_time": "2023-02-21T04:34:17.560755",
     "status": "completed"
    },
    "tags": []
   },
   "source": [
    "Run the next code cell without changes to obtain the MAE for this approach."
   ]
  },
  {
   "cell_type": "code",
   "execution_count": 12,
   "id": "776e5ad5",
   "metadata": {
    "execution": {
     "iopub.execute_input": "2023-02-21T04:34:17.592026Z",
     "iopub.status.busy": "2023-02-21T04:34:17.591636Z",
     "iopub.status.idle": "2023-02-21T04:34:18.705911Z",
     "shell.execute_reply": "2023-02-21T04:34:18.704689Z"
    },
    "papermill": {
     "duration": 1.128031,
     "end_time": "2023-02-21T04:34:18.708472",
     "exception": false,
     "start_time": "2023-02-21T04:34:17.580441",
     "status": "completed"
    },
    "tags": []
   },
   "outputs": [
    {
     "name": "stdout",
     "output_type": "stream",
     "text": [
      "MAE (Drop columns with missing values):\n",
      "17837.82570776256\n"
     ]
    }
   ],
   "source": [
    "print(\"MAE (Drop columns with missing values):\")\n",
    "print(score_dataset(reduced_X_train, reduced_X_valid, y_train, y_valid))"
   ]
  },
  {
   "cell_type": "markdown",
   "id": "ae13430f",
   "metadata": {
    "papermill": {
     "duration": 0.009679,
     "end_time": "2023-02-21T04:34:18.728290",
     "exception": false,
     "start_time": "2023-02-21T04:34:18.718611",
     "status": "completed"
    },
    "tags": []
   },
   "source": [
    "# Step 3: Imputation\n",
    "\n",
    "### Part A\n",
    "\n",
    "Use the next code cell to impute missing values with the mean value along each column.  Set the preprocessed DataFrames to `imputed_X_train` and `imputed_X_valid`.  Make sure that the column names match those in `X_train` and `X_valid`."
   ]
  },
  {
   "cell_type": "code",
   "execution_count": 13,
   "id": "b248977b",
   "metadata": {
    "execution": {
     "iopub.execute_input": "2023-02-21T04:34:18.750470Z",
     "iopub.status.busy": "2023-02-21T04:34:18.749767Z",
     "iopub.status.idle": "2023-02-21T04:34:18.784427Z",
     "shell.execute_reply": "2023-02-21T04:34:18.783473Z"
    },
    "papermill": {
     "duration": 0.048502,
     "end_time": "2023-02-21T04:34:18.786778",
     "exception": false,
     "start_time": "2023-02-21T04:34:18.738276",
     "status": "completed"
    },
    "tags": []
   },
   "outputs": [
    {
     "data": {
      "application/javascript": [
       "parent.postMessage({\"jupyterEvent\": \"custom.exercise_interaction\", \"data\": {\"outcomeType\": 1, \"valueTowardsCompletion\": 1.0, \"interactionType\": 1, \"questionType\": 2, \"questionId\": \"3.1_ImputeCode\", \"learnToolsVersion\": \"0.3.4\", \"failureMessage\": \"\", \"exceptionClass\": \"\", \"trace\": \"\"}}, \"*\")"
      ],
      "text/plain": [
       "<IPython.core.display.Javascript object>"
      ]
     },
     "metadata": {},
     "output_type": "display_data"
    },
    {
     "data": {
      "text/markdown": [
       "<span style=\"color:#33cc33\">Correct</span>"
      ],
      "text/plain": [
       "Correct"
      ]
     },
     "metadata": {},
     "output_type": "display_data"
    }
   ],
   "source": [
    "from sklearn.impute import SimpleImputer\n",
    "\n",
    "# Fill in the lines below: imputation\n",
    "my_imputer = SimpleImputer()\n",
    "imputed_X_train = pd.DataFrame(my_imputer.fit_transform(X_train))\n",
    "imputed_X_valid = pd.DataFrame(my_imputer.transform(X_valid))\n",
    "\n",
    "# Fill in the lines below: imputation removed column names; put them back\n",
    "imputed_X_train.columns = X_train.columns\n",
    "imputed_X_valid.columns = X_valid.columns\n",
    "\n",
    "# Check your answers\n",
    "step_3.a.check()"
   ]
  },
  {
   "cell_type": "code",
   "execution_count": 14,
   "id": "3cfdd7f2",
   "metadata": {
    "execution": {
     "iopub.execute_input": "2023-02-21T04:34:18.808906Z",
     "iopub.status.busy": "2023-02-21T04:34:18.808523Z",
     "iopub.status.idle": "2023-02-21T04:34:18.813599Z",
     "shell.execute_reply": "2023-02-21T04:34:18.812240Z"
    },
    "papermill": {
     "duration": 0.018937,
     "end_time": "2023-02-21T04:34:18.815963",
     "exception": false,
     "start_time": "2023-02-21T04:34:18.797026",
     "status": "completed"
    },
    "tags": []
   },
   "outputs": [],
   "source": [
    "# Lines below will give you a hint or solution code\n",
    "# step_3.a.hint()\n",
    "# step_3.a.solution()"
   ]
  },
  {
   "cell_type": "markdown",
   "id": "18516ee4",
   "metadata": {
    "papermill": {
     "duration": 0.009999,
     "end_time": "2023-02-21T04:34:18.836734",
     "exception": false,
     "start_time": "2023-02-21T04:34:18.826735",
     "status": "completed"
    },
    "tags": []
   },
   "source": [
    "Run the next code cell without changes to obtain the MAE for this approach."
   ]
  },
  {
   "cell_type": "code",
   "execution_count": 15,
   "id": "a24df0dc",
   "metadata": {
    "execution": {
     "iopub.execute_input": "2023-02-21T04:34:18.858705Z",
     "iopub.status.busy": "2023-02-21T04:34:18.858278Z",
     "iopub.status.idle": "2023-02-21T04:34:20.114858Z",
     "shell.execute_reply": "2023-02-21T04:34:20.113569Z"
    },
    "papermill": {
     "duration": 1.270618,
     "end_time": "2023-02-21T04:34:20.117495",
     "exception": false,
     "start_time": "2023-02-21T04:34:18.846877",
     "status": "completed"
    },
    "tags": []
   },
   "outputs": [
    {
     "name": "stdout",
     "output_type": "stream",
     "text": [
      "MAE (Imputation):\n",
      "18062.894611872147\n"
     ]
    }
   ],
   "source": [
    "print(\"MAE (Imputation):\")\n",
    "print(score_dataset(imputed_X_train, imputed_X_valid, y_train, y_valid))"
   ]
  },
  {
   "cell_type": "markdown",
   "id": "b1fa4098",
   "metadata": {
    "papermill": {
     "duration": 0.009911,
     "end_time": "2023-02-21T04:34:20.138224",
     "exception": false,
     "start_time": "2023-02-21T04:34:20.128313",
     "status": "completed"
    },
    "tags": []
   },
   "source": [
    "### Part B\n",
    "\n",
    "Compare the MAE from each approach.  Does anything surprise you about the results?  Why do you think one approach performed better than the other?"
   ]
  },
  {
   "cell_type": "code",
   "execution_count": 16,
   "id": "1eb7ca04",
   "metadata": {
    "execution": {
     "iopub.execute_input": "2023-02-21T04:34:20.160417Z",
     "iopub.status.busy": "2023-02-21T04:34:20.160016Z",
     "iopub.status.idle": "2023-02-21T04:34:20.168635Z",
     "shell.execute_reply": "2023-02-21T04:34:20.167599Z"
    },
    "papermill": {
     "duration": 0.022449,
     "end_time": "2023-02-21T04:34:20.170878",
     "exception": false,
     "start_time": "2023-02-21T04:34:20.148429",
     "status": "completed"
    },
    "tags": []
   },
   "outputs": [
    {
     "data": {
      "application/javascript": [
       "parent.postMessage({\"jupyterEvent\": \"custom.exercise_interaction\", \"data\": {\"outcomeType\": 1, \"valueTowardsCompletion\": 1.0, \"interactionType\": 1, \"questionType\": 4, \"questionId\": \"3.2_ImputeThought\", \"learnToolsVersion\": \"0.3.4\", \"failureMessage\": \"\", \"exceptionClass\": \"\", \"trace\": \"\"}}, \"*\")"
      ],
      "text/plain": [
       "<IPython.core.display.Javascript object>"
      ]
     },
     "metadata": {},
     "output_type": "display_data"
    },
    {
     "data": {
      "text/markdown": [
       "<span style=\"color:#33cc33\">Correct:</span> \n",
       "\n",
       "Given that thre are so few missing values in the dataset, we'd expect imputation to perform better than dropping columns entirely.  However, we see that dropping columns performs slightly better!  While this can probably partially be attributed to noise in the dataset, another potential explanation is that the imputation method is not a great match to this dataset.  That is, maybe instead of filling in the mean value, it makes more sense to set every missing value to a value of 0, to fill in the most frequently encountered value, or to use some other method.  For instance, consider the `GarageYrBlt` column (which indicates the year that the garage was built).  It's likely that in some cases, a missing value could indicate a house that does not have a garage.  Does it make more sense to fill in the median value along each column in this case?  Or could we get better results by filling in the minimum value along each column?  It's not quite clear what's best in this case, but perhaps we can rule out some options immediately - for instance, setting missing values in this column to 0 is likely to yield horrible results!"
      ],
      "text/plain": [
       "Correct: \n",
       "\n",
       "Given that thre are so few missing values in the dataset, we'd expect imputation to perform better than dropping columns entirely.  However, we see that dropping columns performs slightly better!  While this can probably partially be attributed to noise in the dataset, another potential explanation is that the imputation method is not a great match to this dataset.  That is, maybe instead of filling in the mean value, it makes more sense to set every missing value to a value of 0, to fill in the most frequently encountered value, or to use some other method.  For instance, consider the `GarageYrBlt` column (which indicates the year that the garage was built).  It's likely that in some cases, a missing value could indicate a house that does not have a garage.  Does it make more sense to fill in the median value along each column in this case?  Or could we get better results by filling in the minimum value along each column?  It's not quite clear what's best in this case, but perhaps we can rule out some options immediately - for instance, setting missing values in this column to 0 is likely to yield horrible results!"
      ]
     },
     "metadata": {},
     "output_type": "display_data"
    }
   ],
   "source": [
    "# Check your answer (Run this code cell to receive credit!)\n",
    "step_3.b.check()"
   ]
  },
  {
   "cell_type": "code",
   "execution_count": 17,
   "id": "3ede2d94",
   "metadata": {
    "execution": {
     "iopub.execute_input": "2023-02-21T04:34:20.194617Z",
     "iopub.status.busy": "2023-02-21T04:34:20.194168Z",
     "iopub.status.idle": "2023-02-21T04:34:20.199108Z",
     "shell.execute_reply": "2023-02-21T04:34:20.197909Z"
    },
    "papermill": {
     "duration": 0.019192,
     "end_time": "2023-02-21T04:34:20.201229",
     "exception": false,
     "start_time": "2023-02-21T04:34:20.182037",
     "status": "completed"
    },
    "tags": []
   },
   "outputs": [],
   "source": [
    "# step_3.b.hint()"
   ]
  },
  {
   "cell_type": "markdown",
   "id": "94cb0073",
   "metadata": {
    "papermill": {
     "duration": 0.010249,
     "end_time": "2023-02-21T04:34:20.222287",
     "exception": false,
     "start_time": "2023-02-21T04:34:20.212038",
     "status": "completed"
    },
    "tags": []
   },
   "source": [
    "# Step 4: Generate test predictions\n",
    "\n",
    "In this final step, you'll use any approach of your choosing to deal with missing values.  Once you've preprocessed the training and validation features, you'll train and evaluate a random forest model.  Then, you'll preprocess the test data before generating predictions that can be submitted to the competition!\n",
    "\n",
    "### Part A\n",
    "\n",
    "Use the next code cell to preprocess the training and validation data.  Set the preprocessed DataFrames to `final_X_train` and `final_X_valid`.  **You can use any approach of your choosing here!**  in order for this step to be marked as correct, you need only ensure:\n",
    "- the preprocessed DataFrames have the same number of columns,\n",
    "- the preprocessed DataFrames have no missing values, \n",
    "- `final_X_train` and `y_train` have the same number of rows, and\n",
    "- `final_X_valid` and `y_valid` have the same number of rows."
   ]
  },
  {
   "cell_type": "code",
   "execution_count": 18,
   "id": "800cff81",
   "metadata": {
    "execution": {
     "iopub.execute_input": "2023-02-21T04:34:20.245227Z",
     "iopub.status.busy": "2023-02-21T04:34:20.244852Z",
     "iopub.status.idle": "2023-02-21T04:34:20.277238Z",
     "shell.execute_reply": "2023-02-21T04:34:20.276066Z"
    },
    "papermill": {
     "duration": 0.046793,
     "end_time": "2023-02-21T04:34:20.279730",
     "exception": false,
     "start_time": "2023-02-21T04:34:20.232937",
     "status": "completed"
    },
    "tags": []
   },
   "outputs": [
    {
     "data": {
      "application/javascript": [
       "parent.postMessage({\"jupyterEvent\": \"custom.exercise_interaction\", \"data\": {\"outcomeType\": 1, \"valueTowardsCompletion\": 1.0, \"interactionType\": 1, \"questionType\": 2, \"questionId\": \"4.1_PredsCodeA\", \"learnToolsVersion\": \"0.3.4\", \"failureMessage\": \"\", \"exceptionClass\": \"\", \"trace\": \"\"}}, \"*\")"
      ],
      "text/plain": [
       "<IPython.core.display.Javascript object>"
      ]
     },
     "metadata": {},
     "output_type": "display_data"
    },
    {
     "data": {
      "text/markdown": [
       "<span style=\"color:#33cc33\">Correct</span>"
      ],
      "text/plain": [
       "Correct"
      ]
     },
     "metadata": {},
     "output_type": "display_data"
    }
   ],
   "source": [
    "final_imputer = SimpleImputer(strategy='median')\n",
    "final_X_train = pd.DataFrame(final_imputer.fit_transform(X_train))\n",
    "final_X_valid = pd.DataFrame(final_imputer.transform(X_valid))\n",
    "\n",
    "# Preprocessed training and validation features\n",
    "final_X_train.columns = X_train.columns\n",
    "final_X_valid.columns = X_valid.columns\n",
    "\n",
    "# Check your answers\n",
    "step_4.a.check()"
   ]
  },
  {
   "cell_type": "code",
   "execution_count": 19,
   "id": "b15aaf97",
   "metadata": {
    "execution": {
     "iopub.execute_input": "2023-02-21T04:34:20.303137Z",
     "iopub.status.busy": "2023-02-21T04:34:20.302738Z",
     "iopub.status.idle": "2023-02-21T04:34:20.306645Z",
     "shell.execute_reply": "2023-02-21T04:34:20.305721Z"
    },
    "papermill": {
     "duration": 0.018108,
     "end_time": "2023-02-21T04:34:20.308707",
     "exception": false,
     "start_time": "2023-02-21T04:34:20.290599",
     "status": "completed"
    },
    "tags": []
   },
   "outputs": [],
   "source": [
    "# Lines below will give you a hint or solution code\n",
    "# step_4.a.hint()\n",
    "# step_4.a.solution()"
   ]
  },
  {
   "cell_type": "markdown",
   "id": "6d45f6fa",
   "metadata": {
    "papermill": {
     "duration": 0.010458,
     "end_time": "2023-02-21T04:34:20.330107",
     "exception": false,
     "start_time": "2023-02-21T04:34:20.319649",
     "status": "completed"
    },
    "tags": []
   },
   "source": [
    "Run the next code cell to train and evaluate a random forest model.  (*Note that we don't use the `score_dataset()` function above, because we will soon use the trained model to generate test predictions!*)"
   ]
  },
  {
   "cell_type": "code",
   "execution_count": 20,
   "id": "7d42b366",
   "metadata": {
    "execution": {
     "iopub.execute_input": "2023-02-21T04:34:20.354360Z",
     "iopub.status.busy": "2023-02-21T04:34:20.353725Z",
     "iopub.status.idle": "2023-02-21T04:34:21.579997Z",
     "shell.execute_reply": "2023-02-21T04:34:21.578506Z"
    },
    "papermill": {
     "duration": 1.241898,
     "end_time": "2023-02-21T04:34:21.583265",
     "exception": false,
     "start_time": "2023-02-21T04:34:20.341367",
     "status": "completed"
    },
    "tags": []
   },
   "outputs": [
    {
     "name": "stdout",
     "output_type": "stream",
     "text": [
      "MAE (Your approach):\n",
      "17791.59899543379\n"
     ]
    }
   ],
   "source": [
    "# Define and fit model\n",
    "model = RandomForestRegressor(n_estimators=100, random_state=0)\n",
    "model.fit(final_X_train, y_train)\n",
    "\n",
    "# Get validation predictions and MAE\n",
    "preds_valid = model.predict(final_X_valid)\n",
    "print(\"MAE (Your approach):\")\n",
    "print(mean_absolute_error(y_valid, preds_valid))"
   ]
  },
  {
   "cell_type": "markdown",
   "id": "1d14d3ed",
   "metadata": {
    "papermill": {
     "duration": 0.011016,
     "end_time": "2023-02-21T04:34:21.605794",
     "exception": false,
     "start_time": "2023-02-21T04:34:21.594778",
     "status": "completed"
    },
    "tags": []
   },
   "source": [
    "### Part B\n",
    "\n",
    "Use the next code cell to preprocess your test data.  Make sure that you use a method that agrees with how you preprocessed the training and validation data, and set the preprocessed test features to `final_X_test`.\n",
    "\n",
    "Then, use the preprocessed test features and the trained model to generate test predictions in `preds_test`.\n",
    "\n",
    "In order for this step to be marked correct, you need only ensure:\n",
    "- the preprocessed test DataFrame has no missing values, and\n",
    "- `final_X_test` has the same number of rows as `X_test`."
   ]
  },
  {
   "cell_type": "code",
   "execution_count": 21,
   "id": "8b2c4dc2",
   "metadata": {
    "execution": {
     "iopub.execute_input": "2023-02-21T04:34:21.630359Z",
     "iopub.status.busy": "2023-02-21T04:34:21.629232Z",
     "iopub.status.idle": "2023-02-21T04:34:21.686940Z",
     "shell.execute_reply": "2023-02-21T04:34:21.685725Z"
    },
    "papermill": {
     "duration": 0.072317,
     "end_time": "2023-02-21T04:34:21.689409",
     "exception": false,
     "start_time": "2023-02-21T04:34:21.617092",
     "status": "completed"
    },
    "tags": []
   },
   "outputs": [
    {
     "data": {
      "application/javascript": [
       "parent.postMessage({\"jupyterEvent\": \"custom.exercise_interaction\", \"data\": {\"outcomeType\": 1, \"valueTowardsCompletion\": 1.0, \"interactionType\": 1, \"questionType\": 2, \"questionId\": \"4.2_PredsCodeB\", \"learnToolsVersion\": \"0.3.4\", \"failureMessage\": \"\", \"exceptionClass\": \"\", \"trace\": \"\"}}, \"*\")"
      ],
      "text/plain": [
       "<IPython.core.display.Javascript object>"
      ]
     },
     "metadata": {},
     "output_type": "display_data"
    },
    {
     "data": {
      "text/markdown": [
       "<span style=\"color:#33cc33\">Correct</span>"
      ],
      "text/plain": [
       "Correct"
      ]
     },
     "metadata": {},
     "output_type": "display_data"
    }
   ],
   "source": [
    "# Fill in the line below: preprocess test data\n",
    "final_X_test = pd.DataFrame(final_imputer.transform(X_test))\n",
    "\n",
    "# Fill in the line below: get test predictions\n",
    "preds_test = model.predict(final_X_test)\n",
    "\n",
    "# Check your answers\n",
    "step_4.b.check()"
   ]
  },
  {
   "cell_type": "code",
   "execution_count": 22,
   "id": "28f39e6b",
   "metadata": {
    "execution": {
     "iopub.execute_input": "2023-02-21T04:34:21.713644Z",
     "iopub.status.busy": "2023-02-21T04:34:21.713235Z",
     "iopub.status.idle": "2023-02-21T04:34:21.717592Z",
     "shell.execute_reply": "2023-02-21T04:34:21.716394Z"
    },
    "papermill": {
     "duration": 0.019325,
     "end_time": "2023-02-21T04:34:21.719919",
     "exception": false,
     "start_time": "2023-02-21T04:34:21.700594",
     "status": "completed"
    },
    "tags": []
   },
   "outputs": [],
   "source": [
    "# Lines below will give you a hint or solution code\n",
    "# step_4.b.hint()\n",
    "# step_4.b.solution()"
   ]
  },
  {
   "cell_type": "markdown",
   "id": "26099777",
   "metadata": {
    "papermill": {
     "duration": 0.010728,
     "end_time": "2023-02-21T04:34:21.741730",
     "exception": false,
     "start_time": "2023-02-21T04:34:21.731002",
     "status": "completed"
    },
    "tags": []
   },
   "source": [
    "Run the next code cell without changes to save your results to a CSV file that can be submitted directly to the competition."
   ]
  },
  {
   "cell_type": "code",
   "execution_count": 23,
   "id": "cd24409a",
   "metadata": {
    "execution": {
     "iopub.execute_input": "2023-02-21T04:34:21.766207Z",
     "iopub.status.busy": "2023-02-21T04:34:21.765418Z",
     "iopub.status.idle": "2023-02-21T04:34:21.777270Z",
     "shell.execute_reply": "2023-02-21T04:34:21.776391Z"
    },
    "papermill": {
     "duration": 0.027275,
     "end_time": "2023-02-21T04:34:21.780131",
     "exception": false,
     "start_time": "2023-02-21T04:34:21.752856",
     "status": "completed"
    },
    "tags": []
   },
   "outputs": [],
   "source": [
    "# Save test predictions to file\n",
    "output = pd.DataFrame({'Id': X_test.index,\n",
    "                       'SalePrice': preds_test})\n",
    "output.to_csv('submission.csv', index=False)"
   ]
  },
  {
   "cell_type": "markdown",
   "id": "10a630ae",
   "metadata": {
    "papermill": {
     "duration": 0.011199,
     "end_time": "2023-02-21T04:34:21.803228",
     "exception": false,
     "start_time": "2023-02-21T04:34:21.792029",
     "status": "completed"
    },
    "tags": []
   },
   "source": [
    "---\n",
    "\n",
    "\n",
    "\n",
    "\n",
    "**Allen**"
   ]
  }
 ],
 "metadata": {
  "kernelspec": {
   "display_name": "Python 3",
   "language": "python",
   "name": "python3"
  },
  "language_info": {
   "codemirror_mode": {
    "name": "ipython",
    "version": 3
   },
   "file_extension": ".py",
   "mimetype": "text/x-python",
   "name": "python",
   "nbconvert_exporter": "python",
   "pygments_lexer": "ipython3",
   "version": "3.7.12"
  },
  "papermill": {
   "default_parameters": {},
   "duration": 15.299841,
   "end_time": "2023-02-21T04:34:22.536543",
   "environment_variables": {},
   "exception": null,
   "input_path": "__notebook__.ipynb",
   "output_path": "__notebook__.ipynb",
   "parameters": {},
   "start_time": "2023-02-21T04:34:07.236702",
   "version": "2.3.4"
  }
 },
 "nbformat": 4,
 "nbformat_minor": 5
}
