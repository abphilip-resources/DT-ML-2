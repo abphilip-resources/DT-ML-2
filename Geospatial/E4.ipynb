{
 "cells": [
  {
   "cell_type": "markdown",
   "id": "e99d031b",
   "metadata": {
    "papermill": {
     "duration": 0.009446,
     "end_time": "2023-03-26T18:31:44.220409",
     "exception": false,
     "start_time": "2023-03-26T18:31:44.210963",
     "status": "completed"
    },
    "tags": []
   },
   "source": [
    "**This notebook is an exercise in the [Geospatial Analysis](https://www.kaggle.com/learn/geospatial-analysis) course.  You can reference the tutorial at [this link](https://www.kaggle.com/alexisbcook/manipulating-geospatial-data).**\n",
    "\n",
    "---\n"
   ]
  },
  {
   "cell_type": "markdown",
   "id": "c46db958",
   "metadata": {
    "papermill": {
     "duration": 0.007735,
     "end_time": "2023-03-26T18:31:44.236404",
     "exception": false,
     "start_time": "2023-03-26T18:31:44.228669",
     "status": "completed"
    },
    "tags": []
   },
   "source": [
    "# Introduction\n",
    "\n",
    "You are a Starbucks big data analyst ([that’s a real job!](https://www.forbes.com/sites/bernardmarr/2018/05/28/starbucks-using-big-data-analytics-and-artificial-intelligence-to-boost-performance/#130c7d765cdc)) looking to find the next store into a [Starbucks Reserve Roastery](https://www.businessinsider.com/starbucks-reserve-roastery-compared-regular-starbucks-2018-12#also-on-the-first-floor-was-the-main-coffee-bar-five-hourglass-like-units-hold-the-freshly-roasted-coffee-beans-that-are-used-in-each-order-the-selection-rotates-seasonally-5).  These roasteries are much larger than a typical Starbucks store and have several additional features, including various food and wine options, along with upscale lounge areas.  You'll investigate the demographics of various counties in the state of California, to determine potentially suitable locations.\n",
    "\n",
    "<center>\n",
    "<img src=\"https://i.imgur.com/BIyE6kR.png\" width=\"450\"><br/><br/>\n",
    "</center>\n",
    "\n",
    "Before you get started, run the code cell below to set everything up."
   ]
  },
  {
   "cell_type": "code",
   "execution_count": 1,
   "id": "e8375aa5",
   "metadata": {
    "execution": {
     "iopub.execute_input": "2023-03-26T18:31:44.253771Z",
     "iopub.status.busy": "2023-03-26T18:31:44.253082Z",
     "iopub.status.idle": "2023-03-26T18:31:46.082188Z",
     "shell.execute_reply": "2023-03-26T18:31:46.081124Z"
    },
    "papermill": {
     "duration": 1.840754,
     "end_time": "2023-03-26T18:31:46.084914",
     "exception": false,
     "start_time": "2023-03-26T18:31:44.244160",
     "status": "completed"
    },
    "tags": []
   },
   "outputs": [],
   "source": [
    "import warnings\n",
    "warnings.filterwarnings(\"ignore\")\n",
    "\n",
    "import math\n",
    "import pandas as pd\n",
    "import geopandas as gpd\n",
    "#from geopy.geocoders import Nominatim            # What you'd normally run\n",
    "from learntools.geospatial.tools import Nominatim # Just for this exercise\n",
    "\n",
    "import folium \n",
    "from folium import Marker\n",
    "from folium.plugins import MarkerCluster\n",
    "\n",
    "from learntools.core import binder\n",
    "binder.bind(globals())\n",
    "from learntools.geospatial.ex4 import *"
   ]
  },
  {
   "cell_type": "markdown",
   "id": "1ab1a610",
   "metadata": {
    "papermill": {
     "duration": 0.007375,
     "end_time": "2023-03-26T18:31:46.100500",
     "exception": false,
     "start_time": "2023-03-26T18:31:46.093125",
     "status": "completed"
    },
    "tags": []
   },
   "source": [
    "You'll use the `embed_map()` function from the previous exercise to visualize your maps."
   ]
  },
  {
   "cell_type": "code",
   "execution_count": 2,
   "id": "387b48c7",
   "metadata": {
    "execution": {
     "iopub.execute_input": "2023-03-26T18:31:46.117761Z",
     "iopub.status.busy": "2023-03-26T18:31:46.117030Z",
     "iopub.status.idle": "2023-03-26T18:31:46.122461Z",
     "shell.execute_reply": "2023-03-26T18:31:46.121347Z"
    },
    "papermill": {
     "duration": 0.017133,
     "end_time": "2023-03-26T18:31:46.125091",
     "exception": false,
     "start_time": "2023-03-26T18:31:46.107958",
     "status": "completed"
    },
    "tags": []
   },
   "outputs": [],
   "source": [
    "def embed_map(m, file_name):\n",
    "    from IPython.display import IFrame\n",
    "    m.save(file_name)\n",
    "    return IFrame(file_name, width='100%', height='500px')"
   ]
  },
  {
   "cell_type": "markdown",
   "id": "5aaf81e3",
   "metadata": {
    "papermill": {
     "duration": 0.007401,
     "end_time": "2023-03-26T18:31:46.140263",
     "exception": false,
     "start_time": "2023-03-26T18:31:46.132862",
     "status": "completed"
    },
    "tags": []
   },
   "source": [
    "# Exercises\n",
    "\n",
    "### 1) Geocode the missing locations.\n",
    "\n",
    "Run the next code cell to create a DataFrame `starbucks` containing Starbucks locations in the state of California."
   ]
  },
  {
   "cell_type": "code",
   "execution_count": 3,
   "id": "17bb4664",
   "metadata": {
    "execution": {
     "iopub.execute_input": "2023-03-26T18:31:46.157240Z",
     "iopub.status.busy": "2023-03-26T18:31:46.156574Z",
     "iopub.status.idle": "2023-03-26T18:31:46.190544Z",
     "shell.execute_reply": "2023-03-26T18:31:46.189441Z"
    },
    "papermill": {
     "duration": 0.04494,
     "end_time": "2023-03-26T18:31:46.192811",
     "exception": false,
     "start_time": "2023-03-26T18:31:46.147871",
     "status": "completed"
    },
    "tags": []
   },
   "outputs": [
    {
     "data": {
      "text/html": [
       "<div>\n",
       "<style scoped>\n",
       "    .dataframe tbody tr th:only-of-type {\n",
       "        vertical-align: middle;\n",
       "    }\n",
       "\n",
       "    .dataframe tbody tr th {\n",
       "        vertical-align: top;\n",
       "    }\n",
       "\n",
       "    .dataframe thead th {\n",
       "        text-align: right;\n",
       "    }\n",
       "</style>\n",
       "<table border=\"1\" class=\"dataframe\">\n",
       "  <thead>\n",
       "    <tr style=\"text-align: right;\">\n",
       "      <th></th>\n",
       "      <th>Store Number</th>\n",
       "      <th>Store Name</th>\n",
       "      <th>Address</th>\n",
       "      <th>City</th>\n",
       "      <th>Longitude</th>\n",
       "      <th>Latitude</th>\n",
       "    </tr>\n",
       "  </thead>\n",
       "  <tbody>\n",
       "    <tr>\n",
       "      <th>0</th>\n",
       "      <td>10429-100710</td>\n",
       "      <td>Palmdale &amp; Hwy 395</td>\n",
       "      <td>14136 US Hwy 395 Adelanto CA</td>\n",
       "      <td>Adelanto</td>\n",
       "      <td>-117.40</td>\n",
       "      <td>34.51</td>\n",
       "    </tr>\n",
       "    <tr>\n",
       "      <th>1</th>\n",
       "      <td>635-352</td>\n",
       "      <td>Kanan &amp; Thousand Oaks</td>\n",
       "      <td>5827 Kanan Road Agoura CA</td>\n",
       "      <td>Agoura</td>\n",
       "      <td>-118.76</td>\n",
       "      <td>34.16</td>\n",
       "    </tr>\n",
       "    <tr>\n",
       "      <th>2</th>\n",
       "      <td>74510-27669</td>\n",
       "      <td>Vons-Agoura Hills #2001</td>\n",
       "      <td>5671 Kanan Rd. Agoura Hills CA</td>\n",
       "      <td>Agoura Hills</td>\n",
       "      <td>-118.76</td>\n",
       "      <td>34.15</td>\n",
       "    </tr>\n",
       "    <tr>\n",
       "      <th>3</th>\n",
       "      <td>29839-255026</td>\n",
       "      <td>Target Anaheim T-0677</td>\n",
       "      <td>8148 E SANTA ANA CANYON ROAD AHAHEIM CA</td>\n",
       "      <td>AHAHEIM</td>\n",
       "      <td>-117.75</td>\n",
       "      <td>33.87</td>\n",
       "    </tr>\n",
       "    <tr>\n",
       "      <th>4</th>\n",
       "      <td>23463-230284</td>\n",
       "      <td>Safeway - Alameda 3281</td>\n",
       "      <td>2600 5th Street Alameda CA</td>\n",
       "      <td>Alameda</td>\n",
       "      <td>-122.28</td>\n",
       "      <td>37.79</td>\n",
       "    </tr>\n",
       "  </tbody>\n",
       "</table>\n",
       "</div>"
      ],
      "text/plain": [
       "   Store Number               Store Name  \\\n",
       "0  10429-100710       Palmdale & Hwy 395   \n",
       "1       635-352    Kanan & Thousand Oaks   \n",
       "2   74510-27669  Vons-Agoura Hills #2001   \n",
       "3  29839-255026    Target Anaheim T-0677   \n",
       "4  23463-230284   Safeway - Alameda 3281   \n",
       "\n",
       "                                   Address          City  Longitude  Latitude  \n",
       "0             14136 US Hwy 395 Adelanto CA      Adelanto    -117.40     34.51  \n",
       "1                5827 Kanan Road Agoura CA        Agoura    -118.76     34.16  \n",
       "2           5671 Kanan Rd. Agoura Hills CA  Agoura Hills    -118.76     34.15  \n",
       "3  8148 E SANTA ANA CANYON ROAD AHAHEIM CA       AHAHEIM    -117.75     33.87  \n",
       "4               2600 5th Street Alameda CA       Alameda    -122.28     37.79  "
      ]
     },
     "execution_count": 3,
     "metadata": {},
     "output_type": "execute_result"
    }
   ],
   "source": [
    "# Load and preview Starbucks locations in California\n",
    "starbucks = pd.read_csv(\"../input/geospatial-learn-course-data/starbucks_locations.csv\")\n",
    "starbucks.head()"
   ]
  },
  {
   "cell_type": "markdown",
   "id": "1fa7f803",
   "metadata": {
    "papermill": {
     "duration": 0.007849,
     "end_time": "2023-03-26T18:31:46.210108",
     "exception": false,
     "start_time": "2023-03-26T18:31:46.202259",
     "status": "completed"
    },
    "tags": []
   },
   "source": [
    "Most of the stores have known (latitude, longitude) locations.  But, all of the locations in the city of Berkeley are missing."
   ]
  },
  {
   "cell_type": "code",
   "execution_count": 4,
   "id": "2030aa22",
   "metadata": {
    "execution": {
     "iopub.execute_input": "2023-03-26T18:31:46.228164Z",
     "iopub.status.busy": "2023-03-26T18:31:46.227743Z",
     "iopub.status.idle": "2023-03-26T18:31:46.247590Z",
     "shell.execute_reply": "2023-03-26T18:31:46.246009Z"
    },
    "papermill": {
     "duration": 0.032375,
     "end_time": "2023-03-26T18:31:46.250394",
     "exception": false,
     "start_time": "2023-03-26T18:31:46.218019",
     "status": "completed"
    },
    "tags": []
   },
   "outputs": [
    {
     "name": "stdout",
     "output_type": "stream",
     "text": [
      "Store Number    0\n",
      "Store Name      0\n",
      "Address         0\n",
      "City            0\n",
      "Longitude       5\n",
      "Latitude        5\n",
      "dtype: int64\n"
     ]
    },
    {
     "data": {
      "text/html": [
       "<div>\n",
       "<style scoped>\n",
       "    .dataframe tbody tr th:only-of-type {\n",
       "        vertical-align: middle;\n",
       "    }\n",
       "\n",
       "    .dataframe tbody tr th {\n",
       "        vertical-align: top;\n",
       "    }\n",
       "\n",
       "    .dataframe thead th {\n",
       "        text-align: right;\n",
       "    }\n",
       "</style>\n",
       "<table border=\"1\" class=\"dataframe\">\n",
       "  <thead>\n",
       "    <tr style=\"text-align: right;\">\n",
       "      <th></th>\n",
       "      <th>Store Number</th>\n",
       "      <th>Store Name</th>\n",
       "      <th>Address</th>\n",
       "      <th>City</th>\n",
       "      <th>Longitude</th>\n",
       "      <th>Latitude</th>\n",
       "    </tr>\n",
       "  </thead>\n",
       "  <tbody>\n",
       "    <tr>\n",
       "      <th>153</th>\n",
       "      <td>5406-945</td>\n",
       "      <td>2224 Shattuck - Berkeley</td>\n",
       "      <td>2224 Shattuck Avenue Berkeley CA</td>\n",
       "      <td>Berkeley</td>\n",
       "      <td>NaN</td>\n",
       "      <td>NaN</td>\n",
       "    </tr>\n",
       "    <tr>\n",
       "      <th>154</th>\n",
       "      <td>570-512</td>\n",
       "      <td>Solano Ave</td>\n",
       "      <td>1799 Solano Avenue Berkeley CA</td>\n",
       "      <td>Berkeley</td>\n",
       "      <td>NaN</td>\n",
       "      <td>NaN</td>\n",
       "    </tr>\n",
       "    <tr>\n",
       "      <th>155</th>\n",
       "      <td>17877-164526</td>\n",
       "      <td>Safeway - Berkeley #691</td>\n",
       "      <td>1444 Shattuck Place Berkeley CA</td>\n",
       "      <td>Berkeley</td>\n",
       "      <td>NaN</td>\n",
       "      <td>NaN</td>\n",
       "    </tr>\n",
       "    <tr>\n",
       "      <th>156</th>\n",
       "      <td>19864-202264</td>\n",
       "      <td>Telegraph &amp; Ashby</td>\n",
       "      <td>3001 Telegraph Avenue Berkeley CA</td>\n",
       "      <td>Berkeley</td>\n",
       "      <td>NaN</td>\n",
       "      <td>NaN</td>\n",
       "    </tr>\n",
       "    <tr>\n",
       "      <th>157</th>\n",
       "      <td>9217-9253</td>\n",
       "      <td>2128 Oxford St.</td>\n",
       "      <td>2128 Oxford Street Berkeley CA</td>\n",
       "      <td>Berkeley</td>\n",
       "      <td>NaN</td>\n",
       "      <td>NaN</td>\n",
       "    </tr>\n",
       "  </tbody>\n",
       "</table>\n",
       "</div>"
      ],
      "text/plain": [
       "     Store Number                Store Name  \\\n",
       "153      5406-945  2224 Shattuck - Berkeley   \n",
       "154       570-512                Solano Ave   \n",
       "155  17877-164526   Safeway - Berkeley #691   \n",
       "156  19864-202264         Telegraph & Ashby   \n",
       "157     9217-9253           2128 Oxford St.   \n",
       "\n",
       "                               Address      City  Longitude  Latitude  \n",
       "153   2224 Shattuck Avenue Berkeley CA  Berkeley        NaN       NaN  \n",
       "154     1799 Solano Avenue Berkeley CA  Berkeley        NaN       NaN  \n",
       "155    1444 Shattuck Place Berkeley CA  Berkeley        NaN       NaN  \n",
       "156  3001 Telegraph Avenue Berkeley CA  Berkeley        NaN       NaN  \n",
       "157     2128 Oxford Street Berkeley CA  Berkeley        NaN       NaN  "
      ]
     },
     "execution_count": 4,
     "metadata": {},
     "output_type": "execute_result"
    }
   ],
   "source": [
    "# How many rows in each column have missing values?\n",
    "print(starbucks.isnull().sum())\n",
    "\n",
    "# View rows with missing locations\n",
    "rows_with_missing = starbucks[starbucks[\"City\"]==\"Berkeley\"]\n",
    "rows_with_missing"
   ]
  },
  {
   "cell_type": "markdown",
   "id": "d179d41d",
   "metadata": {
    "papermill": {
     "duration": 0.008114,
     "end_time": "2023-03-26T18:31:46.267241",
     "exception": false,
     "start_time": "2023-03-26T18:31:46.259127",
     "status": "completed"
    },
    "tags": []
   },
   "source": [
    "Use the code cell below to fill in these values with the Nominatim geocoder.\n",
    "\n",
    "Note that in the tutorial, we used `Nominatim()` (from `geopy.geocoders`) to geocode values, and this is what you can use in your own projects outside of this course.  \n",
    "\n",
    "In this exercise, you will use a slightly different function `Nominatim()` (from `learntools.geospatial.tools`).  This function was imported at the top of the notebook and works identically to the function from GeoPandas.\n",
    "\n",
    "So, in other words, as long as: \n",
    "- you don't change the import statements at the top of the notebook, and \n",
    "- you call the geocoding function as `geocode()` in the code cell below, \n",
    "\n",
    "your code will work as intended!"
   ]
  },
  {
   "cell_type": "code",
   "execution_count": 5,
   "id": "87103492",
   "metadata": {
    "execution": {
     "iopub.execute_input": "2023-03-26T18:31:46.286328Z",
     "iopub.status.busy": "2023-03-26T18:31:46.284984Z",
     "iopub.status.idle": "2023-03-26T18:31:46.578092Z",
     "shell.execute_reply": "2023-03-26T18:31:46.576835Z"
    },
    "papermill": {
     "duration": 0.305199,
     "end_time": "2023-03-26T18:31:46.580388",
     "exception": false,
     "start_time": "2023-03-26T18:31:46.275189",
     "status": "completed"
    },
    "tags": []
   },
   "outputs": [
    {
     "data": {
      "application/javascript": [
       "parent.postMessage({\"jupyterEvent\": \"custom.exercise_interaction\", \"data\": {\"outcomeType\": 1, \"valueTowardsCompletion\": 0.2, \"interactionType\": 1, \"questionType\": 2, \"questionId\": \"1_Q1\", \"learnToolsVersion\": \"0.3.4\", \"failureMessage\": \"\", \"exceptionClass\": \"\", \"trace\": \"\"}}, \"*\")"
      ],
      "text/plain": [
       "<IPython.core.display.Javascript object>"
      ]
     },
     "metadata": {},
     "output_type": "display_data"
    },
    {
     "data": {
      "text/markdown": [
       "<span style=\"color:#33cc33\">Correct</span>"
      ],
      "text/plain": [
       "Correct"
      ]
     },
     "metadata": {},
     "output_type": "display_data"
    }
   ],
   "source": [
    "# Create the geocoder\n",
    "geolocator = Nominatim(user_agent=\"kaggle_learn\")\n",
    "\n",
    "# Your code here\n",
    "def my_geocoder(row):\n",
    "    point = geolocator.geocode(row).point\n",
    "    return pd.Series({'Latitude': point.latitude, 'Longitude': point.longitude})\n",
    "\n",
    "berkeley_locations = rows_with_missing.apply(lambda x: my_geocoder(x['Address']), axis=1)\n",
    "starbucks.update(berkeley_locations)\n",
    "\n",
    "# Check your answer\n",
    "q_1.check()"
   ]
  },
  {
   "cell_type": "code",
   "execution_count": 6,
   "id": "cf70ec9f",
   "metadata": {
    "execution": {
     "iopub.execute_input": "2023-03-26T18:31:46.598275Z",
     "iopub.status.busy": "2023-03-26T18:31:46.597864Z",
     "iopub.status.idle": "2023-03-26T18:31:46.602386Z",
     "shell.execute_reply": "2023-03-26T18:31:46.601395Z"
    },
    "papermill": {
     "duration": 0.016275,
     "end_time": "2023-03-26T18:31:46.604970",
     "exception": false,
     "start_time": "2023-03-26T18:31:46.588695",
     "status": "completed"
    },
    "tags": []
   },
   "outputs": [],
   "source": [
    "# Line below will give you solution code\n",
    "# q_1.solution()"
   ]
  },
  {
   "cell_type": "markdown",
   "id": "90268767",
   "metadata": {
    "papermill": {
     "duration": 0.008375,
     "end_time": "2023-03-26T18:31:46.621793",
     "exception": false,
     "start_time": "2023-03-26T18:31:46.613418",
     "status": "completed"
    },
    "tags": []
   },
   "source": [
    "### 2) View Berkeley locations.\n",
    "\n",
    "Let's take a look at the locations you just found.  Visualize the (latitude, longitude) locations in Berkeley in the OpenStreetMap style. "
   ]
  },
  {
   "cell_type": "code",
   "execution_count": 7,
   "id": "1dd929a9",
   "metadata": {
    "execution": {
     "iopub.execute_input": "2023-03-26T18:31:46.640402Z",
     "iopub.status.busy": "2023-03-26T18:31:46.639749Z",
     "iopub.status.idle": "2023-03-26T18:31:46.665292Z",
     "shell.execute_reply": "2023-03-26T18:31:46.664465Z"
    },
    "papermill": {
     "duration": 0.037798,
     "end_time": "2023-03-26T18:31:46.667854",
     "exception": false,
     "start_time": "2023-03-26T18:31:46.630056",
     "status": "completed"
    },
    "tags": []
   },
   "outputs": [
    {
     "data": {
      "text/html": [
       "\n",
       "        <iframe\n",
       "            width=\"100%\"\n",
       "            height=\"500px\"\n",
       "            src=\"q_2.html\"\n",
       "            frameborder=\"0\"\n",
       "            allowfullscreen\n",
       "            \n",
       "        ></iframe>\n",
       "        "
      ],
      "text/plain": [
       "<IPython.lib.display.IFrame at 0x7f3db14b3b90>"
      ]
     },
     "execution_count": 7,
     "metadata": {},
     "output_type": "execute_result"
    }
   ],
   "source": [
    "# Create a base map\n",
    "m_2 = folium.Map(location=[37.88,-122.26], zoom_start=13)\n",
    "\n",
    "# Your code here: Add a marker for each Berkeley location\n",
    "for idx, row in starbucks[starbucks[\"City\"]=='Berkeley'].iterrows():\n",
    "    Marker([row['Latitude'], row['Longitude']]).add_to(m_2)\n",
    "\n",
    "# Uncomment to see a hint\n",
    "# q_2.a.hint()\n",
    "\n",
    "# Show the map\n",
    "embed_map(m_2, 'q_2.html')"
   ]
  },
  {
   "cell_type": "code",
   "execution_count": 8,
   "id": "fc60d0ea",
   "metadata": {
    "execution": {
     "iopub.execute_input": "2023-03-26T18:31:46.687280Z",
     "iopub.status.busy": "2023-03-26T18:31:46.686901Z",
     "iopub.status.idle": "2023-03-26T18:31:46.695717Z",
     "shell.execute_reply": "2023-03-26T18:31:46.694669Z"
    },
    "papermill": {
     "duration": 0.021706,
     "end_time": "2023-03-26T18:31:46.698059",
     "exception": false,
     "start_time": "2023-03-26T18:31:46.676353",
     "status": "completed"
    },
    "tags": []
   },
   "outputs": [
    {
     "data": {
      "application/javascript": [
       "parent.postMessage({\"jupyterEvent\": \"custom.exercise_interaction\", \"data\": {\"outcomeType\": 1, \"valueTowardsCompletion\": 0.2, \"interactionType\": 1, \"questionType\": 2, \"questionId\": \"2.1_Q2P\", \"learnToolsVersion\": \"0.3.4\", \"failureMessage\": \"\", \"exceptionClass\": \"\", \"trace\": \"\"}}, \"*\")"
      ],
      "text/plain": [
       "<IPython.core.display.Javascript object>"
      ]
     },
     "metadata": {},
     "output_type": "display_data"
    },
    {
     "data": {
      "text/markdown": [
       "<span style=\"color:#33cc33\">Thank you for creating a map!</span>"
      ],
      "text/plain": [
       "Thank you for creating a map!"
      ]
     },
     "metadata": {},
     "output_type": "display_data"
    }
   ],
   "source": [
    "# Get credit for your work after you have created a map\n",
    "q_2.a.check()\n",
    "\n",
    "# Uncomment to see our solution (your code may look different!)\n",
    "# q_2.a.solution()"
   ]
  },
  {
   "cell_type": "markdown",
   "id": "2c995df7",
   "metadata": {
    "papermill": {
     "duration": 0.008463,
     "end_time": "2023-03-26T18:31:46.715458",
     "exception": false,
     "start_time": "2023-03-26T18:31:46.706995",
     "status": "completed"
    },
    "tags": []
   },
   "source": [
    "Considering only the five locations in Berkeley, how many of the (latitude, longitude) locations seem potentially correct (are located in the correct city)?"
   ]
  },
  {
   "cell_type": "code",
   "execution_count": 9,
   "id": "c09018ba",
   "metadata": {
    "execution": {
     "iopub.execute_input": "2023-03-26T18:31:46.735635Z",
     "iopub.status.busy": "2023-03-26T18:31:46.735255Z",
     "iopub.status.idle": "2023-03-26T18:31:46.744330Z",
     "shell.execute_reply": "2023-03-26T18:31:46.743034Z"
    },
    "papermill": {
     "duration": 0.021632,
     "end_time": "2023-03-26T18:31:46.746391",
     "exception": false,
     "start_time": "2023-03-26T18:31:46.724759",
     "status": "completed"
    },
    "tags": []
   },
   "outputs": [
    {
     "data": {
      "application/javascript": [
       "parent.postMessage({\"jupyterEvent\": \"custom.exercise_interaction\", \"data\": {\"interactionType\": 3, \"questionType\": 4, \"questionId\": \"2.2_Q2T\", \"learnToolsVersion\": \"0.3.4\", \"valueTowardsCompletion\": 0.0, \"failureMessage\": \"\", \"exceptionClass\": \"\", \"trace\": \"\", \"outcomeType\": 4}}, \"*\")"
      ],
      "text/plain": [
       "<IPython.core.display.Javascript object>"
      ]
     },
     "metadata": {},
     "output_type": "display_data"
    },
    {
     "data": {
      "text/markdown": [
       "<span style=\"color:#33cc99\">Solution:</span> All five locations appear to be correct!"
      ],
      "text/plain": [
       "Solution: All five locations appear to be correct!"
      ]
     },
     "metadata": {},
     "output_type": "display_data"
    }
   ],
   "source": [
    "# View the solution (Run this code cell to receive credit!)\n",
    "q_2.b.solution()"
   ]
  },
  {
   "cell_type": "markdown",
   "id": "b456e411",
   "metadata": {
    "papermill": {
     "duration": 0.00908,
     "end_time": "2023-03-26T18:31:46.764290",
     "exception": false,
     "start_time": "2023-03-26T18:31:46.755210",
     "status": "completed"
    },
    "tags": []
   },
   "source": [
    "### 3) Consolidate your data.\n",
    "\n",
    "Run the code below to load a GeoDataFrame `CA_counties` containing the name, area (in square kilometers), and a unique id (in the \"GEOID\" column) for each county in the state of California.  The \"geometry\" column contains a polygon with county boundaries."
   ]
  },
  {
   "cell_type": "code",
   "execution_count": 10,
   "id": "a05ed551",
   "metadata": {
    "execution": {
     "iopub.execute_input": "2023-03-26T18:31:46.784658Z",
     "iopub.status.busy": "2023-03-26T18:31:46.784264Z",
     "iopub.status.idle": "2023-03-26T18:31:47.093090Z",
     "shell.execute_reply": "2023-03-26T18:31:47.091985Z"
    },
    "papermill": {
     "duration": 0.322032,
     "end_time": "2023-03-26T18:31:47.095359",
     "exception": false,
     "start_time": "2023-03-26T18:31:46.773327",
     "status": "completed"
    },
    "tags": []
   },
   "outputs": [
    {
     "data": {
      "text/html": [
       "<div>\n",
       "<style scoped>\n",
       "    .dataframe tbody tr th:only-of-type {\n",
       "        vertical-align: middle;\n",
       "    }\n",
       "\n",
       "    .dataframe tbody tr th {\n",
       "        vertical-align: top;\n",
       "    }\n",
       "\n",
       "    .dataframe thead th {\n",
       "        text-align: right;\n",
       "    }\n",
       "</style>\n",
       "<table border=\"1\" class=\"dataframe\">\n",
       "  <thead>\n",
       "    <tr style=\"text-align: right;\">\n",
       "      <th></th>\n",
       "      <th>GEOID</th>\n",
       "      <th>name</th>\n",
       "      <th>area_sqkm</th>\n",
       "      <th>geometry</th>\n",
       "    </tr>\n",
       "  </thead>\n",
       "  <tbody>\n",
       "    <tr>\n",
       "      <th>0</th>\n",
       "      <td>6091</td>\n",
       "      <td>Sierra County</td>\n",
       "      <td>2491.995494</td>\n",
       "      <td>POLYGON ((-120.65560 39.69357, -120.65554 39.6...</td>\n",
       "    </tr>\n",
       "    <tr>\n",
       "      <th>1</th>\n",
       "      <td>6067</td>\n",
       "      <td>Sacramento County</td>\n",
       "      <td>2575.258262</td>\n",
       "      <td>POLYGON ((-121.18858 38.71431, -121.18732 38.7...</td>\n",
       "    </tr>\n",
       "    <tr>\n",
       "      <th>2</th>\n",
       "      <td>6083</td>\n",
       "      <td>Santa Barbara County</td>\n",
       "      <td>9813.817958</td>\n",
       "      <td>MULTIPOLYGON (((-120.58191 34.09856, -120.5822...</td>\n",
       "    </tr>\n",
       "    <tr>\n",
       "      <th>3</th>\n",
       "      <td>6009</td>\n",
       "      <td>Calaveras County</td>\n",
       "      <td>2685.626726</td>\n",
       "      <td>POLYGON ((-120.63095 38.34111, -120.63058 38.3...</td>\n",
       "    </tr>\n",
       "    <tr>\n",
       "      <th>4</th>\n",
       "      <td>6111</td>\n",
       "      <td>Ventura County</td>\n",
       "      <td>5719.321379</td>\n",
       "      <td>MULTIPOLYGON (((-119.63631 33.27304, -119.6360...</td>\n",
       "    </tr>\n",
       "  </tbody>\n",
       "</table>\n",
       "</div>"
      ],
      "text/plain": [
       "   GEOID                  name    area_sqkm  \\\n",
       "0   6091         Sierra County  2491.995494   \n",
       "1   6067     Sacramento County  2575.258262   \n",
       "2   6083  Santa Barbara County  9813.817958   \n",
       "3   6009      Calaveras County  2685.626726   \n",
       "4   6111        Ventura County  5719.321379   \n",
       "\n",
       "                                            geometry  \n",
       "0  POLYGON ((-120.65560 39.69357, -120.65554 39.6...  \n",
       "1  POLYGON ((-121.18858 38.71431, -121.18732 38.7...  \n",
       "2  MULTIPOLYGON (((-120.58191 34.09856, -120.5822...  \n",
       "3  POLYGON ((-120.63095 38.34111, -120.63058 38.3...  \n",
       "4  MULTIPOLYGON (((-119.63631 33.27304, -119.6360...  "
      ]
     },
     "execution_count": 10,
     "metadata": {},
     "output_type": "execute_result"
    }
   ],
   "source": [
    "CA_counties = gpd.read_file(\"../input/geospatial-learn-course-data/CA_county_boundaries/CA_county_boundaries/CA_county_boundaries.shp\")\n",
    "CA_counties.head()"
   ]
  },
  {
   "cell_type": "markdown",
   "id": "27c1e57e",
   "metadata": {
    "papermill": {
     "duration": 0.009119,
     "end_time": "2023-03-26T18:31:47.113686",
     "exception": false,
     "start_time": "2023-03-26T18:31:47.104567",
     "status": "completed"
    },
    "tags": []
   },
   "source": [
    "Next, we create three DataFrames:\n",
    "- `CA_pop` contains an estimate of the population of each county.\n",
    "- `CA_high_earners` contains the number of households with an income of at least $150,000 per year.\n",
    "- `CA_median_age` contains the median age for each county."
   ]
  },
  {
   "cell_type": "code",
   "execution_count": 11,
   "id": "524b29f0",
   "metadata": {
    "execution": {
     "iopub.execute_input": "2023-03-26T18:31:47.133932Z",
     "iopub.status.busy": "2023-03-26T18:31:47.133522Z",
     "iopub.status.idle": "2023-03-26T18:31:47.145770Z",
     "shell.execute_reply": "2023-03-26T18:31:47.144700Z"
    },
    "papermill": {
     "duration": 0.025097,
     "end_time": "2023-03-26T18:31:47.148116",
     "exception": false,
     "start_time": "2023-03-26T18:31:47.123019",
     "status": "completed"
    },
    "tags": []
   },
   "outputs": [],
   "source": [
    "CA_pop = pd.read_csv(\"../input/geospatial-learn-course-data/CA_county_population.csv\", index_col=\"GEOID\")\n",
    "CA_high_earners = pd.read_csv(\"../input/geospatial-learn-course-data/CA_county_high_earners.csv\", index_col=\"GEOID\")\n",
    "CA_median_age = pd.read_csv(\"../input/geospatial-learn-course-data/CA_county_median_age.csv\", index_col=\"GEOID\")"
   ]
  },
  {
   "cell_type": "markdown",
   "id": "a13cdb88",
   "metadata": {
    "papermill": {
     "duration": 0.008837,
     "end_time": "2023-03-26T18:31:47.166452",
     "exception": false,
     "start_time": "2023-03-26T18:31:47.157615",
     "status": "completed"
    },
    "tags": []
   },
   "source": [
    "Use the next code cell to join the `CA_counties` GeoDataFrame with `CA_pop`, `CA_high_earners`, and `CA_median_age`.\n",
    "\n",
    "Name the resultant GeoDataFrame `CA_stats`, and make sure it has 8 columns: \"GEOID\", \"name\", \"area_sqkm\", \"geometry\", \"population\", \"high_earners\", and \"median_age\".  Also, make sure the CRS is set to `{'init': 'epsg:4326'}`."
   ]
  },
  {
   "cell_type": "code",
   "execution_count": 12,
   "id": "e565a31b",
   "metadata": {
    "execution": {
     "iopub.execute_input": "2023-03-26T18:31:47.186492Z",
     "iopub.status.busy": "2023-03-26T18:31:47.185718Z",
     "iopub.status.idle": "2023-03-26T18:31:47.428467Z",
     "shell.execute_reply": "2023-03-26T18:31:47.427250Z"
    },
    "papermill": {
     "duration": 0.255304,
     "end_time": "2023-03-26T18:31:47.430651",
     "exception": false,
     "start_time": "2023-03-26T18:31:47.175347",
     "status": "completed"
    },
    "tags": []
   },
   "outputs": [
    {
     "data": {
      "application/javascript": [
       "parent.postMessage({\"jupyterEvent\": \"custom.exercise_interaction\", \"data\": {\"outcomeType\": 1, \"valueTowardsCompletion\": 0.2, \"interactionType\": 1, \"questionType\": 2, \"questionId\": \"3_Q3\", \"learnToolsVersion\": \"0.3.4\", \"failureMessage\": \"\", \"exceptionClass\": \"\", \"trace\": \"\"}}, \"*\")"
      ],
      "text/plain": [
       "<IPython.core.display.Javascript object>"
      ]
     },
     "metadata": {},
     "output_type": "display_data"
    },
    {
     "data": {
      "text/markdown": [
       "<span style=\"color:#33cc33\">Correct</span>"
      ],
      "text/plain": [
       "Correct"
      ]
     },
     "metadata": {},
     "output_type": "display_data"
    }
   ],
   "source": [
    "# Your code here\n",
    "CA_stats = CA_counties.merge( \n",
    "    CA_pop.join([CA_high_earners, CA_median_age]).reset_index(), \n",
    "    on=\"GEOID\"\n",
    ")\n",
    "CA_stats.crs = {'init': 'epsg:4326'}\n",
    "\n",
    "# Check your answer\n",
    "q_3.check()"
   ]
  },
  {
   "cell_type": "code",
   "execution_count": 13,
   "id": "1b06e8c5",
   "metadata": {
    "execution": {
     "iopub.execute_input": "2023-03-26T18:31:47.451073Z",
     "iopub.status.busy": "2023-03-26T18:31:47.450701Z",
     "iopub.status.idle": "2023-03-26T18:31:47.455196Z",
     "shell.execute_reply": "2023-03-26T18:31:47.454049Z"
    },
    "papermill": {
     "duration": 0.017265,
     "end_time": "2023-03-26T18:31:47.457377",
     "exception": false,
     "start_time": "2023-03-26T18:31:47.440112",
     "status": "completed"
    },
    "tags": []
   },
   "outputs": [],
   "source": [
    "# Lines below will give you a hint or solution code\n",
    "# q_3.hint()\n",
    "# q_3.solution()"
   ]
  },
  {
   "cell_type": "markdown",
   "id": "63e07c52",
   "metadata": {
    "papermill": {
     "duration": 0.008918,
     "end_time": "2023-03-26T18:31:47.475366",
     "exception": false,
     "start_time": "2023-03-26T18:31:47.466448",
     "status": "completed"
    },
    "tags": []
   },
   "source": [
    "Now that we have all of the data in one place, it's much easier to calculate statistics that use a combination of columns.  Run the next code cell to create a \"density\" column with the population density."
   ]
  },
  {
   "cell_type": "code",
   "execution_count": 14,
   "id": "0f2c9835",
   "metadata": {
    "execution": {
     "iopub.execute_input": "2023-03-26T18:31:47.494947Z",
     "iopub.status.busy": "2023-03-26T18:31:47.494546Z",
     "iopub.status.idle": "2023-03-26T18:31:47.500675Z",
     "shell.execute_reply": "2023-03-26T18:31:47.499613Z"
    },
    "papermill": {
     "duration": 0.018688,
     "end_time": "2023-03-26T18:31:47.503213",
     "exception": false,
     "start_time": "2023-03-26T18:31:47.484525",
     "status": "completed"
    },
    "tags": []
   },
   "outputs": [],
   "source": [
    "CA_stats[\"density\"] = CA_stats[\"population\"] / CA_stats[\"area_sqkm\"]"
   ]
  },
  {
   "cell_type": "markdown",
   "id": "d2e5da8e",
   "metadata": {
    "papermill": {
     "duration": 0.009441,
     "end_time": "2023-03-26T18:31:47.522252",
     "exception": false,
     "start_time": "2023-03-26T18:31:47.512811",
     "status": "completed"
    },
    "tags": []
   },
   "source": [
    "### 4) Which counties look promising?\n",
    "\n",
    "Collapsing all of the information into a single GeoDataFrame also makes it much easier to select counties that meet specific criteria.\n",
    "\n",
    "Use the next code cell to create a GeoDataFrame `sel_counties` that contains a subset of the rows (and all of the columns) from the `CA_stats` GeoDataFrame.  In particular, you should select counties where:\n",
    "- there are at least 100,000 households making \\$150,000 per year,\n",
    "- the median age is less than 38.5, and\n",
    "- the density of inhabitants is at least 285 (per square kilometer).\n",
    "\n",
    "Additionally, selected counties should satisfy at least one of the following criteria:\n",
    "- there are at least 500,000 households making \\$150,000 per year,\n",
    "- the median age is less than 35.5, or\n",
    "- the density of inhabitants is at least 1400 (per square kilometer)."
   ]
  },
  {
   "cell_type": "code",
   "execution_count": 15,
   "id": "0dd122a0",
   "metadata": {
    "execution": {
     "iopub.execute_input": "2023-03-26T18:31:47.542976Z",
     "iopub.status.busy": "2023-03-26T18:31:47.542585Z",
     "iopub.status.idle": "2023-03-26T18:31:47.559954Z",
     "shell.execute_reply": "2023-03-26T18:31:47.558866Z"
    },
    "papermill": {
     "duration": 0.030674,
     "end_time": "2023-03-26T18:31:47.562271",
     "exception": false,
     "start_time": "2023-03-26T18:31:47.531597",
     "status": "completed"
    },
    "tags": []
   },
   "outputs": [
    {
     "data": {
      "application/javascript": [
       "parent.postMessage({\"jupyterEvent\": \"custom.exercise_interaction\", \"data\": {\"outcomeType\": 1, \"valueTowardsCompletion\": 0.2, \"interactionType\": 1, \"questionType\": 2, \"questionId\": \"4_Q4\", \"learnToolsVersion\": \"0.3.4\", \"failureMessage\": \"\", \"exceptionClass\": \"\", \"trace\": \"\"}}, \"*\")"
      ],
      "text/plain": [
       "<IPython.core.display.Javascript object>"
      ]
     },
     "metadata": {},
     "output_type": "display_data"
    },
    {
     "data": {
      "text/markdown": [
       "<span style=\"color:#33cc33\">Correct</span>"
      ],
      "text/plain": [
       "Correct"
      ]
     },
     "metadata": {},
     "output_type": "display_data"
    }
   ],
   "source": [
    "# Your code here\n",
    "sel_counties = CA_stats[(\n",
    "    (CA_stats.high_earners > 100000) &\n",
    "    (CA_stats.median_age < 38.5) &\n",
    "    (CA_stats.density > 285) &\n",
    "    (\n",
    "        (CA_stats.median_age < 35.5) |\n",
    "        (CA_stats.density > 1400) |\n",
    "        (CA_stats.high_earners > 500000)\n",
    "    )\n",
    ")]\n",
    "\n",
    "# Check your answer\n",
    "q_4.check()"
   ]
  },
  {
   "cell_type": "code",
   "execution_count": 16,
   "id": "f7c54ac7",
   "metadata": {
    "execution": {
     "iopub.execute_input": "2023-03-26T18:31:47.582369Z",
     "iopub.status.busy": "2023-03-26T18:31:47.581669Z",
     "iopub.status.idle": "2023-03-26T18:31:47.585992Z",
     "shell.execute_reply": "2023-03-26T18:31:47.585002Z"
    },
    "papermill": {
     "duration": 0.016589,
     "end_time": "2023-03-26T18:31:47.588046",
     "exception": false,
     "start_time": "2023-03-26T18:31:47.571457",
     "status": "completed"
    },
    "tags": []
   },
   "outputs": [],
   "source": [
    "# Lines below will give you a hint or solution code\n",
    "# q_4.hint()\n",
    "# q_4.solution()"
   ]
  },
  {
   "cell_type": "markdown",
   "id": "8a34a261",
   "metadata": {
    "papermill": {
     "duration": 0.009768,
     "end_time": "2023-03-26T18:31:47.606778",
     "exception": false,
     "start_time": "2023-03-26T18:31:47.597010",
     "status": "completed"
    },
    "tags": []
   },
   "source": [
    "### 5) How many stores did you identify?\n",
    "\n",
    "When looking for the next Starbucks Reserve Roastery location, you'd like to consider all of the stores within the counties that you selected.  So, how many stores are within the selected counties?\n",
    "\n",
    "To prepare to answer this question, run the next code cell to create a GeoDataFrame `starbucks_gdf` with all of the starbucks locations."
   ]
  },
  {
   "cell_type": "code",
   "execution_count": 17,
   "id": "0e53adbd",
   "metadata": {
    "execution": {
     "iopub.execute_input": "2023-03-26T18:31:47.627493Z",
     "iopub.status.busy": "2023-03-26T18:31:47.627125Z",
     "iopub.status.idle": "2023-03-26T18:31:47.642501Z",
     "shell.execute_reply": "2023-03-26T18:31:47.641286Z"
    },
    "papermill": {
     "duration": 0.028865,
     "end_time": "2023-03-26T18:31:47.644889",
     "exception": false,
     "start_time": "2023-03-26T18:31:47.616024",
     "status": "completed"
    },
    "tags": []
   },
   "outputs": [],
   "source": [
    "starbucks_gdf = gpd.GeoDataFrame(starbucks, geometry=gpd.points_from_xy(starbucks.Longitude, starbucks.Latitude))\n",
    "starbucks_gdf.crs = {'init': 'epsg:4326'}"
   ]
  },
  {
   "cell_type": "markdown",
   "id": "59fe4920",
   "metadata": {
    "papermill": {
     "duration": 0.009324,
     "end_time": "2023-03-26T18:31:47.663611",
     "exception": false,
     "start_time": "2023-03-26T18:31:47.654287",
     "status": "completed"
    },
    "tags": []
   },
   "source": [
    "So, how many stores are in the counties you selected?"
   ]
  },
  {
   "cell_type": "code",
   "execution_count": 18,
   "id": "06712085",
   "metadata": {
    "execution": {
     "iopub.execute_input": "2023-03-26T18:31:47.684121Z",
     "iopub.status.busy": "2023-03-26T18:31:47.683715Z",
     "iopub.status.idle": "2023-03-26T18:31:47.779981Z",
     "shell.execute_reply": "2023-03-26T18:31:47.778691Z"
    },
    "papermill": {
     "duration": 0.109884,
     "end_time": "2023-03-26T18:31:47.782481",
     "exception": false,
     "start_time": "2023-03-26T18:31:47.672597",
     "status": "completed"
    },
    "tags": []
   },
   "outputs": [
    {
     "data": {
      "application/javascript": [
       "parent.postMessage({\"jupyterEvent\": \"custom.exercise_interaction\", \"data\": {\"outcomeType\": 1, \"valueTowardsCompletion\": 0.2, \"interactionType\": 1, \"questionType\": 2, \"questionId\": \"5_Q5\", \"learnToolsVersion\": \"0.3.4\", \"failureMessage\": \"\", \"exceptionClass\": \"\", \"trace\": \"\"}}, \"*\")"
      ],
      "text/plain": [
       "<IPython.core.display.Javascript object>"
      ]
     },
     "metadata": {},
     "output_type": "display_data"
    },
    {
     "data": {
      "text/markdown": [
       "<span style=\"color:#33cc33\">Correct</span>"
      ],
      "text/plain": [
       "Correct"
      ]
     },
     "metadata": {},
     "output_type": "display_data"
    }
   ],
   "source": [
    "# Fill in your answer\n",
    "num_stores = len(gpd.sjoin(starbucks_gdf, sel_counties))\n",
    "\n",
    "# Check your answer\n",
    "q_5.check()"
   ]
  },
  {
   "cell_type": "code",
   "execution_count": 19,
   "id": "02a50a9d",
   "metadata": {
    "execution": {
     "iopub.execute_input": "2023-03-26T18:31:47.804386Z",
     "iopub.status.busy": "2023-03-26T18:31:47.803979Z",
     "iopub.status.idle": "2023-03-26T18:31:47.808643Z",
     "shell.execute_reply": "2023-03-26T18:31:47.807410Z"
    },
    "papermill": {
     "duration": 0.018829,
     "end_time": "2023-03-26T18:31:47.811149",
     "exception": false,
     "start_time": "2023-03-26T18:31:47.792320",
     "status": "completed"
    },
    "tags": []
   },
   "outputs": [],
   "source": [
    "# Lines below will give you a hint or solution code\n",
    "# q_5.hint()\n",
    "# q_5.solution()"
   ]
  },
  {
   "cell_type": "markdown",
   "id": "567eaba5",
   "metadata": {
    "papermill": {
     "duration": 0.009481,
     "end_time": "2023-03-26T18:31:47.830383",
     "exception": false,
     "start_time": "2023-03-26T18:31:47.820902",
     "status": "completed"
    },
    "tags": []
   },
   "source": [
    "### 6) Visualize the store locations.\n",
    "\n",
    "Create a map that shows the locations of the stores that you identified in the previous question."
   ]
  },
  {
   "cell_type": "code",
   "execution_count": 20,
   "id": "b5d7cac6",
   "metadata": {
    "execution": {
     "iopub.execute_input": "2023-03-26T18:31:47.852343Z",
     "iopub.status.busy": "2023-03-26T18:31:47.851523Z",
     "iopub.status.idle": "2023-03-26T18:31:48.662126Z",
     "shell.execute_reply": "2023-03-26T18:31:48.660617Z"
    },
    "papermill": {
     "duration": 0.82415,
     "end_time": "2023-03-26T18:31:48.664471",
     "exception": false,
     "start_time": "2023-03-26T18:31:47.840321",
     "status": "completed"
    },
    "tags": []
   },
   "outputs": [
    {
     "data": {
      "text/html": [
       "\n",
       "        <iframe\n",
       "            width=\"100%\"\n",
       "            height=\"500px\"\n",
       "            src=\"q_6.html\"\n",
       "            frameborder=\"0\"\n",
       "            allowfullscreen\n",
       "            \n",
       "        ></iframe>\n",
       "        "
      ],
      "text/plain": [
       "<IPython.lib.display.IFrame at 0x7f3db108cc90>"
      ]
     },
     "execution_count": 20,
     "metadata": {},
     "output_type": "execute_result"
    }
   ],
   "source": [
    "# Create a base map\n",
    "m_6 = folium.Map(location=[37,-120], zoom_start=6)\n",
    "\n",
    "# Your code here: show selected store locations\n",
    "mc = MarkerCluster()\n",
    "for idx, row in gpd.sjoin(starbucks_gdf, sel_counties).iterrows():\n",
    "    if not math.isnan(row['Longitude']) and not math.isnan(row['Latitude']):\n",
    "        mc.add_child(folium.Marker([row['Latitude'], row['Longitude']]))\n",
    "m_6.add_child(mc)\n",
    "\n",
    "# Uncomment to see a hint\n",
    "# q_6.hint()\n",
    "\n",
    "# Show the map\n",
    "embed_map(m_6, 'q_6.html')"
   ]
  },
  {
   "cell_type": "code",
   "execution_count": 21,
   "id": "c29fe0ae",
   "metadata": {
    "execution": {
     "iopub.execute_input": "2023-03-26T18:31:48.686994Z",
     "iopub.status.busy": "2023-03-26T18:31:48.686621Z",
     "iopub.status.idle": "2023-03-26T18:31:48.697369Z",
     "shell.execute_reply": "2023-03-26T18:31:48.696629Z"
    },
    "papermill": {
     "duration": 0.024498,
     "end_time": "2023-03-26T18:31:48.699363",
     "exception": false,
     "start_time": "2023-03-26T18:31:48.674865",
     "status": "completed"
    },
    "tags": []
   },
   "outputs": [
    {
     "data": {
      "application/javascript": [
       "parent.postMessage({\"jupyterEvent\": \"custom.exercise_interaction\", \"data\": {\"outcomeType\": 1, \"valueTowardsCompletion\": 0.2, \"interactionType\": 1, \"questionType\": 2, \"questionId\": \"6_Q6\", \"learnToolsVersion\": \"0.3.4\", \"failureMessage\": \"\", \"exceptionClass\": \"\", \"trace\": \"\"}}, \"*\")"
      ],
      "text/plain": [
       "<IPython.core.display.Javascript object>"
      ]
     },
     "metadata": {},
     "output_type": "display_data"
    },
    {
     "data": {
      "text/markdown": [
       "<span style=\"color:#33cc33\">Thank you for creating a map!</span>"
      ],
      "text/plain": [
       "Thank you for creating a map!"
      ]
     },
     "metadata": {},
     "output_type": "display_data"
    }
   ],
   "source": [
    "# Get credit for your work after you have created a map\n",
    "q_6.check()\n",
    "\n",
    "# Uncomment to see our solution (your code may look different!)\n",
    "# q_6.solution()"
   ]
  },
  {
   "cell_type": "markdown",
   "id": "d9fa15e4",
   "metadata": {
    "papermill": {
     "duration": 0.010122,
     "end_time": "2023-03-26T18:31:48.719834",
     "exception": false,
     "start_time": "2023-03-26T18:31:48.709712",
     "status": "completed"
    },
    "tags": []
   },
   "source": [
    "---\n",
    "\n",
    "\n",
    "\n",
    "\n",
    "**Allen**"
   ]
  }
 ],
 "metadata": {
  "kernelspec": {
   "display_name": "Python 3",
   "language": "python",
   "name": "python3"
  },
  "language_info": {
   "codemirror_mode": {
    "name": "ipython",
    "version": 3
   },
   "file_extension": ".py",
   "mimetype": "text/x-python",
   "name": "python",
   "nbconvert_exporter": "python",
   "pygments_lexer": "ipython3",
   "version": "3.7.12"
  },
  "papermill": {
   "default_parameters": {},
   "duration": 14.39866,
   "end_time": "2023-03-26T18:31:49.450978",
   "environment_variables": {},
   "exception": null,
   "input_path": "__notebook__.ipynb",
   "output_path": "__notebook__.ipynb",
   "parameters": {},
   "start_time": "2023-03-26T18:31:35.052318",
   "version": "2.4.0"
  }
 },
 "nbformat": 4,
 "nbformat_minor": 5
}
