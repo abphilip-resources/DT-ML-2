{
 "cells": [
  {
   "cell_type": "markdown",
   "id": "445649dc",
   "metadata": {
    "papermill": {
     "duration": 0.005553,
     "end_time": "2023-04-08T02:14:45.944652",
     "exception": false,
     "start_time": "2023-04-08T02:14:45.939099",
     "status": "completed"
    },
    "tags": []
   },
   "source": [
    "**This notebook is an exercise in the [Intro to Deep Learning](https://www.kaggle.com/learn/intro-to-deep-learning) course.  You can reference the tutorial at [this link](https://www.kaggle.com/ryanholbrook/dropout-and-batch-normalization).**\n",
    "\n",
    "---\n"
   ]
  },
  {
   "cell_type": "markdown",
   "id": "559a78c5",
   "metadata": {
    "papermill": {
     "duration": 0.004349,
     "end_time": "2023-04-08T02:14:45.953565",
     "exception": false,
     "start_time": "2023-04-08T02:14:45.949216",
     "status": "completed"
    },
    "tags": []
   },
   "source": [
    "# Introduction #\n",
    "\n",
    "In this exercise, you'll add dropout to the *Spotify* model from Exercise 4 and see how batch normalization can let you successfully train models on difficult datasets.\n",
    "\n",
    "Run the next cell to get started!"
   ]
  },
  {
   "cell_type": "code",
   "execution_count": 1,
   "id": "ff3d3487",
   "metadata": {
    "execution": {
     "iopub.execute_input": "2023-04-08T02:14:45.964866Z",
     "iopub.status.busy": "2023-04-08T02:14:45.963762Z",
     "iopub.status.idle": "2023-04-08T02:14:46.005605Z",
     "shell.execute_reply": "2023-04-08T02:14:46.004676Z"
    },
    "papermill": {
     "duration": 0.05005,
     "end_time": "2023-04-08T02:14:46.008038",
     "exception": false,
     "start_time": "2023-04-08T02:14:45.957988",
     "status": "completed"
    },
    "tags": []
   },
   "outputs": [],
   "source": [
    "import warnings\n",
    "warnings.filterwarnings(\"ignore\")\n",
    "\n",
    "# Setup plotting\n",
    "import matplotlib.pyplot as plt\n",
    "plt.style.use('seaborn-whitegrid')\n",
    "# Set Matplotlib defaults\n",
    "plt.rc('figure', autolayout=True)\n",
    "plt.rc('axes', labelweight='bold', labelsize='large',\n",
    "       titleweight='bold', titlesize=18, titlepad=10)\n",
    "plt.rc('animation', html='html5')\n",
    "\n",
    "# Setup feedback system\n",
    "from learntools.core import binder\n",
    "binder.bind(globals())\n",
    "from learntools.deep_learning_intro.ex5 import *"
   ]
  },
  {
   "cell_type": "markdown",
   "id": "85aba64b",
   "metadata": {
    "papermill": {
     "duration": 0.00419,
     "end_time": "2023-04-08T02:14:46.016612",
     "exception": false,
     "start_time": "2023-04-08T02:14:46.012422",
     "status": "completed"
    },
    "tags": []
   },
   "source": [
    "First load the *Spotify* dataset."
   ]
  },
  {
   "cell_type": "code",
   "execution_count": 2,
   "id": "23ac469d",
   "metadata": {
    "execution": {
     "iopub.execute_input": "2023-04-08T02:14:46.026682Z",
     "iopub.status.busy": "2023-04-08T02:14:46.026372Z",
     "iopub.status.idle": "2023-04-08T02:14:53.990485Z",
     "shell.execute_reply": "2023-04-08T02:14:53.989341Z"
    },
    "papermill": {
     "duration": 7.97215,
     "end_time": "2023-04-08T02:14:53.993094",
     "exception": false,
     "start_time": "2023-04-08T02:14:46.020944",
     "status": "completed"
    },
    "tags": []
   },
   "outputs": [
    {
     "name": "stdout",
     "output_type": "stream",
     "text": [
      "Input shape: [18]\n"
     ]
    }
   ],
   "source": [
    "import pandas as pd\n",
    "from sklearn.preprocessing import StandardScaler, OneHotEncoder\n",
    "from sklearn.compose import make_column_transformer\n",
    "from sklearn.model_selection import GroupShuffleSplit\n",
    "\n",
    "from tensorflow import keras\n",
    "from tensorflow.keras import layers\n",
    "from tensorflow.keras import callbacks\n",
    "\n",
    "spotify = pd.read_csv('../input/dl-course-data/spotify.csv')\n",
    "\n",
    "X = spotify.copy().dropna()\n",
    "y = X.pop('track_popularity')\n",
    "artists = X['track_artist']\n",
    "\n",
    "features_num = ['danceability', 'energy', 'key', 'loudness', 'mode',\n",
    "                'speechiness', 'acousticness', 'instrumentalness',\n",
    "                'liveness', 'valence', 'tempo', 'duration_ms']\n",
    "features_cat = ['playlist_genre']\n",
    "\n",
    "preprocessor = make_column_transformer(\n",
    "    (StandardScaler(), features_num),\n",
    "    (OneHotEncoder(), features_cat),\n",
    ")\n",
    "\n",
    "def group_split(X, y, group, train_size=0.75):\n",
    "    splitter = GroupShuffleSplit(train_size=train_size)\n",
    "    train, test = next(splitter.split(X, y, groups=group))\n",
    "    return (X.iloc[train], X.iloc[test], y.iloc[train], y.iloc[test])\n",
    "\n",
    "X_train, X_valid, y_train, y_valid = group_split(X, y, artists)\n",
    "\n",
    "X_train = preprocessor.fit_transform(X_train)\n",
    "X_valid = preprocessor.transform(X_valid)\n",
    "y_train = y_train / 100\n",
    "y_valid = y_valid / 100\n",
    "\n",
    "input_shape = [X_train.shape[1]]\n",
    "print(\"Input shape: {}\".format(input_shape))"
   ]
  },
  {
   "cell_type": "markdown",
   "id": "af2dbdde",
   "metadata": {
    "papermill": {
     "duration": 0.004649,
     "end_time": "2023-04-08T02:14:54.002583",
     "exception": false,
     "start_time": "2023-04-08T02:14:53.997934",
     "status": "completed"
    },
    "tags": []
   },
   "source": [
    "# 1) Add Dropout to Spotify Model\n",
    "\n",
    "Here is the last model from Exercise 4. Add two dropout layers, one after the `Dense` layer with 128 units, and one after the `Dense` layer with 64 units. Set the dropout rate on both to `0.3`."
   ]
  },
  {
   "cell_type": "code",
   "execution_count": 3,
   "id": "f6368017",
   "metadata": {
    "execution": {
     "iopub.execute_input": "2023-04-08T02:14:54.013399Z",
     "iopub.status.busy": "2023-04-08T02:14:54.013056Z",
     "iopub.status.idle": "2023-04-08T02:14:56.939369Z",
     "shell.execute_reply": "2023-04-08T02:14:56.938432Z"
    },
    "lines_to_next_cell": 2,
    "papermill": {
     "duration": 2.934455,
     "end_time": "2023-04-08T02:14:56.941624",
     "exception": false,
     "start_time": "2023-04-08T02:14:54.007169",
     "status": "completed"
    },
    "tags": []
   },
   "outputs": [
    {
     "data": {
      "application/javascript": [
       "parent.postMessage({\"jupyterEvent\": \"custom.exercise_interaction\", \"data\": {\"outcomeType\": 2, \"failureMessage\": \"Your model doesn't have the correct kinds of layers. You should have five layers with classes: ['Dense', 'Dropout', 'Dense', 'Dropout', 'Dense'].\", \"interactionType\": 1, \"questionType\": 2, \"questionId\": \"1_Q1\", \"learnToolsVersion\": \"0.3.4\", \"valueTowardsCompletion\": 0.0, \"exceptionClass\": \"\", \"trace\": \"\"}}, \"*\")"
      ],
      "text/plain": [
       "<IPython.core.display.Javascript object>"
      ]
     },
     "metadata": {},
     "output_type": "display_data"
    },
    {
     "data": {
      "text/markdown": [
       "<span style=\"color:#cc3333\">Incorrect:</span> Your model doesn't have the correct kinds of layers. You should have five layers with classes: ['Dense', 'Dropout', 'Dense', 'Dropout', 'Dense']."
      ],
      "text/plain": [
       "Incorrect: Your model doesn't have the correct kinds of layers. You should have five layers with classes: ['Dense', 'Dropout', 'Dense', 'Dropout', 'Dense']."
      ]
     },
     "metadata": {},
     "output_type": "display_data"
    }
   ],
   "source": [
    "# YOUR CODE HERE: Add two 30% dropout layers, one after 128 and one after 64\n",
    "model = keras.Sequential([\n",
    "    layers.Dense(128, activation='relu', input_shape=input_shape),\n",
    "    layers.Dense(64, activation='relu'),\n",
    "    layers.Dense(1)\n",
    "])\n",
    "\n",
    "# Check your answer\n",
    "q_1.check()"
   ]
  },
  {
   "cell_type": "code",
   "execution_count": 4,
   "id": "0b21265b",
   "metadata": {
    "execution": {
     "iopub.execute_input": "2023-04-08T02:14:56.953030Z",
     "iopub.status.busy": "2023-04-08T02:14:56.952713Z",
     "iopub.status.idle": "2023-04-08T02:14:56.957592Z",
     "shell.execute_reply": "2023-04-08T02:14:56.956666Z"
    },
    "papermill": {
     "duration": 0.01324,
     "end_time": "2023-04-08T02:14:56.959756",
     "exception": false,
     "start_time": "2023-04-08T02:14:56.946516",
     "status": "completed"
    },
    "tags": []
   },
   "outputs": [],
   "source": [
    "# Lines below will give you a hint or solution code\n",
    "# q_1.hint()\n",
    "# q_1.solution()"
   ]
  },
  {
   "cell_type": "markdown",
   "id": "81203d22",
   "metadata": {
    "papermill": {
     "duration": 0.004507,
     "end_time": "2023-04-08T02:14:56.968976",
     "exception": false,
     "start_time": "2023-04-08T02:14:56.964469",
     "status": "completed"
    },
    "tags": []
   },
   "source": [
    "Now run this next cell to train the model see the effect of adding dropout."
   ]
  },
  {
   "cell_type": "code",
   "execution_count": 5,
   "id": "6c994bb7",
   "metadata": {
    "execution": {
     "iopub.execute_input": "2023-04-08T02:14:56.979627Z",
     "iopub.status.busy": "2023-04-08T02:14:56.979316Z",
     "iopub.status.idle": "2023-04-08T02:15:18.659732Z",
     "shell.execute_reply": "2023-04-08T02:15:18.658657Z"
    },
    "papermill": {
     "duration": 21.688315,
     "end_time": "2023-04-08T02:15:18.661912",
     "exception": false,
     "start_time": "2023-04-08T02:14:56.973597",
     "status": "completed"
    },
    "tags": []
   },
   "outputs": [
    {
     "name": "stdout",
     "output_type": "stream",
     "text": [
      "Minimum Validation Loss: 0.1948\n"
     ]
    },
    {
     "data": {
      "image/png": "[encoded data removed]",
      "text/plain": [
       "<Figure size 640x480 with 1 Axes>"
      ]
     },
     "metadata": {},
     "output_type": "display_data"
    }
   ],
   "source": [
    "model.compile(\n",
    "    optimizer='adam',\n",
    "    loss='mae',\n",
    ")\n",
    "history = model.fit(\n",
    "    X_train, y_train,\n",
    "    validation_data=(X_valid, y_valid),\n",
    "    batch_size=512,\n",
    "    epochs=50,\n",
    "    verbose=0,\n",
    ")\n",
    "history_df = pd.DataFrame(history.history)\n",
    "history_df.loc[:, ['loss', 'val_loss']].plot()\n",
    "print(\"Minimum Validation Loss: {:0.4f}\".format(history_df['val_loss'].min()))"
   ]
  },
  {
   "cell_type": "markdown",
   "id": "3cf603bd",
   "metadata": {
    "papermill": {
     "duration": 0.006125,
     "end_time": "2023-04-08T02:15:18.673675",
     "exception": false,
     "start_time": "2023-04-08T02:15:18.667550",
     "status": "completed"
    },
    "tags": []
   },
   "source": [
    "# 2) Evaluate Dropout\n",
    "\n",
    "Recall from Exercise 4 that this model tended to overfit the data around epoch 5. Did adding dropout seem to help prevent overfitting this time?"
   ]
  },
  {
   "cell_type": "code",
   "execution_count": 6,
   "id": "2f9c69b2",
   "metadata": {
    "execution": {
     "iopub.execute_input": "2023-04-08T02:15:18.686269Z",
     "iopub.status.busy": "2023-04-08T02:15:18.685717Z",
     "iopub.status.idle": "2023-04-08T02:15:18.694258Z",
     "shell.execute_reply": "2023-04-08T02:15:18.693072Z"
    },
    "papermill": {
     "duration": 0.017138,
     "end_time": "2023-04-08T02:15:18.696407",
     "exception": false,
     "start_time": "2023-04-08T02:15:18.679269",
     "status": "completed"
    },
    "tags": []
   },
   "outputs": [
    {
     "data": {
      "application/javascript": [
       "parent.postMessage({\"jupyterEvent\": \"custom.exercise_interaction\", \"data\": {\"outcomeType\": 1, \"valueTowardsCompletion\": 0.25, \"interactionType\": 1, \"questionType\": 4, \"questionId\": \"2_Q2\", \"learnToolsVersion\": \"0.3.4\", \"failureMessage\": \"\", \"exceptionClass\": \"\", \"trace\": \"\"}}, \"*\")"
      ],
      "text/plain": [
       "<IPython.core.display.Javascript object>"
      ]
     },
     "metadata": {},
     "output_type": "display_data"
    },
    {
     "data": {
      "text/markdown": [
       "<span style=\"color:#33cc33\">Correct:</span> \n",
       "\n",
       "\n",
       "From the learning curves, you can see that the validation loss remains near a constant minimum even though the training loss continues to decrease. So we can see that adding dropout did prevent overfitting this time. Moreover, by making it harder for the network to fit spurious patterns, dropout may have encouraged the network to seek out more of the true patterns, possibly improving the validation loss some as well).\n"
      ],
      "text/plain": [
       "Correct: \n",
       "\n",
       "\n",
       "From the learning curves, you can see that the validation loss remains near a constant minimum even though the training loss continues to decrease. So we can see that adding dropout did prevent overfitting this time. Moreover, by making it harder for the network to fit spurious patterns, dropout may have encouraged the network to seek out more of the true patterns, possibly improving the validation loss some as well)."
      ]
     },
     "metadata": {},
     "output_type": "display_data"
    }
   ],
   "source": [
    "# View the solution (Run this cell to receive credit!)\n",
    "q_2.check()"
   ]
  },
  {
   "cell_type": "markdown",
   "id": "8c812501",
   "metadata": {
    "papermill": {
     "duration": 0.005185,
     "end_time": "2023-04-08T02:15:18.706996",
     "exception": false,
     "start_time": "2023-04-08T02:15:18.701811",
     "status": "completed"
    },
    "tags": []
   },
   "source": [
    "Now, we'll switch topics to explore how batch normalization can fix problems in training.\n",
    "\n",
    "Load the *Concrete* dataset. We won't do any standardization this time. This will make the effect of batch normalization much more apparent."
   ]
  },
  {
   "cell_type": "code",
   "execution_count": 7,
   "id": "206628c0",
   "metadata": {
    "execution": {
     "iopub.execute_input": "2023-04-08T02:15:18.719375Z",
     "iopub.status.busy": "2023-04-08T02:15:18.719053Z",
     "iopub.status.idle": "2023-04-08T02:15:18.736952Z",
     "shell.execute_reply": "2023-04-08T02:15:18.735999Z"
    },
    "papermill": {
     "duration": 0.026831,
     "end_time": "2023-04-08T02:15:18.739253",
     "exception": false,
     "start_time": "2023-04-08T02:15:18.712422",
     "status": "completed"
    },
    "tags": []
   },
   "outputs": [],
   "source": [
    "import pandas as pd\n",
    "\n",
    "concrete = pd.read_csv('../input/dl-course-data/concrete.csv')\n",
    "df = concrete.copy()\n",
    "\n",
    "df_train = df.sample(frac=0.7, random_state=0)\n",
    "df_valid = df.drop(df_train.index)\n",
    "\n",
    "X_train = df_train.drop('CompressiveStrength', axis=1)\n",
    "X_valid = df_valid.drop('CompressiveStrength', axis=1)\n",
    "y_train = df_train['CompressiveStrength']\n",
    "y_valid = df_valid['CompressiveStrength']\n",
    "\n",
    "input_shape = [X_train.shape[1]]"
   ]
  },
  {
   "cell_type": "markdown",
   "id": "10a7837f",
   "metadata": {
    "papermill": {
     "duration": 0.005522,
     "end_time": "2023-04-08T02:15:18.750426",
     "exception": false,
     "start_time": "2023-04-08T02:15:18.744904",
     "status": "completed"
    },
    "tags": []
   },
   "source": [
    "Run the following cell to train the network on the unstandardized *Concrete* data."
   ]
  },
  {
   "cell_type": "code",
   "execution_count": 8,
   "id": "d10b3fc2",
   "metadata": {
    "execution": {
     "iopub.execute_input": "2023-04-08T02:15:18.763244Z",
     "iopub.status.busy": "2023-04-08T02:15:18.762918Z",
     "iopub.status.idle": "2023-04-08T02:15:26.806572Z",
     "shell.execute_reply": "2023-04-08T02:15:26.805597Z"
    },
    "papermill": {
     "duration": 8.052626,
     "end_time": "2023-04-08T02:15:26.808875",
     "exception": false,
     "start_time": "2023-04-08T02:15:18.756249",
     "status": "completed"
    },
    "tags": []
   },
   "outputs": [
    {
     "name": "stdout",
     "output_type": "stream",
     "text": [
      "Minimum Validation Loss: nan\n"
     ]
    },
    {
     "data": {
      "image/png": "[encoded data removed]",
      "text/plain": [
       "<Figure size 640x480 with 1 Axes>"
      ]
     },
     "metadata": {},
     "output_type": "display_data"
    }
   ],
   "source": [
    "model = keras.Sequential([\n",
    "    layers.Dense(512, activation='relu', input_shape=input_shape),\n",
    "    layers.Dense(512, activation='relu'),    \n",
    "    layers.Dense(512, activation='relu'),\n",
    "    layers.Dense(1),\n",
    "])\n",
    "model.compile(\n",
    "    optimizer='sgd', # SGD is more sensitive to differences of scale\n",
    "    loss='mae',\n",
    "    metrics=['mae'],\n",
    ")\n",
    "history = model.fit(\n",
    "    X_train, y_train,\n",
    "    validation_data=(X_valid, y_valid),\n",
    "    batch_size=64,\n",
    "    epochs=100,\n",
    "    verbose=0,\n",
    ")\n",
    "\n",
    "history_df = pd.DataFrame(history.history)\n",
    "history_df.loc[0:, ['loss', 'val_loss']].plot()\n",
    "print((\"Minimum Validation Loss: {:0.4f}\").format(history_df['val_loss'].min()))"
   ]
  },
  {
   "cell_type": "markdown",
   "id": "0dfd5ece",
   "metadata": {
    "papermill": {
     "duration": 0.005625,
     "end_time": "2023-04-08T02:15:26.820545",
     "exception": false,
     "start_time": "2023-04-08T02:15:26.814920",
     "status": "completed"
    },
    "tags": []
   },
   "source": [
    "Did you end up with a blank graph? Trying to train this network on this dataset will usually fail. Even when it does converge (due to a lucky weight initialization), it tends to converge to a very large number.\n",
    "\n",
    "# 3) Add Batch Normalization Layers\n",
    "\n",
    "Batch normalization can help correct problems like this.\n",
    "\n",
    "Add four `BatchNormalization` layers, one before each of the dense layers. (Remember to move the `input_shape` argument to the new first layer.)"
   ]
  },
  {
   "cell_type": "code",
   "execution_count": 9,
   "id": "a0df77f3",
   "metadata": {
    "execution": {
     "iopub.execute_input": "2023-04-08T02:15:26.833327Z",
     "iopub.status.busy": "2023-04-08T02:15:26.832995Z",
     "iopub.status.idle": "2023-04-08T02:15:26.943553Z",
     "shell.execute_reply": "2023-04-08T02:15:26.942584Z"
    },
    "lines_to_next_cell": 0,
    "papermill": {
     "duration": 0.119607,
     "end_time": "2023-04-08T02:15:26.945748",
     "exception": false,
     "start_time": "2023-04-08T02:15:26.826141",
     "status": "completed"
    },
    "tags": []
   },
   "outputs": [
    {
     "data": {
      "application/javascript": [
       "parent.postMessage({\"jupyterEvent\": \"custom.exercise_interaction\", \"data\": {\"outcomeType\": 1, \"valueTowardsCompletion\": 0.25, \"interactionType\": 1, \"questionType\": 2, \"questionId\": \"3_Q3\", \"learnToolsVersion\": \"0.3.4\", \"failureMessage\": \"\", \"exceptionClass\": \"\", \"trace\": \"\"}}, \"*\")"
      ],
      "text/plain": [
       "<IPython.core.display.Javascript object>"
      ]
     },
     "metadata": {},
     "output_type": "display_data"
    },
    {
     "data": {
      "text/markdown": [
       "<span style=\"color:#33cc33\">Correct</span>"
      ],
      "text/plain": [
       "Correct"
      ]
     },
     "metadata": {},
     "output_type": "display_data"
    }
   ],
   "source": [
    "# YOUR CODE HERE: Add a BatchNormalization layer before each Dense layer\n",
    "model = keras.Sequential([\n",
    "    layers.BatchNormalization(input_shape=input_shape),\n",
    "    layers.Dense(512, activation='relu'),\n",
    "    layers.BatchNormalization(),\n",
    "    layers.Dense(512, activation='relu'),\n",
    "    layers.BatchNormalization(),\n",
    "    layers.Dense(512, activation='relu'),\n",
    "    layers.BatchNormalization(),\n",
    "    layers.Dense(1),\n",
    "])\n",
    "\n",
    "# Check your answer\n",
    "q_3.check()"
   ]
  },
  {
   "cell_type": "code",
   "execution_count": 10,
   "id": "e6903ac3",
   "metadata": {
    "execution": {
     "iopub.execute_input": "2023-04-08T02:15:26.959230Z",
     "iopub.status.busy": "2023-04-08T02:15:26.958918Z",
     "iopub.status.idle": "2023-04-08T02:15:26.963215Z",
     "shell.execute_reply": "2023-04-08T02:15:26.962121Z"
    },
    "papermill": {
     "duration": 0.014025,
     "end_time": "2023-04-08T02:15:26.965783",
     "exception": false,
     "start_time": "2023-04-08T02:15:26.951758",
     "status": "completed"
    },
    "tags": []
   },
   "outputs": [],
   "source": [
    "# Lines below will give you a hint or solution code\n",
    "# q_3.hint()\n",
    "# q_3.solution()"
   ]
  },
  {
   "cell_type": "markdown",
   "id": "abe4a999",
   "metadata": {
    "papermill": {
     "duration": 0.005702,
     "end_time": "2023-04-08T02:15:26.977366",
     "exception": false,
     "start_time": "2023-04-08T02:15:26.971664",
     "status": "completed"
    },
    "tags": []
   },
   "source": [
    "Run the next cell to see if batch normalization will let us train the model."
   ]
  },
  {
   "cell_type": "code",
   "execution_count": 11,
   "id": "0198e3d2",
   "metadata": {
    "execution": {
     "iopub.execute_input": "2023-04-08T02:15:26.990434Z",
     "iopub.status.busy": "2023-04-08T02:15:26.990104Z",
     "iopub.status.idle": "2023-04-08T02:15:38.142719Z",
     "shell.execute_reply": "2023-04-08T02:15:38.141572Z"
    },
    "papermill": {
     "duration": 11.161782,
     "end_time": "2023-04-08T02:15:38.145029",
     "exception": false,
     "start_time": "2023-04-08T02:15:26.983247",
     "status": "completed"
    },
    "tags": []
   },
   "outputs": [
    {
     "name": "stdout",
     "output_type": "stream",
     "text": [
      "Minimum Validation Loss: 4.2179\n"
     ]
    },
    {
     "data": {
      "image/png": "[encoded data removed]",
      "text/plain": [
       "<Figure size 640x480 with 1 Axes>"
      ]
     },
     "metadata": {},
     "output_type": "display_data"
    }
   ],
   "source": [
    "model.compile(\n",
    "    optimizer='sgd',\n",
    "    loss='mae',\n",
    "    metrics=['mae'],\n",
    ")\n",
    "EPOCHS = 100\n",
    "history = model.fit(\n",
    "    X_train, y_train,\n",
    "    validation_data=(X_valid, y_valid),\n",
    "    batch_size=64,\n",
    "    epochs=EPOCHS,\n",
    "    verbose=0,\n",
    ")\n",
    "\n",
    "history_df = pd.DataFrame(history.history)\n",
    "history_df.loc[0:, ['loss', 'val_loss']].plot()\n",
    "print((\"Minimum Validation Loss: {:0.4f}\").format(history_df['val_loss'].min()))"
   ]
  },
  {
   "cell_type": "markdown",
   "id": "3d877b72",
   "metadata": {
    "papermill": {
     "duration": 0.006465,
     "end_time": "2023-04-08T02:15:38.158575",
     "exception": false,
     "start_time": "2023-04-08T02:15:38.152110",
     "status": "completed"
    },
    "tags": []
   },
   "source": [
    "# 4) Evaluate Batch Normalization\n",
    "\n",
    "Did adding batch normalization help?"
   ]
  },
  {
   "cell_type": "code",
   "execution_count": 12,
   "id": "a1eb98a9",
   "metadata": {
    "execution": {
     "iopub.execute_input": "2023-04-08T02:15:38.173081Z",
     "iopub.status.busy": "2023-04-08T02:15:38.172181Z",
     "iopub.status.idle": "2023-04-08T02:15:38.181428Z",
     "shell.execute_reply": "2023-04-08T02:15:38.180241Z"
    },
    "lines_to_next_cell": 0,
    "papermill": {
     "duration": 0.019465,
     "end_time": "2023-04-08T02:15:38.184344",
     "exception": false,
     "start_time": "2023-04-08T02:15:38.164879",
     "status": "completed"
    },
    "tags": []
   },
   "outputs": [
    {
     "data": {
      "application/javascript": [
       "parent.postMessage({\"jupyterEvent\": \"custom.exercise_interaction\", \"data\": {\"outcomeType\": 1, \"valueTowardsCompletion\": 0.25, \"interactionType\": 1, \"questionType\": 4, \"questionId\": \"4_Q4\", \"learnToolsVersion\": \"0.3.4\", \"failureMessage\": \"\", \"exceptionClass\": \"\", \"trace\": \"\"}}, \"*\")"
      ],
      "text/plain": [
       "<IPython.core.display.Javascript object>"
      ]
     },
     "metadata": {},
     "output_type": "display_data"
    },
    {
     "data": {
      "text/markdown": [
       "<span style=\"color:#33cc33\">Correct:</span> \n",
       "\n",
       "\n",
       "You can see that adding batch normalization was a big improvement on the first attempt! By adaptively scaling the data as it passes through the network, batch normalization can let you train models on difficult datasets.\n"
      ],
      "text/plain": [
       "Correct: \n",
       "\n",
       "\n",
       "You can see that adding batch normalization was a big improvement on the first attempt! By adaptively scaling the data as it passes through the network, batch normalization can let you train models on difficult datasets."
      ]
     },
     "metadata": {},
     "output_type": "display_data"
    }
   ],
   "source": [
    "# View the solution (Run this cell to receive credit!)\n",
    "q_4.check()"
   ]
  },
  {
   "cell_type": "markdown",
   "id": "6a5f4a16",
   "metadata": {
    "papermill": {
     "duration": 0.006418,
     "end_time": "2023-04-08T02:15:38.197178",
     "exception": false,
     "start_time": "2023-04-08T02:15:38.190760",
     "status": "completed"
    },
    "tags": []
   },
   "source": [
    "---\n",
    "\n",
    "\n",
    "\n",
    "\n",
    "**Allen**"
   ]
  }
 ],
 "metadata": {
  "kernelspec": {
   "display_name": "Python 3",
   "language": "python",
   "name": "python3"
  },
  "language_info": {
   "codemirror_mode": {
    "name": "ipython",
    "version": 3
   },
   "file_extension": ".py",
   "mimetype": "text/x-python",
   "name": "python",
   "nbconvert_exporter": "python",
   "pygments_lexer": "ipython3",
   "version": "3.7.12"
  },
  "papermill": {
   "default_parameters": {},
   "duration": 64.831895,
   "end_time": "2023-04-08T02:15:41.689810",
   "environment_variables": {},
   "exception": null,
   "input_path": "__notebook__.ipynb",
   "output_path": "__notebook__.ipynb",
   "parameters": {},
   "start_time": "2023-04-08T02:14:36.857915",
   "version": "2.4.0"
  }
 },
 "nbformat": 4,
 "nbformat_minor": 5
}
