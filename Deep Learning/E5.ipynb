{
 "cells": [
  {
   "cell_type": "markdown",
   "id": "a7ba20b7",
   "metadata": {
    "papermill": {
     "duration": 0.005348,
     "end_time": "2023-04-08T02:21:51.418137",
     "exception": false,
     "start_time": "2023-04-08T02:21:51.412789",
     "status": "completed"
    },
    "tags": []
   },
   "source": [
    "**This notebook is an exercise in the [Intro to Deep Learning](https://www.kaggle.com/learn/intro-to-deep-learning) course.  You can reference the tutorial at [this link](https://www.kaggle.com/ryanholbrook/dropout-and-batch-normalization).**\n",
    "\n",
    "---\n"
   ]
  },
  {
   "cell_type": "markdown",
   "id": "6dd156e1",
   "metadata": {
    "papermill": {
     "duration": 0.003944,
     "end_time": "2023-04-08T02:21:51.426479",
     "exception": false,
     "start_time": "2023-04-08T02:21:51.422535",
     "status": "completed"
    },
    "tags": []
   },
   "source": [
    "# Introduction #\n",
    "\n",
    "In this exercise, you'll add dropout to the *Spotify* model from Exercise 4 and see how batch normalization can let you successfully train models on difficult datasets.\n",
    "\n",
    "Run the next cell to get started!"
   ]
  },
  {
   "cell_type": "code",
   "execution_count": 1,
   "id": "9d62d0e8",
   "metadata": {
    "execution": {
     "iopub.execute_input": "2023-04-08T02:21:51.437002Z",
     "iopub.status.busy": "2023-04-08T02:21:51.436240Z",
     "iopub.status.idle": "2023-04-08T02:21:51.475223Z",
     "shell.execute_reply": "2023-04-08T02:21:51.474223Z"
    },
    "papermill": {
     "duration": 0.047097,
     "end_time": "2023-04-08T02:21:51.477763",
     "exception": false,
     "start_time": "2023-04-08T02:21:51.430666",
     "status": "completed"
    },
    "tags": []
   },
   "outputs": [],
   "source": [
    "import warnings\n",
    "warnings.filterwarnings(\"ignore\")\n",
    "\n",
    "# Setup plotting\n",
    "import matplotlib.pyplot as plt\n",
    "plt.style.use('seaborn-whitegrid')\n",
    "# Set Matplotlib defaults\n",
    "plt.rc('figure', autolayout=True)\n",
    "plt.rc('axes', labelweight='bold', labelsize='large',\n",
    "       titleweight='bold', titlesize=18, titlepad=10)\n",
    "plt.rc('animation', html='html5')\n",
    "\n",
    "# Setup feedback system\n",
    "from learntools.core import binder\n",
    "binder.bind(globals())\n",
    "from learntools.deep_learning_intro.ex5 import *"
   ]
  },
  {
   "cell_type": "markdown",
   "id": "bd233e32",
   "metadata": {
    "papermill": {
     "duration": 0.004373,
     "end_time": "2023-04-08T02:21:51.486675",
     "exception": false,
     "start_time": "2023-04-08T02:21:51.482302",
     "status": "completed"
    },
    "tags": []
   },
   "source": [
    "First load the *Spotify* dataset."
   ]
  },
  {
   "cell_type": "code",
   "execution_count": 2,
   "id": "da3e226a",
   "metadata": {
    "execution": {
     "iopub.execute_input": "2023-04-08T02:21:51.497044Z",
     "iopub.status.busy": "2023-04-08T02:21:51.496179Z",
     "iopub.status.idle": "2023-04-08T02:21:59.221354Z",
     "shell.execute_reply": "2023-04-08T02:21:59.220191Z"
    },
    "papermill": {
     "duration": 7.733495,
     "end_time": "2023-04-08T02:21:59.224413",
     "exception": false,
     "start_time": "2023-04-08T02:21:51.490918",
     "status": "completed"
    },
    "tags": []
   },
   "outputs": [
    {
     "name": "stdout",
     "output_type": "stream",
     "text": [
      "Input shape: [18]\n"
     ]
    }
   ],
   "source": [
    "import pandas as pd\n",
    "from sklearn.preprocessing import StandardScaler, OneHotEncoder\n",
    "from sklearn.compose import make_column_transformer\n",
    "from sklearn.model_selection import GroupShuffleSplit\n",
    "\n",
    "from tensorflow import keras\n",
    "from tensorflow.keras import layers\n",
    "from tensorflow.keras import callbacks\n",
    "\n",
    "spotify = pd.read_csv('../input/dl-course-data/spotify.csv')\n",
    "\n",
    "X = spotify.copy().dropna()\n",
    "y = X.pop('track_popularity')\n",
    "artists = X['track_artist']\n",
    "\n",
    "features_num = ['danceability', 'energy', 'key', 'loudness', 'mode',\n",
    "                'speechiness', 'acousticness', 'instrumentalness',\n",
    "                'liveness', 'valence', 'tempo', 'duration_ms']\n",
    "features_cat = ['playlist_genre']\n",
    "\n",
    "preprocessor = make_column_transformer(\n",
    "    (StandardScaler(), features_num),\n",
    "    (OneHotEncoder(), features_cat),\n",
    ")\n",
    "\n",
    "def group_split(X, y, group, train_size=0.75):\n",
    "    splitter = GroupShuffleSplit(train_size=train_size)\n",
    "    train, test = next(splitter.split(X, y, groups=group))\n",
    "    return (X.iloc[train], X.iloc[test], y.iloc[train], y.iloc[test])\n",
    "\n",
    "X_train, X_valid, y_train, y_valid = group_split(X, y, artists)\n",
    "\n",
    "X_train = preprocessor.fit_transform(X_train)\n",
    "X_valid = preprocessor.transform(X_valid)\n",
    "y_train = y_train / 100\n",
    "y_valid = y_valid / 100\n",
    "\n",
    "input_shape = [X_train.shape[1]]\n",
    "print(\"Input shape: {}\".format(input_shape))"
   ]
  },
  {
   "cell_type": "markdown",
   "id": "b96de194",
   "metadata": {
    "papermill": {
     "duration": 0.004178,
     "end_time": "2023-04-08T02:21:59.233277",
     "exception": false,
     "start_time": "2023-04-08T02:21:59.229099",
     "status": "completed"
    },
    "tags": []
   },
   "source": [
    "# 1) Add Dropout to Spotify Model\n",
    "\n",
    "Here is the last model from Exercise 4. Add two dropout layers, one after the `Dense` layer with 128 units, and one after the `Dense` layer with 64 units. Set the dropout rate on both to `0.3`."
   ]
  },
  {
   "cell_type": "code",
   "execution_count": 3,
   "id": "b9a246c3",
   "metadata": {
    "execution": {
     "iopub.execute_input": "2023-04-08T02:21:59.243361Z",
     "iopub.status.busy": "2023-04-08T02:21:59.243042Z",
     "iopub.status.idle": "2023-04-08T02:22:01.906321Z",
     "shell.execute_reply": "2023-04-08T02:22:01.905213Z"
    },
    "lines_to_next_cell": 2,
    "papermill": {
     "duration": 2.670838,
     "end_time": "2023-04-08T02:22:01.908479",
     "exception": false,
     "start_time": "2023-04-08T02:21:59.237641",
     "status": "completed"
    },
    "tags": []
   },
   "outputs": [
    {
     "data": {
      "application/javascript": [
       "parent.postMessage({\"jupyterEvent\": \"custom.exercise_interaction\", \"data\": {\"outcomeType\": 1, \"valueTowardsCompletion\": 0.25, \"interactionType\": 1, \"questionType\": 2, \"questionId\": \"1_Q1\", \"learnToolsVersion\": \"0.3.4\", \"failureMessage\": \"\", \"exceptionClass\": \"\", \"trace\": \"\"}}, \"*\")"
      ],
      "text/plain": [
       "<IPython.core.display.Javascript object>"
      ]
     },
     "metadata": {},
     "output_type": "display_data"
    },
    {
     "data": {
      "text/markdown": [
       "<span style=\"color:#33cc33\">Correct</span>"
      ],
      "text/plain": [
       "Correct"
      ]
     },
     "metadata": {},
     "output_type": "display_data"
    }
   ],
   "source": [
    "# YOUR CODE HERE: Add two 30% dropout layers, one after 128 and one after 64\n",
    "model = keras.Sequential([\n",
    "    layers.Dense(128, activation='relu', input_shape=input_shape),\n",
    "    layers.Dropout(0.3),\n",
    "    layers.Dense(64, activation='relu'),\n",
    "    layers.Dropout(0.3),\n",
    "    layers.Dense(1)\n",
    "])\n",
    "\n",
    "# Check your answer\n",
    "q_1.check()"
   ]
  },
  {
   "cell_type": "code",
   "execution_count": 4,
   "id": "a1bc8cc3",
   "metadata": {
    "execution": {
     "iopub.execute_input": "2023-04-08T02:22:01.918968Z",
     "iopub.status.busy": "2023-04-08T02:22:01.918665Z",
     "iopub.status.idle": "2023-04-08T02:22:01.923399Z",
     "shell.execute_reply": "2023-04-08T02:22:01.921809Z"
    },
    "papermill": {
     "duration": 0.012371,
     "end_time": "2023-04-08T02:22:01.925532",
     "exception": false,
     "start_time": "2023-04-08T02:22:01.913161",
     "status": "completed"
    },
    "tags": []
   },
   "outputs": [],
   "source": [
    "# Lines below will give you a hint or solution code\n",
    "# q_1.hint()\n",
    "# q_1.solution()"
   ]
  },
  {
   "cell_type": "markdown",
   "id": "8a3c8a9e",
   "metadata": {
    "papermill": {
     "duration": 0.004392,
     "end_time": "2023-04-08T02:22:01.934425",
     "exception": false,
     "start_time": "2023-04-08T02:22:01.930033",
     "status": "completed"
    },
    "tags": []
   },
   "source": [
    "Now run this next cell to train the model see the effect of adding dropout."
   ]
  },
  {
   "cell_type": "code",
   "execution_count": 5,
   "id": "5b540106",
   "metadata": {
    "execution": {
     "iopub.execute_input": "2023-04-08T02:22:01.947401Z",
     "iopub.status.busy": "2023-04-08T02:22:01.947113Z",
     "iopub.status.idle": "2023-04-08T02:22:23.541278Z",
     "shell.execute_reply": "2023-04-08T02:22:23.539218Z"
    },
    "papermill": {
     "duration": 21.602112,
     "end_time": "2023-04-08T02:22:23.543760",
     "exception": false,
     "start_time": "2023-04-08T02:22:01.941648",
     "status": "completed"
    },
    "tags": []
   },
   "outputs": [
    {
     "name": "stdout",
     "output_type": "stream",
     "text": [
      "Minimum Validation Loss: 0.1920\n"
     ]
    },
    {
     "data": {
      "image/png": "[encoded data removed]",
      "text/plain": [
       "<Figure size 640x480 with 1 Axes>"
      ]
     },
     "metadata": {},
     "output_type": "display_data"
    }
   ],
   "source": [
    "model.compile(\n",
    "    optimizer='adam',\n",
    "    loss='mae',\n",
    ")\n",
    "history = model.fit(\n",
    "    X_train, y_train,\n",
    "    validation_data=(X_valid, y_valid),\n",
    "    batch_size=512,\n",
    "    epochs=50,\n",
    "    verbose=0,\n",
    ")\n",
    "history_df = pd.DataFrame(history.history)\n",
    "history_df.loc[:, ['loss', 'val_loss']].plot()\n",
    "print(\"Minimum Validation Loss: {:0.4f}\".format(history_df['val_loss'].min()))"
   ]
  },
  {
   "cell_type": "markdown",
   "id": "8e663438",
   "metadata": {
    "papermill": {
     "duration": 0.005793,
     "end_time": "2023-04-08T02:22:23.554936",
     "exception": false,
     "start_time": "2023-04-08T02:22:23.549143",
     "status": "completed"
    },
    "tags": []
   },
   "source": [
    "# 2) Evaluate Dropout\n",
    "\n",
    "Recall from Exercise 4 that this model tended to overfit the data around epoch 5. Did adding dropout seem to help prevent overfitting this time?"
   ]
  },
  {
   "cell_type": "code",
   "execution_count": 6,
   "id": "78908ea2",
   "metadata": {
    "execution": {
     "iopub.execute_input": "2023-04-08T02:22:23.567085Z",
     "iopub.status.busy": "2023-04-08T02:22:23.566237Z",
     "iopub.status.idle": "2023-04-08T02:22:23.574838Z",
     "shell.execute_reply": "2023-04-08T02:22:23.573831Z"
    },
    "papermill": {
     "duration": 0.017063,
     "end_time": "2023-04-08T02:22:23.576916",
     "exception": false,
     "start_time": "2023-04-08T02:22:23.559853",
     "status": "completed"
    },
    "tags": []
   },
   "outputs": [
    {
     "data": {
      "application/javascript": [
       "parent.postMessage({\"jupyterEvent\": \"custom.exercise_interaction\", \"data\": {\"outcomeType\": 1, \"valueTowardsCompletion\": 0.25, \"interactionType\": 1, \"questionType\": 4, \"questionId\": \"2_Q2\", \"learnToolsVersion\": \"0.3.4\", \"failureMessage\": \"\", \"exceptionClass\": \"\", \"trace\": \"\"}}, \"*\")"
      ],
      "text/plain": [
       "<IPython.core.display.Javascript object>"
      ]
     },
     "metadata": {},
     "output_type": "display_data"
    },
    {
     "data": {
      "text/markdown": [
       "<span style=\"color:#33cc33\">Correct:</span> \n",
       "\n",
       "\n",
       "From the learning curves, you can see that the validation loss remains near a constant minimum even though the training loss continues to decrease. So we can see that adding dropout did prevent overfitting this time. Moreover, by making it harder for the network to fit spurious patterns, dropout may have encouraged the network to seek out more of the true patterns, possibly improving the validation loss some as well).\n"
      ],
      "text/plain": [
       "Correct: \n",
       "\n",
       "\n",
       "From the learning curves, you can see that the validation loss remains near a constant minimum even though the training loss continues to decrease. So we can see that adding dropout did prevent overfitting this time. Moreover, by making it harder for the network to fit spurious patterns, dropout may have encouraged the network to seek out more of the true patterns, possibly improving the validation loss some as well)."
      ]
     },
     "metadata": {},
     "output_type": "display_data"
    }
   ],
   "source": [
    "# View the solution (Run this cell to receive credit!)\n",
    "q_2.check()"
   ]
  },
  {
   "cell_type": "markdown",
   "id": "bd1c64f4",
   "metadata": {
    "papermill": {
     "duration": 0.005088,
     "end_time": "2023-04-08T02:22:23.587222",
     "exception": false,
     "start_time": "2023-04-08T02:22:23.582134",
     "status": "completed"
    },
    "tags": []
   },
   "source": [
    "Now, we'll switch topics to explore how batch normalization can fix problems in training.\n",
    "\n",
    "Load the *Concrete* dataset. We won't do any standardization this time. This will make the effect of batch normalization much more apparent."
   ]
  },
  {
   "cell_type": "code",
   "execution_count": 7,
   "id": "ee185425",
   "metadata": {
    "execution": {
     "iopub.execute_input": "2023-04-08T02:22:23.598642Z",
     "iopub.status.busy": "2023-04-08T02:22:23.598361Z",
     "iopub.status.idle": "2023-04-08T02:22:23.616492Z",
     "shell.execute_reply": "2023-04-08T02:22:23.615612Z"
    },
    "papermill": {
     "duration": 0.026437,
     "end_time": "2023-04-08T02:22:23.618704",
     "exception": false,
     "start_time": "2023-04-08T02:22:23.592267",
     "status": "completed"
    },
    "tags": []
   },
   "outputs": [],
   "source": [
    "import pandas as pd\n",
    "\n",
    "concrete = pd.read_csv('../input/dl-course-data/concrete.csv')\n",
    "df = concrete.copy()\n",
    "\n",
    "df_train = df.sample(frac=0.7, random_state=0)\n",
    "df_valid = df.drop(df_train.index)\n",
    "\n",
    "X_train = df_train.drop('CompressiveStrength', axis=1)\n",
    "X_valid = df_valid.drop('CompressiveStrength', axis=1)\n",
    "y_train = df_train['CompressiveStrength']\n",
    "y_valid = df_valid['CompressiveStrength']\n",
    "\n",
    "input_shape = [X_train.shape[1]]"
   ]
  },
  {
   "cell_type": "markdown",
   "id": "620f4cd0",
   "metadata": {
    "papermill": {
     "duration": 0.004879,
     "end_time": "2023-04-08T02:22:23.629068",
     "exception": false,
     "start_time": "2023-04-08T02:22:23.624189",
     "status": "completed"
    },
    "tags": []
   },
   "source": [
    "Run the following cell to train the network on the unstandardized *Concrete* data."
   ]
  },
  {
   "cell_type": "code",
   "execution_count": 8,
   "id": "3497faf8",
   "metadata": {
    "execution": {
     "iopub.execute_input": "2023-04-08T02:22:23.641047Z",
     "iopub.status.busy": "2023-04-08T02:22:23.640154Z",
     "iopub.status.idle": "2023-04-08T02:22:31.177777Z",
     "shell.execute_reply": "2023-04-08T02:22:31.176745Z"
    },
    "papermill": {
     "duration": 7.545805,
     "end_time": "2023-04-08T02:22:31.179978",
     "exception": false,
     "start_time": "2023-04-08T02:22:23.634173",
     "status": "completed"
    },
    "tags": []
   },
   "outputs": [
    {
     "name": "stdout",
     "output_type": "stream",
     "text": [
      "Minimum Validation Loss: nan\n"
     ]
    },
    {
     "data": {
      "image/png": "[encoded data removed]",
      "text/plain": [
       "<Figure size 640x480 with 1 Axes>"
      ]
     },
     "metadata": {},
     "output_type": "display_data"
    }
   ],
   "source": [
    "model = keras.Sequential([\n",
    "    layers.Dense(512, activation='relu', input_shape=input_shape),\n",
    "    layers.Dense(512, activation='relu'),    \n",
    "    layers.Dense(512, activation='relu'),\n",
    "    layers.Dense(1),\n",
    "])\n",
    "model.compile(\n",
    "    optimizer='sgd', # SGD is more sensitive to differences of scale\n",
    "    loss='mae',\n",
    "    metrics=['mae'],\n",
    ")\n",
    "history = model.fit(\n",
    "    X_train, y_train,\n",
    "    validation_data=(X_valid, y_valid),\n",
    "    batch_size=64,\n",
    "    epochs=100,\n",
    "    verbose=0,\n",
    ")\n",
    "\n",
    "history_df = pd.DataFrame(history.history)\n",
    "history_df.loc[0:, ['loss', 'val_loss']].plot()\n",
    "print((\"Minimum Validation Loss: {:0.4f}\").format(history_df['val_loss'].min()))"
   ]
  },
  {
   "cell_type": "markdown",
   "id": "054980a3",
   "metadata": {
    "papermill": {
     "duration": 0.005318,
     "end_time": "2023-04-08T02:22:31.190977",
     "exception": false,
     "start_time": "2023-04-08T02:22:31.185659",
     "status": "completed"
    },
    "tags": []
   },
   "source": [
    "Did you end up with a blank graph? Trying to train this network on this dataset will usually fail. Even when it does converge (due to a lucky weight initialization), it tends to converge to a very large number.\n",
    "\n",
    "# 3) Add Batch Normalization Layers\n",
    "\n",
    "Batch normalization can help correct problems like this.\n",
    "\n",
    "Add four `BatchNormalization` layers, one before each of the dense layers. (Remember to move the `input_shape` argument to the new first layer.)"
   ]
  },
  {
   "cell_type": "code",
   "execution_count": 9,
   "id": "846a1d91",
   "metadata": {
    "execution": {
     "iopub.execute_input": "2023-04-08T02:22:31.203579Z",
     "iopub.status.busy": "2023-04-08T02:22:31.202731Z",
     "iopub.status.idle": "2023-04-08T02:22:31.307780Z",
     "shell.execute_reply": "2023-04-08T02:22:31.306719Z"
    },
    "lines_to_next_cell": 0,
    "papermill": {
     "duration": 0.113563,
     "end_time": "2023-04-08T02:22:31.309951",
     "exception": false,
     "start_time": "2023-04-08T02:22:31.196388",
     "status": "completed"
    },
    "tags": []
   },
   "outputs": [
    {
     "data": {
      "application/javascript": [
       "parent.postMessage({\"jupyterEvent\": \"custom.exercise_interaction\", \"data\": {\"outcomeType\": 1, \"valueTowardsCompletion\": 0.25, \"interactionType\": 1, \"questionType\": 2, \"questionId\": \"3_Q3\", \"learnToolsVersion\": \"0.3.4\", \"failureMessage\": \"\", \"exceptionClass\": \"\", \"trace\": \"\"}}, \"*\")"
      ],
      "text/plain": [
       "<IPython.core.display.Javascript object>"
      ]
     },
     "metadata": {},
     "output_type": "display_data"
    },
    {
     "data": {
      "text/markdown": [
       "<span style=\"color:#33cc33\">Correct</span>"
      ],
      "text/plain": [
       "Correct"
      ]
     },
     "metadata": {},
     "output_type": "display_data"
    }
   ],
   "source": [
    "# YOUR CODE HERE: Add a BatchNormalization layer before each Dense layer\n",
    "model = keras.Sequential([\n",
    "    layers.BatchNormalization(input_shape=input_shape),\n",
    "    layers.Dense(512, activation='relu'),\n",
    "    layers.BatchNormalization(),\n",
    "    layers.Dense(512, activation='relu'),\n",
    "    layers.BatchNormalization(),\n",
    "    layers.Dense(512, activation='relu'),\n",
    "    layers.BatchNormalization(),\n",
    "    layers.Dense(1),\n",
    "])\n",
    "\n",
    "# Check your answer\n",
    "q_3.check()"
   ]
  },
  {
   "cell_type": "code",
   "execution_count": 10,
   "id": "ddfd648a",
   "metadata": {
    "execution": {
     "iopub.execute_input": "2023-04-08T02:22:31.323308Z",
     "iopub.status.busy": "2023-04-08T02:22:31.322499Z",
     "iopub.status.idle": "2023-04-08T02:22:31.326860Z",
     "shell.execute_reply": "2023-04-08T02:22:31.325877Z"
    },
    "papermill": {
     "duration": 0.013229,
     "end_time": "2023-04-08T02:22:31.328979",
     "exception": false,
     "start_time": "2023-04-08T02:22:31.315750",
     "status": "completed"
    },
    "tags": []
   },
   "outputs": [],
   "source": [
    "# Lines below will give you a hint or solution code\n",
    "# q_3.hint()\n",
    "# q_3.solution()"
   ]
  },
  {
   "cell_type": "markdown",
   "id": "9875b9a5",
   "metadata": {
    "papermill": {
     "duration": 0.005467,
     "end_time": "2023-04-08T02:22:31.340152",
     "exception": false,
     "start_time": "2023-04-08T02:22:31.334685",
     "status": "completed"
    },
    "tags": []
   },
   "source": [
    "Run the next cell to see if batch normalization will let us train the model."
   ]
  },
  {
   "cell_type": "code",
   "execution_count": 11,
   "id": "edf43bf7",
   "metadata": {
    "execution": {
     "iopub.execute_input": "2023-04-08T02:22:31.352508Z",
     "iopub.status.busy": "2023-04-08T02:22:31.352240Z",
     "iopub.status.idle": "2023-04-08T02:22:41.962638Z",
     "shell.execute_reply": "2023-04-08T02:22:41.961673Z"
    },
    "papermill": {
     "duration": 10.618899,
     "end_time": "2023-04-08T02:22:41.964673",
     "exception": false,
     "start_time": "2023-04-08T02:22:31.345774",
     "status": "completed"
    },
    "tags": []
   },
   "outputs": [
    {
     "name": "stdout",
     "output_type": "stream",
     "text": [
      "Minimum Validation Loss: 3.7061\n"
     ]
    },
    {
     "data": {
      "image/png": "[encoded data removed]",
      "text/plain": [
       "<Figure size 640x480 with 1 Axes>"
      ]
     },
     "metadata": {},
     "output_type": "display_data"
    }
   ],
   "source": [
    "model.compile(\n",
    "    optimizer='sgd',\n",
    "    loss='mae',\n",
    "    metrics=['mae'],\n",
    ")\n",
    "EPOCHS = 100\n",
    "history = model.fit(\n",
    "    X_train, y_train,\n",
    "    validation_data=(X_valid, y_valid),\n",
    "    batch_size=64,\n",
    "    epochs=EPOCHS,\n",
    "    verbose=0,\n",
    ")\n",
    "\n",
    "history_df = pd.DataFrame(history.history)\n",
    "history_df.loc[0:, ['loss', 'val_loss']].plot()\n",
    "print((\"Minimum Validation Loss: {:0.4f}\").format(history_df['val_loss'].min()))"
   ]
  },
  {
   "cell_type": "markdown",
   "id": "7bbd06d6",
   "metadata": {
    "papermill": {
     "duration": 0.006149,
     "end_time": "2023-04-08T02:22:41.977667",
     "exception": false,
     "start_time": "2023-04-08T02:22:41.971518",
     "status": "completed"
    },
    "tags": []
   },
   "source": [
    "# 4) Evaluate Batch Normalization\n",
    "\n",
    "Did adding batch normalization help?"
   ]
  },
  {
   "cell_type": "code",
   "execution_count": 12,
   "id": "0a50dd58",
   "metadata": {
    "execution": {
     "iopub.execute_input": "2023-04-08T02:22:41.991946Z",
     "iopub.status.busy": "2023-04-08T02:22:41.991070Z",
     "iopub.status.idle": "2023-04-08T02:22:41.999803Z",
     "shell.execute_reply": "2023-04-08T02:22:41.998719Z"
    },
    "lines_to_next_cell": 0,
    "papermill": {
     "duration": 0.01874,
     "end_time": "2023-04-08T02:22:42.002651",
     "exception": false,
     "start_time": "2023-04-08T02:22:41.983911",
     "status": "completed"
    },
    "tags": []
   },
   "outputs": [
    {
     "data": {
      "application/javascript": [
       "parent.postMessage({\"jupyterEvent\": \"custom.exercise_interaction\", \"data\": {\"outcomeType\": 1, \"valueTowardsCompletion\": 0.25, \"interactionType\": 1, \"questionType\": 4, \"questionId\": \"4_Q4\", \"learnToolsVersion\": \"0.3.4\", \"failureMessage\": \"\", \"exceptionClass\": \"\", \"trace\": \"\"}}, \"*\")"
      ],
      "text/plain": [
       "<IPython.core.display.Javascript object>"
      ]
     },
     "metadata": {},
     "output_type": "display_data"
    },
    {
     "data": {
      "text/markdown": [
       "<span style=\"color:#33cc33\">Correct:</span> \n",
       "\n",
       "\n",
       "You can see that adding batch normalization was a big improvement on the first attempt! By adaptively scaling the data as it passes through the network, batch normalization can let you train models on difficult datasets.\n"
      ],
      "text/plain": [
       "Correct: \n",
       "\n",
       "\n",
       "You can see that adding batch normalization was a big improvement on the first attempt! By adaptively scaling the data as it passes through the network, batch normalization can let you train models on difficult datasets."
      ]
     },
     "metadata": {},
     "output_type": "display_data"
    }
   ],
   "source": [
    "# View the solution (Run this cell to receive credit!)\n",
    "q_4.check()"
   ]
  },
  {
   "cell_type": "markdown",
   "id": "40bcf5c2",
   "metadata": {
    "papermill": {
     "duration": 0.006457,
     "end_time": "2023-04-08T02:22:42.015777",
     "exception": false,
     "start_time": "2023-04-08T02:22:42.009320",
     "status": "completed"
    },
    "tags": []
   },
   "source": [
    "---\n",
    "\n",
    "\n",
    "\n",
    "\n",
    "**Allen**"
   ]
  }
 ],
 "metadata": {
  "kernelspec": {
   "display_name": "Python 3",
   "language": "python",
   "name": "python3"
  },
  "language_info": {
   "codemirror_mode": {
    "name": "ipython",
    "version": 3
   },
   "file_extension": ".py",
   "mimetype": "text/x-python",
   "name": "python",
   "nbconvert_exporter": "python",
   "pygments_lexer": "ipython3",
   "version": "3.7.12"
  },
  "papermill": {
   "default_parameters": {},
   "duration": 62.759408,
   "end_time": "2023-04-08T02:22:45.378585",
   "environment_variables": {},
   "exception": null,
   "input_path": "__notebook__.ipynb",
   "output_path": "__notebook__.ipynb",
   "parameters": {},
   "start_time": "2023-04-08T02:21:42.619177",
   "version": "2.4.0"
  }
 },
 "nbformat": 4,
 "nbformat_minor": 5
}
