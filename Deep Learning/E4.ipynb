{
 "cells": [
  {
   "cell_type": "markdown",
   "id": "a33529b9",
   "metadata": {
    "papermill": {
     "duration": 0.005466,
     "end_time": "2023-04-07T02:18:56.001124",
     "exception": false,
     "start_time": "2023-04-07T02:18:55.995658",
     "status": "completed"
    },
    "tags": []
   },
   "source": [
    "**This notebook is an exercise in the [Intro to Deep Learning](https://www.kaggle.com/learn/intro-to-deep-learning) course.  You can reference the tutorial at [this link](https://www.kaggle.com/ryanholbrook/overfitting-and-underfitting).**\n",
    "\n",
    "---\n"
   ]
  },
  {
   "cell_type": "markdown",
   "id": "d4d0ac8f",
   "metadata": {
    "papermill": {
     "duration": 0.004272,
     "end_time": "2023-04-07T02:18:56.009930",
     "exception": false,
     "start_time": "2023-04-07T02:18:56.005658",
     "status": "completed"
    },
    "tags": []
   },
   "source": [
    "# Introduction #\n",
    "\n",
    "In this exercise, you’ll learn how to improve training outcomes by including an early stopping callback to prevent overfitting.\n",
    "\n",
    "When you're ready, run this next cell to set everything up!"
   ]
  },
  {
   "cell_type": "code",
   "execution_count": 1,
   "id": "7d263d59",
   "metadata": {
    "execution": {
     "iopub.execute_input": "2023-04-07T02:18:56.020688Z",
     "iopub.status.busy": "2023-04-07T02:18:56.020000Z",
     "iopub.status.idle": "2023-04-07T02:18:56.059307Z",
     "shell.execute_reply": "2023-04-07T02:18:56.058410Z"
    },
    "papermill": {
     "duration": 0.047198,
     "end_time": "2023-04-07T02:18:56.061653",
     "exception": false,
     "start_time": "2023-04-07T02:18:56.014455",
     "status": "completed"
    },
    "tags": []
   },
   "outputs": [],
   "source": [
    "import warnings\n",
    "warnings.filterwarnings(\"ignore\")\n",
    "\n",
    "# Setup plotting\n",
    "import matplotlib.pyplot as plt\n",
    "plt.style.use('seaborn-whitegrid')\n",
    "# Set Matplotlib defaults\n",
    "plt.rc('figure', autolayout=True)\n",
    "plt.rc('axes', labelweight='bold', labelsize='large',\n",
    "       titleweight='bold', titlesize=18, titlepad=10)\n",
    "plt.rc('animation', html='html5')\n",
    "\n",
    "# Setup feedback system\n",
    "from learntools.core import binder\n",
    "binder.bind(globals())\n",
    "from learntools.deep_learning_intro.ex4 import *"
   ]
  },
  {
   "cell_type": "markdown",
   "id": "24c1c85d",
   "metadata": {
    "papermill": {
     "duration": 0.004211,
     "end_time": "2023-04-07T02:18:56.070433",
     "exception": false,
     "start_time": "2023-04-07T02:18:56.066222",
     "status": "completed"
    },
    "tags": []
   },
   "source": [
    "First load the *Spotify* dataset. Your task will be to predict the popularity of a song based on various audio features, like `'tempo'`, `'danceability'`, and `'mode'`."
   ]
  },
  {
   "cell_type": "code",
   "execution_count": 2,
   "id": "18006983",
   "metadata": {
    "execution": {
     "iopub.execute_input": "2023-04-07T02:18:56.080740Z",
     "iopub.status.busy": "2023-04-07T02:18:56.079894Z",
     "iopub.status.idle": "2023-04-07T02:19:03.858863Z",
     "shell.execute_reply": "2023-04-07T02:19:03.857664Z"
    },
    "papermill": {
     "duration": 7.786591,
     "end_time": "2023-04-07T02:19:03.861313",
     "exception": false,
     "start_time": "2023-04-07T02:18:56.074722",
     "status": "completed"
    },
    "tags": []
   },
   "outputs": [
    {
     "name": "stdout",
     "output_type": "stream",
     "text": [
      "Input shape: [18]\n"
     ]
    }
   ],
   "source": [
    "import pandas as pd\n",
    "from sklearn.preprocessing import StandardScaler, OneHotEncoder\n",
    "from sklearn.compose import make_column_transformer\n",
    "from sklearn.model_selection import GroupShuffleSplit\n",
    "\n",
    "from tensorflow import keras\n",
    "from tensorflow.keras import layers\n",
    "from tensorflow.keras import callbacks\n",
    "\n",
    "spotify = pd.read_csv('../input/dl-course-data/spotify.csv')\n",
    "\n",
    "X = spotify.copy().dropna()\n",
    "y = X.pop('track_popularity')\n",
    "artists = X['track_artist']\n",
    "\n",
    "features_num = ['danceability', 'energy', 'key', 'loudness', 'mode',\n",
    "                'speechiness', 'acousticness', 'instrumentalness',\n",
    "                'liveness', 'valence', 'tempo', 'duration_ms']\n",
    "features_cat = ['playlist_genre']\n",
    "\n",
    "preprocessor = make_column_transformer(\n",
    "    (StandardScaler(), features_num),\n",
    "    (OneHotEncoder(), features_cat),\n",
    ")\n",
    "\n",
    "# We'll do a \"grouped\" split to keep all of an artist's songs in one\n",
    "# split or the other. This is to help prevent signal leakage.\n",
    "def group_split(X, y, group, train_size=0.75):\n",
    "    splitter = GroupShuffleSplit(train_size=train_size)\n",
    "    train, test = next(splitter.split(X, y, groups=group))\n",
    "    return (X.iloc[train], X.iloc[test], y.iloc[train], y.iloc[test])\n",
    "\n",
    "X_train, X_valid, y_train, y_valid = group_split(X, y, artists)\n",
    "\n",
    "X_train = preprocessor.fit_transform(X_train)\n",
    "X_valid = preprocessor.transform(X_valid)\n",
    "y_train = y_train / 100 # popularity is on a scale 0-100, so this rescales to 0-1.\n",
    "y_valid = y_valid / 100\n",
    "\n",
    "input_shape = [X_train.shape[1]]\n",
    "print(\"Input shape: {}\".format(input_shape))"
   ]
  },
  {
   "cell_type": "markdown",
   "id": "10f584a2",
   "metadata": {
    "papermill": {
     "duration": 0.004369,
     "end_time": "2023-04-07T02:19:03.870433",
     "exception": false,
     "start_time": "2023-04-07T02:19:03.866064",
     "status": "completed"
    },
    "tags": []
   },
   "source": [
    "Let's start with the simplest network, a linear model. This model has low capacity.\n",
    "\n",
    "Run this next cell without any changes to train a linear model on the *Spotify* dataset."
   ]
  },
  {
   "cell_type": "code",
   "execution_count": 3,
   "id": "880969a3",
   "metadata": {
    "execution": {
     "iopub.execute_input": "2023-04-07T02:19:03.880928Z",
     "iopub.status.busy": "2023-04-07T02:19:03.880609Z",
     "iopub.status.idle": "2023-04-07T02:19:17.589290Z",
     "shell.execute_reply": "2023-04-07T02:19:17.588258Z"
    },
    "lines_to_next_cell": 0,
    "papermill": {
     "duration": 13.716683,
     "end_time": "2023-04-07T02:19:17.591749",
     "exception": false,
     "start_time": "2023-04-07T02:19:03.875066",
     "status": "completed"
    },
    "tags": []
   },
   "outputs": [
    {
     "name": "stdout",
     "output_type": "stream",
     "text": [
      "Minimum Validation Loss: 0.1907\n"
     ]
    },
    {
     "data": {
      "image/png": "[encoded data removed]",
      "text/plain": [
       "<Figure size 640x480 with 1 Axes>"
      ]
     },
     "metadata": {},
     "output_type": "display_data"
    }
   ],
   "source": [
    "model = keras.Sequential([\n",
    "    layers.Dense(1, input_shape=input_shape),\n",
    "])\n",
    "model.compile(\n",
    "    optimizer='adam',\n",
    "    loss='mae',\n",
    ")\n",
    "history = model.fit(\n",
    "    X_train, y_train,\n",
    "    validation_data=(X_valid, y_valid),\n",
    "    batch_size=512,\n",
    "    epochs=50,\n",
    "    verbose=0, # suppress output since we'll plot the curves\n",
    ")\n",
    "history_df = pd.DataFrame(history.history)\n",
    "history_df.loc[0:, ['loss', 'val_loss']].plot()\n",
    "print(\"Minimum Validation Loss: {:0.4f}\".format(history_df['val_loss'].min()));"
   ]
  },
  {
   "cell_type": "markdown",
   "id": "371fba2c",
   "metadata": {
    "papermill": {
     "duration": 0.011455,
     "end_time": "2023-04-07T02:19:17.615804",
     "exception": false,
     "start_time": "2023-04-07T02:19:17.604349",
     "status": "completed"
    },
    "tags": []
   },
   "source": [
    "It's not uncommon for the curves to follow a \"hockey stick\" pattern like you see here. This makes the final part of training hard to see, so let's start at epoch 10 instead:"
   ]
  },
  {
   "cell_type": "code",
   "execution_count": 4,
   "id": "344dfb3a",
   "metadata": {
    "execution": {
     "iopub.execute_input": "2023-04-07T02:19:17.638989Z",
     "iopub.status.busy": "2023-04-07T02:19:17.638404Z",
     "iopub.status.idle": "2023-04-07T02:19:17.954247Z",
     "shell.execute_reply": "2023-04-07T02:19:17.953298Z"
    },
    "papermill": {
     "duration": 0.328419,
     "end_time": "2023-04-07T02:19:17.956561",
     "exception": false,
     "start_time": "2023-04-07T02:19:17.628142",
     "status": "completed"
    },
    "tags": []
   },
   "outputs": [
    {
     "name": "stdout",
     "output_type": "stream",
     "text": [
      "Minimum Validation Loss: 0.1907\n"
     ]
    },
    {
     "data": {
      "image/png": "[encoded data removed]",
      "text/plain": [
       "<Figure size 640x480 with 1 Axes>"
      ]
     },
     "metadata": {},
     "output_type": "display_data"
    }
   ],
   "source": [
    "# Start the plot at epoch 10\n",
    "history_df.loc[10:, ['loss', 'val_loss']].plot()\n",
    "print(\"Minimum Validation Loss: {:0.4f}\".format(history_df['val_loss'].min()));"
   ]
  },
  {
   "cell_type": "markdown",
   "id": "d68750fd",
   "metadata": {
    "papermill": {
     "duration": 0.005207,
     "end_time": "2023-04-07T02:19:17.967268",
     "exception": false,
     "start_time": "2023-04-07T02:19:17.962061",
     "status": "completed"
    },
    "tags": []
   },
   "source": [
    "# 1) Evaluate Baseline\n",
    "\n",
    "What do you think? Would you say this model is underfitting, overfitting, just right?"
   ]
  },
  {
   "cell_type": "code",
   "execution_count": 5,
   "id": "32deae57",
   "metadata": {
    "execution": {
     "iopub.execute_input": "2023-04-07T02:19:17.980081Z",
     "iopub.status.busy": "2023-04-07T02:19:17.979748Z",
     "iopub.status.idle": "2023-04-07T02:19:17.987955Z",
     "shell.execute_reply": "2023-04-07T02:19:17.986851Z"
    },
    "papermill": {
     "duration": 0.017104,
     "end_time": "2023-04-07T02:19:17.990105",
     "exception": false,
     "start_time": "2023-04-07T02:19:17.973001",
     "status": "completed"
    },
    "tags": []
   },
   "outputs": [
    {
     "data": {
      "application/javascript": [
       "parent.postMessage({\"jupyterEvent\": \"custom.exercise_interaction\", \"data\": {\"outcomeType\": 1, \"valueTowardsCompletion\": 0.25, \"interactionType\": 1, \"questionType\": 4, \"questionId\": \"1_Q1\", \"learnToolsVersion\": \"0.3.4\", \"failureMessage\": \"\", \"exceptionClass\": \"\", \"trace\": \"\"}}, \"*\")"
      ],
      "text/plain": [
       "<IPython.core.display.Javascript object>"
      ]
     },
     "metadata": {},
     "output_type": "display_data"
    },
    {
     "data": {
      "text/markdown": [
       "<span style=\"color:#33cc33\">Correct:</span> \n",
       "\n",
       "The gap between these curves is quite small and the validation loss never increases, so it's more likely that the network is underfitting than overfitting. It would be worth experimenting with more capacity to see if that's the case."
      ],
      "text/plain": [
       "Correct: \n",
       "\n",
       "The gap between these curves is quite small and the validation loss never increases, so it's more likely that the network is underfitting than overfitting. It would be worth experimenting with more capacity to see if that's the case."
      ]
     },
     "metadata": {},
     "output_type": "display_data"
    }
   ],
   "source": [
    "# View the solution (Run this cell to receive credit!)\n",
    "q_1.check()"
   ]
  },
  {
   "cell_type": "markdown",
   "id": "8c25cbc1",
   "metadata": {
    "papermill": {
     "duration": 0.005303,
     "end_time": "2023-04-07T02:19:18.001873",
     "exception": false,
     "start_time": "2023-04-07T02:19:17.996570",
     "status": "completed"
    },
    "tags": []
   },
   "source": [
    "Now let's add some capacity to our network. We'll add three hidden layers with 128 units each. Run the next cell to train the network and see the learning curves."
   ]
  },
  {
   "cell_type": "code",
   "execution_count": 6,
   "id": "7abc0059",
   "metadata": {
    "execution": {
     "iopub.execute_input": "2023-04-07T02:19:18.014081Z",
     "iopub.status.busy": "2023-04-07T02:19:18.013786Z",
     "iopub.status.idle": "2023-04-07T02:19:39.366987Z",
     "shell.execute_reply": "2023-04-07T02:19:39.365981Z"
    },
    "papermill": {
     "duration": 21.361709,
     "end_time": "2023-04-07T02:19:39.369108",
     "exception": false,
     "start_time": "2023-04-07T02:19:18.007399",
     "status": "completed"
    },
    "tags": []
   },
   "outputs": [
    {
     "name": "stdout",
     "output_type": "stream",
     "text": [
      "Epoch 1/50\n",
      "49/49 [==============================] - 1s 6ms/step - loss: 0.2417 - val_loss: 0.2039\n",
      "Epoch 2/50\n",
      "49/49 [==============================] - 0s 4ms/step - loss: 0.2046 - val_loss: 0.1955\n",
      "Epoch 3/50\n",
      "49/49 [==============================] - 0s 4ms/step - loss: 0.1986 - val_loss: 0.1949\n",
      "Epoch 4/50\n",
      "49/49 [==============================] - 0s 4ms/step - loss: 0.1955 - val_loss: 0.1934\n",
      "Epoch 5/50\n",
      "49/49 [==============================] - 0s 4ms/step - loss: 0.1931 - val_loss: 0.1921\n",
      "Epoch 6/50\n",
      "49/49 [==============================] - 0s 4ms/step - loss: 0.1914 - val_loss: 0.1921\n",
      "Epoch 7/50\n",
      "49/49 [==============================] - 0s 4ms/step - loss: 0.1899 - val_loss: 0.1916\n",
      "Epoch 8/50\n",
      "49/49 [==============================] - 0s 4ms/step - loss: 0.1897 - val_loss: 0.1917\n",
      "Epoch 9/50\n",
      "49/49 [==============================] - 0s 4ms/step - loss: 0.1883 - val_loss: 0.1910\n",
      "Epoch 10/50\n",
      "49/49 [==============================] - 0s 4ms/step - loss: 0.1869 - val_loss: 0.1923\n",
      "Epoch 11/50\n",
      "49/49 [==============================] - 0s 4ms/step - loss: 0.1863 - val_loss: 0.1972\n",
      "Epoch 12/50\n",
      "49/49 [==============================] - 0s 4ms/step - loss: 0.1856 - val_loss: 0.1931\n",
      "Epoch 13/50\n",
      "49/49 [==============================] - 0s 4ms/step - loss: 0.1849 - val_loss: 0.1908\n",
      "Epoch 14/50\n",
      "49/49 [==============================] - 0s 6ms/step - loss: 0.1838 - val_loss: 0.1936\n",
      "Epoch 15/50\n",
      "49/49 [==============================] - 0s 6ms/step - loss: 0.1840 - val_loss: 0.1932\n",
      "Epoch 16/50\n",
      "49/49 [==============================] - 0s 5ms/step - loss: 0.1818 - val_loss: 0.1917\n",
      "Epoch 17/50\n",
      "49/49 [==============================] - 0s 5ms/step - loss: 0.1810 - val_loss: 0.1928\n",
      "Epoch 18/50\n",
      "49/49 [==============================] - 0s 4ms/step - loss: 0.1806 - val_loss: 0.1933\n",
      "Epoch 19/50\n",
      "49/49 [==============================] - 0s 4ms/step - loss: 0.1803 - val_loss: 0.1937\n",
      "Epoch 20/50\n",
      "49/49 [==============================] - 0s 4ms/step - loss: 0.1797 - val_loss: 0.1931\n",
      "Epoch 21/50\n",
      "49/49 [==============================] - 0s 4ms/step - loss: 0.1788 - val_loss: 0.1930\n",
      "Epoch 22/50\n",
      "49/49 [==============================] - 0s 4ms/step - loss: 0.1786 - val_loss: 0.1932\n",
      "Epoch 23/50\n",
      "49/49 [==============================] - 0s 4ms/step - loss: 0.1781 - val_loss: 0.1936\n",
      "Epoch 24/50\n",
      "49/49 [==============================] - 0s 4ms/step - loss: 0.1779 - val_loss: 0.1951\n",
      "Epoch 25/50\n",
      "49/49 [==============================] - 0s 4ms/step - loss: 0.1776 - val_loss: 0.1946\n",
      "Epoch 26/50\n",
      "49/49 [==============================] - 0s 4ms/step - loss: 0.1769 - val_loss: 0.1951\n",
      "Epoch 27/50\n",
      "49/49 [==============================] - 0s 4ms/step - loss: 0.1762 - val_loss: 0.1955\n",
      "Epoch 28/50\n",
      "49/49 [==============================] - 0s 4ms/step - loss: 0.1759 - val_loss: 0.1951\n",
      "Epoch 29/50\n",
      "49/49 [==============================] - 0s 4ms/step - loss: 0.1758 - val_loss: 0.1965\n",
      "Epoch 30/50\n",
      "49/49 [==============================] - 0s 4ms/step - loss: 0.1750 - val_loss: 0.1965\n",
      "Epoch 31/50\n",
      "49/49 [==============================] - 0s 4ms/step - loss: 0.1745 - val_loss: 0.1950\n",
      "Epoch 32/50\n",
      "49/49 [==============================] - 0s 4ms/step - loss: 0.1740 - val_loss: 0.1966\n",
      "Epoch 33/50\n",
      "49/49 [==============================] - 0s 4ms/step - loss: 0.1730 - val_loss: 0.1961\n",
      "Epoch 34/50\n",
      "49/49 [==============================] - 0s 4ms/step - loss: 0.1729 - val_loss: 0.1965\n",
      "Epoch 35/50\n",
      "49/49 [==============================] - 0s 4ms/step - loss: 0.1727 - val_loss: 0.1994\n",
      "Epoch 36/50\n",
      "49/49 [==============================] - 0s 4ms/step - loss: 0.1729 - val_loss: 0.1968\n",
      "Epoch 37/50\n",
      "49/49 [==============================] - 0s 4ms/step - loss: 0.1719 - val_loss: 0.1969\n",
      "Epoch 38/50\n",
      "49/49 [==============================] - 0s 4ms/step - loss: 0.1710 - val_loss: 0.1976\n",
      "Epoch 39/50\n",
      "49/49 [==============================] - 0s 4ms/step - loss: 0.1715 - val_loss: 0.1987\n",
      "Epoch 40/50\n",
      "49/49 [==============================] - 0s 4ms/step - loss: 0.1700 - val_loss: 0.1978\n",
      "Epoch 41/50\n",
      "49/49 [==============================] - 0s 4ms/step - loss: 0.1702 - val_loss: 0.1978\n",
      "Epoch 42/50\n",
      "49/49 [==============================] - 0s 4ms/step - loss: 0.1701 - val_loss: 0.1977\n",
      "Epoch 43/50\n",
      "49/49 [==============================] - 0s 4ms/step - loss: 0.1696 - val_loss: 0.1992\n",
      "Epoch 44/50\n",
      "49/49 [==============================] - 0s 4ms/step - loss: 0.1690 - val_loss: 0.1979\n",
      "Epoch 45/50\n",
      "49/49 [==============================] - 0s 4ms/step - loss: 0.1687 - val_loss: 0.1987\n",
      "Epoch 46/50\n",
      "49/49 [==============================] - 0s 6ms/step - loss: 0.1681 - val_loss: 0.1995\n",
      "Epoch 47/50\n",
      "49/49 [==============================] - 0s 4ms/step - loss: 0.1684 - val_loss: 0.1985\n",
      "Epoch 48/50\n",
      "49/49 [==============================] - 0s 4ms/step - loss: 0.1683 - val_loss: 0.1994\n",
      "Epoch 49/50\n",
      "49/49 [==============================] - 0s 4ms/step - loss: 0.1682 - val_loss: 0.1994\n",
      "Epoch 50/50\n",
      "49/49 [==============================] - 0s 5ms/step - loss: 0.1675 - val_loss: 0.2005\n",
      "Minimum Validation Loss: 0.1908\n"
     ]
    },
    {
     "data": {
      "image/png": "[encoded data removed]",
      "text/plain": [
       "<Figure size 640x480 with 1 Axes>"
      ]
     },
     "metadata": {},
     "output_type": "display_data"
    }
   ],
   "source": [
    "model = keras.Sequential([\n",
    "    layers.Dense(128, activation='relu', input_shape=input_shape),\n",
    "    layers.Dense(64, activation='relu'),\n",
    "    layers.Dense(1)\n",
    "])\n",
    "model.compile(\n",
    "    optimizer='adam',\n",
    "    loss='mae',\n",
    ")\n",
    "history = model.fit(\n",
    "    X_train, y_train,\n",
    "    validation_data=(X_valid, y_valid),\n",
    "    batch_size=512,\n",
    "    epochs=50,\n",
    ")\n",
    "history_df = pd.DataFrame(history.history)\n",
    "history_df.loc[:, ['loss', 'val_loss']].plot()\n",
    "print(\"Minimum Validation Loss: {:0.4f}\".format(history_df['val_loss'].min()));"
   ]
  },
  {
   "cell_type": "markdown",
   "id": "66d1fe88",
   "metadata": {
    "papermill": {
     "duration": 0.018837,
     "end_time": "2023-04-07T02:19:39.407508",
     "exception": false,
     "start_time": "2023-04-07T02:19:39.388671",
     "status": "completed"
    },
    "tags": []
   },
   "source": [
    "# 2) Add Capacity\n",
    "\n",
    "What is your evaluation of these curves? Underfitting, overfitting, just right?"
   ]
  },
  {
   "cell_type": "code",
   "execution_count": 7,
   "id": "dd879926",
   "metadata": {
    "execution": {
     "iopub.execute_input": "2023-04-07T02:19:39.446960Z",
     "iopub.status.busy": "2023-04-07T02:19:39.446108Z",
     "iopub.status.idle": "2023-04-07T02:19:39.454819Z",
     "shell.execute_reply": "2023-04-07T02:19:39.453733Z"
    },
    "papermill": {
     "duration": 0.030898,
     "end_time": "2023-04-07T02:19:39.457003",
     "exception": false,
     "start_time": "2023-04-07T02:19:39.426105",
     "status": "completed"
    },
    "tags": []
   },
   "outputs": [
    {
     "data": {
      "application/javascript": [
       "parent.postMessage({\"jupyterEvent\": \"custom.exercise_interaction\", \"data\": {\"outcomeType\": 1, \"valueTowardsCompletion\": 0.25, \"interactionType\": 1, \"questionType\": 4, \"questionId\": \"2_Q2\", \"learnToolsVersion\": \"0.3.4\", \"failureMessage\": \"\", \"exceptionClass\": \"\", \"trace\": \"\"}}, \"*\")"
      ],
      "text/plain": [
       "<IPython.core.display.Javascript object>"
      ]
     },
     "metadata": {},
     "output_type": "display_data"
    },
    {
     "data": {
      "text/markdown": [
       "<span style=\"color:#33cc33\">Correct:</span> \n",
       "\n",
       "Now the validation loss begins to rise very early, while the training loss continues to decrease. This indicates that the network has begun to overfit. At this point, we would need to try something to prevent it, either by reducing the number of units or through a method like early stopping. (We'll see another in the next lesson!)"
      ],
      "text/plain": [
       "Correct: \n",
       "\n",
       "Now the validation loss begins to rise very early, while the training loss continues to decrease. This indicates that the network has begun to overfit. At this point, we would need to try something to prevent it, either by reducing the number of units or through a method like early stopping. (We'll see another in the next lesson!)"
      ]
     },
     "metadata": {},
     "output_type": "display_data"
    }
   ],
   "source": [
    "# View the solution (Run this cell to receive credit!)\n",
    "q_2.check()"
   ]
  },
  {
   "cell_type": "markdown",
   "id": "dc13f076",
   "metadata": {
    "papermill": {
     "duration": 0.018768,
     "end_time": "2023-04-07T02:19:39.494754",
     "exception": false,
     "start_time": "2023-04-07T02:19:39.475986",
     "status": "completed"
    },
    "tags": []
   },
   "source": [
    "# 3) Define Early Stopping Callback\n",
    "\n",
    "Now define an early stopping callback that waits 5 epochs (`patience'`) for a change in validation loss of at least `0.001` (`min_delta`) and keeps the weights with the best loss (`restore_best_weights`)."
   ]
  },
  {
   "cell_type": "code",
   "execution_count": 8,
   "id": "0dca701a",
   "metadata": {
    "execution": {
     "iopub.execute_input": "2023-04-07T02:19:39.541680Z",
     "iopub.status.busy": "2023-04-07T02:19:39.538311Z",
     "iopub.status.idle": "2023-04-07T02:19:39.558794Z",
     "shell.execute_reply": "2023-04-07T02:19:39.556487Z"
    },
    "lines_to_next_cell": 0,
    "papermill": {
     "duration": 0.047352,
     "end_time": "2023-04-07T02:19:39.561068",
     "exception": false,
     "start_time": "2023-04-07T02:19:39.513716",
     "status": "completed"
    },
    "tags": []
   },
   "outputs": [
    {
     "data": {
      "application/javascript": [
       "parent.postMessage({\"jupyterEvent\": \"custom.exercise_interaction\", \"data\": {\"outcomeType\": 1, \"valueTowardsCompletion\": 0.25, \"interactionType\": 1, \"questionType\": 2, \"questionId\": \"3_Q3\", \"learnToolsVersion\": \"0.3.4\", \"failureMessage\": \"\", \"exceptionClass\": \"\", \"trace\": \"\"}}, \"*\")"
      ],
      "text/plain": [
       "<IPython.core.display.Javascript object>"
      ]
     },
     "metadata": {},
     "output_type": "display_data"
    },
    {
     "data": {
      "text/markdown": [
       "<span style=\"color:#33cc33\">Correct</span>"
      ],
      "text/plain": [
       "Correct"
      ]
     },
     "metadata": {},
     "output_type": "display_data"
    }
   ],
   "source": [
    "from tensorflow.keras import callbacks\n",
    "\n",
    "# YOUR CODE HERE: define an early stopping callback\n",
    "early_stopping = callbacks.EarlyStopping(\n",
    "    patience=5,\n",
    "    min_delta=0.001,\n",
    "    restore_best_weights=True,\n",
    ")\n",
    "\n",
    "# Check your answer\n",
    "q_3.check()"
   ]
  },
  {
   "cell_type": "code",
   "execution_count": 9,
   "id": "0a55b32d",
   "metadata": {
    "execution": {
     "iopub.execute_input": "2023-04-07T02:19:39.644819Z",
     "iopub.status.busy": "2023-04-07T02:19:39.643400Z",
     "iopub.status.idle": "2023-04-07T02:19:39.648872Z",
     "shell.execute_reply": "2023-04-07T02:19:39.647769Z"
    },
    "papermill": {
     "duration": 0.051551,
     "end_time": "2023-04-07T02:19:39.653804",
     "exception": false,
     "start_time": "2023-04-07T02:19:39.602253",
     "status": "completed"
    },
    "tags": []
   },
   "outputs": [],
   "source": [
    "# Lines below will give you a hint or solution code\n",
    "# q_3.hint()\n",
    "# q_3.solution()"
   ]
  },
  {
   "cell_type": "markdown",
   "id": "2ee9e520",
   "metadata": {
    "papermill": {
     "duration": 0.037522,
     "end_time": "2023-04-07T02:19:39.720905",
     "exception": false,
     "start_time": "2023-04-07T02:19:39.683383",
     "status": "completed"
    },
    "tags": []
   },
   "source": [
    "Now run this cell to train the model and get the learning curves. Notice the `callbacks` argument in `model.fit`."
   ]
  },
  {
   "cell_type": "code",
   "execution_count": 10,
   "id": "52ffc0dd",
   "metadata": {
    "execution": {
     "iopub.execute_input": "2023-04-07T02:19:39.760787Z",
     "iopub.status.busy": "2023-04-07T02:19:39.760475Z",
     "iopub.status.idle": "2023-04-07T02:19:45.734124Z",
     "shell.execute_reply": "2023-04-07T02:19:45.733157Z"
    },
    "papermill": {
     "duration": 5.99602,
     "end_time": "2023-04-07T02:19:45.736456",
     "exception": false,
     "start_time": "2023-04-07T02:19:39.740436",
     "status": "completed"
    },
    "tags": []
   },
   "outputs": [
    {
     "name": "stdout",
     "output_type": "stream",
     "text": [
      "Epoch 1/50\n",
      "49/49 [==============================] - 1s 7ms/step - loss: 0.2505 - val_loss: 0.2047\n",
      "Epoch 2/50\n",
      "49/49 [==============================] - 0s 4ms/step - loss: 0.2056 - val_loss: 0.1967\n",
      "Epoch 3/50\n",
      "49/49 [==============================] - 0s 4ms/step - loss: 0.2001 - val_loss: 0.1950\n",
      "Epoch 4/50\n",
      "49/49 [==============================] - 0s 4ms/step - loss: 0.1970 - val_loss: 0.1930\n",
      "Epoch 5/50\n",
      "49/49 [==============================] - 0s 4ms/step - loss: 0.1949 - val_loss: 0.1919\n",
      "Epoch 6/50\n",
      "49/49 [==============================] - 0s 4ms/step - loss: 0.1933 - val_loss: 0.1922\n",
      "Epoch 7/50\n",
      "49/49 [==============================] - 0s 4ms/step - loss: 0.1917 - val_loss: 0.1911\n",
      "Epoch 8/50\n",
      "49/49 [==============================] - 0s 4ms/step - loss: 0.1908 - val_loss: 0.1898\n",
      "Epoch 9/50\n",
      "49/49 [==============================] - 0s 4ms/step - loss: 0.1896 - val_loss: 0.1899\n",
      "Epoch 10/50\n",
      "49/49 [==============================] - 0s 4ms/step - loss: 0.1884 - val_loss: 0.1905\n",
      "Epoch 11/50\n",
      "49/49 [==============================] - 0s 4ms/step - loss: 0.1881 - val_loss: 0.1934\n",
      "Epoch 12/50\n",
      "49/49 [==============================] - 0s 4ms/step - loss: 0.1876 - val_loss: 0.1898\n",
      "Epoch 13/50\n",
      "49/49 [==============================] - 0s 4ms/step - loss: 0.1866 - val_loss: 0.1935\n",
      "Minimum Validation Loss: 0.1898\n"
     ]
    },
    {
     "data": {
      "image/png": "[encoded data removed]",
      "text/plain": [
       "<Figure size 640x480 with 1 Axes>"
      ]
     },
     "metadata": {},
     "output_type": "display_data"
    }
   ],
   "source": [
    "model = keras.Sequential([\n",
    "    layers.Dense(128, activation='relu', input_shape=input_shape),\n",
    "    layers.Dense(64, activation='relu'),    \n",
    "    layers.Dense(1)\n",
    "])\n",
    "model.compile(\n",
    "    optimizer='adam',\n",
    "    loss='mae',\n",
    ")\n",
    "history = model.fit(\n",
    "    X_train, y_train,\n",
    "    validation_data=(X_valid, y_valid),\n",
    "    batch_size=512,\n",
    "    epochs=50,\n",
    "    callbacks=[early_stopping]\n",
    ")\n",
    "history_df = pd.DataFrame(history.history)\n",
    "history_df.loc[:, ['loss', 'val_loss']].plot()\n",
    "print(\"Minimum Validation Loss: {:0.4f}\".format(history_df['val_loss'].min()));"
   ]
  },
  {
   "cell_type": "markdown",
   "id": "c9ab4f30",
   "metadata": {
    "papermill": {
     "duration": 0.022674,
     "end_time": "2023-04-07T02:19:45.782900",
     "exception": false,
     "start_time": "2023-04-07T02:19:45.760226",
     "status": "completed"
    },
    "tags": []
   },
   "source": [
    "# 4) Train and Interpret\n",
    "\n",
    "Was this an improvement compared to training without early stopping?"
   ]
  },
  {
   "cell_type": "code",
   "execution_count": 11,
   "id": "d5f1e52d",
   "metadata": {
    "execution": {
     "iopub.execute_input": "2023-04-07T02:19:45.830597Z",
     "iopub.status.busy": "2023-04-07T02:19:45.829677Z",
     "iopub.status.idle": "2023-04-07T02:19:45.840397Z",
     "shell.execute_reply": "2023-04-07T02:19:45.839448Z"
    },
    "papermill": {
     "duration": 0.036929,
     "end_time": "2023-04-07T02:19:45.842817",
     "exception": false,
     "start_time": "2023-04-07T02:19:45.805888",
     "status": "completed"
    },
    "tags": []
   },
   "outputs": [
    {
     "data": {
      "application/javascript": [
       "parent.postMessage({\"jupyterEvent\": \"custom.exercise_interaction\", \"data\": {\"outcomeType\": 1, \"valueTowardsCompletion\": 0.25, \"interactionType\": 1, \"questionType\": 4, \"questionId\": \"4_Q4\", \"learnToolsVersion\": \"0.3.4\", \"failureMessage\": \"\", \"exceptionClass\": \"\", \"trace\": \"\"}}, \"*\")"
      ],
      "text/plain": [
       "<IPython.core.display.Javascript object>"
      ]
     },
     "metadata": {},
     "output_type": "display_data"
    },
    {
     "data": {
      "text/markdown": [
       "<span style=\"color:#33cc33\">Correct:</span> \n",
       "\n",
       "The early stopping callback did stop the training once the network began overfitting. Moreover, by including `restore_best_weights` we still get to keep the model where validation loss was lowest."
      ],
      "text/plain": [
       "Correct: \n",
       "\n",
       "The early stopping callback did stop the training once the network began overfitting. Moreover, by including `restore_best_weights` we still get to keep the model where validation loss was lowest."
      ]
     },
     "metadata": {},
     "output_type": "display_data"
    }
   ],
   "source": [
    "# View the solution (Run this cell to receive credit!)\n",
    "q_4.check()"
   ]
  },
  {
   "cell_type": "markdown",
   "id": "ca0584c8",
   "metadata": {
    "papermill": {
     "duration": 0.023427,
     "end_time": "2023-04-07T02:19:45.889263",
     "exception": false,
     "start_time": "2023-04-07T02:19:45.865836",
     "status": "completed"
    },
    "tags": []
   },
   "source": [
    "If you like, try experimenting with `patience` and `min_delta` to see what difference it might make."
   ]
  },
  {
   "cell_type": "markdown",
   "id": "a36cc746",
   "metadata": {
    "papermill": {
     "duration": 0.023283,
     "end_time": "2023-04-07T02:19:45.935755",
     "exception": false,
     "start_time": "2023-04-07T02:19:45.912472",
     "status": "completed"
    },
    "tags": []
   },
   "source": [
    "---\n",
    "\n",
    "\n",
    "\n",
    "\n",
    "**Allen**"
   ]
  }
 ],
 "metadata": {
  "kernelspec": {
   "display_name": "Python 3",
   "language": "python",
   "name": "python3"
  },
  "language_info": {
   "codemirror_mode": {
    "name": "ipython",
    "version": 3
   },
   "file_extension": ".py",
   "mimetype": "text/x-python",
   "name": "python",
   "nbconvert_exporter": "python",
   "pygments_lexer": "ipython3",
   "version": "3.7.12"
  },
  "papermill": {
   "default_parameters": {},
   "duration": 62.715237,
   "end_time": "2023-04-07T02:19:49.448695",
   "environment_variables": {},
   "exception": null,
   "input_path": "__notebook__.ipynb",
   "output_path": "__notebook__.ipynb",
   "parameters": {},
   "start_time": "2023-04-07T02:18:46.733458",
   "version": "2.4.0"
  }
 },
 "nbformat": 4,
 "nbformat_minor": 5
}
