{
 "cells": [
  {
   "cell_type": "markdown",
   "id": "57695b1a",
   "metadata": {
    "papermill": {
     "duration": 0.004381,
     "end_time": "2023-04-09T07:19:39.734412",
     "exception": false,
     "start_time": "2023-04-09T07:19:39.730031",
     "status": "completed"
    },
    "tags": []
   },
   "source": [
    "**This notebook is an exercise in the [Intro to Deep Learning](https://www.kaggle.com/learn/intro-to-deep-learning) course.  You can reference the tutorial at [this link](https://www.kaggle.com/ryanholbrook/binary-classification).**\n",
    "\n",
    "---\n"
   ]
  },
  {
   "cell_type": "markdown",
   "id": "4409669c",
   "metadata": {
    "papermill": {
     "duration": 0.003267,
     "end_time": "2023-04-09T07:19:39.741075",
     "exception": false,
     "start_time": "2023-04-09T07:19:39.737808",
     "status": "completed"
    },
    "tags": []
   },
   "source": [
    "# Introduction #\n",
    "\n",
    "In this exercise, you'll build a model to predict hotel cancellations with a binary classifier."
   ]
  },
  {
   "cell_type": "code",
   "execution_count": 1,
   "id": "152d4d67",
   "metadata": {
    "execution": {
     "iopub.execute_input": "2023-04-09T07:19:39.749891Z",
     "iopub.status.busy": "2023-04-09T07:19:39.749411Z",
     "iopub.status.idle": "2023-04-09T07:19:39.788895Z",
     "shell.execute_reply": "2023-04-09T07:19:39.787833Z"
    },
    "lines_to_next_cell": 0,
    "papermill": {
     "duration": 0.046803,
     "end_time": "2023-04-09T07:19:39.791087",
     "exception": false,
     "start_time": "2023-04-09T07:19:39.744284",
     "status": "completed"
    },
    "tags": []
   },
   "outputs": [],
   "source": [
    "import warnings\n",
    "warnings.filterwarnings(\"ignore\")\n",
    "\n",
    "# Setup plotting\n",
    "import matplotlib.pyplot as plt\n",
    "plt.style.use('seaborn-whitegrid')\n",
    "# Set Matplotlib defaults\n",
    "plt.rc('figure', autolayout=True)\n",
    "plt.rc('axes', labelweight='bold', labelsize='large',\n",
    "       titleweight='bold', titlesize=18, titlepad=10)\n",
    "plt.rc('animation', html='html5')\n",
    "\n",
    "# Setup feedback system\n",
    "from learntools.core import binder\n",
    "binder.bind(globals())\n",
    "from learntools.deep_learning_intro.ex6 import *"
   ]
  },
  {
   "cell_type": "markdown",
   "id": "8e0edd92",
   "metadata": {
    "papermill": {
     "duration": 0.003065,
     "end_time": "2023-04-09T07:19:39.798117",
     "exception": false,
     "start_time": "2023-04-09T07:19:39.795052",
     "status": "completed"
    },
    "tags": []
   },
   "source": [
    "First, load the *Hotel Cancellations* dataset."
   ]
  },
  {
   "cell_type": "code",
   "execution_count": 2,
   "id": "5fae3acb",
   "metadata": {
    "execution": {
     "iopub.execute_input": "2023-04-09T07:19:39.806360Z",
     "iopub.status.busy": "2023-04-09T07:19:39.806029Z",
     "iopub.status.idle": "2023-04-09T07:19:42.166664Z",
     "shell.execute_reply": "2023-04-09T07:19:42.165620Z"
    },
    "lines_to_next_cell": 2,
    "papermill": {
     "duration": 2.367815,
     "end_time": "2023-04-09T07:19:42.169325",
     "exception": false,
     "start_time": "2023-04-09T07:19:39.801510",
     "status": "completed"
    },
    "tags": []
   },
   "outputs": [],
   "source": [
    "import pandas as pd\n",
    "\n",
    "from sklearn.model_selection import train_test_split\n",
    "from sklearn.preprocessing import StandardScaler, OneHotEncoder\n",
    "from sklearn.impute import SimpleImputer\n",
    "from sklearn.pipeline import make_pipeline\n",
    "from sklearn.compose import make_column_transformer\n",
    "\n",
    "hotel = pd.read_csv('../input/dl-course-data/hotel.csv')\n",
    "\n",
    "X = hotel.copy()\n",
    "y = X.pop('is_canceled')\n",
    "\n",
    "X['arrival_date_month'] = \\\n",
    "    X['arrival_date_month'].map(\n",
    "        {'January':1, 'February': 2, 'March':3,\n",
    "         'April':4, 'May':5, 'June':6, 'July':7,\n",
    "         'August':8, 'September':9, 'October':10,\n",
    "         'November':11, 'December':12}\n",
    "    )\n",
    "\n",
    "features_num = [\n",
    "    \"lead_time\", \"arrival_date_week_number\",\n",
    "    \"arrival_date_day_of_month\", \"stays_in_weekend_nights\",\n",
    "    \"stays_in_week_nights\", \"adults\", \"children\", \"babies\",\n",
    "    \"is_repeated_guest\", \"previous_cancellations\",\n",
    "    \"previous_bookings_not_canceled\", \"required_car_parking_spaces\",\n",
    "    \"total_of_special_requests\", \"adr\",\n",
    "]\n",
    "features_cat = [\n",
    "    \"hotel\", \"arrival_date_month\", \"meal\",\n",
    "    \"market_segment\", \"distribution_channel\",\n",
    "    \"reserved_room_type\", \"deposit_type\", \"customer_type\",\n",
    "]\n",
    "\n",
    "transformer_num = make_pipeline(\n",
    "    SimpleImputer(strategy=\"constant\"), # there are a few missing values\n",
    "    StandardScaler(),\n",
    ")\n",
    "transformer_cat = make_pipeline(\n",
    "    SimpleImputer(strategy=\"constant\", fill_value=\"NA\"),\n",
    "    OneHotEncoder(handle_unknown='ignore'),\n",
    ")\n",
    "\n",
    "preprocessor = make_column_transformer(\n",
    "    (transformer_num, features_num),\n",
    "    (transformer_cat, features_cat),\n",
    ")\n",
    "\n",
    "# stratify - make sure classes are evenlly represented across splits\n",
    "X_train, X_valid, y_train, y_valid = \\\n",
    "    train_test_split(X, y, stratify=y, train_size=0.75)\n",
    "\n",
    "X_train = preprocessor.fit_transform(X_train)\n",
    "X_valid = preprocessor.transform(X_valid)\n",
    "\n",
    "input_shape = [X_train.shape[1]]"
   ]
  },
  {
   "cell_type": "markdown",
   "id": "d5014525",
   "metadata": {
    "papermill": {
     "duration": 0.00313,
     "end_time": "2023-04-09T07:19:42.176030",
     "exception": false,
     "start_time": "2023-04-09T07:19:42.172900",
     "status": "completed"
    },
    "tags": []
   },
   "source": [
    "# 1) Define Model #\n",
    "\n",
    "The model we'll use this time will have both batch normalization and dropout layers. To ease reading we've broken the diagram into blocks, but you can define it layer by layer as usual.\n",
    "\n",
    "Define a model with an architecture given by this diagram:\n",
    "\n",
    "<figure style=\"padding: 1em;\">\n",
    "<img src=\"https://i.imgur.com/V04o59Z.png\" width=\"400\" alt=\"Diagram of network architecture: BatchNorm, Dense, BatchNorm, Dropout, Dense, BatchNorm, Dropout, Dense.\">\n",
    "<figcaption style=\"textalign: center; font-style: italic\"><center>Diagram of a binary classifier.</center></figcaption>\n",
    "</figure>\n"
   ]
  },
  {
   "cell_type": "code",
   "execution_count": 3,
   "id": "19dff30d",
   "metadata": {
    "execution": {
     "iopub.execute_input": "2023-04-09T07:19:42.183976Z",
     "iopub.status.busy": "2023-04-09T07:19:42.183658Z",
     "iopub.status.idle": "2023-04-09T07:19:52.051967Z",
     "shell.execute_reply": "2023-04-09T07:19:52.050893Z"
    },
    "lines_to_next_cell": 2,
    "papermill": {
     "duration": 9.875094,
     "end_time": "2023-04-09T07:19:52.054522",
     "exception": false,
     "start_time": "2023-04-09T07:19:42.179428",
     "status": "completed"
    },
    "tags": []
   },
   "outputs": [
    {
     "data": {
      "application/javascript": [
       "parent.postMessage({\"jupyterEvent\": \"custom.exercise_interaction\", \"data\": {\"outcomeType\": 1, \"valueTowardsCompletion\": 0.3333333333333333, \"interactionType\": 1, \"questionType\": 2, \"questionId\": \"1_Q1\", \"learnToolsVersion\": \"0.3.4\", \"failureMessage\": \"\", \"exceptionClass\": \"\", \"trace\": \"\"}}, \"*\")"
      ],
      "text/plain": [
       "<IPython.core.display.Javascript object>"
      ]
     },
     "metadata": {},
     "output_type": "display_data"
    },
    {
     "data": {
      "text/markdown": [
       "<span style=\"color:#33cc33\">Correct</span>"
      ],
      "text/plain": [
       "Correct"
      ]
     },
     "metadata": {},
     "output_type": "display_data"
    }
   ],
   "source": [
    "from tensorflow import keras\n",
    "from tensorflow.keras import layers\n",
    "\n",
    "# YOUR CODE HERE: define the model given in the diagram\n",
    "model = keras.Sequential([\n",
    "    layers.BatchNormalization(input_shape=input_shape),\n",
    "    layers.Dense(256, activation='relu'),\n",
    "    layers.BatchNormalization(),\n",
    "    layers.Dropout(0.3),\n",
    "    layers.Dense(256, activation='relu'),\n",
    "    layers.BatchNormalization(),\n",
    "    layers.Dropout(0.3),\n",
    "    layers.Dense(1, activation='sigmoid'),\n",
    "])\n",
    "\n",
    "# Check your answer\n",
    "q_1.check()"
   ]
  },
  {
   "cell_type": "markdown",
   "id": "8b762cc5",
   "metadata": {
    "papermill": {
     "duration": 0.003568,
     "end_time": "2023-04-09T07:19:52.061763",
     "exception": false,
     "start_time": "2023-04-09T07:19:52.058195",
     "status": "completed"
    },
    "tags": []
   },
   "source": [
    "# 2) Add Optimizer, Loss, and Metric #\n",
    "\n",
    "Now compile the model with the Adam optimizer and binary versions of the cross-entropy loss and accuracy metric."
   ]
  },
  {
   "cell_type": "code",
   "execution_count": 4,
   "id": "c7acf13f",
   "metadata": {
    "execution": {
     "iopub.execute_input": "2023-04-09T07:19:52.071531Z",
     "iopub.status.busy": "2023-04-09T07:19:52.069761Z",
     "iopub.status.idle": "2023-04-09T07:19:52.092279Z",
     "shell.execute_reply": "2023-04-09T07:19:52.091302Z"
    },
    "lines_to_next_cell": 0,
    "papermill": {
     "duration": 0.029328,
     "end_time": "2023-04-09T07:19:52.094464",
     "exception": false,
     "start_time": "2023-04-09T07:19:52.065136",
     "status": "completed"
    },
    "tags": []
   },
   "outputs": [
    {
     "data": {
      "application/javascript": [
       "parent.postMessage({\"jupyterEvent\": \"custom.exercise_interaction\", \"data\": {\"outcomeType\": 1, \"valueTowardsCompletion\": 0.3333333333333333, \"interactionType\": 1, \"questionType\": 2, \"questionId\": \"2_Q2\", \"learnToolsVersion\": \"0.3.4\", \"failureMessage\": \"\", \"exceptionClass\": \"\", \"trace\": \"\"}}, \"*\")"
      ],
      "text/plain": [
       "<IPython.core.display.Javascript object>"
      ]
     },
     "metadata": {},
     "output_type": "display_data"
    },
    {
     "data": {
      "text/markdown": [
       "<span style=\"color:#33cc33\">Correct</span>"
      ],
      "text/plain": [
       "Correct"
      ]
     },
     "metadata": {},
     "output_type": "display_data"
    }
   ],
   "source": [
    "# YOUR CODE HERE\n",
    "model.compile(\n",
    "    optimizer='adam',\n",
    "    loss='binary_crossentropy',\n",
    "    metrics=['binary_accuracy'],\n",
    ")\n",
    "\n",
    "# Check your answer\n",
    "q_2.check()"
   ]
  },
  {
   "cell_type": "code",
   "execution_count": 5,
   "id": "faaee4ec",
   "metadata": {
    "execution": {
     "iopub.execute_input": "2023-04-09T07:19:52.103585Z",
     "iopub.status.busy": "2023-04-09T07:19:52.102968Z",
     "iopub.status.idle": "2023-04-09T07:19:52.107604Z",
     "shell.execute_reply": "2023-04-09T07:19:52.106672Z"
    },
    "lines_to_next_cell": 0,
    "papermill": {
     "duration": 0.01167,
     "end_time": "2023-04-09T07:19:52.109807",
     "exception": false,
     "start_time": "2023-04-09T07:19:52.098137",
     "status": "completed"
    },
    "tags": []
   },
   "outputs": [],
   "source": [
    "# Lines below will give you a hint or solution code\n",
    "# q_2.hint()\n",
    "# q_2.solution()"
   ]
  },
  {
   "cell_type": "markdown",
   "id": "b39bc29a",
   "metadata": {
    "papermill": {
     "duration": 0.003482,
     "end_time": "2023-04-09T07:19:52.116975",
     "exception": false,
     "start_time": "2023-04-09T07:19:52.113493",
     "status": "completed"
    },
    "tags": []
   },
   "source": [
    "Finally, run this cell to train the model and view the learning curves. It may run for around 60 to 70 epochs, which could take a minute or two."
   ]
  },
  {
   "cell_type": "code",
   "execution_count": 6,
   "id": "e73eb95f",
   "metadata": {
    "execution": {
     "iopub.execute_input": "2023-04-09T07:19:52.125818Z",
     "iopub.status.busy": "2023-04-09T07:19:52.125552Z",
     "iopub.status.idle": "2023-04-09T07:20:29.254981Z",
     "shell.execute_reply": "2023-04-09T07:20:29.253730Z"
    },
    "papermill": {
     "duration": 37.136391,
     "end_time": "2023-04-09T07:20:29.257285",
     "exception": false,
     "start_time": "2023-04-09T07:19:52.120894",
     "status": "completed"
    },
    "tags": []
   },
   "outputs": [
    {
     "name": "stdout",
     "output_type": "stream",
     "text": [
      "Epoch 1/200\n",
      "175/175 [==============================] - 6s 7ms/step - loss: 0.4837 - binary_accuracy: 0.7731 - val_loss: 0.4328 - val_binary_accuracy: 0.7992\n",
      "Epoch 2/200\n",
      "175/175 [==============================] - 1s 6ms/step - loss: 0.4245 - binary_accuracy: 0.8004 - val_loss: 0.4015 - val_binary_accuracy: 0.8147\n",
      "Epoch 3/200\n",
      "175/175 [==============================] - 1s 6ms/step - loss: 0.4099 - binary_accuracy: 0.8079 - val_loss: 0.3958 - val_binary_accuracy: 0.8169\n",
      "Epoch 4/200\n",
      "175/175 [==============================] - 1s 6ms/step - loss: 0.4019 - binary_accuracy: 0.8115 - val_loss: 0.3912 - val_binary_accuracy: 0.8215\n",
      "Epoch 5/200\n",
      "175/175 [==============================] - 1s 7ms/step - loss: 0.3971 - binary_accuracy: 0.8152 - val_loss: 0.3881 - val_binary_accuracy: 0.8242\n",
      "Epoch 6/200\n",
      "175/175 [==============================] - 1s 6ms/step - loss: 0.3937 - binary_accuracy: 0.8161 - val_loss: 0.3848 - val_binary_accuracy: 0.8223\n",
      "Epoch 7/200\n",
      "175/175 [==============================] - 1s 6ms/step - loss: 0.3893 - binary_accuracy: 0.8179 - val_loss: 0.3811 - val_binary_accuracy: 0.8239\n",
      "Epoch 8/200\n",
      "175/175 [==============================] - 1s 6ms/step - loss: 0.3865 - binary_accuracy: 0.8221 - val_loss: 0.3788 - val_binary_accuracy: 0.8254\n",
      "Epoch 9/200\n",
      "175/175 [==============================] - 1s 6ms/step - loss: 0.3828 - binary_accuracy: 0.8231 - val_loss: 0.3762 - val_binary_accuracy: 0.8286\n",
      "Epoch 10/200\n",
      "175/175 [==============================] - 1s 6ms/step - loss: 0.3785 - binary_accuracy: 0.8243 - val_loss: 0.3715 - val_binary_accuracy: 0.8311\n",
      "Epoch 11/200\n",
      "175/175 [==============================] - 1s 6ms/step - loss: 0.3778 - binary_accuracy: 0.8253 - val_loss: 0.3698 - val_binary_accuracy: 0.8299\n",
      "Epoch 12/200\n",
      "175/175 [==============================] - 1s 6ms/step - loss: 0.3762 - binary_accuracy: 0.8258 - val_loss: 0.3731 - val_binary_accuracy: 0.8284\n",
      "Epoch 13/200\n",
      "175/175 [==============================] - 1s 6ms/step - loss: 0.3728 - binary_accuracy: 0.8283 - val_loss: 0.3682 - val_binary_accuracy: 0.8309\n",
      "Epoch 14/200\n",
      "175/175 [==============================] - 1s 6ms/step - loss: 0.3714 - binary_accuracy: 0.8274 - val_loss: 0.3676 - val_binary_accuracy: 0.8311\n",
      "Epoch 15/200\n",
      "175/175 [==============================] - 1s 6ms/step - loss: 0.3686 - binary_accuracy: 0.8301 - val_loss: 0.3642 - val_binary_accuracy: 0.8320\n",
      "Epoch 16/200\n",
      "175/175 [==============================] - 1s 6ms/step - loss: 0.3669 - binary_accuracy: 0.8303 - val_loss: 0.3618 - val_binary_accuracy: 0.8358\n",
      "Epoch 17/200\n",
      "175/175 [==============================] - 1s 6ms/step - loss: 0.3658 - binary_accuracy: 0.8304 - val_loss: 0.3626 - val_binary_accuracy: 0.8346\n",
      "Epoch 18/200\n",
      "175/175 [==============================] - 1s 6ms/step - loss: 0.3643 - binary_accuracy: 0.8325 - val_loss: 0.3612 - val_binary_accuracy: 0.8346\n",
      "Epoch 19/200\n",
      "175/175 [==============================] - 1s 6ms/step - loss: 0.3621 - binary_accuracy: 0.8320 - val_loss: 0.3587 - val_binary_accuracy: 0.8351\n",
      "Epoch 20/200\n",
      "175/175 [==============================] - 1s 6ms/step - loss: 0.3610 - binary_accuracy: 0.8330 - val_loss: 0.3574 - val_binary_accuracy: 0.8363\n",
      "Epoch 21/200\n",
      "175/175 [==============================] - 1s 6ms/step - loss: 0.3593 - binary_accuracy: 0.8346 - val_loss: 0.3591 - val_binary_accuracy: 0.8341\n",
      "Epoch 22/200\n",
      "175/175 [==============================] - 1s 6ms/step - loss: 0.3576 - binary_accuracy: 0.8358 - val_loss: 0.3554 - val_binary_accuracy: 0.8376\n",
      "Epoch 23/200\n",
      "175/175 [==============================] - 1s 6ms/step - loss: 0.3574 - binary_accuracy: 0.8350 - val_loss: 0.3563 - val_binary_accuracy: 0.8371\n",
      "Epoch 24/200\n",
      "175/175 [==============================] - 1s 7ms/step - loss: 0.3540 - binary_accuracy: 0.8361 - val_loss: 0.3561 - val_binary_accuracy: 0.8361\n",
      "Epoch 25/200\n",
      "175/175 [==============================] - 1s 6ms/step - loss: 0.3539 - binary_accuracy: 0.8375 - val_loss: 0.3527 - val_binary_accuracy: 0.8372\n",
      "Epoch 26/200\n",
      "175/175 [==============================] - 1s 7ms/step - loss: 0.3526 - binary_accuracy: 0.8371 - val_loss: 0.3551 - val_binary_accuracy: 0.8374\n",
      "Epoch 27/200\n",
      "175/175 [==============================] - 1s 6ms/step - loss: 0.3509 - binary_accuracy: 0.8379 - val_loss: 0.3543 - val_binary_accuracy: 0.8370\n",
      "Epoch 28/200\n",
      "175/175 [==============================] - 1s 5ms/step - loss: 0.3500 - binary_accuracy: 0.8379 - val_loss: 0.3533 - val_binary_accuracy: 0.8374\n",
      "Epoch 29/200\n",
      "175/175 [==============================] - 1s 6ms/step - loss: 0.3493 - binary_accuracy: 0.8380 - val_loss: 0.3538 - val_binary_accuracy: 0.8377\n",
      "Epoch 30/200\n",
      "175/175 [==============================] - 1s 6ms/step - loss: 0.3478 - binary_accuracy: 0.8390 - val_loss: 0.3545 - val_binary_accuracy: 0.8361\n"
     ]
    },
    {
     "data": {
      "text/plain": [
       "<AxesSubplot:title={'center':'Accuracy'}>"
      ]
     },
     "execution_count": 6,
     "metadata": {},
     "output_type": "execute_result"
    },
    {
     "data": {
      "image/png": "[encoded data removed]",
      "text/plain": [
       "<Figure size 640x480 with 1 Axes>"
      ]
     },
     "metadata": {},
     "output_type": "display_data"
    },
    {
     "data": {
      "image/png": "[encoded data removed]",
      "text/plain": [
       "<Figure size 640x480 with 1 Axes>"
      ]
     },
     "metadata": {},
     "output_type": "display_data"
    }
   ],
   "source": [
    "early_stopping = keras.callbacks.EarlyStopping(\n",
    "    patience=5,\n",
    "    min_delta=0.001,\n",
    "    restore_best_weights=True,\n",
    ")\n",
    "history = model.fit(\n",
    "    X_train, y_train,\n",
    "    validation_data=(X_valid, y_valid),\n",
    "    batch_size=512,\n",
    "    epochs=200,\n",
    "    callbacks=[early_stopping],\n",
    ")\n",
    "\n",
    "history_df = pd.DataFrame(history.history)\n",
    "history_df.loc[:, ['loss', 'val_loss']].plot(title=\"Cross-entropy\")\n",
    "history_df.loc[:, ['binary_accuracy', 'val_binary_accuracy']].plot(title=\"Accuracy\")"
   ]
  },
  {
   "cell_type": "markdown",
   "id": "0254fda8",
   "metadata": {
    "papermill": {
     "duration": 0.033703,
     "end_time": "2023-04-09T07:20:29.325249",
     "exception": false,
     "start_time": "2023-04-09T07:20:29.291546",
     "status": "completed"
    },
    "tags": []
   },
   "source": [
    "# 3) Train and Evaluate #\n",
    "\n",
    "\n",
    "What do you think about the learning curves? Does it look like the model underfit or overfit? Was the cross-entropy loss a good stand-in for accuracy?"
   ]
  },
  {
   "cell_type": "code",
   "execution_count": 7,
   "id": "0ba725ac",
   "metadata": {
    "execution": {
     "iopub.execute_input": "2023-04-09T07:20:29.395195Z",
     "iopub.status.busy": "2023-04-09T07:20:29.394211Z",
     "iopub.status.idle": "2023-04-09T07:20:29.403724Z",
     "shell.execute_reply": "2023-04-09T07:20:29.402400Z"
    },
    "papermill": {
     "duration": 0.047812,
     "end_time": "2023-04-09T07:20:29.406865",
     "exception": false,
     "start_time": "2023-04-09T07:20:29.359053",
     "status": "completed"
    },
    "tags": []
   },
   "outputs": [
    {
     "data": {
      "application/javascript": [
       "parent.postMessage({\"jupyterEvent\": \"custom.exercise_interaction\", \"data\": {\"outcomeType\": 1, \"valueTowardsCompletion\": 0.3333333333333333, \"interactionType\": 1, \"questionType\": 4, \"questionId\": \"3_Q3\", \"learnToolsVersion\": \"0.3.4\", \"failureMessage\": \"\", \"exceptionClass\": \"\", \"trace\": \"\"}}, \"*\")"
      ],
      "text/plain": [
       "<IPython.core.display.Javascript object>"
      ]
     },
     "metadata": {},
     "output_type": "display_data"
    },
    {
     "data": {
      "text/markdown": [
       "<span style=\"color:#33cc33\">Correct:</span> \n",
       "\n",
       "Though we can see the training loss continuing to fall, the early stopping callback prevented any overfitting. Moreover, the accuracy rose at the same rate as the cross-entropy fell, so it appears that minimizing cross-entropy was a good stand-in. All in all, it looks like this training was a success!"
      ],
      "text/plain": [
       "Correct: \n",
       "\n",
       "Though we can see the training loss continuing to fall, the early stopping callback prevented any overfitting. Moreover, the accuracy rose at the same rate as the cross-entropy fell, so it appears that minimizing cross-entropy was a good stand-in. All in all, it looks like this training was a success!"
      ]
     },
     "metadata": {},
     "output_type": "display_data"
    }
   ],
   "source": [
    "# View the solution (Run this cell to receive credit!)\n",
    "q_3.check()"
   ]
  },
  {
   "cell_type": "markdown",
   "id": "94a5779c",
   "metadata": {
    "papermill": {
     "duration": 0.033657,
     "end_time": "2023-04-09T07:20:29.474435",
     "exception": false,
     "start_time": "2023-04-09T07:20:29.440778",
     "status": "completed"
    },
    "tags": []
   },
   "source": [
    "# Conclusion #\n",
    "\n",
    "Congratulations! You've completed Kaggle's *Introduction to Deep Learning* course!\n",
    "\n",
    "With your new skills you're ready to take on more advanced applications like computer vision and sentiment classification. What would you like to do next?\n",
    "\n",
    "Why not try one of our *Getting Started* competitions?\n",
    "\n",
    "- Classify images with TPUs in [**Petals to the Metal**](https://www.kaggle.com/c/tpu-getting-started)\n",
    "- Create art with GANs in [**I'm Something of a Painter Myself**](https://www.kaggle.com/c/gan-getting-started)\n",
    "- Classify Tweets in [**Real or Not? NLP with Disaster Tweets**](https://www.kaggle.com/c/nlp-getting-started)\n",
    "- Detect contradiction and entailment in [**Contradictory, My Dear Watson**](https://www.kaggle.com/c/contradictory-my-dear-watson)\n",
    "\n",
    "Until next time, Kagglers!"
   ]
  },
  {
   "cell_type": "markdown",
   "id": "a9a8e2b5",
   "metadata": {
    "papermill": {
     "duration": 0.034186,
     "end_time": "2023-04-09T07:20:29.542298",
     "exception": false,
     "start_time": "2023-04-09T07:20:29.508112",
     "status": "completed"
    },
    "tags": []
   },
   "source": [
    "---\n",
    "\n",
    "\n",
    "\n",
    "\n",
    "**Allen**"
   ]
  }
 ],
 "metadata": {
  "kernelspec": {
   "display_name": "Python 3",
   "language": "python",
   "name": "python3"
  },
  "language_info": {
   "codemirror_mode": {
    "name": "ipython",
    "version": 3
   },
   "file_extension": ".py",
   "mimetype": "text/x-python",
   "name": "python",
   "nbconvert_exporter": "python",
   "pygments_lexer": "ipython3",
   "version": "3.7.12"
  },
  "papermill": {
   "default_parameters": {},
   "duration": 61.78755,
   "end_time": "2023-04-09T07:20:32.542928",
   "environment_variables": {},
   "exception": null,
   "input_path": "__notebook__.ipynb",
   "output_path": "__notebook__.ipynb",
   "parameters": {},
   "start_time": "2023-04-09T07:19:30.755378",
   "version": "2.4.0"
  }
 },
 "nbformat": 4,
 "nbformat_minor": 5
}
