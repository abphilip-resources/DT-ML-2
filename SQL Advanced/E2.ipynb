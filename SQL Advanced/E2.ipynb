{
 "cells": [
  {
   "cell_type": "markdown",
   "id": "366e87d8",
   "metadata": {
    "papermill": {
     "duration": 0.005267,
     "end_time": "2023-02-11T17:31:16.425777",
     "exception": false,
     "start_time": "2023-02-11T17:31:16.420510",
     "status": "completed"
    },
    "tags": []
   },
   "source": [
    "**This notebook is an exercise in the [Advanced SQL](https://www.kaggle.com/learn/advanced-sql) course.  You can reference the tutorial at [this link](https://www.kaggle.com/alexisbcook/analytic-functions).**\n",
    "\n",
    "---\n"
   ]
  },
  {
   "cell_type": "markdown",
   "id": "e2cf1933",
   "metadata": {
    "papermill": {
     "duration": 0.003716,
     "end_time": "2023-02-11T17:31:16.433731",
     "exception": false,
     "start_time": "2023-02-11T17:31:16.430015",
     "status": "completed"
    },
    "tags": []
   },
   "source": [
    "# Introduction\n",
    "\n",
    "Here, you'll use window functions to answer questions about the [Chicago Taxi Trips](https://www.kaggle.com/chicago/chicago-taxi-trips-bq) dataset.\n",
    "\n",
    "Before you get started, run the code cell below to set everything up."
   ]
  },
  {
   "cell_type": "code",
   "execution_count": 1,
   "id": "787df47e",
   "metadata": {
    "execution": {
     "iopub.execute_input": "2023-02-11T17:31:16.444189Z",
     "iopub.status.busy": "2023-02-11T17:31:16.443550Z",
     "iopub.status.idle": "2023-02-11T17:32:00.099981Z",
     "shell.execute_reply": "2023-02-11T17:32:00.098763Z"
    },
    "papermill": {
     "duration": 43.668509,
     "end_time": "2023-02-11T17:32:00.106241",
     "exception": false,
     "start_time": "2023-02-11T17:31:16.437732",
     "status": "completed"
    },
    "tags": []
   },
   "outputs": [
    {
     "name": "stdout",
     "output_type": "stream",
     "text": [
      "Collecting git+https://github.com/Kaggle/learntools.git\r\n",
      "  Cloning https://github.com/Kaggle/learntools.git to /tmp/pip-req-build-c76l95et\r\n",
      "  Running command git clone --filter=blob:none --quiet https://github.com/Kaggle/learntools.git /tmp/pip-req-build-c76l95et\r\n",
      "  Resolved https://github.com/Kaggle/learntools.git to commit 2bc4722ea2556ba6ed392c176ecd9157764adfd0\r\n",
      "  Preparing metadata (setup.py) ... \u001b[?25l-\b \bdone\r\n",
      "\u001b[?25hBuilding wheels for collected packages: learntools\r\n",
      "  Building wheel for learntools (setup.py) ... \u001b[?25l-\b \b\\\b \b|\b \b/\b \bdone\r\n",
      "\u001b[?25h  Created wheel for learntools: filename=learntools-0.3.4-py3-none-any.whl size=268913 sha256=dd9202fb89e9b202815fe338fad5e3bbe4868523dc2310349afa3e55a5df1e66\r\n",
      "  Stored in directory: /tmp/pip-ephem-wheel-cache-08irttb8/wheels/dd/d7/6b/0fc758f52767fd281d6dceded6757c6cb5bb90ccd2dbb1de9f\r\n",
      "Successfully built learntools\r\n",
      "Installing collected packages: learntools\r\n",
      "Successfully installed learntools-0.3.4\r\n",
      "\u001b[33mWARNING: Running pip as the 'root' user can result in broken permissions and conflicting behaviour with the system package manager. It is recommended to use a virtual environment instead: https://pip.pypa.io/warnings/venv\u001b[0m\u001b[33m\r\n",
      "\u001b[0mUsing Kaggle's public dataset BigQuery integration.\n",
      "Setup Complete\n"
     ]
    }
   ],
   "source": [
    "import warnings\n",
    "warnings.filterwarnings(\"ignore\")\n",
    "# Get most recent checking code\n",
    "!pip install -U -t /kaggle/working/ git+https://github.com/Kaggle/learntools.git\n",
    "# Set up feedback system\n",
    "from learntools.core import binder\n",
    "binder.bind(globals())\n",
    "from learntools.sql_advanced.ex2 import *\n",
    "print(\"Setup Complete\")"
   ]
  },
  {
   "cell_type": "markdown",
   "id": "4ad15426",
   "metadata": {
    "papermill": {
     "duration": 0.00467,
     "end_time": "2023-02-11T17:32:00.115821",
     "exception": false,
     "start_time": "2023-02-11T17:32:00.111151",
     "status": "completed"
    },
    "tags": []
   },
   "source": [
    "The following code cell fetches the `taxi_trips` table from the `chicago_taxi_trips` dataset. We also preview the first five rows of the table.  You'll use the table to answer the questions below."
   ]
  },
  {
   "cell_type": "code",
   "execution_count": 2,
   "id": "ef820e7a",
   "metadata": {
    "execution": {
     "iopub.execute_input": "2023-02-11T17:32:00.127763Z",
     "iopub.status.busy": "2023-02-11T17:32:00.127298Z",
     "iopub.status.idle": "2023-02-11T17:32:02.492427Z",
     "shell.execute_reply": "2023-02-11T17:32:02.491296Z"
    },
    "papermill": {
     "duration": 2.374156,
     "end_time": "2023-02-11T17:32:02.495125",
     "exception": false,
     "start_time": "2023-02-11T17:32:00.120969",
     "status": "completed"
    },
    "tags": []
   },
   "outputs": [
    {
     "name": "stdout",
     "output_type": "stream",
     "text": [
      "Using Kaggle's public dataset BigQuery integration.\n"
     ]
    },
    {
     "data": {
      "text/html": [
       "<div>\n",
       "<style scoped>\n",
       "    .dataframe tbody tr th:only-of-type {\n",
       "        vertical-align: middle;\n",
       "    }\n",
       "\n",
       "    .dataframe tbody tr th {\n",
       "        vertical-align: top;\n",
       "    }\n",
       "\n",
       "    .dataframe thead th {\n",
       "        text-align: right;\n",
       "    }\n",
       "</style>\n",
       "<table border=\"1\" class=\"dataframe\">\n",
       "  <thead>\n",
       "    <tr style=\"text-align: right;\">\n",
       "      <th></th>\n",
       "      <th>unique_key</th>\n",
       "      <th>taxi_id</th>\n",
       "      <th>trip_start_timestamp</th>\n",
       "      <th>trip_end_timestamp</th>\n",
       "      <th>trip_seconds</th>\n",
       "      <th>trip_miles</th>\n",
       "      <th>pickup_census_tract</th>\n",
       "      <th>dropoff_census_tract</th>\n",
       "      <th>pickup_community_area</th>\n",
       "      <th>dropoff_community_area</th>\n",
       "      <th>...</th>\n",
       "      <th>extras</th>\n",
       "      <th>trip_total</th>\n",
       "      <th>payment_type</th>\n",
       "      <th>company</th>\n",
       "      <th>pickup_latitude</th>\n",
       "      <th>pickup_longitude</th>\n",
       "      <th>pickup_location</th>\n",
       "      <th>dropoff_latitude</th>\n",
       "      <th>dropoff_longitude</th>\n",
       "      <th>dropoff_location</th>\n",
       "    </tr>\n",
       "  </thead>\n",
       "  <tbody>\n",
       "    <tr>\n",
       "      <th>0</th>\n",
       "      <td>a0d581a6d12fe6a6399aedda09d80cc330472620</td>\n",
       "      <td>42560393a9c9b9ae28339f4b5aec77fd89bd49916ad541...</td>\n",
       "      <td>2017-06-08 23:30:00+00:00</td>\n",
       "      <td>2017-06-08 23:30:00+00:00</td>\n",
       "      <td>0</td>\n",
       "      <td>0.00</td>\n",
       "      <td>NaN</td>\n",
       "      <td>NaN</td>\n",
       "      <td>NaN</td>\n",
       "      <td>NaN</td>\n",
       "      <td>...</td>\n",
       "      <td>0.0</td>\n",
       "      <td>3.25</td>\n",
       "      <td>Cash</td>\n",
       "      <td>Patriot Taxi Dba Peace Taxi Associat</td>\n",
       "      <td>NaN</td>\n",
       "      <td>NaN</td>\n",
       "      <td>None</td>\n",
       "      <td>NaN</td>\n",
       "      <td>NaN</td>\n",
       "      <td>None</td>\n",
       "    </tr>\n",
       "    <tr>\n",
       "      <th>1</th>\n",
       "      <td>f0e3f6d8b0b8a7b21d298491d418329424835680</td>\n",
       "      <td>42560393a9c9b9ae28339f4b5aec77fd89bd49916ad541...</td>\n",
       "      <td>2017-06-08 23:30:00+00:00</td>\n",
       "      <td>2017-06-08 23:45:00+00:00</td>\n",
       "      <td>420</td>\n",
       "      <td>1.44</td>\n",
       "      <td>NaN</td>\n",
       "      <td>NaN</td>\n",
       "      <td>NaN</td>\n",
       "      <td>NaN</td>\n",
       "      <td>...</td>\n",
       "      <td>0.0</td>\n",
       "      <td>7.50</td>\n",
       "      <td>Cash</td>\n",
       "      <td>Patriot Taxi Dba Peace Taxi Associat</td>\n",
       "      <td>NaN</td>\n",
       "      <td>NaN</td>\n",
       "      <td>None</td>\n",
       "      <td>NaN</td>\n",
       "      <td>NaN</td>\n",
       "      <td>None</td>\n",
       "    </tr>\n",
       "    <tr>\n",
       "      <th>2</th>\n",
       "      <td>44664b713d15bc5f5e30946f007cd67127455091</td>\n",
       "      <td>42560393a9c9b9ae28339f4b5aec77fd89bd49916ad541...</td>\n",
       "      <td>2017-06-08 23:45:00+00:00</td>\n",
       "      <td>2017-06-09 00:15:00+00:00</td>\n",
       "      <td>1740</td>\n",
       "      <td>9.31</td>\n",
       "      <td>NaN</td>\n",
       "      <td>NaN</td>\n",
       "      <td>NaN</td>\n",
       "      <td>NaN</td>\n",
       "      <td>...</td>\n",
       "      <td>0.0</td>\n",
       "      <td>27.00</td>\n",
       "      <td>Cash</td>\n",
       "      <td>Patriot Taxi Dba Peace Taxi Associat</td>\n",
       "      <td>NaN</td>\n",
       "      <td>NaN</td>\n",
       "      <td>None</td>\n",
       "      <td>NaN</td>\n",
       "      <td>NaN</td>\n",
       "      <td>None</td>\n",
       "    </tr>\n",
       "    <tr>\n",
       "      <th>3</th>\n",
       "      <td>b2010387800513ecf68688d14f2c77cbffbdca57</td>\n",
       "      <td>e14b72f6ec0a3804a1a989e2e818a2b82e73ef8b3d462c...</td>\n",
       "      <td>2017-06-04 10:30:00+00:00</td>\n",
       "      <td>2017-06-04 10:45:00+00:00</td>\n",
       "      <td>720</td>\n",
       "      <td>2.60</td>\n",
       "      <td>NaN</td>\n",
       "      <td>NaN</td>\n",
       "      <td>NaN</td>\n",
       "      <td>NaN</td>\n",
       "      <td>...</td>\n",
       "      <td>0.0</td>\n",
       "      <td>13.25</td>\n",
       "      <td>Credit Card</td>\n",
       "      <td>Globe Taxi</td>\n",
       "      <td>NaN</td>\n",
       "      <td>NaN</td>\n",
       "      <td>None</td>\n",
       "      <td>NaN</td>\n",
       "      <td>NaN</td>\n",
       "      <td>None</td>\n",
       "    </tr>\n",
       "    <tr>\n",
       "      <th>4</th>\n",
       "      <td>adf6c8f64da007f48631ceca8400f8cf2f4bf8dc</td>\n",
       "      <td>e14b72f6ec0a3804a1a989e2e818a2b82e73ef8b3d462c...</td>\n",
       "      <td>2017-06-04 11:00:00+00:00</td>\n",
       "      <td>2017-06-04 11:15:00+00:00</td>\n",
       "      <td>1200</td>\n",
       "      <td>4.30</td>\n",
       "      <td>NaN</td>\n",
       "      <td>NaN</td>\n",
       "      <td>NaN</td>\n",
       "      <td>NaN</td>\n",
       "      <td>...</td>\n",
       "      <td>1.0</td>\n",
       "      <td>20.30</td>\n",
       "      <td>Credit Card</td>\n",
       "      <td>Globe Taxi</td>\n",
       "      <td>NaN</td>\n",
       "      <td>NaN</td>\n",
       "      <td>None</td>\n",
       "      <td>NaN</td>\n",
       "      <td>NaN</td>\n",
       "      <td>None</td>\n",
       "    </tr>\n",
       "  </tbody>\n",
       "</table>\n",
       "<p>5 rows × 23 columns</p>\n",
       "</div>"
      ],
      "text/plain": [
       "                                 unique_key  \\\n",
       "0  a0d581a6d12fe6a6399aedda09d80cc330472620   \n",
       "1  f0e3f6d8b0b8a7b21d298491d418329424835680   \n",
       "2  44664b713d15bc5f5e30946f007cd67127455091   \n",
       "3  b2010387800513ecf68688d14f2c77cbffbdca57   \n",
       "4  adf6c8f64da007f48631ceca8400f8cf2f4bf8dc   \n",
       "\n",
       "                                             taxi_id  \\\n",
       "0  42560393a9c9b9ae28339f4b5aec77fd89bd49916ad541...   \n",
       "1  42560393a9c9b9ae28339f4b5aec77fd89bd49916ad541...   \n",
       "2  42560393a9c9b9ae28339f4b5aec77fd89bd49916ad541...   \n",
       "3  e14b72f6ec0a3804a1a989e2e818a2b82e73ef8b3d462c...   \n",
       "4  e14b72f6ec0a3804a1a989e2e818a2b82e73ef8b3d462c...   \n",
       "\n",
       "       trip_start_timestamp        trip_end_timestamp  trip_seconds  \\\n",
       "0 2017-06-08 23:30:00+00:00 2017-06-08 23:30:00+00:00             0   \n",
       "1 2017-06-08 23:30:00+00:00 2017-06-08 23:45:00+00:00           420   \n",
       "2 2017-06-08 23:45:00+00:00 2017-06-09 00:15:00+00:00          1740   \n",
       "3 2017-06-04 10:30:00+00:00 2017-06-04 10:45:00+00:00           720   \n",
       "4 2017-06-04 11:00:00+00:00 2017-06-04 11:15:00+00:00          1200   \n",
       "\n",
       "   trip_miles  pickup_census_tract  dropoff_census_tract  \\\n",
       "0        0.00                  NaN                   NaN   \n",
       "1        1.44                  NaN                   NaN   \n",
       "2        9.31                  NaN                   NaN   \n",
       "3        2.60                  NaN                   NaN   \n",
       "4        4.30                  NaN                   NaN   \n",
       "\n",
       "   pickup_community_area  dropoff_community_area  ...  extras  trip_total  \\\n",
       "0                    NaN                     NaN  ...     0.0        3.25   \n",
       "1                    NaN                     NaN  ...     0.0        7.50   \n",
       "2                    NaN                     NaN  ...     0.0       27.00   \n",
       "3                    NaN                     NaN  ...     0.0       13.25   \n",
       "4                    NaN                     NaN  ...     1.0       20.30   \n",
       "\n",
       "   payment_type                               company  pickup_latitude  \\\n",
       "0          Cash  Patriot Taxi Dba Peace Taxi Associat              NaN   \n",
       "1          Cash  Patriot Taxi Dba Peace Taxi Associat              NaN   \n",
       "2          Cash  Patriot Taxi Dba Peace Taxi Associat              NaN   \n",
       "3   Credit Card                            Globe Taxi              NaN   \n",
       "4   Credit Card                            Globe Taxi              NaN   \n",
       "\n",
       "  pickup_longitude pickup_location  dropoff_latitude  dropoff_longitude  \\\n",
       "0              NaN            None               NaN                NaN   \n",
       "1              NaN            None               NaN                NaN   \n",
       "2              NaN            None               NaN                NaN   \n",
       "3              NaN            None               NaN                NaN   \n",
       "4              NaN            None               NaN                NaN   \n",
       "\n",
       "  dropoff_location  \n",
       "0             None  \n",
       "1             None  \n",
       "2             None  \n",
       "3             None  \n",
       "4             None  \n",
       "\n",
       "[5 rows x 23 columns]"
      ]
     },
     "execution_count": 2,
     "metadata": {},
     "output_type": "execute_result"
    }
   ],
   "source": [
    "from google.cloud import bigquery\n",
    "\n",
    "# Create a \"Client\" object\n",
    "client = bigquery.Client()\n",
    "\n",
    "# Construct a reference to the \"chicago_taxi_trips\" dataset\n",
    "dataset_ref = client.dataset(\"chicago_taxi_trips\", project=\"bigquery-public-data\")\n",
    "\n",
    "# API request - fetch the dataset\n",
    "dataset = client.get_dataset(dataset_ref)\n",
    "\n",
    "# Construct a reference to the \"taxi_trips\" table\n",
    "table_ref = dataset_ref.table(\"taxi_trips\")\n",
    "\n",
    "# API request - fetch the table\n",
    "table = client.get_table(table_ref)\n",
    "\n",
    "# Preview the first five lines of the table\n",
    "client.list_rows(table, max_results=5).to_dataframe()"
   ]
  },
  {
   "cell_type": "markdown",
   "id": "7d9bb58b",
   "metadata": {
    "papermill": {
     "duration": 0.005132,
     "end_time": "2023-02-11T17:32:02.505818",
     "exception": false,
     "start_time": "2023-02-11T17:32:02.500686",
     "status": "completed"
    },
    "tags": []
   },
   "source": [
    "# Exercises\n",
    "\n",
    "### 1) How can you predict the demand for taxis?\n",
    "\n",
    "Say you work for a taxi company, and you're interested in predicting the demand for taxis.  Towards this goal, you'd like to create a plot that shows a rolling average of the daily number of taxi trips.  Amend the (partial) query below to return a DataFrame with two columns:\n",
    "- `trip_date` - contains one entry for each date from January 1, 2016, to March 31, 2016.\n",
    "- `avg_num_trips` - shows the average number of daily trips, calculated over a window including the value for the current date, along with the values for the preceding 3 days and the following 3 days, as long as the days fit within the three-month time frame.  For instance, when calculating the value in this column for January 3, 2016, the window will include the number of trips for the preceding 2 days, the current date, and the following 3 days.\n",
    "\n",
    "This query is partially completed for you, and you need only write the part that calculates the `avg_num_trips` column.  Note that this query uses a common table expression (CTE); if you need to review how to use CTEs, you're encouraged to check out [this tutorial](https://www.kaggle.com/dansbecker/as-with) in the [Intro to SQL](https://www.kaggle.com/learn/intro-to-sql) course."
   ]
  },
  {
   "cell_type": "code",
   "execution_count": 3,
   "id": "9f74bd45",
   "metadata": {
    "execution": {
     "iopub.execute_input": "2023-02-11T17:32:02.518878Z",
     "iopub.status.busy": "2023-02-11T17:32:02.517878Z",
     "iopub.status.idle": "2023-02-11T17:32:03.940868Z",
     "shell.execute_reply": "2023-02-11T17:32:03.939710Z"
    },
    "papermill": {
     "duration": 1.432128,
     "end_time": "2023-02-11T17:32:03.943350",
     "exception": false,
     "start_time": "2023-02-11T17:32:02.511222",
     "status": "completed"
    },
    "tags": []
   },
   "outputs": [
    {
     "data": {
      "text/html": [
       "<div>\n",
       "<style scoped>\n",
       "    .dataframe tbody tr th:only-of-type {\n",
       "        vertical-align: middle;\n",
       "    }\n",
       "\n",
       "    .dataframe tbody tr th {\n",
       "        vertical-align: top;\n",
       "    }\n",
       "\n",
       "    .dataframe thead th {\n",
       "        text-align: right;\n",
       "    }\n",
       "</style>\n",
       "<table border=\"1\" class=\"dataframe\">\n",
       "  <thead>\n",
       "    <tr style=\"text-align: right;\">\n",
       "      <th></th>\n",
       "      <th>trip_date</th>\n",
       "      <th>avg_num_trips</th>\n",
       "    </tr>\n",
       "  </thead>\n",
       "  <tbody>\n",
       "    <tr>\n",
       "      <th>0</th>\n",
       "      <td>2016-01-19</td>\n",
       "      <td>85156.571429</td>\n",
       "    </tr>\n",
       "    <tr>\n",
       "      <th>1</th>\n",
       "      <td>2016-01-23</td>\n",
       "      <td>83809.428571</td>\n",
       "    </tr>\n",
       "    <tr>\n",
       "      <th>2</th>\n",
       "      <td>2016-02-28</td>\n",
       "      <td>92816.428571</td>\n",
       "    </tr>\n",
       "    <tr>\n",
       "      <th>3</th>\n",
       "      <td>2016-03-29</td>\n",
       "      <td>75684.000000</td>\n",
       "    </tr>\n",
       "    <tr>\n",
       "      <th>4</th>\n",
       "      <td>2016-01-26</td>\n",
       "      <td>82071.285714</td>\n",
       "    </tr>\n",
       "  </tbody>\n",
       "</table>\n",
       "</div>"
      ],
      "text/plain": [
       "    trip_date  avg_num_trips\n",
       "0  2016-01-19   85156.571429\n",
       "1  2016-01-23   83809.428571\n",
       "2  2016-02-28   92816.428571\n",
       "3  2016-03-29   75684.000000\n",
       "4  2016-01-26   82071.285714"
      ]
     },
     "metadata": {},
     "output_type": "display_data"
    },
    {
     "data": {
      "application/javascript": [
       "parent.postMessage({\"jupyterEvent\": \"custom.exercise_interaction\", \"data\": {\"outcomeType\": 1, \"valueTowardsCompletion\": 0.3333333333333333, \"interactionType\": 1, \"questionType\": 2, \"questionId\": \"1_TaxiDemand\", \"learnToolsVersion\": \"0.3.4\", \"failureMessage\": \"\", \"exceptionClass\": \"\", \"trace\": \"\"}}, \"*\")"
      ],
      "text/plain": [
       "<IPython.core.display.Javascript object>"
      ]
     },
     "metadata": {},
     "output_type": "display_data"
    },
    {
     "data": {
      "text/markdown": [
       "<span style=\"color:#33cc33\">Correct</span>"
      ],
      "text/plain": [
       "Correct"
      ]
     },
     "metadata": {},
     "output_type": "display_data"
    }
   ],
   "source": [
    "# Fill in the blank below\n",
    "avg_num_trips_query = \"\"\"\n",
    "                      WITH trips_by_day AS\n",
    "                      (\n",
    "                      SELECT DATE(trip_start_timestamp) AS trip_date,\n",
    "                          COUNT(*) as num_trips\n",
    "                      FROM `bigquery-public-data.chicago_taxi_trips.taxi_trips`\n",
    "                      WHERE trip_start_timestamp > '2016-01-01' AND trip_start_timestamp < '2016-04-01'\n",
    "                      GROUP BY trip_date\n",
    "                      )\n",
    "                      SELECT trip_date,\n",
    "                          AVG(num_trips) \n",
    "                          OVER (\n",
    "                               ORDER BY trip_date\n",
    "                               ROWS BETWEEN 3 PRECEDING AND 3 FOLLOWING\n",
    "                               ) AS avg_num_trips\n",
    "                      FROM trips_by_day\n",
    "                      \"\"\"\n",
    "\n",
    "# Check your answer\n",
    "q_1.check()"
   ]
  },
  {
   "cell_type": "code",
   "execution_count": 4,
   "id": "026074ac",
   "metadata": {
    "execution": {
     "iopub.execute_input": "2023-02-11T17:32:03.957682Z",
     "iopub.status.busy": "2023-02-11T17:32:03.956560Z",
     "iopub.status.idle": "2023-02-11T17:32:03.961560Z",
     "shell.execute_reply": "2023-02-11T17:32:03.960594Z"
    },
    "papermill": {
     "duration": 0.014601,
     "end_time": "2023-02-11T17:32:03.963965",
     "exception": false,
     "start_time": "2023-02-11T17:32:03.949364",
     "status": "completed"
    },
    "tags": []
   },
   "outputs": [],
   "source": [
    "# Lines below will give you a hint or solution code\n",
    "# q_1.hint()\n",
    "# q_1.solution()"
   ]
  },
  {
   "cell_type": "markdown",
   "id": "27fca3e3",
   "metadata": {
    "papermill": {
     "duration": 0.005613,
     "end_time": "2023-02-11T17:32:03.975659",
     "exception": false,
     "start_time": "2023-02-11T17:32:03.970046",
     "status": "completed"
    },
    "tags": []
   },
   "source": [
    "### 2) Can you separate and order trips by community area?\n",
    "\n",
    "The query below returns a DataFrame with three columns from the table: `pickup_community_area`, `trip_start_timestamp`, and `trip_end_timestamp`.  \n",
    "\n",
    "Amend the query to return an additional column called `trip_number` which shows the order in which the trips were taken from their respective community areas.  So, the first trip of the day originating from community area 1 should receive a value of 1; the second trip of the day from the same area should receive a value of 2.  Likewise, the first trip of the day from community area 2 should receive a value of 1, and so on.\n",
    "\n",
    "Note that there are many numbering functions that can be used to solve this problem (depending on how you want to deal with trips that started at the same time from the same community area); to answer this question, please use the **RANK()** function."
   ]
  },
  {
   "cell_type": "code",
   "execution_count": 5,
   "id": "6fb76bb2",
   "metadata": {
    "execution": {
     "iopub.execute_input": "2023-02-11T17:32:03.989453Z",
     "iopub.status.busy": "2023-02-11T17:32:03.989060Z",
     "iopub.status.idle": "2023-02-11T17:32:08.742283Z",
     "shell.execute_reply": "2023-02-11T17:32:08.741181Z"
    },
    "papermill": {
     "duration": 4.763217,
     "end_time": "2023-02-11T17:32:08.744776",
     "exception": false,
     "start_time": "2023-02-11T17:32:03.981559",
     "status": "completed"
    },
    "tags": []
   },
   "outputs": [
    {
     "data": {
      "text/html": [
       "<div>\n",
       "<style scoped>\n",
       "    .dataframe tbody tr th:only-of-type {\n",
       "        vertical-align: middle;\n",
       "    }\n",
       "\n",
       "    .dataframe tbody tr th {\n",
       "        vertical-align: top;\n",
       "    }\n",
       "\n",
       "    .dataframe thead th {\n",
       "        text-align: right;\n",
       "    }\n",
       "</style>\n",
       "<table border=\"1\" class=\"dataframe\">\n",
       "  <thead>\n",
       "    <tr style=\"text-align: right;\">\n",
       "      <th></th>\n",
       "      <th>pickup_community_area</th>\n",
       "      <th>trip_start_timestamp</th>\n",
       "      <th>trip_end_timestamp</th>\n",
       "      <th>trip_number</th>\n",
       "    </tr>\n",
       "  </thead>\n",
       "  <tbody>\n",
       "    <tr>\n",
       "      <th>0</th>\n",
       "      <td>67.0</td>\n",
       "      <td>2013-10-03 01:15:00+00:00</td>\n",
       "      <td>2013-10-03 01:30:00+00:00</td>\n",
       "      <td>1</td>\n",
       "    </tr>\n",
       "    <tr>\n",
       "      <th>1</th>\n",
       "      <td>67.0</td>\n",
       "      <td>2013-10-03 07:45:00+00:00</td>\n",
       "      <td>2013-10-03 07:45:00+00:00</td>\n",
       "      <td>2</td>\n",
       "    </tr>\n",
       "    <tr>\n",
       "      <th>2</th>\n",
       "      <td>67.0</td>\n",
       "      <td>2013-10-03 08:00:00+00:00</td>\n",
       "      <td>2013-10-03 08:00:00+00:00</td>\n",
       "      <td>3</td>\n",
       "    </tr>\n",
       "    <tr>\n",
       "      <th>3</th>\n",
       "      <td>67.0</td>\n",
       "      <td>2013-10-03 08:00:00+00:00</td>\n",
       "      <td>2013-10-03 08:00:00+00:00</td>\n",
       "      <td>3</td>\n",
       "    </tr>\n",
       "    <tr>\n",
       "      <th>4</th>\n",
       "      <td>67.0</td>\n",
       "      <td>2013-10-03 21:00:00+00:00</td>\n",
       "      <td>2013-10-03 21:00:00+00:00</td>\n",
       "      <td>5</td>\n",
       "    </tr>\n",
       "  </tbody>\n",
       "</table>\n",
       "</div>"
      ],
      "text/plain": [
       "   pickup_community_area      trip_start_timestamp        trip_end_timestamp  \\\n",
       "0                   67.0 2013-10-03 01:15:00+00:00 2013-10-03 01:30:00+00:00   \n",
       "1                   67.0 2013-10-03 07:45:00+00:00 2013-10-03 07:45:00+00:00   \n",
       "2                   67.0 2013-10-03 08:00:00+00:00 2013-10-03 08:00:00+00:00   \n",
       "3                   67.0 2013-10-03 08:00:00+00:00 2013-10-03 08:00:00+00:00   \n",
       "4                   67.0 2013-10-03 21:00:00+00:00 2013-10-03 21:00:00+00:00   \n",
       "\n",
       "   trip_number  \n",
       "0            1  \n",
       "1            2  \n",
       "2            3  \n",
       "3            3  \n",
       "4            5  "
      ]
     },
     "metadata": {},
     "output_type": "display_data"
    },
    {
     "data": {
      "application/javascript": [
       "parent.postMessage({\"jupyterEvent\": \"custom.exercise_interaction\", \"data\": {\"outcomeType\": 1, \"valueTowardsCompletion\": 0.3333333333333333, \"interactionType\": 1, \"questionType\": 2, \"questionId\": \"2_CommunityArea\", \"learnToolsVersion\": \"0.3.4\", \"failureMessage\": \"\", \"exceptionClass\": \"\", \"trace\": \"\"}}, \"*\")"
      ],
      "text/plain": [
       "<IPython.core.display.Javascript object>"
      ]
     },
     "metadata": {},
     "output_type": "display_data"
    },
    {
     "data": {
      "text/markdown": [
       "<span style=\"color:#33cc33\">Correct</span>"
      ],
      "text/plain": [
       "Correct"
      ]
     },
     "metadata": {},
     "output_type": "display_data"
    }
   ],
   "source": [
    "# Amend the query below\n",
    "trip_number_query = \"\"\"\n",
    "                    SELECT pickup_community_area,\n",
    "                        trip_start_timestamp,\n",
    "                        trip_end_timestamp,\n",
    "                        RANK()\n",
    "                            OVER (\n",
    "                                  PARTITION BY pickup_community_area\n",
    "                                  ORDER BY trip_start_timestamp\n",
    "                                 ) AS trip_number\n",
    "                    FROM `bigquery-public-data.chicago_taxi_trips.taxi_trips`\n",
    "                    WHERE DATE(trip_start_timestamp) = '2013-10-03' \n",
    "                    \"\"\"\n",
    "\n",
    "# Check your answer\n",
    "q_2.check()"
   ]
  },
  {
   "cell_type": "code",
   "execution_count": 6,
   "id": "0b5ae1ec",
   "metadata": {
    "execution": {
     "iopub.execute_input": "2023-02-11T17:32:08.759480Z",
     "iopub.status.busy": "2023-02-11T17:32:08.759087Z",
     "iopub.status.idle": "2023-02-11T17:32:08.763185Z",
     "shell.execute_reply": "2023-02-11T17:32:08.762127Z"
    },
    "papermill": {
     "duration": 0.014359,
     "end_time": "2023-02-11T17:32:08.765547",
     "exception": false,
     "start_time": "2023-02-11T17:32:08.751188",
     "status": "completed"
    },
    "tags": []
   },
   "outputs": [],
   "source": [
    "# Lines below will give you a hint or solution code\n",
    "# q_2.hint()\n",
    "# q_2.solution()"
   ]
  },
  {
   "cell_type": "markdown",
   "id": "e964b50e",
   "metadata": {
    "papermill": {
     "duration": 0.006133,
     "end_time": "2023-02-11T17:32:08.778066",
     "exception": false,
     "start_time": "2023-02-11T17:32:08.771933",
     "status": "completed"
    },
    "tags": []
   },
   "source": [
    "### 3) How much time elapses between trips?\n",
    "\n",
    "The (partial) query in the code cell below shows, for each trip in the selected time frame, the corresponding `taxi_id`, `trip_start_timestamp`, and `trip_end_timestamp`. \n",
    "\n",
    "Your task in this exercise is to edit the query to include an additional `prev_break` column that shows the length of the break (in minutes) that the driver had before each trip started (this corresponds to the time between `trip_start_timestamp` of the current trip and `trip_end_timestamp` of the previous trip).  Partition the calculation by `taxi_id`, and order the results within each partition by `trip_start_timestamp`.\n",
    "\n",
    "Some sample results are shown below, where all rows correspond to the same driver (or `taxi_id`).  Take the time now to make sure that the values in the `prev_break` column make sense to you!\n",
    "\n",
    "![first_commands](https://i.imgur.com/zzHgmlx.png)\n",
    "\n",
    "Note that the first trip of the day for each driver should have a value of **NaN** (not a number) in the `prev_break` column."
   ]
  },
  {
   "cell_type": "code",
   "execution_count": 7,
   "id": "7f740cd7",
   "metadata": {
    "execution": {
     "iopub.execute_input": "2023-02-11T17:32:08.792249Z",
     "iopub.status.busy": "2023-02-11T17:32:08.791859Z",
     "iopub.status.idle": "2023-02-11T17:32:20.444165Z",
     "shell.execute_reply": "2023-02-11T17:32:20.442914Z"
    },
    "papermill": {
     "duration": 11.662383,
     "end_time": "2023-02-11T17:32:20.446534",
     "exception": false,
     "start_time": "2023-02-11T17:32:08.784151",
     "status": "completed"
    },
    "tags": []
   },
   "outputs": [
    {
     "data": {
      "text/html": [
       "<div>\n",
       "<style scoped>\n",
       "    .dataframe tbody tr th:only-of-type {\n",
       "        vertical-align: middle;\n",
       "    }\n",
       "\n",
       "    .dataframe tbody tr th {\n",
       "        vertical-align: top;\n",
       "    }\n",
       "\n",
       "    .dataframe thead th {\n",
       "        text-align: right;\n",
       "    }\n",
       "</style>\n",
       "<table border=\"1\" class=\"dataframe\">\n",
       "  <thead>\n",
       "    <tr style=\"text-align: right;\">\n",
       "      <th></th>\n",
       "      <th>taxi_id</th>\n",
       "      <th>trip_start_timestamp</th>\n",
       "      <th>trip_end_timestamp</th>\n",
       "      <th>prev_break</th>\n",
       "    </tr>\n",
       "  </thead>\n",
       "  <tbody>\n",
       "    <tr>\n",
       "      <th>0</th>\n",
       "      <td>00752524a4118a162dce62ff49c0eb0f79530d9e0ecb5a...</td>\n",
       "      <td>2013-10-03 05:45:00+00:00</td>\n",
       "      <td>2013-10-03 06:00:00+00:00</td>\n",
       "      <td>315.0</td>\n",
       "    </tr>\n",
       "    <tr>\n",
       "      <th>1</th>\n",
       "      <td>00752524a4118a162dce62ff49c0eb0f79530d9e0ecb5a...</td>\n",
       "      <td>2013-10-03 19:30:00+00:00</td>\n",
       "      <td>2013-10-03 20:00:00+00:00</td>\n",
       "      <td>255.0</td>\n",
       "    </tr>\n",
       "    <tr>\n",
       "      <th>2</th>\n",
       "      <td>07780d6ed6024003f9fd2d0dae5b2af4e11e3303e73641...</td>\n",
       "      <td>2013-10-03 08:30:00+00:00</td>\n",
       "      <td>2013-10-03 08:45:00+00:00</td>\n",
       "      <td>285.0</td>\n",
       "    </tr>\n",
       "    <tr>\n",
       "      <th>3</th>\n",
       "      <td>2ace0a0c841190acb5513d4f011447a3e9df87da0cc213...</td>\n",
       "      <td>2013-10-03 08:00:00+00:00</td>\n",
       "      <td>2013-10-03 09:00:00+00:00</td>\n",
       "      <td>330.0</td>\n",
       "    </tr>\n",
       "    <tr>\n",
       "      <th>4</th>\n",
       "      <td>2ee325e10e1eec919fc5bfc4d64ed9951cbab4fb13b3e2...</td>\n",
       "      <td>2013-10-03 12:30:00+00:00</td>\n",
       "      <td>2013-10-03 12:30:00+00:00</td>\n",
       "      <td>165.0</td>\n",
       "    </tr>\n",
       "  </tbody>\n",
       "</table>\n",
       "</div>"
      ],
      "text/plain": [
       "                                             taxi_id  \\\n",
       "0  00752524a4118a162dce62ff49c0eb0f79530d9e0ecb5a...   \n",
       "1  00752524a4118a162dce62ff49c0eb0f79530d9e0ecb5a...   \n",
       "2  07780d6ed6024003f9fd2d0dae5b2af4e11e3303e73641...   \n",
       "3  2ace0a0c841190acb5513d4f011447a3e9df87da0cc213...   \n",
       "4  2ee325e10e1eec919fc5bfc4d64ed9951cbab4fb13b3e2...   \n",
       "\n",
       "       trip_start_timestamp        trip_end_timestamp  prev_break  \n",
       "0 2013-10-03 05:45:00+00:00 2013-10-03 06:00:00+00:00       315.0  \n",
       "1 2013-10-03 19:30:00+00:00 2013-10-03 20:00:00+00:00       255.0  \n",
       "2 2013-10-03 08:30:00+00:00 2013-10-03 08:45:00+00:00       285.0  \n",
       "3 2013-10-03 08:00:00+00:00 2013-10-03 09:00:00+00:00       330.0  \n",
       "4 2013-10-03 12:30:00+00:00 2013-10-03 12:30:00+00:00       165.0  "
      ]
     },
     "metadata": {},
     "output_type": "display_data"
    },
    {
     "data": {
      "application/javascript": [
       "parent.postMessage({\"jupyterEvent\": \"custom.exercise_interaction\", \"data\": {\"outcomeType\": 1, \"valueTowardsCompletion\": 0.3333333333333333, \"interactionType\": 1, \"questionType\": 2, \"questionId\": \"3_BreakTime\", \"learnToolsVersion\": \"0.3.4\", \"failureMessage\": \"\", \"exceptionClass\": \"\", \"trace\": \"\"}}, \"*\")"
      ],
      "text/plain": [
       "<IPython.core.display.Javascript object>"
      ]
     },
     "metadata": {},
     "output_type": "display_data"
    },
    {
     "data": {
      "text/markdown": [
       "<span style=\"color:#33cc33\">Correct</span>"
      ],
      "text/plain": [
       "Correct"
      ]
     },
     "metadata": {},
     "output_type": "display_data"
    }
   ],
   "source": [
    "# Fill in the blanks below\n",
    "break_time_query = \"\"\"\n",
    "                   SELECT taxi_id,\n",
    "                       trip_start_timestamp,\n",
    "                       trip_end_timestamp,\n",
    "                       TIMESTAMP_DIFF(\n",
    "                           trip_start_timestamp, \n",
    "                           LAG(trip_end_timestamp, 1) OVER (PARTITION BY taxi_id ORDER BY trip_start_timestamp), \n",
    "                           MINUTE) as prev_break\n",
    "                   FROM `bigquery-public-data.chicago_taxi_trips.taxi_trips`\n",
    "                   WHERE DATE(trip_start_timestamp) = '2013-10-03' \n",
    "                   \"\"\"\n",
    "\n",
    "# Check your answer\n",
    "q_3.check()"
   ]
  },
  {
   "cell_type": "code",
   "execution_count": 8,
   "id": "49640695",
   "metadata": {
    "execution": {
     "iopub.execute_input": "2023-02-11T17:32:20.461686Z",
     "iopub.status.busy": "2023-02-11T17:32:20.461295Z",
     "iopub.status.idle": "2023-02-11T17:32:20.465629Z",
     "shell.execute_reply": "2023-02-11T17:32:20.464487Z"
    },
    "papermill": {
     "duration": 0.014691,
     "end_time": "2023-02-11T17:32:20.467924",
     "exception": false,
     "start_time": "2023-02-11T17:32:20.453233",
     "status": "completed"
    },
    "tags": []
   },
   "outputs": [],
   "source": [
    "# Lines below will give you a hint or solution code\n",
    "# q_3.hint()\n",
    "# q_3.solution()"
   ]
  },
  {
   "cell_type": "markdown",
   "id": "fe449c9f",
   "metadata": {
    "papermill": {
     "duration": 0.006288,
     "end_time": "2023-02-11T17:32:20.480774",
     "exception": false,
     "start_time": "2023-02-11T17:32:20.474486",
     "status": "completed"
    },
    "tags": []
   },
   "source": [
    "---\n",
    "\n",
    "\n",
    "\n",
    "\n",
    "**Allen**"
   ]
  }
 ],
 "metadata": {
  "kernelspec": {
   "display_name": "Python 3",
   "language": "python",
   "name": "python3"
  },
  "language_info": {
   "codemirror_mode": {
    "name": "ipython",
    "version": 3
   },
   "file_extension": ".py",
   "mimetype": "text/x-python",
   "name": "python",
   "nbconvert_exporter": "python",
   "pygments_lexer": "ipython3",
   "version": "3.7.12"
  },
  "papermill": {
   "default_parameters": {},
   "duration": 73.482972,
   "end_time": "2023-02-11T17:32:21.109910",
   "environment_variables": {},
   "exception": null,
   "input_path": "__notebook__.ipynb",
   "output_path": "__notebook__.ipynb",
   "parameters": {},
   "start_time": "2023-02-11T17:31:07.626938",
   "version": "2.3.4"
  }
 },
 "nbformat": 4,
 "nbformat_minor": 5
}
