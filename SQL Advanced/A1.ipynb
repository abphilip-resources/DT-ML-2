{
 "cells": [
  {
   "cell_type": "markdown",
   "id": "ea95c7ba",
   "metadata": {
    "papermill": {
     "duration": 0.005031,
     "end_time": "2023-02-07T05:19:35.386563",
     "exception": false,
     "start_time": "2023-02-07T05:19:35.381532",
     "status": "completed"
    },
    "tags": []
   },
   "source": [
    "# Introduction\n",
    "\n",
    "In the [Intro to SQL micro-course](https://www.kaggle.com/learn/intro-to-sql), you learned how to use [**INNER JOIN**](https://www.kaggle.com/dansbecker/joining-data) to consolidate information from two different tables.  Now you'll learn about a few more types of **JOIN**, along with how to use **UNIONs** to pull information from multiple tables.  \n",
    "\n",
    "Along the way, we'll work with two imaginary tables, called `owners` and `pets`. \n",
    "\n",
    "![two tables](https://i.imgur.com/dYVwS4T.png)\n",
    "\n",
    "Each row of the `owners` table identifies a different pet owner, where the `ID` column is a unique identifier.  The `Pet_ID` column (in the `owners` table) contains the ID for the pet that belongs to the owner (this number matches the ID for the pet from the `pets` table).\n",
    "\n",
    "For example, \n",
    "- the `pets` table shows that Dr. Harris Bonkers is the pet with ID 1.\n",
    "- The `owners` table shows that Aubrey Little is the owner of the pet with ID 1.\n",
    "\n",
    "Putting these two facts together, Dr. Harris Bonkers is owned by Aubrey Little.  Likewise, since Veronica Dunn does not have a corresponding `Pet_ID`, she does not have a pet.  And, since 5 does not appear in the `Pet_ID` column, Maisie does not have an owner.\n",
    "\n",
    "# JOINs\n",
    "\n",
    "Recall that we can use an **INNER JOIN** to pull rows from both tables where the value in the `Pet_ID` column in the `owners` table has a match in the `ID` column of the `pets` table.\n",
    "\n",
    "![...](https://i.imgur.com/C5wimKT.png)\n",
    "\n",
    "In this case, Veronica Dunn and Maisie are not included in the results.  But what if we instead want to create a table containing all pets, regardless of whether they have owners?  Or, what if we want to combine all of the rows in both tables?  In these cases, we need only use a different type of **JOIN**.\n",
    "\n",
    "For instance, to create a table containing all rows from the `owners` table, we use a **LEFT JOIN**.  In this case, \"left\" refers to the table that appears before the **JOIN** in the query.  (\"Right\" refers to the table that is after the **JOIN**.)\n",
    "\n",
    "![...](https://i.imgur.com/tnOqw2S.png)\n",
    "\n",
    "Replacing **INNER JOIN** in the query above with **LEFT JOIN** returns all rows where the two tables have matching entries, along with all of the rows in the left table (whether there is a match or not).  \n",
    "\n",
    "If we instead use a **RIGHT JOIN**, we get the matching rows, along with all rows in the right table (whether there is a match or not).\n",
    "\n",
    "Finally, a **FULL JOIN** returns all rows from both tables.  Note that in general, any row that does not have a match in both tables will have NULL entries for the missing values.  You can see this in the image below.\n",
    "\n",
    "![...](https://i.imgur.com/1Dvmg8S.png)\n",
    "\n",
    "\n",
    "# UNIONs\n",
    "\n",
    "As you've seen, **JOINs** horizontally combine results from different tables.  If you instead would like to vertically concatenate columns, you can do so with a **UNION**.  The example query below combines the `Age` columns from both tables.\n",
    "\n",
    "![...](https://i.imgur.com/oa6VDig.png)\n",
    "\n",
    "Note that with a **UNION**, the data types of both columns must be the same, but the column names can be different.  (So, for instance, we cannot take the **UNION** of the `Age` column from the `owners` table and the `Pet_Name` column from the `pets` table.) \n",
    "\n",
    "We use **UNION ALL** to include duplicate values - you'll notice that `9` appears in both the `owners` table and the `pets` table, and shows up twice in the concatenated results.  If you'd like to drop duplicate values, you need only change **UNION ALL** in the query to **UNION DISTINCT**.\n",
    "\n",
    "# Example\n",
    "\n",
    "We'll work with the [Hacker News](https://www.kaggle.com/hacker-news/hacker-news) dataset. We begin by reviewing the first several rows of the `comments` table. (_The corresponding code is hidden, but you can un-hide it by clicking on the \"Code\" button below._)"
   ]
  },
  {
   "cell_type": "code",
   "execution_count": 1,
   "id": "427b4df9",
   "metadata": {
    "_kg_hide-input": true,
    "execution": {
     "iopub.execute_input": "2023-02-07T05:19:35.397356Z",
     "iopub.status.busy": "2023-02-07T05:19:35.396301Z",
     "iopub.status.idle": "2023-02-07T05:19:36.733639Z",
     "shell.execute_reply": "2023-02-07T05:19:36.732204Z"
    },
    "papermill": {
     "duration": 1.345851,
     "end_time": "2023-02-07T05:19:36.736475",
     "exception": false,
     "start_time": "2023-02-07T05:19:35.390624",
     "status": "completed"
    },
    "tags": []
   },
   "outputs": [
    {
     "name": "stdout",
     "output_type": "stream",
     "text": [
      "Using Kaggle's public dataset BigQuery integration.\n"
     ]
    },
    {
     "data": {
      "text/html": [
       "<div>\n",
       "<style scoped>\n",
       "    .dataframe tbody tr th:only-of-type {\n",
       "        vertical-align: middle;\n",
       "    }\n",
       "\n",
       "    .dataframe tbody tr th {\n",
       "        vertical-align: top;\n",
       "    }\n",
       "\n",
       "    .dataframe thead th {\n",
       "        text-align: right;\n",
       "    }\n",
       "</style>\n",
       "<table border=\"1\" class=\"dataframe\">\n",
       "  <thead>\n",
       "    <tr style=\"text-align: right;\">\n",
       "      <th></th>\n",
       "      <th>id</th>\n",
       "      <th>by</th>\n",
       "      <th>author</th>\n",
       "      <th>time</th>\n",
       "      <th>time_ts</th>\n",
       "      <th>text</th>\n",
       "      <th>parent</th>\n",
       "      <th>deleted</th>\n",
       "      <th>dead</th>\n",
       "      <th>ranking</th>\n",
       "    </tr>\n",
       "  </thead>\n",
       "  <tbody>\n",
       "    <tr>\n",
       "      <th>0</th>\n",
       "      <td>9734136</td>\n",
       "      <td>None</td>\n",
       "      <td>None</td>\n",
       "      <td>1434565400</td>\n",
       "      <td>2015-06-17 18:23:20+00:00</td>\n",
       "      <td>None</td>\n",
       "      <td>9733698</td>\n",
       "      <td>True</td>\n",
       "      <td>None</td>\n",
       "      <td>0</td>\n",
       "    </tr>\n",
       "    <tr>\n",
       "      <th>1</th>\n",
       "      <td>4921158</td>\n",
       "      <td>None</td>\n",
       "      <td>None</td>\n",
       "      <td>1355496966</td>\n",
       "      <td>2012-12-14 14:56:06+00:00</td>\n",
       "      <td>None</td>\n",
       "      <td>4921100</td>\n",
       "      <td>True</td>\n",
       "      <td>None</td>\n",
       "      <td>0</td>\n",
       "    </tr>\n",
       "    <tr>\n",
       "      <th>2</th>\n",
       "      <td>7500568</td>\n",
       "      <td>None</td>\n",
       "      <td>None</td>\n",
       "      <td>1396261158</td>\n",
       "      <td>2014-03-31 10:19:18+00:00</td>\n",
       "      <td>None</td>\n",
       "      <td>7499385</td>\n",
       "      <td>True</td>\n",
       "      <td>None</td>\n",
       "      <td>0</td>\n",
       "    </tr>\n",
       "    <tr>\n",
       "      <th>3</th>\n",
       "      <td>8909635</td>\n",
       "      <td>None</td>\n",
       "      <td>None</td>\n",
       "      <td>1421627275</td>\n",
       "      <td>2015-01-19 00:27:55+00:00</td>\n",
       "      <td>None</td>\n",
       "      <td>8901135</td>\n",
       "      <td>True</td>\n",
       "      <td>None</td>\n",
       "      <td>0</td>\n",
       "    </tr>\n",
       "    <tr>\n",
       "      <th>4</th>\n",
       "      <td>9256463</td>\n",
       "      <td>None</td>\n",
       "      <td>None</td>\n",
       "      <td>1427204705</td>\n",
       "      <td>2015-03-24 13:45:05+00:00</td>\n",
       "      <td>None</td>\n",
       "      <td>9256346</td>\n",
       "      <td>True</td>\n",
       "      <td>None</td>\n",
       "      <td>0</td>\n",
       "    </tr>\n",
       "  </tbody>\n",
       "</table>\n",
       "</div>"
      ],
      "text/plain": [
       "        id    by author        time                   time_ts  text   parent  \\\n",
       "0  9734136  None   None  1434565400 2015-06-17 18:23:20+00:00  None  9733698   \n",
       "1  4921158  None   None  1355496966 2012-12-14 14:56:06+00:00  None  4921100   \n",
       "2  7500568  None   None  1396261158 2014-03-31 10:19:18+00:00  None  7499385   \n",
       "3  8909635  None   None  1421627275 2015-01-19 00:27:55+00:00  None  8901135   \n",
       "4  9256463  None   None  1427204705 2015-03-24 13:45:05+00:00  None  9256346   \n",
       "\n",
       "   deleted  dead  ranking  \n",
       "0     True  None        0  \n",
       "1     True  None        0  \n",
       "2     True  None        0  \n",
       "3     True  None        0  \n",
       "4     True  None        0  "
      ]
     },
     "execution_count": 1,
     "metadata": {},
     "output_type": "execute_result"
    }
   ],
   "source": [
    "import warnings\n",
    "warnings.filterwarnings(\"ignore\")\n",
    "from google.cloud import bigquery\n",
    "\n",
    "# Create a \"Client\" object\n",
    "client = bigquery.Client()\n",
    "\n",
    "# Construct a reference to the \"hacker_news\" dataset\n",
    "dataset_ref = client.dataset(\"hacker_news\", project=\"bigquery-public-data\")\n",
    "\n",
    "# API request - fetch the dataset\n",
    "dataset = client.get_dataset(dataset_ref)\n",
    "\n",
    "# Construct a reference to the \"comments\" table\n",
    "table_ref = dataset_ref.table(\"comments\")\n",
    "\n",
    "# API request - fetch the table\n",
    "table = client.get_table(table_ref)\n",
    "\n",
    "# Preview the first five lines of the table\n",
    "client.list_rows(table, max_results=5).to_dataframe()"
   ]
  },
  {
   "cell_type": "markdown",
   "id": "469bce18",
   "metadata": {
    "papermill": {
     "duration": 0.003951,
     "end_time": "2023-02-07T05:19:36.744742",
     "exception": false,
     "start_time": "2023-02-07T05:19:36.740791",
     "status": "completed"
    },
    "tags": []
   },
   "source": [
    "You'll also work with the `stories` table."
   ]
  },
  {
   "cell_type": "code",
   "execution_count": 2,
   "id": "bd6c0ff2",
   "metadata": {
    "_kg_hide-input": true,
    "execution": {
     "iopub.execute_input": "2023-02-07T05:19:36.755426Z",
     "iopub.status.busy": "2023-02-07T05:19:36.754666Z",
     "iopub.status.idle": "2023-02-07T05:19:37.503618Z",
     "shell.execute_reply": "2023-02-07T05:19:37.502063Z"
    },
    "papermill": {
     "duration": 0.757303,
     "end_time": "2023-02-07T05:19:37.506350",
     "exception": false,
     "start_time": "2023-02-07T05:19:36.749047",
     "status": "completed"
    },
    "tags": []
   },
   "outputs": [
    {
     "data": {
      "text/html": [
       "<div>\n",
       "<style scoped>\n",
       "    .dataframe tbody tr th:only-of-type {\n",
       "        vertical-align: middle;\n",
       "    }\n",
       "\n",
       "    .dataframe tbody tr th {\n",
       "        vertical-align: top;\n",
       "    }\n",
       "\n",
       "    .dataframe thead th {\n",
       "        text-align: right;\n",
       "    }\n",
       "</style>\n",
       "<table border=\"1\" class=\"dataframe\">\n",
       "  <thead>\n",
       "    <tr style=\"text-align: right;\">\n",
       "      <th></th>\n",
       "      <th>id</th>\n",
       "      <th>by</th>\n",
       "      <th>score</th>\n",
       "      <th>time</th>\n",
       "      <th>time_ts</th>\n",
       "      <th>title</th>\n",
       "      <th>url</th>\n",
       "      <th>text</th>\n",
       "      <th>deleted</th>\n",
       "      <th>dead</th>\n",
       "      <th>descendants</th>\n",
       "      <th>author</th>\n",
       "    </tr>\n",
       "  </thead>\n",
       "  <tbody>\n",
       "    <tr>\n",
       "      <th>0</th>\n",
       "      <td>6988445</td>\n",
       "      <td>cflick</td>\n",
       "      <td>0</td>\n",
       "      <td>1388454902</td>\n",
       "      <td>2013-12-31 01:55:02+00:00</td>\n",
       "      <td>Appshare</td>\n",
       "      <td>http://chadflick.ws/appshare.html</td>\n",
       "      <td>Did facebook or angrybirds pay you?  We will!</td>\n",
       "      <td>None</td>\n",
       "      <td>True</td>\n",
       "      <td>NaN</td>\n",
       "      <td>cflick</td>\n",
       "    </tr>\n",
       "    <tr>\n",
       "      <th>1</th>\n",
       "      <td>7047571</td>\n",
       "      <td>Rd2</td>\n",
       "      <td>1</td>\n",
       "      <td>1389562985</td>\n",
       "      <td>2014-01-12 21:43:05+00:00</td>\n",
       "      <td>Java in startups</td>\n",
       "      <td></td>\n",
       "      <td>Hello, hacker news!&lt;p&gt;Have any of you used jav...</td>\n",
       "      <td>None</td>\n",
       "      <td>True</td>\n",
       "      <td>NaN</td>\n",
       "      <td>Rd2</td>\n",
       "    </tr>\n",
       "    <tr>\n",
       "      <th>2</th>\n",
       "      <td>9157712</td>\n",
       "      <td>mo0</td>\n",
       "      <td>1</td>\n",
       "      <td>1425657937</td>\n",
       "      <td>2015-03-06 16:05:37+00:00</td>\n",
       "      <td>Show HN: Discover what songs were used in YouT...</td>\n",
       "      <td>http://www.mooma.sh/</td>\n",
       "      <td>The user can paste a media url(currently only ...</td>\n",
       "      <td>None</td>\n",
       "      <td>True</td>\n",
       "      <td>NaN</td>\n",
       "      <td>mo0</td>\n",
       "    </tr>\n",
       "    <tr>\n",
       "      <th>3</th>\n",
       "      <td>8127403</td>\n",
       "      <td>ad11</td>\n",
       "      <td>1</td>\n",
       "      <td>1407052667</td>\n",
       "      <td>2014-08-03 07:57:47+00:00</td>\n",
       "      <td>My poker project, what do you think?</td>\n",
       "      <td></td>\n",
       "      <td>Hi guys, what do you think about my poker proj...</td>\n",
       "      <td>None</td>\n",
       "      <td>True</td>\n",
       "      <td>NaN</td>\n",
       "      <td>ad11</td>\n",
       "    </tr>\n",
       "    <tr>\n",
       "      <th>4</th>\n",
       "      <td>6933158</td>\n",
       "      <td>emyy</td>\n",
       "      <td>1</td>\n",
       "      <td>1387432701</td>\n",
       "      <td>2013-12-19 05:58:21+00:00</td>\n",
       "      <td>Christmas Crafts Ideas - Easy and Simple Famil...</td>\n",
       "      <td>http://www.winxdvd.com/resource/christmas-craf...</td>\n",
       "      <td>There are some free Christmas craft ideas to m...</td>\n",
       "      <td>None</td>\n",
       "      <td>True</td>\n",
       "      <td>NaN</td>\n",
       "      <td>emyy</td>\n",
       "    </tr>\n",
       "  </tbody>\n",
       "</table>\n",
       "</div>"
      ],
      "text/plain": [
       "        id      by  score        time                   time_ts  \\\n",
       "0  6988445  cflick      0  1388454902 2013-12-31 01:55:02+00:00   \n",
       "1  7047571     Rd2      1  1389562985 2014-01-12 21:43:05+00:00   \n",
       "2  9157712     mo0      1  1425657937 2015-03-06 16:05:37+00:00   \n",
       "3  8127403    ad11      1  1407052667 2014-08-03 07:57:47+00:00   \n",
       "4  6933158    emyy      1  1387432701 2013-12-19 05:58:21+00:00   \n",
       "\n",
       "                                               title  \\\n",
       "0                                           Appshare   \n",
       "1                                   Java in startups   \n",
       "2  Show HN: Discover what songs were used in YouT...   \n",
       "3               My poker project, what do you think?   \n",
       "4  Christmas Crafts Ideas - Easy and Simple Famil...   \n",
       "\n",
       "                                                 url  \\\n",
       "0                  http://chadflick.ws/appshare.html   \n",
       "1                                                      \n",
       "2                               http://www.mooma.sh/   \n",
       "3                                                      \n",
       "4  http://www.winxdvd.com/resource/christmas-craf...   \n",
       "\n",
       "                                                text deleted  dead  \\\n",
       "0      Did facebook or angrybirds pay you?  We will!    None  True   \n",
       "1  Hello, hacker news!<p>Have any of you used jav...    None  True   \n",
       "2  The user can paste a media url(currently only ...    None  True   \n",
       "3  Hi guys, what do you think about my poker proj...    None  True   \n",
       "4  There are some free Christmas craft ideas to m...    None  True   \n",
       "\n",
       "   descendants  author  \n",
       "0          NaN  cflick  \n",
       "1          NaN     Rd2  \n",
       "2          NaN     mo0  \n",
       "3          NaN    ad11  \n",
       "4          NaN    emyy  "
      ]
     },
     "execution_count": 2,
     "metadata": {},
     "output_type": "execute_result"
    }
   ],
   "source": [
    "# Construct a reference to the \"stories\" table\n",
    "table_ref = dataset_ref.table(\"stories\")\n",
    "\n",
    "# API request - fetch the table\n",
    "table = client.get_table(table_ref)\n",
    "\n",
    "# Preview the first five lines of the table\n",
    "client.list_rows(table, max_results=5).to_dataframe()"
   ]
  },
  {
   "cell_type": "markdown",
   "id": "2f4e7bca",
   "metadata": {
    "papermill": {
     "duration": 0.004042,
     "end_time": "2023-02-07T05:19:37.514814",
     "exception": false,
     "start_time": "2023-02-07T05:19:37.510772",
     "status": "completed"
    },
    "tags": []
   },
   "source": [
    "Since you are already familiar with **JOINs** from the [Intro to SQL micro-course](https://www.kaggle.com/learn/intro-to-sql), we'll work with a relatively complex example of a JOIN that uses a [common table expression (CTE)](https://www.kaggle.com/dansbecker/as-with).\n",
    "\n",
    "The query below pulls information from the `stories` and `comments` tables to create a table showing all stories posted on January 1, 2012, along with the corresponding number of comments.  We use a **LEFT JOIN** so that the results include stories that didn't receive any comments."
   ]
  },
  {
   "cell_type": "code",
   "execution_count": 3,
   "id": "39377689",
   "metadata": {
    "execution": {
     "iopub.execute_input": "2023-02-07T05:19:37.525107Z",
     "iopub.status.busy": "2023-02-07T05:19:37.524707Z",
     "iopub.status.idle": "2023-02-07T05:19:38.602477Z",
     "shell.execute_reply": "2023-02-07T05:19:38.601152Z"
    },
    "papermill": {
     "duration": 1.086319,
     "end_time": "2023-02-07T05:19:38.605343",
     "exception": false,
     "start_time": "2023-02-07T05:19:37.519024",
     "status": "completed"
    },
    "tags": []
   },
   "outputs": [
    {
     "data": {
      "text/html": [
       "<div>\n",
       "<style scoped>\n",
       "    .dataframe tbody tr th:only-of-type {\n",
       "        vertical-align: middle;\n",
       "    }\n",
       "\n",
       "    .dataframe tbody tr th {\n",
       "        vertical-align: top;\n",
       "    }\n",
       "\n",
       "    .dataframe thead th {\n",
       "        text-align: right;\n",
       "    }\n",
       "</style>\n",
       "<table border=\"1\" class=\"dataframe\">\n",
       "  <thead>\n",
       "    <tr style=\"text-align: right;\">\n",
       "      <th></th>\n",
       "      <th>story_id</th>\n",
       "      <th>by</th>\n",
       "      <th>title</th>\n",
       "      <th>num_comments</th>\n",
       "    </tr>\n",
       "  </thead>\n",
       "  <tbody>\n",
       "    <tr>\n",
       "      <th>0</th>\n",
       "      <td>3412900</td>\n",
       "      <td>whoishiring</td>\n",
       "      <td>Ask HN: Who is Hiring? (January 2012)</td>\n",
       "      <td>154.0</td>\n",
       "    </tr>\n",
       "    <tr>\n",
       "      <th>1</th>\n",
       "      <td>3412901</td>\n",
       "      <td>whoishiring</td>\n",
       "      <td>Ask HN: Freelancer? Seeking freelancer? (Janua...</td>\n",
       "      <td>97.0</td>\n",
       "    </tr>\n",
       "    <tr>\n",
       "      <th>2</th>\n",
       "      <td>3412643</td>\n",
       "      <td>jemeshsu</td>\n",
       "      <td>Avoid Apress</td>\n",
       "      <td>30.0</td>\n",
       "    </tr>\n",
       "    <tr>\n",
       "      <th>3</th>\n",
       "      <td>3414012</td>\n",
       "      <td>ramanujam</td>\n",
       "      <td>Impress.js - a Prezi like implementation using...</td>\n",
       "      <td>27.0</td>\n",
       "    </tr>\n",
       "    <tr>\n",
       "      <th>4</th>\n",
       "      <td>3412891</td>\n",
       "      <td>Brajeshwar</td>\n",
       "      <td>There's no shame in code that is simply \"good ...</td>\n",
       "      <td>27.0</td>\n",
       "    </tr>\n",
       "  </tbody>\n",
       "</table>\n",
       "</div>"
      ],
      "text/plain": [
       "   story_id           by                                              title  \\\n",
       "0   3412900  whoishiring              Ask HN: Who is Hiring? (January 2012)   \n",
       "1   3412901  whoishiring  Ask HN: Freelancer? Seeking freelancer? (Janua...   \n",
       "2   3412643     jemeshsu                                       Avoid Apress   \n",
       "3   3414012    ramanujam  Impress.js - a Prezi like implementation using...   \n",
       "4   3412891   Brajeshwar  There's no shame in code that is simply \"good ...   \n",
       "\n",
       "   num_comments  \n",
       "0         154.0  \n",
       "1          97.0  \n",
       "2          30.0  \n",
       "3          27.0  \n",
       "4          27.0  "
      ]
     },
     "execution_count": 3,
     "metadata": {},
     "output_type": "execute_result"
    }
   ],
   "source": [
    "# Query to select all stories posted on January 1, 2012, with number of comments\n",
    "join_query = \"\"\"\n",
    "             WITH c AS\n",
    "             (\n",
    "             SELECT parent, COUNT(*) as num_comments\n",
    "             FROM `bigquery-public-data.hacker_news.comments` \n",
    "             GROUP BY parent\n",
    "             )\n",
    "             SELECT s.id as story_id, s.by, s.title, c.num_comments\n",
    "             FROM `bigquery-public-data.hacker_news.stories` AS s\n",
    "             LEFT JOIN c\n",
    "             ON s.id = c.parent\n",
    "             WHERE EXTRACT(DATE FROM s.time_ts) = '2012-01-01'\n",
    "             ORDER BY c.num_comments DESC\n",
    "             \"\"\"\n",
    "\n",
    "# Run the query, and return a pandas DataFrame\n",
    "join_result = client.query(join_query).result().to_dataframe()\n",
    "join_result.head()"
   ]
  },
  {
   "cell_type": "markdown",
   "id": "1e36005b",
   "metadata": {
    "papermill": {
     "duration": 0.00423,
     "end_time": "2023-02-07T05:19:38.614238",
     "exception": false,
     "start_time": "2023-02-07T05:19:38.610008",
     "status": "completed"
    },
    "tags": []
   },
   "source": [
    "Since the results are ordered by the `num_comments` column, stories without comments appear at the end of the DataFrame.  (Remember that **NaN** stands for \"not a number\".)"
   ]
  },
  {
   "cell_type": "code",
   "execution_count": 4,
   "id": "89664dcd",
   "metadata": {
    "execution": {
     "iopub.execute_input": "2023-02-07T05:19:38.626451Z",
     "iopub.status.busy": "2023-02-07T05:19:38.625760Z",
     "iopub.status.idle": "2023-02-07T05:19:38.637986Z",
     "shell.execute_reply": "2023-02-07T05:19:38.636531Z"
    },
    "papermill": {
     "duration": 0.022413,
     "end_time": "2023-02-07T05:19:38.641286",
     "exception": false,
     "start_time": "2023-02-07T05:19:38.618873",
     "status": "completed"
    },
    "tags": []
   },
   "outputs": [
    {
     "data": {
      "text/html": [
       "<div>\n",
       "<style scoped>\n",
       "    .dataframe tbody tr th:only-of-type {\n",
       "        vertical-align: middle;\n",
       "    }\n",
       "\n",
       "    .dataframe tbody tr th {\n",
       "        vertical-align: top;\n",
       "    }\n",
       "\n",
       "    .dataframe thead th {\n",
       "        text-align: right;\n",
       "    }\n",
       "</style>\n",
       "<table border=\"1\" class=\"dataframe\">\n",
       "  <thead>\n",
       "    <tr style=\"text-align: right;\">\n",
       "      <th></th>\n",
       "      <th>story_id</th>\n",
       "      <th>by</th>\n",
       "      <th>title</th>\n",
       "      <th>num_comments</th>\n",
       "    </tr>\n",
       "  </thead>\n",
       "  <tbody>\n",
       "    <tr>\n",
       "      <th>439</th>\n",
       "      <td>3413825</td>\n",
       "      <td>creativityhurts</td>\n",
       "      <td>Management is Not Leadership</td>\n",
       "      <td>NaN</td>\n",
       "    </tr>\n",
       "    <tr>\n",
       "      <th>440</th>\n",
       "      <td>3412808</td>\n",
       "      <td>welle</td>\n",
       "      <td>Batman Arkham City</td>\n",
       "      <td>NaN</td>\n",
       "    </tr>\n",
       "    <tr>\n",
       "      <th>441</th>\n",
       "      <td>3412573</td>\n",
       "      <td>rsandhu</td>\n",
       "      <td>Snapseed for iOS is free for limited time</td>\n",
       "      <td>NaN</td>\n",
       "    </tr>\n",
       "    <tr>\n",
       "      <th>442</th>\n",
       "      <td>3413283</td>\n",
       "      <td>see_cloudtweaks</td>\n",
       "      <td>Megalogix Releases SharePoint 2010 Migration S...</td>\n",
       "      <td>NaN</td>\n",
       "    </tr>\n",
       "    <tr>\n",
       "      <th>443</th>\n",
       "      <td>3413889</td>\n",
       "      <td>unixroot</td>\n",
       "      <td>Hackers launching own satellites in orbit to b...</td>\n",
       "      <td>NaN</td>\n",
       "    </tr>\n",
       "  </tbody>\n",
       "</table>\n",
       "</div>"
      ],
      "text/plain": [
       "     story_id               by  \\\n",
       "439   3413825  creativityhurts   \n",
       "440   3412808            welle   \n",
       "441   3412573          rsandhu   \n",
       "442   3413283  see_cloudtweaks   \n",
       "443   3413889         unixroot   \n",
       "\n",
       "                                                 title  num_comments  \n",
       "439                       Management is Not Leadership           NaN  \n",
       "440                                 Batman Arkham City           NaN  \n",
       "441          Snapseed for iOS is free for limited time           NaN  \n",
       "442  Megalogix Releases SharePoint 2010 Migration S...           NaN  \n",
       "443  Hackers launching own satellites in orbit to b...           NaN  "
      ]
     },
     "execution_count": 4,
     "metadata": {},
     "output_type": "execute_result"
    }
   ],
   "source": [
    "# None of these stories received any comments\n",
    "join_result.tail()"
   ]
  },
  {
   "cell_type": "markdown",
   "id": "2f0afd80",
   "metadata": {
    "papermill": {
     "duration": 0.00469,
     "end_time": "2023-02-07T05:19:38.651265",
     "exception": false,
     "start_time": "2023-02-07T05:19:38.646575",
     "status": "completed"
    },
    "tags": []
   },
   "source": [
    "Next, we write a query to select all usernames corresponding to users who wrote stories or comments on January 1, 2014.  We use **UNION DISTINCT** (instead of **UNION ALL**) to ensure that each user appears in the table at most once."
   ]
  },
  {
   "cell_type": "code",
   "execution_count": 5,
   "id": "c7727d9a",
   "metadata": {
    "execution": {
     "iopub.execute_input": "2023-02-07T05:19:38.663095Z",
     "iopub.status.busy": "2023-02-07T05:19:38.662442Z",
     "iopub.status.idle": "2023-02-07T05:19:39.858083Z",
     "shell.execute_reply": "2023-02-07T05:19:39.856664Z"
    },
    "papermill": {
     "duration": 1.204954,
     "end_time": "2023-02-07T05:19:39.861047",
     "exception": false,
     "start_time": "2023-02-07T05:19:38.656093",
     "status": "completed"
    },
    "tags": []
   },
   "outputs": [
    {
     "data": {
      "text/html": [
       "<div>\n",
       "<style scoped>\n",
       "    .dataframe tbody tr th:only-of-type {\n",
       "        vertical-align: middle;\n",
       "    }\n",
       "\n",
       "    .dataframe tbody tr th {\n",
       "        vertical-align: top;\n",
       "    }\n",
       "\n",
       "    .dataframe thead th {\n",
       "        text-align: right;\n",
       "    }\n",
       "</style>\n",
       "<table border=\"1\" class=\"dataframe\">\n",
       "  <thead>\n",
       "    <tr style=\"text-align: right;\">\n",
       "      <th></th>\n",
       "      <th>by</th>\n",
       "    </tr>\n",
       "  </thead>\n",
       "  <tbody>\n",
       "    <tr>\n",
       "      <th>0</th>\n",
       "      <td>divramis</td>\n",
       "    </tr>\n",
       "    <tr>\n",
       "      <th>1</th>\n",
       "      <td>Hellcat</td>\n",
       "    </tr>\n",
       "    <tr>\n",
       "      <th>2</th>\n",
       "      <td>lfbarragan19</td>\n",
       "    </tr>\n",
       "    <tr>\n",
       "      <th>3</th>\n",
       "      <td>luu</td>\n",
       "    </tr>\n",
       "    <tr>\n",
       "      <th>4</th>\n",
       "      <td>arrrg</td>\n",
       "    </tr>\n",
       "  </tbody>\n",
       "</table>\n",
       "</div>"
      ],
      "text/plain": [
       "             by\n",
       "0      divramis\n",
       "1       Hellcat\n",
       "2  lfbarragan19\n",
       "3           luu\n",
       "4         arrrg"
      ]
     },
     "execution_count": 5,
     "metadata": {},
     "output_type": "execute_result"
    }
   ],
   "source": [
    "# Query to select all users who posted stories or comments on January 1, 2014\n",
    "union_query = \"\"\"\n",
    "              SELECT c.by\n",
    "              FROM `bigquery-public-data.hacker_news.comments` AS c\n",
    "              WHERE EXTRACT(DATE FROM c.time_ts) = '2014-01-01'\n",
    "              UNION DISTINCT\n",
    "              SELECT s.by\n",
    "              FROM `bigquery-public-data.hacker_news.stories` AS s\n",
    "              WHERE EXTRACT(DATE FROM s.time_ts) = '2014-01-01'\n",
    "              \"\"\"\n",
    "\n",
    "# Run the query, and return a pandas DataFrame\n",
    "union_result = client.query(union_query).result().to_dataframe()\n",
    "union_result.head()"
   ]
  },
  {
   "cell_type": "markdown",
   "id": "e0f3b188",
   "metadata": {
    "papermill": {
     "duration": 0.004935,
     "end_time": "2023-02-07T05:19:39.871391",
     "exception": false,
     "start_time": "2023-02-07T05:19:39.866456",
     "status": "completed"
    },
    "tags": []
   },
   "source": [
    "To get the number of users who posted on January 1, 2014, we need only take the length of the DataFrame."
   ]
  },
  {
   "cell_type": "code",
   "execution_count": 6,
   "id": "1aa3b063",
   "metadata": {
    "execution": {
     "iopub.execute_input": "2023-02-07T05:19:39.883169Z",
     "iopub.status.busy": "2023-02-07T05:19:39.882737Z",
     "iopub.status.idle": "2023-02-07T05:19:39.889986Z",
     "shell.execute_reply": "2023-02-07T05:19:39.888802Z"
    },
    "papermill": {
     "duration": 0.01625,
     "end_time": "2023-02-07T05:19:39.892618",
     "exception": false,
     "start_time": "2023-02-07T05:19:39.876368",
     "status": "completed"
    },
    "tags": []
   },
   "outputs": [
    {
     "data": {
      "text/plain": [
       "2282"
      ]
     },
     "execution_count": 6,
     "metadata": {},
     "output_type": "execute_result"
    }
   ],
   "source": [
    "# Number of users who posted stories or comments on January 1, 2014\n",
    "len(union_result)"
   ]
  },
  {
   "cell_type": "markdown",
   "id": "fdf05e9e",
   "metadata": {
    "papermill": {
     "duration": 0.004765,
     "end_time": "2023-02-07T05:19:39.902631",
     "exception": false,
     "start_time": "2023-02-07T05:19:39.897866",
     "status": "completed"
    },
    "tags": []
   },
   "source": [
    "---\n",
    "\n",
    "\n",
    "\n",
    "\n",
    "*[Kaggle Course Link](https://www.kaggle.com/learn/advanced-sql)*"
   ]
  }
 ],
 "metadata": {
  "kernelspec": {
   "display_name": "Python 3",
   "language": "python",
   "name": "python3"
  },
  "language_info": {
   "codemirror_mode": {
    "name": "ipython",
    "version": 3
   },
   "file_extension": ".py",
   "mimetype": "text/x-python",
   "name": "python",
   "nbconvert_exporter": "python",
   "pygments_lexer": "ipython3",
   "version": "3.7.12"
  },
  "papermill": {
   "default_parameters": {},
   "duration": 15.127834,
   "end_time": "2023-02-07T05:19:40.630577",
   "environment_variables": {},
   "exception": null,
   "input_path": "__notebook__.ipynb",
   "output_path": "__notebook__.ipynb",
   "parameters": {},
   "start_time": "2023-02-07T05:19:25.502743",
   "version": "2.3.4"
  }
 },
 "nbformat": 4,
 "nbformat_minor": 5
}
