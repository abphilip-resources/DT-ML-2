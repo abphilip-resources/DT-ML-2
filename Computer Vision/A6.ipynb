{
 "cells": [
  {
   "cell_type": "markdown",
   "id": "7441c12f",
   "metadata": {
    "papermill": {
     "duration": 0.003451,
     "end_time": "2023-04-16T02:05:36.217719",
     "exception": false,
     "start_time": "2023-04-16T02:05:36.214268",
     "status": "completed"
    },
    "tags": []
   },
   "source": [
    "<!--TITLE:Data Augmentation-->\n",
    "\n",
    "# Introduction #\n",
    "\n",
    "Now that you've learned the fundamentals of convolutional classifiers, you're ready to move on to more advanced topics.\n",
    "\n",
    "In this lesson, you'll learn a trick that can give a boost to your image classifiers: it's called **data augmentation**. "
   ]
  },
  {
   "cell_type": "markdown",
   "id": "cee32ac3",
   "metadata": {
    "papermill": {
     "duration": 0.002175,
     "end_time": "2023-04-16T02:05:36.222512",
     "exception": false,
     "start_time": "2023-04-16T02:05:36.220337",
     "status": "completed"
    },
    "tags": []
   },
   "source": [
    "# The Usefulness of Fake Data #\n",
    "\n",
    "The best way to improve the performance of a machine learning model is to train it on more data. The more examples the model has to learn from, the better it will be able to recognize which differences in images matter and which do not. More data helps the model to *generalize* better.\n",
    "\n",
    "One easy way of getting more data is to use the data you already have. If we can transform the images in our dataset in ways that preserve the class, we can teach our classifier to ignore those kinds of transformations. For instance, whether a car is facing left or right in a photo doesn't change the fact that it is a *Car* and not a *Truck*. So, if we **augment** our training data with flipped images, our classifier will learn that \"left or right\" is a difference it should ignore.\n",
    "\n",
    "And that's the whole idea behind data augmentation: add in some extra fake data that looks reasonably like the real data and your classifier will improve.\n",
    "\n",
    "# Using Data Augmentation #\n",
    "\n",
    "Typically, many kinds of transformation are used when augmenting a dataset. These might include rotating the image, adjusting the color or contrast, warping the image, or many other things, usually applied in combination. Here is a sample of the different ways a single image might be transformed.\n",
    "\n",
    "<figure>\n",
    "<img src=\"https://i.imgur.com/UaOm0ms.png\" width=400, alt=\"Sixteen transformations of a single image of a car.\">\n",
    "</figure>\n",
    "\n",
    "Data augmentation is usually done *online*, meaning, as the images are being fed into the network for training. Recall that training is usually done on mini-batches of data. This is what a batch of 16 images might look like when data augmentation is used.\n",
    "\n",
    "<figure>\n",
    "<img src=\"https://i.imgur.com/MFviYoE.png\" width=400, alt=\"A batch of 16 images with various random transformations applied.\">\n",
    "</figure>\n",
    "\n",
    "Each time an image is used during training, a new random transformation is applied. This way, the model is always seeing something a little different than what it's seen before. This extra variance in the training data is what helps the model on new data.\n",
    "\n",
    "It's important to remember though that not every transformation will be useful on a given problem. Most importantly, whatever transformations you use should not mix up the classes. If you were training a [digit recognizer](https://www.kaggle.com/c/digit-recognizer), for instance, rotating images would mix up '9's and '6's. In the end, the best approach for finding good augmentations is the same as with most ML problems: try it and see!\n",
    "\n",
    "# Example - Training with Data Augmentation #\n",
    "\n",
    "Keras lets you augment your data in two ways. The first way is to include it in the data pipeline with a function like [`ImageDataGenerator`](https://www.tensorflow.org/api_docs/python/tf/keras/preprocessing/image/ImageDataGenerator). The second way is to include it in the model definition by using Keras's **preprocessing layers**. This is the approach that we'll take. The primary advantage for us is that the image transformations will be computed on the GPU instead of the CPU, potentially speeding up training.\n",
    "\n",
    "In this exercise, we'll learn how to improve the classifier from Lesson 1 through data augmentation. This next hidden cell sets up the data pipeline."
   ]
  },
  {
   "cell_type": "code",
   "execution_count": 1,
   "id": "a67debce",
   "metadata": {
    "_kg_hide-input": true,
    "execution": {
     "iopub.execute_input": "2023-04-16T02:05:36.229499Z",
     "iopub.status.busy": "2023-04-16T02:05:36.228980Z",
     "iopub.status.idle": "2023-04-16T02:05:49.245802Z",
     "shell.execute_reply": "2023-04-16T02:05:49.244699Z"
    },
    "papermill": {
     "duration": 13.023484,
     "end_time": "2023-04-16T02:05:49.248521",
     "exception": false,
     "start_time": "2023-04-16T02:05:36.225037",
     "status": "completed"
    },
    "tags": []
   },
   "outputs": [
    {
     "name": "stdout",
     "output_type": "stream",
     "text": [
      "Found 5117 files belonging to 2 classes.\n",
      "Found 5051 files belonging to 2 classes.\n"
     ]
    }
   ],
   "source": [
    "# Imports\n",
    "import os, warnings\n",
    "import matplotlib.pyplot as plt\n",
    "from matplotlib import gridspec\n",
    "\n",
    "import numpy as np\n",
    "import tensorflow as tf\n",
    "from tensorflow.keras.preprocessing import image_dataset_from_directory\n",
    "\n",
    "import warnings\n",
    "warnings.filterwarnings(\"ignore\")\n",
    "\n",
    "# Reproducability\n",
    "def set_seed(seed=31415):\n",
    "    np.random.seed(seed)\n",
    "    tf.random.set_seed(seed)\n",
    "    os.environ['PYTHONHASHSEED'] = str(seed)\n",
    "    #os.environ['TF_DETERMINISTIC_OPS'] = '1'\n",
    "set_seed()\n",
    "\n",
    "# Set Matplotlib defaults\n",
    "plt.rc('figure', autolayout=True)\n",
    "plt.rc('axes', labelweight='bold', labelsize='large',\n",
    "       titleweight='bold', titlesize=18, titlepad=10)\n",
    "plt.rc('image', cmap='magma')\n",
    "warnings.filterwarnings(\"ignore\") # to clean up output cells\n",
    "\n",
    "\n",
    "# Load training and validation sets\n",
    "ds_train_ = image_dataset_from_directory(\n",
    "    '../input/car-or-truck/train',\n",
    "    labels='inferred',\n",
    "    label_mode='binary',\n",
    "    image_size=[128, 128],\n",
    "    interpolation='nearest',\n",
    "    batch_size=64,\n",
    "    shuffle=True,\n",
    ")\n",
    "ds_valid_ = image_dataset_from_directory(\n",
    "    '../input/car-or-truck/valid',\n",
    "    labels='inferred',\n",
    "    label_mode='binary',\n",
    "    image_size=[128, 128],\n",
    "    interpolation='nearest',\n",
    "    batch_size=64,\n",
    "    shuffle=False,\n",
    ")\n",
    "\n",
    "# Data Pipeline\n",
    "def convert_to_float(image, label):\n",
    "    image = tf.image.convert_image_dtype(image, dtype=tf.float32)\n",
    "    return image, label\n",
    "\n",
    "AUTOTUNE = tf.data.experimental.AUTOTUNE\n",
    "ds_train = (\n",
    "    ds_train_\n",
    "    .map(convert_to_float)\n",
    "    .cache()\n",
    "    .prefetch(buffer_size=AUTOTUNE)\n",
    ")\n",
    "ds_valid = (\n",
    "    ds_valid_\n",
    "    .map(convert_to_float)\n",
    "    .cache()\n",
    "    .prefetch(buffer_size=AUTOTUNE)\n",
    ")"
   ]
  },
  {
   "cell_type": "markdown",
   "id": "deb18552",
   "metadata": {
    "papermill": {
     "duration": 0.003635,
     "end_time": "2023-04-16T02:05:49.256029",
     "exception": false,
     "start_time": "2023-04-16T02:05:49.252394",
     "status": "completed"
    },
    "tags": []
   },
   "source": [
    "## Step 2 - Define Model ##\n",
    "\n",
    "To illustrate the effect of augmentation, we'll just add a couple of simple transformations to the model from Tutorial 1."
   ]
  },
  {
   "cell_type": "code",
   "execution_count": 2,
   "id": "7613d16b",
   "metadata": {
    "execution": {
     "iopub.execute_input": "2023-04-16T02:05:49.264702Z",
     "iopub.status.busy": "2023-04-16T02:05:49.264025Z",
     "iopub.status.idle": "2023-04-16T02:05:51.155335Z",
     "shell.execute_reply": "2023-04-16T02:05:51.154228Z"
    },
    "papermill": {
     "duration": 1.898293,
     "end_time": "2023-04-16T02:05:51.157911",
     "exception": false,
     "start_time": "2023-04-16T02:05:49.259618",
     "status": "completed"
    },
    "tags": []
   },
   "outputs": [],
   "source": [
    "from tensorflow import keras\n",
    "from tensorflow.keras import layers\n",
    "\n",
    "\n",
    "pretrained_base = tf.keras.models.load_model(\n",
    "    '../input/cv-course-models/cv-course-models/vgg16-pretrained-base',\n",
    ")\n",
    "pretrained_base.trainable = False\n",
    "\n",
    "model = keras.Sequential([\n",
    "    # Preprocessing\n",
    "    layers.RandomFlip('horizontal'), # flip left-to-right\n",
    "    layers.RandomContrast(0.5), # contrast change by up to 50%\n",
    "    # Base\n",
    "    pretrained_base,\n",
    "    # Head\n",
    "    layers.Flatten(),\n",
    "    layers.Dense(6, activation='relu'),\n",
    "    layers.Dense(1, activation='sigmoid'),\n",
    "])"
   ]
  },
  {
   "cell_type": "markdown",
   "id": "e8482991",
   "metadata": {
    "papermill": {
     "duration": 0.002371,
     "end_time": "2023-04-16T02:05:51.163106",
     "exception": false,
     "start_time": "2023-04-16T02:05:51.160735",
     "status": "completed"
    },
    "tags": []
   },
   "source": [
    "## Step 3 - Train and Evaluate ##\n",
    "\n",
    "And now we'll start the training!"
   ]
  },
  {
   "cell_type": "code",
   "execution_count": 3,
   "id": "d566258a",
   "metadata": {
    "execution": {
     "iopub.execute_input": "2023-04-16T02:05:51.169521Z",
     "iopub.status.busy": "2023-04-16T02:05:51.169185Z",
     "iopub.status.idle": "2023-04-16T02:22:16.045849Z",
     "shell.execute_reply": "2023-04-16T02:22:16.044761Z"
    },
    "papermill": {
     "duration": 984.88329,
     "end_time": "2023-04-16T02:22:16.048852",
     "exception": false,
     "start_time": "2023-04-16T02:05:51.165562",
     "status": "completed"
    },
    "tags": []
   },
   "outputs": [],
   "source": [
    "model.compile(\n",
    "    optimizer='adam',\n",
    "    loss='binary_crossentropy',\n",
    "    metrics=['binary_accuracy'],\n",
    ")\n",
    "\n",
    "history = model.fit(\n",
    "    ds_train,\n",
    "    validation_data=ds_valid,\n",
    "    epochs=30,\n",
    "    verbose=0,\n",
    ")"
   ]
  },
  {
   "cell_type": "code",
   "execution_count": 4,
   "id": "f52d4e68",
   "metadata": {
    "execution": {
     "iopub.execute_input": "2023-04-16T02:22:16.056168Z",
     "iopub.status.busy": "2023-04-16T02:22:16.055368Z",
     "iopub.status.idle": "2023-04-16T02:22:16.663431Z",
     "shell.execute_reply": "2023-04-16T02:22:16.662385Z"
    },
    "papermill": {
     "duration": 0.61391,
     "end_time": "2023-04-16T02:22:16.665683",
     "exception": false,
     "start_time": "2023-04-16T02:22:16.051773",
     "status": "completed"
    },
    "tags": []
   },
   "outputs": [
    {
     "data": {
      "image/png": "[encoded data removed]",
      "text/plain": [
       "<Figure size 640x480 with 1 Axes>"
      ]
     },
     "metadata": {},
     "output_type": "display_data"
    },
    {
     "data": {
      "image/png": "[encoded data removed]",
      "text/plain": [
       "<Figure size 640x480 with 1 Axes>"
      ]
     },
     "metadata": {},
     "output_type": "display_data"
    }
   ],
   "source": [
    "import pandas as pd\n",
    "\n",
    "history_frame = pd.DataFrame(history.history)\n",
    "\n",
    "history_frame.loc[:, ['loss', 'val_loss']].plot()\n",
    "history_frame.loc[:, ['binary_accuracy', 'val_binary_accuracy']].plot();"
   ]
  },
  {
   "cell_type": "markdown",
   "id": "1cec7b3b",
   "metadata": {
    "papermill": {
     "duration": 0.003379,
     "end_time": "2023-04-16T02:22:16.672661",
     "exception": false,
     "start_time": "2023-04-16T02:22:16.669282",
     "status": "completed"
    },
    "tags": []
   },
   "source": [
    "The training and validation curves in the model from Tutorial 1 diverged fairly quickly, suggesting that it could benefit from some regularization. The learning curves for this model were able to stay closer together, and we achieved some modest improvement in validation loss and accuracy. This suggests that the dataset did indeed benefit from the augmentation."
   ]
  },
  {
   "cell_type": "markdown",
   "id": "900c3c0d",
   "metadata": {
    "papermill": {
     "duration": 0.003122,
     "end_time": "2023-04-16T02:22:16.679039",
     "exception": false,
     "start_time": "2023-04-16T02:22:16.675917",
     "status": "completed"
    },
    "tags": []
   },
   "source": [
    "---\n",
    "\n",
    "\n",
    "\n",
    "\n",
    "*[Kaggle Course Link](https://www.kaggle.com/learn/computer-vision)*"
   ]
  }
 ],
 "metadata": {
  "kernelspec": {
   "display_name": "Python 3",
   "language": "python",
   "name": "python3"
  },
  "language_info": {
   "codemirror_mode": {
    "name": "ipython",
    "version": 3
   },
   "file_extension": ".py",
   "mimetype": "text/x-python",
   "name": "python",
   "nbconvert_exporter": "python",
   "pygments_lexer": "ipython3",
   "version": "3.7.12"
  },
  "papermill": {
   "default_parameters": {},
   "duration": 1013.207458,
   "end_time": "2023-04-16T02:22:20.450421",
   "environment_variables": {},
   "exception": null,
   "input_path": "__notebook__.ipynb",
   "output_path": "__notebook__.ipynb",
   "parameters": {},
   "start_time": "2023-04-16T02:05:27.242963",
   "version": "2.4.0"
  }
 },
 "nbformat": 4,
 "nbformat_minor": 5
}
