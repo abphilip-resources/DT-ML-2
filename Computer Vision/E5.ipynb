{
 "cells": [
  {
   "cell_type": "markdown",
   "id": "76c4ecb1",
   "metadata": {
    "papermill": {
     "duration": 0.00674,
     "end_time": "2023-04-21T03:48:42.874522",
     "exception": false,
     "start_time": "2023-04-21T03:48:42.867782",
     "status": "completed"
    },
    "tags": []
   },
   "source": [
    "**This notebook is an exercise in the [Computer Vision](https://www.kaggle.com/learn/computer-vision) course.  You can reference the tutorial at [this link](https://www.kaggle.com/ryanholbrook/custom-convnets).**\n",
    "\n",
    "---\n"
   ]
  },
  {
   "cell_type": "markdown",
   "id": "bc25f9a3",
   "metadata": {
    "papermill": {
     "duration": 0.004977,
     "end_time": "2023-04-21T03:48:42.884928",
     "exception": false,
     "start_time": "2023-04-21T03:48:42.879951",
     "status": "completed"
    },
    "tags": []
   },
   "source": [
    "# Introduction #\n",
    "\n",
    "In these exercises, you'll build a custom convnet with performance competitive to the VGG16 model from Lesson 1.\n",
    "\n",
    "Get started by running the code cell below."
   ]
  },
  {
   "cell_type": "code",
   "execution_count": 1,
   "id": "02a6d6ba",
   "metadata": {
    "execution": {
     "iopub.execute_input": "2023-04-21T03:48:42.898132Z",
     "iopub.status.busy": "2023-04-21T03:48:42.897293Z",
     "iopub.status.idle": "2023-04-21T03:48:58.017881Z",
     "shell.execute_reply": "2023-04-21T03:48:58.016392Z"
    },
    "papermill": {
     "duration": 15.129994,
     "end_time": "2023-04-21T03:48:58.020203",
     "exception": false,
     "start_time": "2023-04-21T03:48:42.890209",
     "status": "completed"
    },
    "tags": []
   },
   "outputs": [
    {
     "name": "stdout",
     "output_type": "stream",
     "text": [
      "Found 5117 files belonging to 2 classes.\n",
      "Found 5051 files belonging to 2 classes.\n"
     ]
    }
   ],
   "source": [
    "import warnings\n",
    "warnings.filterwarnings(\"ignore\")\n",
    "\n",
    "# Setup feedback system\n",
    "from learntools.core import binder\n",
    "binder.bind(globals())\n",
    "from learntools.computer_vision.ex5 import *\n",
    "\n",
    "# Imports\n",
    "import os, warnings\n",
    "import matplotlib.pyplot as plt\n",
    "from matplotlib import gridspec\n",
    "\n",
    "import numpy as np\n",
    "import tensorflow as tf\n",
    "from tensorflow.keras.preprocessing import image_dataset_from_directory\n",
    "\n",
    "# Reproducability\n",
    "def set_seed(seed=31415):\n",
    "    np.random.seed(seed)\n",
    "    tf.random.set_seed(seed)\n",
    "    os.environ['PYTHONHASHSEED'] = str(seed)\n",
    "    os.environ['TF_DETERMINISTIC_OPS'] = '1'\n",
    "set_seed()\n",
    "\n",
    "# Set Matplotlib defaults\n",
    "plt.rc('figure', autolayout=True)\n",
    "plt.rc('axes', labelweight='bold', labelsize='large',\n",
    "       titleweight='bold', titlesize=18, titlepad=10)\n",
    "plt.rc('image', cmap='magma')\n",
    "warnings.filterwarnings(\"ignore\") # to clean up output cells\n",
    "\n",
    "\n",
    "# Load training and validation sets\n",
    "ds_train_ = image_dataset_from_directory(\n",
    "    '../input/car-or-truck/train',\n",
    "    labels='inferred',\n",
    "    label_mode='binary',\n",
    "    image_size=[128, 128],\n",
    "    interpolation='nearest',\n",
    "    batch_size=64,\n",
    "    shuffle=True,\n",
    ")\n",
    "ds_valid_ = image_dataset_from_directory(\n",
    "    '../input/car-or-truck/valid',\n",
    "    labels='inferred',\n",
    "    label_mode='binary',\n",
    "    image_size=[128, 128],\n",
    "    interpolation='nearest',\n",
    "    batch_size=64,\n",
    "    shuffle=False,\n",
    ")\n",
    "\n",
    "# Data Pipeline\n",
    "def convert_to_float(image, label):\n",
    "    image = tf.image.convert_image_dtype(image, dtype=tf.float32)\n",
    "    return image, label\n",
    "\n",
    "AUTOTUNE = tf.data.experimental.AUTOTUNE\n",
    "ds_train = (\n",
    "    ds_train_\n",
    "    .map(convert_to_float)\n",
    "    .cache()\n",
    "    .prefetch(buffer_size=AUTOTUNE)\n",
    ")\n",
    "ds_valid = (\n",
    "    ds_valid_\n",
    "    .map(convert_to_float)\n",
    "    .cache()\n",
    "    .prefetch(buffer_size=AUTOTUNE)\n",
    ")"
   ]
  },
  {
   "cell_type": "markdown",
   "id": "63a4283a",
   "metadata": {
    "papermill": {
     "duration": 0.003686,
     "end_time": "2023-04-21T03:48:58.028048",
     "exception": false,
     "start_time": "2023-04-21T03:48:58.024362",
     "status": "completed"
    },
    "tags": []
   },
   "source": [
    "# Design a Convnet #\n",
    "\n",
    "Let's design a convolutional network with a block architecture like we saw in the tutorial. The model from the example had three blocks, each with a single convolutional layer. Its performance on the \"Car or Truck\" problem was okay, but far from what the pretrained VGG16 could achieve. It might be that our simple network lacks the ability to extract sufficiently complex features. We could try improving the model either by adding more blocks or by adding convolutions to the blocks we have.\n",
    "\n",
    "Let's go with the second approach. We'll keep the three block structure, but increase the number of `Conv2D` layer in the second block to two, and in the third block to three.\n",
    "\n",
    "<figure>\n",
    "<!-- <img src=\"./images/2-convmodel-2.png\" width=\"250\" alt=\"Diagram of a convolutional model.\"> -->\n",
    "<img src=\"https://storage.googleapis.com/kaggle-media/learn/images/Vko6nCK.png\" width=\"250\" alt=\"Diagram of a convolutional model.\">\n",
    "</figure>\n",
    "\n",
    "# 1) Define Model #\n",
    "\n",
    "Given the diagram above, complete the model by defining the layers of the third block."
   ]
  },
  {
   "cell_type": "code",
   "execution_count": 2,
   "id": "fe8d89a9",
   "metadata": {
    "execution": {
     "iopub.execute_input": "2023-04-21T03:48:58.036994Z",
     "iopub.status.busy": "2023-04-21T03:48:58.036691Z",
     "iopub.status.idle": "2023-04-21T03:48:58.184269Z",
     "shell.execute_reply": "2023-04-21T03:48:58.183225Z"
    },
    "lines_to_next_cell": 0,
    "papermill": {
     "duration": 0.154632,
     "end_time": "2023-04-21T03:48:58.186450",
     "exception": false,
     "start_time": "2023-04-21T03:48:58.031818",
     "status": "completed"
    },
    "tags": []
   },
   "outputs": [
    {
     "data": {
      "application/javascript": [
       "parent.postMessage({\"jupyterEvent\": \"custom.exercise_interaction\", \"data\": {\"outcomeType\": 1, \"valueTowardsCompletion\": 0.3333333333333333, \"interactionType\": 1, \"questionType\": 2, \"questionId\": \"1_Q1\", \"learnToolsVersion\": \"0.3.4\", \"failureMessage\": \"\", \"exceptionClass\": \"\", \"trace\": \"\"}}, \"*\")"
      ],
      "text/plain": [
       "<IPython.core.display.Javascript object>"
      ]
     },
     "metadata": {},
     "output_type": "display_data"
    },
    {
     "data": {
      "text/markdown": [
       "<span style=\"color:#33cc33\">Correct</span>"
      ],
      "text/plain": [
       "Correct"
      ]
     },
     "metadata": {},
     "output_type": "display_data"
    }
   ],
   "source": [
    "from tensorflow import keras\n",
    "from tensorflow.keras import layers\n",
    "\n",
    "model = keras.Sequential([\n",
    "    # Block One\n",
    "    layers.Conv2D(filters=32, kernel_size=3, activation='relu', padding='same',\n",
    "                  input_shape=[128, 128, 3]),\n",
    "    layers.MaxPool2D(),\n",
    "\n",
    "    # Block Two\n",
    "    layers.Conv2D(filters=64, kernel_size=3, activation='relu', padding='same'),\n",
    "    layers.MaxPool2D(),\n",
    "\n",
    "    # Block Three\n",
    "    layers.Conv2D(filters=128, kernel_size=3, activation='relu', padding='same'),\n",
    "    layers.Conv2D(filters=128, kernel_size=3, activation='relu', padding='same'),\n",
    "    layers.MaxPool2D(),\n",
    "\n",
    "    # Head\n",
    "    layers.Flatten(),\n",
    "    layers.Dense(6, activation='relu'),\n",
    "    layers.Dropout(0.2),\n",
    "    layers.Dense(1, activation='sigmoid'),\n",
    "])\n",
    "\n",
    "# Check your answer\n",
    "q_1.check()"
   ]
  },
  {
   "cell_type": "code",
   "execution_count": 3,
   "id": "9e26a46e",
   "metadata": {
    "execution": {
     "iopub.execute_input": "2023-04-21T03:48:58.195839Z",
     "iopub.status.busy": "2023-04-21T03:48:58.195554Z",
     "iopub.status.idle": "2023-04-21T03:48:58.199599Z",
     "shell.execute_reply": "2023-04-21T03:48:58.198592Z"
    },
    "papermill": {
     "duration": 0.011265,
     "end_time": "2023-04-21T03:48:58.201769",
     "exception": false,
     "start_time": "2023-04-21T03:48:58.190504",
     "status": "completed"
    },
    "tags": []
   },
   "outputs": [],
   "source": [
    "# Lines below will give you a hint or solution code\n",
    "# q_1.hint()\n",
    "# q_1.solution()"
   ]
  },
  {
   "cell_type": "markdown",
   "id": "098533b5",
   "metadata": {
    "papermill": {
     "duration": 0.003761,
     "end_time": "2023-04-21T03:48:58.209506",
     "exception": false,
     "start_time": "2023-04-21T03:48:58.205745",
     "status": "completed"
    },
    "tags": []
   },
   "source": [
    "# 2) Compile #\n",
    "\n",
    "To prepare for training, compile the model with an appropriate loss and accuracy metric for the \"Car or Truck\" dataset."
   ]
  },
  {
   "cell_type": "code",
   "execution_count": 4,
   "id": "59e925a9",
   "metadata": {
    "execution": {
     "iopub.execute_input": "2023-04-21T03:48:58.218210Z",
     "iopub.status.busy": "2023-04-21T03:48:58.217924Z",
     "iopub.status.idle": "2023-04-21T03:48:58.239003Z",
     "shell.execute_reply": "2023-04-21T03:48:58.237995Z"
    },
    "lines_to_next_cell": 0,
    "papermill": {
     "duration": 0.027785,
     "end_time": "2023-04-21T03:48:58.241137",
     "exception": false,
     "start_time": "2023-04-21T03:48:58.213352",
     "status": "completed"
    },
    "tags": []
   },
   "outputs": [
    {
     "data": {
      "application/javascript": [
       "parent.postMessage({\"jupyterEvent\": \"custom.exercise_interaction\", \"data\": {\"outcomeType\": 1, \"valueTowardsCompletion\": 0.3333333333333333, \"interactionType\": 1, \"questionType\": 2, \"questionId\": \"2_Q2\", \"learnToolsVersion\": \"0.3.4\", \"failureMessage\": \"\", \"exceptionClass\": \"\", \"trace\": \"\"}}, \"*\")"
      ],
      "text/plain": [
       "<IPython.core.display.Javascript object>"
      ]
     },
     "metadata": {},
     "output_type": "display_data"
    },
    {
     "data": {
      "text/markdown": [
       "<span style=\"color:#33cc33\">Correct</span>"
      ],
      "text/plain": [
       "Correct"
      ]
     },
     "metadata": {},
     "output_type": "display_data"
    }
   ],
   "source": [
    "model.compile(\n",
    "    optimizer=tf.keras.optimizers.Adam(epsilon=0.01),\n",
    "    loss='binary_crossentropy',\n",
    "    metrics=['binary_accuracy'],\n",
    ")\n",
    "\n",
    "# Check your answer\n",
    "q_2.check()"
   ]
  },
  {
   "cell_type": "code",
   "execution_count": 5,
   "id": "77003a7b",
   "metadata": {
    "execution": {
     "iopub.execute_input": "2023-04-21T03:48:58.251002Z",
     "iopub.status.busy": "2023-04-21T03:48:58.250192Z",
     "iopub.status.idle": "2023-04-21T03:48:58.266332Z",
     "shell.execute_reply": "2023-04-21T03:48:58.265455Z"
    },
    "lines_to_next_cell": 0,
    "papermill": {
     "duration": 0.02333,
     "end_time": "2023-04-21T03:48:58.268684",
     "exception": false,
     "start_time": "2023-04-21T03:48:58.245354",
     "status": "completed"
    },
    "tags": []
   },
   "outputs": [
    {
     "data": {
      "application/javascript": [
       "parent.postMessage({\"jupyterEvent\": \"custom.exercise_interaction\", \"data\": {\"outcomeType\": 1, \"valueTowardsCompletion\": 0.3333333333333333, \"interactionType\": 1, \"questionType\": 2, \"questionId\": \"2_Q2\", \"learnToolsVersion\": \"0.3.4\", \"failureMessage\": \"\", \"exceptionClass\": \"\", \"trace\": \"\"}}, \"*\")"
      ],
      "text/plain": [
       "<IPython.core.display.Javascript object>"
      ]
     },
     "metadata": {},
     "output_type": "display_data"
    },
    {
     "data": {
      "text/markdown": [
       "<span style=\"color:#33cc33\">Correct</span>"
      ],
      "text/plain": [
       "Correct"
      ]
     },
     "metadata": {},
     "output_type": "display_data"
    }
   ],
   "source": [
    "model.compile(\n",
    "    optimizer=tf.keras.optimizers.Adam(epsilon=0.01),\n",
    "    loss='binary_crossentropy',\n",
    "    metrics=['binary_accuracy'],\n",
    ")\n",
    "q_2.assert_check_passed()"
   ]
  },
  {
   "cell_type": "code",
   "execution_count": 6,
   "id": "bc40a2a1",
   "metadata": {
    "execution": {
     "iopub.execute_input": "2023-04-21T03:48:58.281544Z",
     "iopub.status.busy": "2023-04-21T03:48:58.281238Z",
     "iopub.status.idle": "2023-04-21T03:48:58.285235Z",
     "shell.execute_reply": "2023-04-21T03:48:58.284220Z"
    },
    "lines_to_next_cell": 0,
    "papermill": {
     "duration": 0.013587,
     "end_time": "2023-04-21T03:48:58.287354",
     "exception": false,
     "start_time": "2023-04-21T03:48:58.273767",
     "status": "completed"
    },
    "tags": []
   },
   "outputs": [],
   "source": [
    "# Lines below will give you a hint or solution code\n",
    "# q_2.hint()\n",
    "# q_2.solution()"
   ]
  },
  {
   "cell_type": "markdown",
   "id": "c6fe582e",
   "metadata": {
    "papermill": {
     "duration": 0.004121,
     "end_time": "2023-04-21T03:48:58.295781",
     "exception": false,
     "start_time": "2023-04-21T03:48:58.291660",
     "status": "completed"
    },
    "tags": []
   },
   "source": [
    "Finally, let's test the performance of this new model. First run this cell to fit the model to the training set."
   ]
  },
  {
   "cell_type": "code",
   "execution_count": 7,
   "id": "1c587fd5",
   "metadata": {
    "execution": {
     "iopub.execute_input": "2023-04-21T03:48:58.305606Z",
     "iopub.status.busy": "2023-04-21T03:48:58.305320Z",
     "iopub.status.idle": "2023-04-21T03:53:21.652104Z",
     "shell.execute_reply": "2023-04-21T03:53:21.650995Z"
    },
    "papermill": {
     "duration": 263.35439,
     "end_time": "2023-04-21T03:53:21.654676",
     "exception": false,
     "start_time": "2023-04-21T03:48:58.300286",
     "status": "completed"
    },
    "tags": []
   },
   "outputs": [
    {
     "name": "stdout",
     "output_type": "stream",
     "text": [
      "Epoch 1/50\n",
      "80/80 [==============================] - 44s 440ms/step - loss: 0.6803 - binary_accuracy: 0.5738 - val_loss: 0.6706 - val_binary_accuracy: 0.5785\n",
      "Epoch 2/50\n",
      "80/80 [==============================] - 4s 55ms/step - loss: 0.6697 - binary_accuracy: 0.5787 - val_loss: 0.6609 - val_binary_accuracy: 0.5785\n",
      "Epoch 3/50\n",
      "80/80 [==============================] - 4s 54ms/step - loss: 0.6673 - binary_accuracy: 0.5789 - val_loss: 0.6656 - val_binary_accuracy: 0.5787\n",
      "Epoch 4/50\n",
      "80/80 [==============================] - 4s 54ms/step - loss: 0.6646 - binary_accuracy: 0.5757 - val_loss: 0.6560 - val_binary_accuracy: 0.5785\n",
      "Epoch 5/50\n",
      "80/80 [==============================] - 4s 54ms/step - loss: 0.6634 - binary_accuracy: 0.5787 - val_loss: 0.6549 - val_binary_accuracy: 0.5785\n",
      "Epoch 6/50\n",
      "80/80 [==============================] - 4s 54ms/step - loss: 0.6566 - binary_accuracy: 0.5787 - val_loss: 0.6496 - val_binary_accuracy: 0.5787\n",
      "Epoch 7/50\n",
      "80/80 [==============================] - 4s 53ms/step - loss: 0.6548 - binary_accuracy: 0.5810 - val_loss: 0.6443 - val_binary_accuracy: 0.6038\n",
      "Epoch 8/50\n",
      "80/80 [==============================] - 4s 54ms/step - loss: 0.6514 - binary_accuracy: 0.5816 - val_loss: 0.6457 - val_binary_accuracy: 0.5787\n",
      "Epoch 9/50\n",
      "80/80 [==============================] - 4s 55ms/step - loss: 0.6488 - binary_accuracy: 0.5789 - val_loss: 0.6379 - val_binary_accuracy: 0.5789\n",
      "Epoch 10/50\n",
      "80/80 [==============================] - 4s 54ms/step - loss: 0.6416 - binary_accuracy: 0.5880 - val_loss: 0.6341 - val_binary_accuracy: 0.6421\n",
      "Epoch 11/50\n",
      "80/80 [==============================] - 4s 54ms/step - loss: 0.6373 - binary_accuracy: 0.6129 - val_loss: 0.6290 - val_binary_accuracy: 0.6480\n",
      "Epoch 12/50\n",
      "80/80 [==============================] - 4s 54ms/step - loss: 0.6376 - binary_accuracy: 0.6086 - val_loss: 0.6267 - val_binary_accuracy: 0.6444\n",
      "Epoch 13/50\n",
      "80/80 [==============================] - 4s 54ms/step - loss: 0.6290 - binary_accuracy: 0.6308 - val_loss: 0.6182 - val_binary_accuracy: 0.6660\n",
      "Epoch 14/50\n",
      "80/80 [==============================] - 4s 53ms/step - loss: 0.6230 - binary_accuracy: 0.6283 - val_loss: 0.6008 - val_binary_accuracy: 0.6793\n",
      "Epoch 15/50\n",
      "80/80 [==============================] - 4s 54ms/step - loss: 0.6063 - binary_accuracy: 0.6531 - val_loss: 0.5887 - val_binary_accuracy: 0.6864\n",
      "Epoch 16/50\n",
      "80/80 [==============================] - 5s 58ms/step - loss: 0.5959 - binary_accuracy: 0.6547 - val_loss: 0.5752 - val_binary_accuracy: 0.7010\n",
      "Epoch 17/50\n",
      "80/80 [==============================] - 4s 53ms/step - loss: 0.5732 - binary_accuracy: 0.6707 - val_loss: 0.5446 - val_binary_accuracy: 0.7414\n",
      "Epoch 18/50\n",
      "80/80 [==============================] - 4s 54ms/step - loss: 0.5551 - binary_accuracy: 0.6854 - val_loss: 0.5306 - val_binary_accuracy: 0.7428\n",
      "Epoch 19/50\n",
      "80/80 [==============================] - 4s 54ms/step - loss: 0.5267 - binary_accuracy: 0.7061 - val_loss: 0.5355 - val_binary_accuracy: 0.7321\n",
      "Epoch 20/50\n",
      "80/80 [==============================] - 4s 53ms/step - loss: 0.5121 - binary_accuracy: 0.7391 - val_loss: 0.4905 - val_binary_accuracy: 0.7618\n",
      "Epoch 21/50\n",
      "80/80 [==============================] - 4s 54ms/step - loss: 0.4941 - binary_accuracy: 0.7493 - val_loss: 0.4760 - val_binary_accuracy: 0.7771\n",
      "Epoch 22/50\n",
      "80/80 [==============================] - 4s 54ms/step - loss: 0.4757 - binary_accuracy: 0.7647 - val_loss: 0.4738 - val_binary_accuracy: 0.7743\n",
      "Epoch 23/50\n",
      "80/80 [==============================] - 5s 57ms/step - loss: 0.4485 - binary_accuracy: 0.7792 - val_loss: 0.4441 - val_binary_accuracy: 0.7949\n",
      "Epoch 24/50\n",
      "80/80 [==============================] - 4s 54ms/step - loss: 0.4290 - binary_accuracy: 0.8003 - val_loss: 0.4409 - val_binary_accuracy: 0.7897\n",
      "Epoch 25/50\n",
      "80/80 [==============================] - 4s 53ms/step - loss: 0.4100 - binary_accuracy: 0.8149 - val_loss: 0.4287 - val_binary_accuracy: 0.8016\n",
      "Epoch 26/50\n",
      "80/80 [==============================] - 4s 54ms/step - loss: 0.3757 - binary_accuracy: 0.8394 - val_loss: 0.4760 - val_binary_accuracy: 0.7632\n",
      "Epoch 27/50\n",
      "80/80 [==============================] - 4s 53ms/step - loss: 0.3558 - binary_accuracy: 0.8356 - val_loss: 0.4110 - val_binary_accuracy: 0.8173\n",
      "Epoch 28/50\n",
      "80/80 [==============================] - 4s 54ms/step - loss: 0.3339 - binary_accuracy: 0.8501 - val_loss: 0.5202 - val_binary_accuracy: 0.7517\n",
      "Epoch 29/50\n",
      "80/80 [==============================] - 4s 54ms/step - loss: 0.3240 - binary_accuracy: 0.8566 - val_loss: 0.5056 - val_binary_accuracy: 0.7785\n",
      "Epoch 30/50\n",
      "80/80 [==============================] - 4s 55ms/step - loss: 0.3116 - binary_accuracy: 0.8601 - val_loss: 0.4109 - val_binary_accuracy: 0.8173\n",
      "Epoch 31/50\n",
      "80/80 [==============================] - 4s 54ms/step - loss: 0.2844 - binary_accuracy: 0.8695 - val_loss: 0.4151 - val_binary_accuracy: 0.8147\n",
      "Epoch 32/50\n",
      "80/80 [==============================] - 4s 54ms/step - loss: 0.2627 - binary_accuracy: 0.8822 - val_loss: 0.4072 - val_binary_accuracy: 0.8266\n",
      "Epoch 33/50\n",
      "80/80 [==============================] - 4s 54ms/step - loss: 0.2497 - binary_accuracy: 0.8853 - val_loss: 0.4302 - val_binary_accuracy: 0.8246\n",
      "Epoch 34/50\n",
      "80/80 [==============================] - 4s 53ms/step - loss: 0.2551 - binary_accuracy: 0.8808 - val_loss: 0.4286 - val_binary_accuracy: 0.8238\n",
      "Epoch 35/50\n",
      "80/80 [==============================] - 5s 57ms/step - loss: 0.2143 - binary_accuracy: 0.9007 - val_loss: 0.4602 - val_binary_accuracy: 0.8274\n",
      "Epoch 36/50\n",
      "80/80 [==============================] - 4s 53ms/step - loss: 0.1843 - binary_accuracy: 0.9144 - val_loss: 0.5132 - val_binary_accuracy: 0.8268\n",
      "Epoch 37/50\n",
      "80/80 [==============================] - 4s 54ms/step - loss: 0.1803 - binary_accuracy: 0.9121 - val_loss: 0.6153 - val_binary_accuracy: 0.8175\n",
      "Epoch 38/50\n",
      "80/80 [==============================] - 4s 54ms/step - loss: 0.1741 - binary_accuracy: 0.9177 - val_loss: 0.5633 - val_binary_accuracy: 0.8222\n",
      "Epoch 39/50\n",
      "80/80 [==============================] - 4s 54ms/step - loss: 0.1415 - binary_accuracy: 0.9293 - val_loss: 0.7451 - val_binary_accuracy: 0.7947\n",
      "Epoch 40/50\n",
      "80/80 [==============================] - 4s 54ms/step - loss: 0.1433 - binary_accuracy: 0.9334 - val_loss: 0.6136 - val_binary_accuracy: 0.8240\n",
      "Epoch 41/50\n",
      "80/80 [==============================] - 4s 54ms/step - loss: 0.1374 - binary_accuracy: 0.9338 - val_loss: 0.5994 - val_binary_accuracy: 0.8293\n",
      "Epoch 42/50\n",
      "80/80 [==============================] - 4s 54ms/step - loss: 0.1414 - binary_accuracy: 0.9298 - val_loss: 0.5883 - val_binary_accuracy: 0.8284\n",
      "Epoch 43/50\n",
      "80/80 [==============================] - 4s 54ms/step - loss: 0.1462 - binary_accuracy: 0.9267 - val_loss: 0.5685 - val_binary_accuracy: 0.8305\n",
      "Epoch 44/50\n",
      "80/80 [==============================] - 5s 57ms/step - loss: 0.1429 - binary_accuracy: 0.9324 - val_loss: 0.5715 - val_binary_accuracy: 0.8323\n",
      "Epoch 45/50\n",
      "80/80 [==============================] - 4s 54ms/step - loss: 0.1647 - binary_accuracy: 0.9218 - val_loss: 0.5947 - val_binary_accuracy: 0.8264\n",
      "Epoch 46/50\n",
      "80/80 [==============================] - 4s 54ms/step - loss: 0.1539 - binary_accuracy: 0.9273 - val_loss: 0.4504 - val_binary_accuracy: 0.8349\n",
      "Epoch 47/50\n",
      "80/80 [==============================] - 4s 54ms/step - loss: 0.1322 - binary_accuracy: 0.9363 - val_loss: 0.5481 - val_binary_accuracy: 0.8301\n",
      "Epoch 48/50\n",
      "80/80 [==============================] - 4s 54ms/step - loss: 0.1165 - binary_accuracy: 0.9425 - val_loss: 0.4892 - val_binary_accuracy: 0.8444\n",
      "Epoch 49/50\n",
      "80/80 [==============================] - 4s 53ms/step - loss: 0.0955 - binary_accuracy: 0.9556 - val_loss: 0.5600 - val_binary_accuracy: 0.8551\n",
      "Epoch 50/50\n",
      "80/80 [==============================] - 4s 54ms/step - loss: 0.0753 - binary_accuracy: 0.9646 - val_loss: 0.6293 - val_binary_accuracy: 0.8543\n"
     ]
    }
   ],
   "source": [
    "history = model.fit(\n",
    "    ds_train,\n",
    "    validation_data=ds_valid,\n",
    "    epochs=50,\n",
    ")"
   ]
  },
  {
   "cell_type": "markdown",
   "id": "89e80552",
   "metadata": {
    "papermill": {
     "duration": 0.114646,
     "end_time": "2023-04-21T03:53:21.883932",
     "exception": false,
     "start_time": "2023-04-21T03:53:21.769286",
     "status": "completed"
    },
    "tags": []
   },
   "source": [
    "And now run the cell below to plot the loss and metric curves for this training run."
   ]
  },
  {
   "cell_type": "code",
   "execution_count": 8,
   "id": "b5e50ac2",
   "metadata": {
    "execution": {
     "iopub.execute_input": "2023-04-21T03:53:22.116521Z",
     "iopub.status.busy": "2023-04-21T03:53:22.115451Z",
     "iopub.status.idle": "2023-04-21T03:53:22.729224Z",
     "shell.execute_reply": "2023-04-21T03:53:22.728258Z"
    },
    "papermill": {
     "duration": 0.73261,
     "end_time": "2023-04-21T03:53:22.731432",
     "exception": false,
     "start_time": "2023-04-21T03:53:21.998822",
     "status": "completed"
    },
    "tags": []
   },
   "outputs": [
    {
     "data": {
      "image/png": "[encoded data removed]",
      "text/plain": [
       "<Figure size 640x480 with 1 Axes>"
      ]
     },
     "metadata": {},
     "output_type": "display_data"
    },
    {
     "data": {
      "image/png": "[encoded data removed]",
      "text/plain": [
       "<Figure size 640x480 with 1 Axes>"
      ]
     },
     "metadata": {},
     "output_type": "display_data"
    }
   ],
   "source": [
    "import pandas as pd\n",
    "history_frame = pd.DataFrame(history.history)\n",
    "history_frame.loc[:, ['loss', 'val_loss']].plot()\n",
    "history_frame.loc[:, ['binary_accuracy', 'val_binary_accuracy']].plot();"
   ]
  },
  {
   "cell_type": "markdown",
   "id": "0695d194",
   "metadata": {
    "papermill": {
     "duration": 0.117756,
     "end_time": "2023-04-21T03:53:23.027827",
     "exception": false,
     "start_time": "2023-04-21T03:53:22.910071",
     "status": "completed"
    },
    "tags": []
   },
   "source": [
    "# 3) Train the Model #\n",
    "\n",
    "How would you interpret these training curves? Did this model improve upon the model from the tutorial?"
   ]
  },
  {
   "cell_type": "code",
   "execution_count": 9,
   "id": "c02eab16",
   "metadata": {
    "execution": {
     "iopub.execute_input": "2023-04-21T03:53:23.265472Z",
     "iopub.status.busy": "2023-04-21T03:53:23.265094Z",
     "iopub.status.idle": "2023-04-21T03:53:23.273533Z",
     "shell.execute_reply": "2023-04-21T03:53:23.272462Z"
    },
    "lines_to_next_cell": 0,
    "papermill": {
     "duration": 0.129733,
     "end_time": "2023-04-21T03:53:23.276043",
     "exception": false,
     "start_time": "2023-04-21T03:53:23.146310",
     "status": "completed"
    },
    "tags": []
   },
   "outputs": [
    {
     "data": {
      "application/javascript": [
       "parent.postMessage({\"jupyterEvent\": \"custom.exercise_interaction\", \"data\": {\"outcomeType\": 1, \"valueTowardsCompletion\": 0.3333333333333333, \"interactionType\": 1, \"questionType\": 4, \"questionId\": \"3_Q3\", \"learnToolsVersion\": \"0.3.4\", \"failureMessage\": \"\", \"exceptionClass\": \"\", \"trace\": \"\"}}, \"*\")"
      ],
      "text/plain": [
       "<IPython.core.display.Javascript object>"
      ]
     },
     "metadata": {},
     "output_type": "display_data"
    },
    {
     "data": {
      "text/markdown": [
       "<span style=\"color:#33cc33\">Correct:</span> \n",
       "\n",
       "\n",
       "The learning curves for the model from the tutorial diverged fairly rapidly. This would indicate that it was prone to overfitting and in need of some regularization. The additional layer in our new model would make it even more prone to overfitting. However, adding some regularization with the `Dropout` layer helped prevent this. These changes improved the validation accuracy of the model by several points.\n"
      ],
      "text/plain": [
       "Correct: \n",
       "\n",
       "\n",
       "The learning curves for the model from the tutorial diverged fairly rapidly. This would indicate that it was prone to overfitting and in need of some regularization. The additional layer in our new model would make it even more prone to overfitting. However, adding some regularization with the `Dropout` layer helped prevent this. These changes improved the validation accuracy of the model by several points."
      ]
     },
     "metadata": {},
     "output_type": "display_data"
    }
   ],
   "source": [
    "# View the solution (Run this code cell to receive credit!)\n",
    "q_3.check()"
   ]
  },
  {
   "cell_type": "markdown",
   "id": "62f3d070",
   "metadata": {
    "papermill": {
     "duration": 0.11629,
     "end_time": "2023-04-21T03:53:23.509188",
     "exception": false,
     "start_time": "2023-04-21T03:53:23.392898",
     "status": "completed"
    },
    "tags": []
   },
   "source": [
    "# Conclusion #\n",
    "\n",
    "These exercises showed you how to design a custom convolutional network to solve a specific classification problem. Though most models these days will be built on top of a pretrained base, it certain circumstances a smaller custom convnet might still be preferable -- such as with a smaller or unusual dataset or when computing resources are very limited. As you saw here, for certain problems they can perform just as well as a pretrained model."
   ]
  },
  {
   "cell_type": "markdown",
   "id": "d6708ccd",
   "metadata": {
    "papermill": {
     "duration": 0.115908,
     "end_time": "2023-04-21T03:53:23.744163",
     "exception": false,
     "start_time": "2023-04-21T03:53:23.628255",
     "status": "completed"
    },
    "tags": []
   },
   "source": [
    "---\n",
    "\n",
    "\n",
    "\n",
    "\n",
    "**Allen**"
   ]
  }
 ],
 "metadata": {
  "kernelspec": {
   "display_name": "Python 3",
   "language": "python",
   "name": "python3"
  },
  "language_info": {
   "codemirror_mode": {
    "name": "ipython",
    "version": 3
   },
   "file_extension": ".py",
   "mimetype": "text/x-python",
   "name": "python",
   "nbconvert_exporter": "python",
   "pygments_lexer": "ipython3",
   "version": "3.7.12"
  },
  "papermill": {
   "default_parameters": {},
   "duration": 292.868429,
   "end_time": "2023-04-21T03:53:26.820511",
   "environment_variables": {},
   "exception": null,
   "input_path": "__notebook__.ipynb",
   "output_path": "__notebook__.ipynb",
   "parameters": {},
   "start_time": "2023-04-21T03:48:33.952082",
   "version": "2.4.0"
  }
 },
 "nbformat": 4,
 "nbformat_minor": 5
}
