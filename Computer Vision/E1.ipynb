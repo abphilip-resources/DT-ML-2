{
 "cells": [
  {
   "cell_type": "markdown",
   "id": "03575be4",
   "metadata": {
    "papermill": {
     "duration": 0.006264,
     "end_time": "2023-04-16T19:23:41.944146",
     "exception": false,
     "start_time": "2023-04-16T19:23:41.937882",
     "status": "completed"
    },
    "tags": []
   },
   "source": [
    "**This notebook is an exercise in the [Computer Vision](https://www.kaggle.com/learn/computer-vision) course.  You can reference the tutorial at [this link](https://www.kaggle.com/ryanholbrook/the-convolutional-classifier).**\n",
    "\n",
    "---\n"
   ]
  },
  {
   "cell_type": "markdown",
   "id": "b313f679",
   "metadata": {
    "papermill": {
     "duration": 0.004201,
     "end_time": "2023-04-16T19:23:41.952967",
     "exception": false,
     "start_time": "2023-04-16T19:23:41.948766",
     "status": "completed"
    },
    "tags": []
   },
   "source": [
    "<blockquote style=\"margin-right:auto; margin-left:auto; background-color: #ebf9ff; padding: 1em; margin:24px;\">\n",
    "    <strong>Accelerate Training with a Kaggle GPU!</strong><br>\n",
    "Did you know Kaggle offers free time with a GPU accelerator? You can speed up training neural networks in this course by switching to <strong>GPU</strong> in the <em>Accelerator</em> option on the right. (It may already be turned on.) Two things to be aware of:\n",
    "<ul>\n",
    "<li>Changing the <em>Accelerator</em> option will cause the notebook session to restart. You'll need to rerun any setup code.\n",
    "<li>You can have only one GPU session at a time, so be sure to shut the notebook down after you've finished the exercise.\n",
    "</ul>\n",
    "</blockquote>"
   ]
  },
  {
   "cell_type": "markdown",
   "id": "b21128d9",
   "metadata": {
    "papermill": {
     "duration": 0.004114,
     "end_time": "2023-04-16T19:23:41.961673",
     "exception": false,
     "start_time": "2023-04-16T19:23:41.957559",
     "status": "completed"
    },
    "tags": []
   },
   "source": [
    "# Introduction #\n",
    "\n",
    "In the tutorial, we saw how to build an image classifier by attaching a head of dense layers to a pretrained base. The base we used was from a model called **VGG16**. We saw that the VGG16 architecture was prone to overfitting this dataset. Over this course, you'll learn a number of ways you can improve upon this initial attempt.\n",
    "\n",
    "The first way you'll see is to use a base more appropriate to the dataset. The base this model comes from is called **InceptionV1** (also known as GoogLeNet). InceptionV1 was one of the early winners of the ImageNet competition. One of its successors, InceptionV4, is among the state of the art today.\n",
    "\n",
    "To get started, run the code cell below to set everything up."
   ]
  },
  {
   "cell_type": "code",
   "execution_count": 1,
   "id": "06a272f7",
   "metadata": {
    "execution": {
     "iopub.execute_input": "2023-04-16T19:23:41.973051Z",
     "iopub.status.busy": "2023-04-16T19:23:41.972147Z",
     "iopub.status.idle": "2023-04-16T19:23:58.574957Z",
     "shell.execute_reply": "2023-04-16T19:23:58.573533Z"
    },
    "lines_to_next_cell": 2,
    "papermill": {
     "duration": 16.611363,
     "end_time": "2023-04-16T19:23:58.577406",
     "exception": false,
     "start_time": "2023-04-16T19:23:41.966043",
     "status": "completed"
    },
    "tags": []
   },
   "outputs": [
    {
     "name": "stdout",
     "output_type": "stream",
     "text": [
      "Found 5117 files belonging to 2 classes.\n",
      "Found 5051 files belonging to 2 classes.\n"
     ]
    }
   ],
   "source": [
    "# Setup feedback system\n",
    "from learntools.core import binder\n",
    "binder.bind(globals())\n",
    "from learntools.computer_vision.ex1 import *\n",
    "\n",
    "# Imports\n",
    "import os, warnings\n",
    "import matplotlib.pyplot as plt\n",
    "from matplotlib import gridspec\n",
    "\n",
    "import numpy as np\n",
    "import tensorflow as tf\n",
    "from tensorflow.keras.preprocessing import image_dataset_from_directory\n",
    "\n",
    "import warnings\n",
    "warnings.filterwarnings(\"ignore\")\n",
    "\n",
    "# Reproducability\n",
    "def set_seed(seed=31415):\n",
    "    np.random.seed(seed)\n",
    "    tf.random.set_seed(seed)\n",
    "    os.environ['PYTHONHASHSEED'] = str(seed)\n",
    "    os.environ['TF_DETERMINISTIC_OPS'] = '1'\n",
    "set_seed()\n",
    "\n",
    "# Set Matplotlib defaults\n",
    "plt.rc('figure', autolayout=True)\n",
    "plt.rc('axes', labelweight='bold', labelsize='large',\n",
    "       titleweight='bold', titlesize=18, titlepad=10)\n",
    "plt.rc('image', cmap='magma')\n",
    "warnings.filterwarnings(\"ignore\") # to clean up output cells\n",
    "\n",
    "\n",
    "# Load training and validation sets\n",
    "ds_train_ = image_dataset_from_directory(\n",
    "    '../input/car-or-truck/train',\n",
    "    labels='inferred',\n",
    "    label_mode='binary',\n",
    "    image_size=[128, 128],\n",
    "    interpolation='nearest',\n",
    "    batch_size=64,\n",
    "    shuffle=True,\n",
    ")\n",
    "ds_valid_ = image_dataset_from_directory(\n",
    "    '../input/car-or-truck/valid',\n",
    "    labels='inferred',\n",
    "    label_mode='binary',\n",
    "    image_size=[128, 128],\n",
    "    interpolation='nearest',\n",
    "    batch_size=64,\n",
    "    shuffle=False,\n",
    ")\n",
    "\n",
    "# Data Pipeline\n",
    "def convert_to_float(image, label):\n",
    "    image = tf.image.convert_image_dtype(image, dtype=tf.float32)\n",
    "    return image, label\n",
    "\n",
    "AUTOTUNE = tf.data.experimental.AUTOTUNE\n",
    "ds_train = (\n",
    "    ds_train_\n",
    "    .map(convert_to_float)\n",
    "    .cache()\n",
    "    .prefetch(buffer_size=AUTOTUNE)\n",
    ")\n",
    "ds_valid = (\n",
    "    ds_valid_\n",
    "    .map(convert_to_float)\n",
    "    .cache()\n",
    "    .prefetch(buffer_size=AUTOTUNE)\n",
    ")"
   ]
  },
  {
   "cell_type": "markdown",
   "id": "af771c45",
   "metadata": {
    "papermill": {
     "duration": 0.004139,
     "end_time": "2023-04-16T19:23:58.586249",
     "exception": false,
     "start_time": "2023-04-16T19:23:58.582110",
     "status": "completed"
    },
    "tags": []
   },
   "source": [
    "The **InceptionV1** model pretrained on ImageNet is available in the [TensorFlow Hub](https://www.tensorflow.org/hub/) repository, but we'll load it from a local copy. Run this cell to load InceptionV1 for your base."
   ]
  },
  {
   "cell_type": "code",
   "execution_count": 2,
   "id": "26e0ab0c",
   "metadata": {
    "execution": {
     "iopub.execute_input": "2023-04-16T19:23:58.596861Z",
     "iopub.status.busy": "2023-04-16T19:23:58.596476Z",
     "iopub.status.idle": "2023-04-16T19:24:01.790157Z",
     "shell.execute_reply": "2023-04-16T19:24:01.789040Z"
    },
    "lines_to_next_cell": 0,
    "papermill": {
     "duration": 3.211524,
     "end_time": "2023-04-16T19:24:01.802173",
     "exception": false,
     "start_time": "2023-04-16T19:23:58.590649",
     "status": "completed"
    },
    "tags": []
   },
   "outputs": [],
   "source": [
    "import tensorflow_hub as hub\n",
    "\n",
    "pretrained_base = tf.keras.models.load_model(\n",
    "    '../input/cv-course-models/cv-course-models/inceptionv1'\n",
    ")"
   ]
  },
  {
   "cell_type": "markdown",
   "id": "897337e3",
   "metadata": {
    "papermill": {
     "duration": 0.004205,
     "end_time": "2023-04-16T19:24:01.810913",
     "exception": false,
     "start_time": "2023-04-16T19:24:01.806708",
     "status": "completed"
    },
    "tags": []
   },
   "source": [
    "# 1) Define Pretrained Base #\n",
    "\n",
    "Now that you have a pretrained base to do our feature extraction, decide whether this base should be trainable or not."
   ]
  },
  {
   "cell_type": "code",
   "execution_count": 3,
   "id": "d77020ca",
   "metadata": {
    "execution": {
     "iopub.execute_input": "2023-04-16T19:24:01.821486Z",
     "iopub.status.busy": "2023-04-16T19:24:01.821108Z",
     "iopub.status.idle": "2023-04-16T19:24:01.831559Z",
     "shell.execute_reply": "2023-04-16T19:24:01.830500Z"
    },
    "lines_to_next_cell": 0,
    "papermill": {
     "duration": 0.018381,
     "end_time": "2023-04-16T19:24:01.833713",
     "exception": false,
     "start_time": "2023-04-16T19:24:01.815332",
     "status": "completed"
    },
    "tags": []
   },
   "outputs": [
    {
     "data": {
      "application/javascript": [
       "parent.postMessage({\"jupyterEvent\": \"custom.exercise_interaction\", \"data\": {\"outcomeType\": 1, \"valueTowardsCompletion\": 0.25, \"interactionType\": 1, \"questionType\": 2, \"questionId\": \"1_Q1\", \"learnToolsVersion\": \"0.3.4\", \"failureMessage\": \"\", \"exceptionClass\": \"\", \"trace\": \"\"}}, \"*\")"
      ],
      "text/plain": [
       "<IPython.core.display.Javascript object>"
      ]
     },
     "metadata": {},
     "output_type": "display_data"
    },
    {
     "data": {
      "text/markdown": [
       "<span style=\"color:#33cc33\">Correct:</span> When doing transfer learning, it's generally not a good idea to retrain the entire base -- at least not without some care. The reason is that the random weights in the head will initially create large gradient updates, which propogate back into the base layers and destroy much of the pretraining. Using techniques known as **fine tuning** it's possible to further train the base on new data, but this requires some care to do well."
      ],
      "text/plain": [
       "Correct: When doing transfer learning, it's generally not a good idea to retrain the entire base -- at least not without some care. The reason is that the random weights in the head will initially create large gradient updates, which propogate back into the base layers and destroy much of the pretraining. Using techniques known as **fine tuning** it's possible to further train the base on new data, but this requires some care to do well."
      ]
     },
     "metadata": {},
     "output_type": "display_data"
    }
   ],
   "source": [
    "# YOUR_CODE_HERE\n",
    "pretrained_base.trainable = False\n",
    "\n",
    "# Check your answer\n",
    "q_1.check()"
   ]
  },
  {
   "cell_type": "code",
   "execution_count": 4,
   "id": "fddd7322",
   "metadata": {
    "execution": {
     "iopub.execute_input": "2023-04-16T19:24:01.844552Z",
     "iopub.status.busy": "2023-04-16T19:24:01.844195Z",
     "iopub.status.idle": "2023-04-16T19:24:01.849762Z",
     "shell.execute_reply": "2023-04-16T19:24:01.848842Z"
    },
    "papermill": {
     "duration": 0.013853,
     "end_time": "2023-04-16T19:24:01.852218",
     "exception": false,
     "start_time": "2023-04-16T19:24:01.838365",
     "status": "completed"
    },
    "tags": []
   },
   "outputs": [],
   "source": [
    "# Lines below will give you a hint or solution code\n",
    "# q_1.hint()\n",
    "# q_1.solution()"
   ]
  },
  {
   "cell_type": "markdown",
   "id": "3367f4db",
   "metadata": {
    "papermill": {
     "duration": 0.004431,
     "end_time": "2023-04-16T19:24:01.861417",
     "exception": false,
     "start_time": "2023-04-16T19:24:01.856986",
     "status": "completed"
    },
    "tags": []
   },
   "source": [
    "# 2) Attach Head #\n",
    "\n",
    "Now that the base is defined to do the feature extraction, create a head of `Dense` layers to perform the classification, following this diagram:\n",
    "\n",
    "<figure>\n",
    "<img src=\"https://i.imgur.com/i5VU7Ry.png\" alt=\"Diagram of the dense head.\">\n",
    "</figure>\n"
   ]
  },
  {
   "cell_type": "code",
   "execution_count": 5,
   "id": "7eeae4f2",
   "metadata": {
    "execution": {
     "iopub.execute_input": "2023-04-16T19:24:01.872538Z",
     "iopub.status.busy": "2023-04-16T19:24:01.871964Z",
     "iopub.status.idle": "2023-04-16T19:24:01.893068Z",
     "shell.execute_reply": "2023-04-16T19:24:01.891938Z"
    },
    "lines_to_next_cell": 0,
    "papermill": {
     "duration": 0.030086,
     "end_time": "2023-04-16T19:24:01.896196",
     "exception": false,
     "start_time": "2023-04-16T19:24:01.866110",
     "status": "completed"
    },
    "tags": []
   },
   "outputs": [
    {
     "data": {
      "application/javascript": [
       "parent.postMessage({\"jupyterEvent\": \"custom.exercise_interaction\", \"data\": {\"outcomeType\": 1, \"valueTowardsCompletion\": 0.25, \"interactionType\": 1, \"questionType\": 2, \"questionId\": \"2_Q2\", \"learnToolsVersion\": \"0.3.4\", \"failureMessage\": \"\", \"exceptionClass\": \"\", \"trace\": \"\"}}, \"*\")"
      ],
      "text/plain": [
       "<IPython.core.display.Javascript object>"
      ]
     },
     "metadata": {},
     "output_type": "display_data"
    },
    {
     "data": {
      "text/markdown": [
       "<span style=\"color:#33cc33\">Correct</span>"
      ],
      "text/plain": [
       "Correct"
      ]
     },
     "metadata": {},
     "output_type": "display_data"
    }
   ],
   "source": [
    "from tensorflow import keras\n",
    "from tensorflow.keras import layers\n",
    "\n",
    "model = keras.Sequential([\n",
    "    pretrained_base,\n",
    "    layers.Flatten(),\n",
    "    layers.Dense(6, activation='relu'),\n",
    "    layers.Dense(1, activation='sigmoid'),\n",
    "])\n",
    "\n",
    "# Check your answer\n",
    "q_2.check()"
   ]
  },
  {
   "cell_type": "code",
   "execution_count": 6,
   "id": "0689adc9",
   "metadata": {
    "execution": {
     "iopub.execute_input": "2023-04-16T19:24:01.907928Z",
     "iopub.status.busy": "2023-04-16T19:24:01.906956Z",
     "iopub.status.idle": "2023-04-16T19:24:01.911479Z",
     "shell.execute_reply": "2023-04-16T19:24:01.910376Z"
    },
    "papermill": {
     "duration": 0.012502,
     "end_time": "2023-04-16T19:24:01.913586",
     "exception": false,
     "start_time": "2023-04-16T19:24:01.901084",
     "status": "completed"
    },
    "tags": []
   },
   "outputs": [],
   "source": [
    "# Lines below will give you a hint or solution code\n",
    "# q_2.hint()\n",
    "# q_2.solution()"
   ]
  },
  {
   "cell_type": "markdown",
   "id": "79de196e",
   "metadata": {
    "papermill": {
     "duration": 0.004554,
     "end_time": "2023-04-16T19:24:01.922980",
     "exception": false,
     "start_time": "2023-04-16T19:24:01.918426",
     "status": "completed"
    },
    "tags": []
   },
   "source": [
    "# 3) Train #\n",
    "\n",
    "Before training a model in Keras, you need to specify an *optimizer* to perform the gradient descent, a *loss function* to be minimized, and (optionally) any *performance metrics*. The optimization algorithm we'll use for this course is called [\"Adam\"](https://keras.io/api/optimizers/adam/), which generally performs well regardless of what kind of problem you're trying to solve.\n",
    "\n",
    "The loss and the metrics, however, need to match the kind of problem you're trying to solve. Our problem is a **binary classification** problem: `Car` coded as 0, and `Truck` coded as 1. Choose an appropriate loss and an appropriate accuracy metric for binary classification."
   ]
  },
  {
   "cell_type": "code",
   "execution_count": 7,
   "id": "01fe83e1",
   "metadata": {
    "execution": {
     "iopub.execute_input": "2023-04-16T19:24:01.934501Z",
     "iopub.status.busy": "2023-04-16T19:24:01.933508Z",
     "iopub.status.idle": "2023-04-16T19:24:01.959069Z",
     "shell.execute_reply": "2023-04-16T19:24:01.957926Z"
    },
    "lines_to_next_cell": 0,
    "papermill": {
     "duration": 0.033697,
     "end_time": "2023-04-16T19:24:01.961396",
     "exception": false,
     "start_time": "2023-04-16T19:24:01.927699",
     "status": "completed"
    },
    "tags": []
   },
   "outputs": [
    {
     "data": {
      "application/javascript": [
       "parent.postMessage({\"jupyterEvent\": \"custom.exercise_interaction\", \"data\": {\"outcomeType\": 1, \"valueTowardsCompletion\": 0.25, \"interactionType\": 1, \"questionType\": 2, \"questionId\": \"3_Q3\", \"learnToolsVersion\": \"0.3.4\", \"failureMessage\": \"\", \"exceptionClass\": \"\", \"trace\": \"\"}}, \"*\")"
      ],
      "text/plain": [
       "<IPython.core.display.Javascript object>"
      ]
     },
     "metadata": {},
     "output_type": "display_data"
    },
    {
     "data": {
      "text/markdown": [
       "<span style=\"color:#33cc33\">Correct</span>"
      ],
      "text/plain": [
       "Correct"
      ]
     },
     "metadata": {},
     "output_type": "display_data"
    }
   ],
   "source": [
    "# YOUR CODE HERE: what loss function should you use for a binary\n",
    "# classification problem? (Your answer for each should be a string.)\n",
    "optimizer = tf.keras.optimizers.Adam(epsilon=0.01)\n",
    "model.compile(\n",
    "    optimizer=optimizer,\n",
    "    loss='binary_crossentropy',\n",
    "    metrics=['binary_accuracy'],\n",
    ")\n",
    "\n",
    "# Check your answer\n",
    "q_3.check()"
   ]
  },
  {
   "cell_type": "code",
   "execution_count": 8,
   "id": "bb212908",
   "metadata": {
    "execution": {
     "iopub.execute_input": "2023-04-16T19:24:01.973769Z",
     "iopub.status.busy": "2023-04-16T19:24:01.972724Z",
     "iopub.status.idle": "2023-04-16T19:24:01.977578Z",
     "shell.execute_reply": "2023-04-16T19:24:01.976633Z"
    },
    "lines_to_next_cell": 0,
    "papermill": {
     "duration": 0.013312,
     "end_time": "2023-04-16T19:24:01.979720",
     "exception": false,
     "start_time": "2023-04-16T19:24:01.966408",
     "status": "completed"
    },
    "tags": []
   },
   "outputs": [],
   "source": [
    "# Lines below will give you a hint or solution code\n",
    "# q_3.hint()\n",
    "# q_3.solution()"
   ]
  },
  {
   "cell_type": "code",
   "execution_count": 9,
   "id": "265a85f1",
   "metadata": {
    "execution": {
     "iopub.execute_input": "2023-04-16T19:24:01.991716Z",
     "iopub.status.busy": "2023-04-16T19:24:01.990807Z",
     "iopub.status.idle": "2023-04-16T19:27:00.391235Z",
     "shell.execute_reply": "2023-04-16T19:27:00.390131Z"
    },
    "papermill": {
     "duration": 178.409665,
     "end_time": "2023-04-16T19:27:00.394490",
     "exception": false,
     "start_time": "2023-04-16T19:24:01.984825",
     "status": "completed"
    },
    "tags": []
   },
   "outputs": [
    {
     "name": "stdout",
     "output_type": "stream",
     "text": [
      "Epoch 1/30\n",
      "80/80 [==============================] - 47s 438ms/step - loss: 0.5641 - binary_accuracy: 0.7063 - val_loss: 0.4299 - val_binary_accuracy: 0.8082\n",
      "Epoch 2/30\n",
      "80/80 [==============================] - 4s 54ms/step - loss: 0.4174 - binary_accuracy: 0.8183 - val_loss: 0.3948 - val_binary_accuracy: 0.8258\n",
      "Epoch 3/30\n",
      "80/80 [==============================] - 4s 55ms/step - loss: 0.3867 - binary_accuracy: 0.8323 - val_loss: 0.3830 - val_binary_accuracy: 0.8307\n",
      "Epoch 4/30\n",
      "80/80 [==============================] - 4s 55ms/step - loss: 0.3694 - binary_accuracy: 0.8419 - val_loss: 0.3747 - val_binary_accuracy: 0.8357\n",
      "Epoch 5/30\n",
      "80/80 [==============================] - 4s 54ms/step - loss: 0.3561 - binary_accuracy: 0.8491 - val_loss: 0.3680 - val_binary_accuracy: 0.8373\n",
      "Epoch 6/30\n",
      "80/80 [==============================] - 5s 61ms/step - loss: 0.3452 - binary_accuracy: 0.8538 - val_loss: 0.3623 - val_binary_accuracy: 0.8402\n",
      "Epoch 7/30\n",
      "80/80 [==============================] - 4s 54ms/step - loss: 0.3360 - binary_accuracy: 0.8589 - val_loss: 0.3571 - val_binary_accuracy: 0.8412\n",
      "Epoch 8/30\n",
      "80/80 [==============================] - 4s 55ms/step - loss: 0.3273 - binary_accuracy: 0.8630 - val_loss: 0.3534 - val_binary_accuracy: 0.8438\n",
      "Epoch 9/30\n",
      "80/80 [==============================] - 4s 54ms/step - loss: 0.3201 - binary_accuracy: 0.8687 - val_loss: 0.3500 - val_binary_accuracy: 0.8456\n",
      "Epoch 10/30\n",
      "80/80 [==============================] - 4s 56ms/step - loss: 0.3135 - binary_accuracy: 0.8720 - val_loss: 0.3468 - val_binary_accuracy: 0.8483\n",
      "Epoch 11/30\n",
      "80/80 [==============================] - 4s 55ms/step - loss: 0.3075 - binary_accuracy: 0.8757 - val_loss: 0.3443 - val_binary_accuracy: 0.8501\n",
      "Epoch 12/30\n",
      "80/80 [==============================] - 4s 54ms/step - loss: 0.3021 - binary_accuracy: 0.8781 - val_loss: 0.3418 - val_binary_accuracy: 0.8503\n",
      "Epoch 13/30\n",
      "80/80 [==============================] - 4s 54ms/step - loss: 0.2967 - binary_accuracy: 0.8796 - val_loss: 0.3395 - val_binary_accuracy: 0.8527\n",
      "Epoch 14/30\n",
      "80/80 [==============================] - 4s 54ms/step - loss: 0.2915 - binary_accuracy: 0.8816 - val_loss: 0.3378 - val_binary_accuracy: 0.8521\n",
      "Epoch 15/30\n",
      "80/80 [==============================] - 4s 54ms/step - loss: 0.2871 - binary_accuracy: 0.8843 - val_loss: 0.3352 - val_binary_accuracy: 0.8553\n",
      "Epoch 16/30\n",
      "80/80 [==============================] - 4s 55ms/step - loss: 0.2821 - binary_accuracy: 0.8876 - val_loss: 0.3343 - val_binary_accuracy: 0.8549\n",
      "Epoch 17/30\n",
      "80/80 [==============================] - 4s 56ms/step - loss: 0.2779 - binary_accuracy: 0.8880 - val_loss: 0.3319 - val_binary_accuracy: 0.8569\n",
      "Epoch 18/30\n",
      "80/80 [==============================] - 4s 55ms/step - loss: 0.2736 - binary_accuracy: 0.8890 - val_loss: 0.3304 - val_binary_accuracy: 0.8586\n",
      "Epoch 19/30\n",
      "80/80 [==============================] - 4s 54ms/step - loss: 0.2692 - binary_accuracy: 0.8904 - val_loss: 0.3303 - val_binary_accuracy: 0.8586\n",
      "Epoch 20/30\n",
      "80/80 [==============================] - 4s 54ms/step - loss: 0.2655 - binary_accuracy: 0.8917 - val_loss: 0.3284 - val_binary_accuracy: 0.8612\n",
      "Epoch 21/30\n",
      "80/80 [==============================] - 4s 54ms/step - loss: 0.2619 - binary_accuracy: 0.8933 - val_loss: 0.3282 - val_binary_accuracy: 0.8626\n",
      "Epoch 22/30\n",
      "80/80 [==============================] - 4s 54ms/step - loss: 0.2584 - binary_accuracy: 0.8953 - val_loss: 0.3277 - val_binary_accuracy: 0.8640\n",
      "Epoch 23/30\n",
      "80/80 [==============================] - 4s 54ms/step - loss: 0.2549 - binary_accuracy: 0.8970 - val_loss: 0.3274 - val_binary_accuracy: 0.8638\n",
      "Epoch 24/30\n",
      "80/80 [==============================] - 4s 56ms/step - loss: 0.2514 - binary_accuracy: 0.8986 - val_loss: 0.3263 - val_binary_accuracy: 0.8650\n",
      "Epoch 25/30\n",
      "80/80 [==============================] - 4s 54ms/step - loss: 0.2482 - binary_accuracy: 0.8994 - val_loss: 0.3272 - val_binary_accuracy: 0.8638\n",
      "Epoch 26/30\n",
      "80/80 [==============================] - 4s 54ms/step - loss: 0.2453 - binary_accuracy: 0.8999 - val_loss: 0.3277 - val_binary_accuracy: 0.8638\n",
      "Epoch 27/30\n",
      "80/80 [==============================] - 4s 54ms/step - loss: 0.2423 - binary_accuracy: 0.9019 - val_loss: 0.3281 - val_binary_accuracy: 0.8650\n",
      "Epoch 28/30\n",
      "80/80 [==============================] - 4s 55ms/step - loss: 0.2393 - binary_accuracy: 0.9031 - val_loss: 0.3282 - val_binary_accuracy: 0.8636\n",
      "Epoch 29/30\n",
      "80/80 [==============================] - 4s 54ms/step - loss: 0.2362 - binary_accuracy: 0.9056 - val_loss: 0.3284 - val_binary_accuracy: 0.8642\n",
      "Epoch 30/30\n",
      "80/80 [==============================] - 4s 55ms/step - loss: 0.2335 - binary_accuracy: 0.9060 - val_loss: 0.3277 - val_binary_accuracy: 0.8642\n"
     ]
    }
   ],
   "source": [
    "history = model.fit(\n",
    "    ds_train,\n",
    "    validation_data=ds_valid,\n",
    "    epochs=30,\n",
    ")"
   ]
  },
  {
   "cell_type": "markdown",
   "id": "94d78188",
   "metadata": {
    "papermill": {
     "duration": 0.071876,
     "end_time": "2023-04-16T19:27:00.548928",
     "exception": false,
     "start_time": "2023-04-16T19:27:00.477052",
     "status": "completed"
    },
    "tags": []
   },
   "source": [
    "Run the cell below to plot the loss and metric curves for this training run."
   ]
  },
  {
   "cell_type": "code",
   "execution_count": 10,
   "id": "cd5a955c",
   "metadata": {
    "execution": {
     "iopub.execute_input": "2023-04-16T19:27:00.696922Z",
     "iopub.status.busy": "2023-04-16T19:27:00.696523Z",
     "iopub.status.idle": "2023-04-16T19:27:01.347598Z",
     "shell.execute_reply": "2023-04-16T19:27:01.346490Z"
    },
    "papermill": {
     "duration": 0.728019,
     "end_time": "2023-04-16T19:27:01.350026",
     "exception": false,
     "start_time": "2023-04-16T19:27:00.622007",
     "status": "completed"
    },
    "tags": []
   },
   "outputs": [
    {
     "data": {
      "image/png": "[encoded data removed]",
      "text/plain": [
       "<Figure size 640x480 with 1 Axes>"
      ]
     },
     "metadata": {},
     "output_type": "display_data"
    },
    {
     "data": {
      "image/png": "[encoded data removed]",
      "text/plain": [
       "<Figure size 640x480 with 1 Axes>"
      ]
     },
     "metadata": {},
     "output_type": "display_data"
    }
   ],
   "source": [
    "import pandas as pd\n",
    "history_frame = pd.DataFrame(history.history)\n",
    "history_frame.loc[:, ['loss', 'val_loss']].plot()\n",
    "history_frame.loc[:, ['binary_accuracy', 'val_binary_accuracy']].plot();"
   ]
  },
  {
   "cell_type": "markdown",
   "id": "2b44a2f5",
   "metadata": {
    "papermill": {
     "duration": 0.072827,
     "end_time": "2023-04-16T19:27:01.497231",
     "exception": false,
     "start_time": "2023-04-16T19:27:01.424404",
     "status": "completed"
    },
    "tags": []
   },
   "source": [
    "# 4) Examine Loss and Accuracy #\n",
    "\n",
    "Do you notice a difference between these learning curves and the curves for VGG16 from the tutorial? What does this difference tell you about what this model (InceptionV2) learned compared to VGG16? Are there ways in which one is better than the other? Worse?\n",
    "\n",
    "After you've thought about it, run the cell below to see the answer."
   ]
  },
  {
   "cell_type": "code",
   "execution_count": 11,
   "id": "3fe7a0fd",
   "metadata": {
    "execution": {
     "iopub.execute_input": "2023-04-16T19:27:01.646929Z",
     "iopub.status.busy": "2023-04-16T19:27:01.646190Z",
     "iopub.status.idle": "2023-04-16T19:27:01.655297Z",
     "shell.execute_reply": "2023-04-16T19:27:01.654218Z"
    },
    "papermill": {
     "duration": 0.086627,
     "end_time": "2023-04-16T19:27:01.657466",
     "exception": false,
     "start_time": "2023-04-16T19:27:01.570839",
     "status": "completed"
    },
    "tags": []
   },
   "outputs": [
    {
     "data": {
      "application/javascript": [
       "parent.postMessage({\"jupyterEvent\": \"custom.exercise_interaction\", \"data\": {\"outcomeType\": 1, \"valueTowardsCompletion\": 0.25, \"interactionType\": 1, \"questionType\": 4, \"questionId\": \"4_Q4\", \"learnToolsVersion\": \"0.3.4\", \"failureMessage\": \"\", \"exceptionClass\": \"\", \"trace\": \"\"}}, \"*\")"
      ],
      "text/plain": [
       "<IPython.core.display.Javascript object>"
      ]
     },
     "metadata": {},
     "output_type": "display_data"
    },
    {
     "data": {
      "text/markdown": [
       "<span style=\"color:#33cc33\">Correct:</span> \n",
       "\n",
       "That the training loss and validation loss stay fairly close is evidence that the model isn't just memorizing the training data, but rather learning general properties of the two classes. But, because this model converges at a loss greater than the VGG16 model, it's likely that it is underfitting some, and could benefit from some extra capacity.\n"
      ],
      "text/plain": [
       "Correct: \n",
       "\n",
       "That the training loss and validation loss stay fairly close is evidence that the model isn't just memorizing the training data, but rather learning general properties of the two classes. But, because this model converges at a loss greater than the VGG16 model, it's likely that it is underfitting some, and could benefit from some extra capacity."
      ]
     },
     "metadata": {},
     "output_type": "display_data"
    }
   ],
   "source": [
    "# View the solution (Run this code cell to receive credit!)\n",
    "q_4.check()"
   ]
  },
  {
   "cell_type": "markdown",
   "id": "565e782f",
   "metadata": {
    "papermill": {
     "duration": 0.073873,
     "end_time": "2023-04-16T19:27:01.805465",
     "exception": false,
     "start_time": "2023-04-16T19:27:01.731592",
     "status": "completed"
    },
    "tags": []
   },
   "source": [
    "# Conclusion #\n",
    "\n",
    "In this first lesson, you learned the basics of **convolutional image classifiers**, that they consist of a **base** for extracting features from images, and a **head** which uses the features to decide the image's class. You also saw how to build a classifier with **transfer learning** on pretrained base. "
   ]
  },
  {
   "cell_type": "markdown",
   "id": "cc2687e6",
   "metadata": {
    "papermill": {
     "duration": 0.074155,
     "end_time": "2023-04-16T19:27:01.954307",
     "exception": false,
     "start_time": "2023-04-16T19:27:01.880152",
     "status": "completed"
    },
    "tags": []
   },
   "source": [
    "---\n",
    "\n",
    "\n",
    "\n",
    "\n",
    "**Allen**"
   ]
  }
 ],
 "metadata": {
  "kernelspec": {
   "display_name": "Python 3",
   "language": "python",
   "name": "python3"
  },
  "language_info": {
   "codemirror_mode": {
    "name": "ipython",
    "version": 3
   },
   "file_extension": ".py",
   "mimetype": "text/x-python",
   "name": "python",
   "nbconvert_exporter": "python",
   "pygments_lexer": "ipython3",
   "version": "3.7.12"
  },
  "papermill": {
   "default_parameters": {},
   "duration": 212.985492,
   "end_time": "2023-04-16T19:27:05.685542",
   "environment_variables": {},
   "exception": null,
   "input_path": "__notebook__.ipynb",
   "output_path": "__notebook__.ipynb",
   "parameters": {},
   "start_time": "2023-04-16T19:23:32.700050",
   "version": "2.4.0"
  }
 },
 "nbformat": 4,
 "nbformat_minor": 5
}
