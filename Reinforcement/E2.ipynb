{
 "cells": [
  {
   "cell_type": "markdown",
   "id": "279f37ff",
   "metadata": {
    "papermill": {
     "duration": 0.005161,
     "end_time": "2023-03-16T02:10:27.145744",
     "exception": false,
     "start_time": "2023-03-16T02:10:27.140583",
     "status": "completed"
    },
    "tags": []
   },
   "source": [
    "**This notebook is an exercise in the [Intro to Game AI and Reinforcement Learning](https://www.kaggle.com/learn/intro-to-game-ai-and-reinforcement-learning) course.  You can reference the tutorial at [this link](https://www.kaggle.com/alexisbcook/one-step-lookahead).**\n",
    "\n",
    "---\n"
   ]
  },
  {
   "cell_type": "markdown",
   "id": "e39e44ec",
   "metadata": {
    "papermill": {
     "duration": 0.00353,
     "end_time": "2023-03-16T02:10:27.153541",
     "exception": false,
     "start_time": "2023-03-16T02:10:27.150011",
     "status": "completed"
    },
    "tags": []
   },
   "source": [
    "# Introduction\n",
    "\n",
    "In the tutorial, you learned how to define a simple heuristic that the agent used to select moves.  In this exercise, you'll check your understanding and make the heuristic more complex.\n",
    "\n",
    "To get started, run the code cell below to set up our feedback system."
   ]
  },
  {
   "cell_type": "code",
   "execution_count": 1,
   "id": "02457b3c",
   "metadata": {
    "execution": {
     "iopub.execute_input": "2023-03-16T02:10:27.162689Z",
     "iopub.status.busy": "2023-03-16T02:10:27.162283Z",
     "iopub.status.idle": "2023-03-16T02:10:27.293355Z",
     "shell.execute_reply": "2023-03-16T02:10:27.292183Z"
    },
    "papermill": {
     "duration": 0.139378,
     "end_time": "2023-03-16T02:10:27.296636",
     "exception": false,
     "start_time": "2023-03-16T02:10:27.157258",
     "status": "completed"
    },
    "tags": []
   },
   "outputs": [
    {
     "name": "stdout",
     "output_type": "stream",
     "text": [
      "Loading environment lux_ai_s2 failed: No module named 'vec_noise'\n"
     ]
    }
   ],
   "source": [
    "import warnings\n",
    "warnings.simplefilter(\"ignore\")\n",
    "\n",
    "from learntools.core import binder\n",
    "binder.bind(globals())\n",
    "from learntools.game_ai.ex2 import *"
   ]
  },
  {
   "cell_type": "markdown",
   "id": "ccf3ad83",
   "metadata": {
    "papermill": {
     "duration": 0.00379,
     "end_time": "2023-03-16T02:10:27.304619",
     "exception": false,
     "start_time": "2023-03-16T02:10:27.300829",
     "status": "completed"
    },
    "tags": []
   },
   "source": [
    "### 1) A more complex heuristic\n",
    "\n",
    "The heuristic from the tutorial looks at all groups of four adjacent grid locations on the same row, column, or diagonal and assigns points for each occurrence of the following patterns:\n",
    "\n",
    "<center>\n",
    "<img src=\"https://i.imgur.com/vzQa4ML.png\" width=60%><br/>\n",
    "</center>\n",
    "\n",
    "In the image above, we assume that the agent is the red player, and the opponent plays yellow discs.\n",
    "\n",
    "For reference, here is the `get_heuristic()` function from the tutorial:\n",
    "```python\n",
    "def get_heuristic(grid, mark, config):\n",
    "    num_threes = count_windows(grid, 3, mark, config)\n",
    "    num_fours = count_windows(grid, 4, mark, config)\n",
    "    num_threes_opp = count_windows(grid, 3, mark%2+1, config)\n",
    "    score = num_threes - 1e2*num_threes_opp + 1e6*num_fours\n",
    "    return score\n",
    "```\n",
    "\n",
    "In the `get_heuristic()` function, `num_fours`, `num_threes`, and `num_threes_opp` are the number of windows in the game grid that are assigned 1000000, 1, and -100 point(s), respectively. \n",
    "    \n",
    "In this tutorial, you'll change the heuristic to the following (where you decide the number of points to apply in each of `A`, `B`, `C`, `D`, and `E`).  You will define these values in the code cell below.\n",
    "\n",
    "<center>\n",
    "<img src=\"https://i.imgur.com/FBoWr2f.png\" width=80%><br/>\n",
    "</center>\n",
    "    \n",
    "\n",
    "To check your answer, we use your values to create a heuristic function as follows:\n",
    "\n",
    "```python\n",
    "def get_heuristic_q1(grid, col, mark, config):\n",
    "    num_twos = count_windows(grid, 2, mark, config)\n",
    "    num_threes = count_windows(grid, 3, mark, config)\n",
    "    num_fours = count_windows(grid, 4, mark, config)\n",
    "    num_twos_opp = count_windows(grid, 2, mark%2+1, config)\n",
    "    num_threes_opp = count_windows(grid, 3, mark%2+1, config)\n",
    "    score = A*num_fours + B*num_threes + C*num_twos + D*num_twos_opp + E*num_threes_opp\n",
    "    return score\n",
    "```\n",
    "\n",
    "This heuristic is then used to create an agent, that competes against the agent from the tutorial in 50 different game rounds.  In order to be marked correct, \n",
    "- your agent must win at least half of the games, and\n",
    "- `C` and `D` must both be nonzero."
   ]
  },
  {
   "cell_type": "code",
   "execution_count": 2,
   "id": "ab7e0f8a",
   "metadata": {
    "execution": {
     "iopub.execute_input": "2023-03-16T02:10:27.314492Z",
     "iopub.status.busy": "2023-03-16T02:10:27.314064Z",
     "iopub.status.idle": "2023-03-16T02:10:42.363351Z",
     "shell.execute_reply": "2023-03-16T02:10:42.361961Z"
    },
    "papermill": {
     "duration": 15.057144,
     "end_time": "2023-03-16T02:10:42.365779",
     "exception": false,
     "start_time": "2023-03-16T02:10:27.308635",
     "status": "completed"
    },
    "tags": []
   },
   "outputs": [
    {
     "name": "stdout",
     "output_type": "stream",
     "text": [
      "Your Agent's Win Percentage (in 50 game rounds): 0.58\n",
      "Tutorial Agent's Win Percentage (in 50 game rounds): 0.42\n"
     ]
    },
    {
     "data": {
      "application/javascript": [
       "parent.postMessage({\"jupyterEvent\": \"custom.exercise_interaction\", \"data\": {\"outcomeType\": 1, \"valueTowardsCompletion\": 0.3333333333333333, \"interactionType\": 1, \"questionType\": 2, \"questionId\": \"1_BetterHeuristic\", \"learnToolsVersion\": \"0.3.4\", \"failureMessage\": \"\", \"exceptionClass\": \"\", \"trace\": \"\"}}, \"*\")"
      ],
      "text/plain": [
       "<IPython.core.display.Javascript object>"
      ]
     },
     "metadata": {},
     "output_type": "display_data"
    },
    {
     "data": {
      "text/markdown": [
       "<span style=\"color:#33cc33\">Correct</span>"
      ],
      "text/plain": [
       "Correct"
      ]
     },
     "metadata": {},
     "output_type": "display_data"
    }
   ],
   "source": [
    "# TODO: Assign your values here\n",
    "A = 1e10\n",
    "B = 1e4\n",
    "C = 1e2\n",
    "D = -1\n",
    "E = -1e6\n",
    "\n",
    "# Check your answer (this will take a few seconds to run!)\n",
    "q_1.check()"
   ]
  },
  {
   "cell_type": "code",
   "execution_count": 3,
   "id": "3e2fbed5",
   "metadata": {
    "execution": {
     "iopub.execute_input": "2023-03-16T02:10:42.376844Z",
     "iopub.status.busy": "2023-03-16T02:10:42.375962Z",
     "iopub.status.idle": "2023-03-16T02:10:42.383317Z",
     "shell.execute_reply": "2023-03-16T02:10:42.382102Z"
    },
    "papermill": {
     "duration": 0.015894,
     "end_time": "2023-03-16T02:10:42.386244",
     "exception": false,
     "start_time": "2023-03-16T02:10:42.370350",
     "status": "completed"
    },
    "tags": []
   },
   "outputs": [],
   "source": [
    "# Lines below will give you a hint or solution code\n",
    "# q_1.hint()\n",
    "# q_1.solution()"
   ]
  },
  {
   "cell_type": "markdown",
   "id": "b6aacf0f",
   "metadata": {
    "papermill": {
     "duration": 0.003985,
     "end_time": "2023-03-16T02:10:42.394686",
     "exception": false,
     "start_time": "2023-03-16T02:10:42.390701",
     "status": "completed"
    },
    "tags": []
   },
   "source": [
    "### 2) Does the agent win?\n",
    "\n",
    "Consider the game board below.  \n",
    "\n",
    "<center>\n",
    "<img src=\"https://i.imgur.com/AlnaQ3J.png\" width=30%><br/>\n",
    "</center>\n",
    "\n",
    "Say the agent uses red discs, and it's the agent's turn.  \n",
    "- If the agent uses the heuristic **_from the tutorial_**, does it win or lose the game?\n",
    "- If the agent uses the heuristic **_that you just implemented_**, does it win or lose the game?"
   ]
  },
  {
   "cell_type": "code",
   "execution_count": 4,
   "id": "ece2e340",
   "metadata": {
    "execution": {
     "iopub.execute_input": "2023-03-16T02:10:42.405863Z",
     "iopub.status.busy": "2023-03-16T02:10:42.405015Z",
     "iopub.status.idle": "2023-03-16T02:10:42.410737Z",
     "shell.execute_reply": "2023-03-16T02:10:42.409472Z"
    },
    "papermill": {
     "duration": 0.014325,
     "end_time": "2023-03-16T02:10:42.413256",
     "exception": false,
     "start_time": "2023-03-16T02:10:42.398931",
     "status": "completed"
    },
    "tags": []
   },
   "outputs": [],
   "source": [
    "# q_2.hint()"
   ]
  },
  {
   "cell_type": "code",
   "execution_count": 5,
   "id": "745c9729",
   "metadata": {
    "execution": {
     "iopub.execute_input": "2023-03-16T02:10:42.424203Z",
     "iopub.status.busy": "2023-03-16T02:10:42.423503Z",
     "iopub.status.idle": "2023-03-16T02:10:42.433050Z",
     "shell.execute_reply": "2023-03-16T02:10:42.432102Z"
    },
    "papermill": {
     "duration": 0.017683,
     "end_time": "2023-03-16T02:10:42.435362",
     "exception": false,
     "start_time": "2023-03-16T02:10:42.417679",
     "status": "completed"
    },
    "tags": []
   },
   "outputs": [
    {
     "data": {
      "application/javascript": [
       "parent.postMessage({\"jupyterEvent\": \"custom.exercise_interaction\", \"data\": {\"interactionType\": 3, \"questionType\": 4, \"questionId\": \"2_BothLose\", \"learnToolsVersion\": \"0.3.4\", \"valueTowardsCompletion\": 0.0, \"failureMessage\": \"\", \"exceptionClass\": \"\", \"trace\": \"\", \"outcomeType\": 4}}, \"*\")"
      ],
      "text/plain": [
       "<IPython.core.display.Javascript object>"
      ]
     },
     "metadata": {},
     "output_type": "display_data"
    },
    {
     "data": {
      "text/markdown": [
       "<span style=\"color:#33cc99\">Solution:</span> The agent has two choices: it can play in either column 0 (the leftmost column), or column 6 (the rightmost column). If the agent plays in column 0, it definitely wins the game in its next move.  And, if it plays in column 6, it likely loses the game (since, if the opponent responds by playing in the same column, then the opponent wins the game). \n",
       "\n",
       "If the agent uses the heuristic **from the tutorial**, both columns are scored equally, and so the agent will select from them (uniformly) at random.  In this case, the agent has about a 50/50 chance of winning the game. \n",
       "\n",
       "As for the heuristic **that** **you just implemented**, this will depend on your implementation, so we'll provide an answer for the solution heuristic that we provided -- in this case, the agent most likely loses the game, since it will definitely select the final column. \n",
       "\n",
       "This is an interesting situation, because on average, we see that the agent with the new heuristic performs better than the agent from the tutorial (and yet, for this board, it's guaranteed to make the wrong decision)."
      ],
      "text/plain": [
       "Solution: The agent has two choices: it can play in either column 0 (the leftmost column), or column 6 (the rightmost column). If the agent plays in column 0, it definitely wins the game in its next move.  And, if it plays in column 6, it likely loses the game (since, if the opponent responds by playing in the same column, then the opponent wins the game). \n",
       "\n",
       "If the agent uses the heuristic **from the tutorial**, both columns are scored equally, and so the agent will select from them (uniformly) at random.  In this case, the agent has about a 50/50 chance of winning the game. \n",
       "\n",
       "As for the heuristic **that** **you just implemented**, this will depend on your implementation, so we'll provide an answer for the solution heuristic that we provided -- in this case, the agent most likely loses the game, since it will definitely select the final column. \n",
       "\n",
       "This is an interesting situation, because on average, we see that the agent with the new heuristic performs better than the agent from the tutorial (and yet, for this board, it's guaranteed to make the wrong decision)."
      ]
     },
     "metadata": {},
     "output_type": "display_data"
    }
   ],
   "source": [
    "# Check your answer (Run this code cell to receive credit!)\n",
    "q_2.solution()"
   ]
  },
  {
   "cell_type": "markdown",
   "id": "a2dab085",
   "metadata": {
    "papermill": {
     "duration": 0.004399,
     "end_time": "2023-03-16T02:10:42.444534",
     "exception": false,
     "start_time": "2023-03-16T02:10:42.440135",
     "status": "completed"
    },
    "tags": []
   },
   "source": [
    "### 3) Submit to the competition\n",
    "\n",
    "Now, it's time to submit an agent to the competition!  Use the next code cell to define an agent.  (You can see an example of how to write a valid agent in **[this notebook](https://www.kaggle.com/alexisbcook/create-a-connectx-agent)**.)\n",
    "\n",
    "You're encouraged to use what you learned in the first question of this exercise to write an agent.  Use the code from the tutorial as a starting point. "
   ]
  },
  {
   "cell_type": "code",
   "execution_count": 6,
   "id": "062db44f",
   "metadata": {
    "execution": {
     "iopub.execute_input": "2023-03-16T02:10:42.456019Z",
     "iopub.status.busy": "2023-03-16T02:10:42.455325Z",
     "iopub.status.idle": "2023-03-16T02:10:42.462645Z",
     "shell.execute_reply": "2023-03-16T02:10:42.461683Z"
    },
    "papermill": {
     "duration": 0.015898,
     "end_time": "2023-03-16T02:10:42.464963",
     "exception": false,
     "start_time": "2023-03-16T02:10:42.449065",
     "status": "completed"
    },
    "tags": []
   },
   "outputs": [],
   "source": [
    "def my_agent(obs, config):\n",
    "    # Your code here: Amend the agent!\n",
    "    import random\n",
    "    valid_moves = [col for col in range(config.columns) if obs.board[col] == 0]\n",
    "    for col in valid_moves:\n",
    "        if(check_winning_move(obs, config, col, obs.mark)): return col\n",
    "    for col in valid_moves:\n",
    "        if(check_winning_move(obs, config, col, obs.mark%2+1)): return col\n",
    "    return random.choice(valid_moves)"
   ]
  },
  {
   "cell_type": "code",
   "execution_count": 7,
   "id": "7b5bbd53",
   "metadata": {
    "execution": {
     "iopub.execute_input": "2023-03-16T02:10:42.476351Z",
     "iopub.status.busy": "2023-03-16T02:10:42.475933Z",
     "iopub.status.idle": "2023-03-16T02:10:42.484755Z",
     "shell.execute_reply": "2023-03-16T02:10:42.483494Z"
    },
    "papermill": {
     "duration": 0.017291,
     "end_time": "2023-03-16T02:10:42.486995",
     "exception": false,
     "start_time": "2023-03-16T02:10:42.469704",
     "status": "completed"
    },
    "tags": []
   },
   "outputs": [
    {
     "data": {
      "application/javascript": [
       "parent.postMessage({\"jupyterEvent\": \"custom.exercise_interaction\", \"data\": {\"outcomeType\": 1, \"valueTowardsCompletion\": 0.3333333333333333, \"interactionType\": 1, \"questionType\": 2, \"questionId\": \"3_CreateAgentEx2\", \"learnToolsVersion\": \"0.3.4\", \"failureMessage\": \"\", \"exceptionClass\": \"\", \"trace\": \"\"}}, \"*\")"
      ],
      "text/plain": [
       "<IPython.core.display.Javascript object>"
      ]
     },
     "metadata": {},
     "output_type": "display_data"
    },
    {
     "data": {
      "text/markdown": [
       "<span style=\"color:#33cc33\">Thank you for creating an agent!</span>"
      ],
      "text/plain": [
       "Thank you for creating an agent!"
      ]
     },
     "metadata": {},
     "output_type": "display_data"
    }
   ],
   "source": [
    "# Run this code cell to get credit for creating an agent\n",
    "q_3.check()"
   ]
  },
  {
   "cell_type": "markdown",
   "id": "dfc4f599",
   "metadata": {
    "papermill": {
     "duration": 0.004548,
     "end_time": "2023-03-16T02:10:42.496342",
     "exception": false,
     "start_time": "2023-03-16T02:10:42.491794",
     "status": "completed"
    },
    "tags": []
   },
   "source": [
    "Run the next code cell to convert your agent to a submission file."
   ]
  },
  {
   "cell_type": "code",
   "execution_count": 8,
   "id": "f7d94438",
   "metadata": {
    "execution": {
     "iopub.execute_input": "2023-03-16T02:10:42.507777Z",
     "iopub.status.busy": "2023-03-16T02:10:42.507337Z",
     "iopub.status.idle": "2023-03-16T02:10:42.516020Z",
     "shell.execute_reply": "2023-03-16T02:10:42.514627Z"
    },
    "papermill": {
     "duration": 0.01732,
     "end_time": "2023-03-16T02:10:42.518311",
     "exception": false,
     "start_time": "2023-03-16T02:10:42.500991",
     "status": "completed"
    },
    "tags": []
   },
   "outputs": [
    {
     "name": "stdout",
     "output_type": "stream",
     "text": [
      "<function my_agent at 0x7f44afd0cf80> written to submission.py\n"
     ]
    }
   ],
   "source": [
    "import inspect\n",
    "import os\n",
    "\n",
    "def write_agent_to_file(function, file):\n",
    "    with open(file, \"a\" if os.path.exists(file) else \"w\") as f:\n",
    "        f.write(inspect.getsource(function))\n",
    "        print(function, \"written to\", file)\n",
    "\n",
    "write_agent_to_file(my_agent, \"submission.py\")"
   ]
  },
  {
   "cell_type": "markdown",
   "id": "24b12d43",
   "metadata": {
    "papermill": {
     "duration": 0.004575,
     "end_time": "2023-03-16T02:10:42.527801",
     "exception": false,
     "start_time": "2023-03-16T02:10:42.523226",
     "status": "completed"
    },
    "tags": []
   },
   "source": [
    "---\n",
    "\n",
    "\n",
    "\n",
    "\n",
    "**Allen**"
   ]
  }
 ],
 "metadata": {
  "kernelspec": {
   "display_name": "Python 3",
   "language": "python",
   "name": "python3"
  },
  "language_info": {
   "codemirror_mode": {
    "name": "ipython",
    "version": 3
   },
   "file_extension": ".py",
   "mimetype": "text/x-python",
   "name": "python",
   "nbconvert_exporter": "python",
   "pygments_lexer": "ipython3",
   "version": "3.7.12"
  },
  "papermill": {
   "default_parameters": {},
   "duration": 26.833403,
   "end_time": "2023-03-16T02:10:43.255495",
   "environment_variables": {},
   "exception": null,
   "input_path": "__notebook__.ipynb",
   "output_path": "__notebook__.ipynb",
   "parameters": {},
   "start_time": "2023-03-16T02:10:16.422092",
   "version": "2.4.0"
  }
 },
 "nbformat": 4,
 "nbformat_minor": 5
}
